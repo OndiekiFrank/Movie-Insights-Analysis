{
 "cells": [
  {
   "cell_type": "markdown",
   "metadata": {},
   "source": [
    "#  Movie Insights Analysis\n",
    "  \n",
    "**Group Members:** Mathews Wandera, Tinah, Diana, Pacificah, Night, Frank  \n",
    "**Branch Owners:**  \n",
    "- `Mathews-Tableau`  \n",
    "- `Tinah-Presentation`  \n",
    "- `Diana-Data_Preparation`  \n",
    "- `Pacificah-EDA`  \n",
    "- `Night-Visualization`  \n",
    "- `Frank-README`  \n",
    "\n",
    "---\n",
    "\n",
    "### Objective\n",
    "To analyze multiple movie-related datasets from various platforms (IMDb, Rotten Tomatoes, The Numbers, TMDb, and Box Office Mojo) and provide strategic insights to support decision-making in the film industry."
   ]
  },
  {
   "cell_type": "markdown",
   "metadata": {},
   "source": [
    "## Business Understanding\n",
    "\n",
    "### Problem Statement\n",
    "The movie industry produces a vast number of films every year, but only a few turn out to be box office hits or critical successes. Stakeholders—such as producers, distributors, and marketing teams—require data-driven insights to inform their decisions. By analyzing trends in budgets, genres, ratings, and revenues, we aim to uncover factors that contribute to a movie's commercial and critical success.\n",
    "\n",
    "### Project Goal\n",
    "This project seeks to:\n",
    "- Identify the key characteristics of successful movies.\n",
    "- Understand how different platforms rate movies (IMDb, Rotten Tomatoes, etc.).\n",
    "- Analyze financial patterns like budget vs. revenue.\n",
    "- Provide data-driven recommendations for improving the profitability and impact of future productions.\n",
    "\n",
    "### Key Questions\n",
    "- What genres perform best in terms of revenue and ratings?\n",
    "- How do production budgets relate to revenue or critical scores?\n",
    "- Are there specific patterns in release dates that impact success?\n",
    "- What are the most profitable platforms or combinations of features?\n",
    "\n",
    "### Target Audience\n",
    "- Film producers and investors\n",
    "- Distribution and marketing teams\n",
    "- Data-driven creative teams in media\n",
    "- Streaming platform analysts"
   ]
  },
  {
   "cell_type": "code",
   "execution_count": null,
   "metadata": {},
   "outputs": [],
   "source": []
  }
 ],
 "metadata": {
  "kernelspec": {
   "display_name": "Python 3 (ipykernel)",
   "language": "python",
   "name": "python3"
  },
  "language_info": {
   "codemirror_mode": {
    "name": "ipython",
    "version": 3
   },
   "file_extension": ".py",
   "mimetype": "text/x-python",
   "name": "python",
   "nbconvert_exporter": "python",
   "pygments_lexer": "ipython3",
   "version": "3.12.7"
  }
 },
 "nbformat": 4,
 "nbformat_minor": 4
}
