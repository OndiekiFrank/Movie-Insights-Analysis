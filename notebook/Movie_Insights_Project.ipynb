{
 "cells": [
  {
   "cell_type": "markdown",
   "metadata": {},
   "source": [
    "#  Movie Insights Analysis\n",
    "  \n",
    "**Group Members:** Mathews Wandera, Tinah, Diana, Pacificah, Night, Frank  \n",
    "**Branch Owners:**  \n",
    "- `Mathews-Tableau`  \n",
    "- `Tinah-Presentation`  \n",
    "- `Diana-Data_Preparation`  \n",
    "- `Pacificah-EDA`  \n",
    "- `Night-Visualization`  \n",
    "- `Frank-README`  \n",
    "\n",
    "---\n",
    "\n",
    "### Objective\n",
    "To analyze multiple movie-related datasets from various platforms (IMDb, Rotten Tomatoes, The Numbers, TMDb, and Box Office Mojo) and provide strategic insights to support decision-making in the film industry."
   ]
  },
  {
   "cell_type": "code",
   "execution_count": null,
   "metadata": {},
   "outputs": [],
   "source": []
  }
 ],
 "metadata": {
  "kernelspec": {
   "display_name": "Python 3 (ipykernel)",
   "language": "python",
   "name": "python3"
  },
  "language_info": {
   "codemirror_mode": {
    "name": "ipython",
    "version": 3
   },
   "file_extension": ".py",
   "mimetype": "text/x-python",
   "name": "python",
   "nbconvert_exporter": "python",
   "pygments_lexer": "ipython3",
   "version": "3.12.7"
  }
 },
 "nbformat": 4,
 "nbformat_minor": 4
}
