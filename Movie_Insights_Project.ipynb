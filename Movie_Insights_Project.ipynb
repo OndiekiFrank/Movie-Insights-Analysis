{
 "cells": [
  {
   "cell_type": "markdown",
   "metadata": {},
   "source": [
    "#  Movie Insights Analysis\n",
    "  \n",
    "**Group Members:** Mathews Wandera, Tinah, Diana, Pacificah, Night, Frank  \n",
    "**Branch Owners:**  \n",
    "- `Mathews-Tableau`  \n",
    "- `Tinah-Presentation`  \n",
    "- `Diana-Data_Preparation`  \n",
    "- `Pacificah-EDA`  \n",
    "- `Night-Visualization`  \n",
    "- `Frank-README`  \n",
    "\n",
    "---\n",
    "\n",
    "### Objective\n",
    "To analyze multiple movie-related datasets from various platforms (IMDb, Rotten Tomatoes, The Numbers, TMDb, and Box Office Mojo) and provide strategic insights to support decision-making in the film industry."
   ]
  },
  {
   "cell_type": "markdown",
   "metadata": {},
   "source": [
    "# 1. Business Understanding\n",
    "\n",
    "### Problem Statement\n",
    "The movie industry produces a vast number of films every year, but only a few turn out to be box office hits or critical successes. Stakeholders—such as producers, distributors, and marketing teams—require data-driven insights to inform their decisions. By analyzing trends in budgets, genres, ratings, and revenues, we aim to uncover factors that contribute to a movie's commercial and critical success.\n",
    "\n",
    "### Project Goal\n",
    "This project seeks to:\n",
    "- Identify the key characteristics of successful movies.\n",
    "- Understand how different platforms rate movies (IMDb, Rotten Tomatoes, etc.).\n",
    "- Analyze financial patterns like budget vs. revenue.\n",
    "- Provide data-driven recommendations for improving the profitability and impact of future productions.\n",
    "\n",
    "### Key Questions\n",
    "- What genres perform best in terms of revenue and ratings?\n",
    "- How do production budgets relate to revenue or critical scores?\n",
    "- Are there specific patterns in release dates that impact success?\n",
    "- What are the most profitable platforms or combinations of features?\n",
    "\n",
    "### Target Audience\n",
    "- Film producers and investors\n",
    "- Distribution and marketing teams\n",
    "- Data-driven creative teams in media\n",
    "- Streaming platform analysts"
   ]
  },
  {
   "cell_type": "markdown",
   "metadata": {},
   "source": [
    "# 2. Data Understanding\n",
    "We'll now systematically explore each dataset to understand:\n",
    "\n",
    "Structure (columns and data types)\n",
    "\n",
    "- Sample data (via .head())\n",
    "\n",
    "- Missing values\n",
    "\n",
    "- Duplicates\n",
    "\n",
    "- Basic statistics (via .describe())\n",
    "\n",
    "We'll do this for:\n",
    "\n",
    "**bom.movie_gross.csv.gz**\n",
    "\n",
    "**rt.movie_info.tsv.gz**\n",
    "\n",
    "**rt.reviews.tsv.gz**\n",
    "\n",
    "**tmdb.movies.csv.gz**\n",
    "\n",
    "**tn.movie_budgets.csv.gz**\n",
    "\n",
    "Key tables from `im.db`: movie_basics, movie_ratings, principals, etc.\n",
    "\n"
   ]
  },
  {
   "cell_type": "code",
   "execution_count": 49,
   "metadata": {},
   "outputs": [],
   "source": [
    "import pandas as pd\n",
    "import numpy as np\n",
    "import matplotlib.pyplot as plt\n",
    "import seaborn as sns\n",
    "import sqlite3\n",
    "import zipfile\n",
    "import os\n",
    "from scipy.stats import f_oneway\n",
    "from scipy.stats import ttest_ind"
   ]
  },
  {
   "cell_type": "markdown",
   "metadata": {},
   "source": [
    "## Confirm available files"
   ]
  },
  {
   "cell_type": "code",
   "execution_count": 3,
   "metadata": {},
   "outputs": [
    {
     "name": "stdout",
     "output_type": "stream",
     "text": [
      " Contents of 'datasets':\n",
      "['.gitignore', '.gitkeep', 'bom.movie_gross.csv.gz', 'im.db.zip', 'master_movie_dataset.csv', 'rt.movie_info.tsv.gz', 'rt.reviews.tsv.gz', 'tmdb.movies.csv.gz', 'tn.movie_budgets.csv.gz']\n"
     ]
    }
   ],
   "source": [
    "\n",
    "# Confirm available files\n",
    "print(\" Contents of 'datasets':\")\n",
    "print(os.listdir('datasets'))"
   ]
  },
  {
   "cell_type": "markdown",
   "metadata": {},
   "source": [
    "## Load external CSV/TSV dataset"
   ]
  },
  {
   "cell_type": "code",
   "execution_count": 4,
   "metadata": {},
   "outputs": [],
   "source": [
    "# Load external CSV/TSV datasets\n",
    "bom = pd.read_csv(\"datasets/bom.movie_gross.csv.gz\")\n",
    "rt_info = pd.read_csv(\"datasets/rt.movie_info.tsv.gz\", sep=\"\\t\")\n",
    "rt_reviews = pd.read_csv(\"datasets/rt.reviews.tsv.gz\", sep=\"\\t\", encoding=\"latin1\")  # fixed encoding issue\n",
    "tmdb = pd.read_csv(\"datasets/tmdb.movies.csv.gz\")\n",
    "tn_budgets = pd.read_csv(\"datasets/tn.movie_budgets.csv.gz\")\n"
   ]
  },
  {
   "cell_type": "markdown",
   "metadata": {},
   "source": [
    "## Unzip the im.db.zip"
   ]
  },
  {
   "cell_type": "code",
   "execution_count": 5,
   "metadata": {},
   "outputs": [],
   "source": [
    "if not os.path.exists(\"datasets/im.db\"):\n",
    "    with zipfile.ZipFile(\"datasets/im.db.zip\", 'r') as zip_ref:\n",
    "        zip_ref.extractall(\"datasets\")"
   ]
  },
  {
   "cell_type": "code",
   "execution_count": 6,
   "metadata": {},
   "outputs": [
    {
     "name": "stdout",
     "output_type": "stream",
     "text": [
      "\n",
      " Tables in im.db:\n",
      "            name\n",
      "0   movie_basics\n",
      "1      directors\n",
      "2      known_for\n",
      "3     movie_akas\n",
      "4  movie_ratings\n",
      "5        persons\n",
      "6     principals\n",
      "7        writers\n"
     ]
    }
   ],
   "source": [
    "#Connect to the SQLite database\n",
    "conn = sqlite3.connect(\"datasets/im.db\")\n",
    "\n",
    "# Preview available tables\n",
    "tables = pd.read_sql(\"SELECT name FROM sqlite_master WHERE type='table';\", conn)\n",
    "print(\"\\n Tables in im.db:\")\n",
    "print(tables)"
   ]
  },
  {
   "cell_type": "markdown",
   "metadata": {},
   "source": [
    "# 3. Data Preparation\n",
    "\n",
    "Now that we have successfully loaded all datasets and explored their structure, we'll proceed with data preparation. This involves:\n",
    "\n",
    "- Merging key datasets into a master data table.\n",
    "- Cleaning and standardizing fields.\n",
    "- Saving the final cleaned dataset for EDA and Tableau use.\n"
   ]
  },
  {
   "cell_type": "markdown",
   "metadata": {},
   "source": [
    "## Step 1 — Prepare Individual DataFrames\n",
    "\n",
    "### 🔹 Step 1: Select and Rename Relevant Columns\n",
    "\n",
    "We’ll simplify each dataset and rename columns for consistency before merging. This ensures our final dataset is clean and easy to work with.\n"
   ]
  },
  {
   "cell_type": "code",
   "execution_count": 7,
   "metadata": {},
   "outputs": [
    {
     "name": "stdout",
     "output_type": "stream",
     "text": [
      "['id', 'synopsis', 'rating', 'genre', 'director', 'writer', 'theater_date', 'dvd_date', 'currency', 'box_office', 'runtime', 'studio']\n"
     ]
    }
   ],
   "source": [
    "# Check column names in Rotten Tomatoes info dataset\n",
    "print(rt_info.columns.tolist())\n"
   ]
  },
  {
   "cell_type": "markdown",
   "metadata": {},
   "source": [
    "### 1: BOM (Box Office Mojo)"
   ]
  },
  {
   "cell_type": "code",
   "execution_count": 8,
   "metadata": {},
   "outputs": [],
   "source": [
    "# BOM dataset (Box Office Mojo)\n",
    "bom_clean = bom[['title', 'domestic_gross', 'foreign_gross', 'year']].copy()\n",
    "bom_clean.rename(columns={'title': 'movie_title'}, inplace=True)\n"
   ]
  },
  {
   "cell_type": "markdown",
   "metadata": {},
   "source": [
    "###  2.TN (The Numbers) Budgets"
   ]
  },
  {
   "cell_type": "code",
   "execution_count": 9,
   "metadata": {},
   "outputs": [],
   "source": [
    "# TN Budgets dataset\n",
    "tn_budgets_clean = tn_budgets[['movie', 'production_budget', 'worldwide_gross', 'release_date']].copy()\n",
    "tn_budgets_clean.rename(columns={'movie': 'movie_title'}, inplace=True)\n"
   ]
  },
  {
   "cell_type": "markdown",
   "metadata": {},
   "source": [
    "### 3: TMDb"
   ]
  },
  {
   "cell_type": "code",
   "execution_count": 10,
   "metadata": {},
   "outputs": [],
   "source": [
    "# TMDb dataset\n",
    "tmdb_clean = tmdb[['title', 'id', 'popularity', 'vote_average', 'vote_count']].copy()\n",
    "tmdb_clean.rename(columns={'title': 'movie_title', 'id': 'tmdb_id'}, inplace=True)\n"
   ]
  },
  {
   "cell_type": "markdown",
   "metadata": {},
   "source": [
    "### 4: Rotten Tomatoes (info)"
   ]
  },
  {
   "cell_type": "code",
   "execution_count": 11,
   "metadata": {},
   "outputs": [],
   "source": [
    "# Rotten Tomatoes info dataset\n",
    "rt_info_clean = rt_info[['genre', 'rating', 'studio', 'theater_date', 'runtime']].copy()\n",
    "\n",
    "# No title column, so we cannot rename to movie_title here — will join later if possible\n"
   ]
  },
  {
   "cell_type": "markdown",
   "metadata": {},
   "source": [
    "## Step 2 – Load Tables from the SQLite Database\n",
    "We'll extract and preview the following key tables:\n",
    "\n",
    "- movie_basics – core movie metadata\n",
    "\n",
    "- movie_ratings – IMDb average rating + votes\n",
    "\n",
    "- principals – cast/crew info\n",
    "\n",
    "- optionally) names, crew, etc., if needed later\n",
    "\n"
   ]
  },
  {
   "cell_type": "markdown",
   "metadata": {},
   "source": [
    "### 5: Connect to the SQLite DB and List Tables"
   ]
  },
  {
   "cell_type": "code",
   "execution_count": 12,
   "metadata": {},
   "outputs": [
    {
     "data": {
      "text/html": [
       "<div>\n",
       "<style scoped>\n",
       "    .dataframe tbody tr th:only-of-type {\n",
       "        vertical-align: middle;\n",
       "    }\n",
       "\n",
       "    .dataframe tbody tr th {\n",
       "        vertical-align: top;\n",
       "    }\n",
       "\n",
       "    .dataframe thead th {\n",
       "        text-align: right;\n",
       "    }\n",
       "</style>\n",
       "<table border=\"1\" class=\"dataframe\">\n",
       "  <thead>\n",
       "    <tr style=\"text-align: right;\">\n",
       "      <th></th>\n",
       "      <th>name</th>\n",
       "    </tr>\n",
       "  </thead>\n",
       "  <tbody>\n",
       "    <tr>\n",
       "      <th>0</th>\n",
       "      <td>movie_basics</td>\n",
       "    </tr>\n",
       "    <tr>\n",
       "      <th>1</th>\n",
       "      <td>directors</td>\n",
       "    </tr>\n",
       "    <tr>\n",
       "      <th>2</th>\n",
       "      <td>known_for</td>\n",
       "    </tr>\n",
       "    <tr>\n",
       "      <th>3</th>\n",
       "      <td>movie_akas</td>\n",
       "    </tr>\n",
       "    <tr>\n",
       "      <th>4</th>\n",
       "      <td>movie_ratings</td>\n",
       "    </tr>\n",
       "    <tr>\n",
       "      <th>5</th>\n",
       "      <td>persons</td>\n",
       "    </tr>\n",
       "    <tr>\n",
       "      <th>6</th>\n",
       "      <td>principals</td>\n",
       "    </tr>\n",
       "    <tr>\n",
       "      <th>7</th>\n",
       "      <td>writers</td>\n",
       "    </tr>\n",
       "  </tbody>\n",
       "</table>\n",
       "</div>"
      ],
      "text/plain": [
       "            name\n",
       "0   movie_basics\n",
       "1      directors\n",
       "2      known_for\n",
       "3     movie_akas\n",
       "4  movie_ratings\n",
       "5        persons\n",
       "6     principals\n",
       "7        writers"
      ]
     },
     "execution_count": 12,
     "metadata": {},
     "output_type": "execute_result"
    }
   ],
   "source": [
    "# Connect to the SQLite database\n",
    "conn = sqlite3.connect('datasets/im.db')\n",
    "\n",
    "# Check available tables\n",
    "tables_query = \"SELECT name FROM sqlite_master WHERE type='table';\"\n",
    "pd.read_sql(tables_query, conn)\n"
   ]
  },
  {
   "cell_type": "markdown",
   "metadata": {},
   "source": [
    "### 6: Load Key Tables into DataFrames"
   ]
  },
  {
   "cell_type": "code",
   "execution_count": 13,
   "metadata": {},
   "outputs": [],
   "source": [
    "# Load movie_basics\n",
    "movie_basics = pd.read_sql(\"SELECT * FROM movie_basics\", conn)\n",
    "\n",
    "# Load movie_ratings\n",
    "movie_ratings = pd.read_sql(\"SELECT * FROM movie_ratings\", conn)\n",
    "\n",
    "# Load principals (optional for later joins with crew/names)\n",
    "principals = pd.read_sql(\"SELECT * FROM principals\", conn)\n"
   ]
  },
  {
   "cell_type": "markdown",
   "metadata": {},
   "source": [
    "### 7: Merge IMDb tables\n",
    "\n",
    "**We merge movie_basics and movie_ratings on movie_id.**"
   ]
  },
  {
   "cell_type": "code",
   "execution_count": 14,
   "metadata": {},
   "outputs": [
    {
     "data": {
      "text/html": [
       "<div>\n",
       "<style scoped>\n",
       "    .dataframe tbody tr th:only-of-type {\n",
       "        vertical-align: middle;\n",
       "    }\n",
       "\n",
       "    .dataframe tbody tr th {\n",
       "        vertical-align: top;\n",
       "    }\n",
       "\n",
       "    .dataframe thead th {\n",
       "        text-align: right;\n",
       "    }\n",
       "</style>\n",
       "<table border=\"1\" class=\"dataframe\">\n",
       "  <thead>\n",
       "    <tr style=\"text-align: right;\">\n",
       "      <th></th>\n",
       "      <th>movie_id</th>\n",
       "      <th>primary_title</th>\n",
       "      <th>original_title</th>\n",
       "      <th>start_year</th>\n",
       "      <th>runtime_minutes</th>\n",
       "      <th>genres</th>\n",
       "      <th>averagerating</th>\n",
       "      <th>numvotes</th>\n",
       "    </tr>\n",
       "  </thead>\n",
       "  <tbody>\n",
       "    <tr>\n",
       "      <th>0</th>\n",
       "      <td>tt0063540</td>\n",
       "      <td>Sunghursh</td>\n",
       "      <td>Sunghursh</td>\n",
       "      <td>2013</td>\n",
       "      <td>175.0</td>\n",
       "      <td>Action,Crime,Drama</td>\n",
       "      <td>7.0</td>\n",
       "      <td>77.0</td>\n",
       "    </tr>\n",
       "    <tr>\n",
       "      <th>1</th>\n",
       "      <td>tt0066787</td>\n",
       "      <td>One Day Before the Rainy Season</td>\n",
       "      <td>Ashad Ka Ek Din</td>\n",
       "      <td>2019</td>\n",
       "      <td>114.0</td>\n",
       "      <td>Biography,Drama</td>\n",
       "      <td>7.2</td>\n",
       "      <td>43.0</td>\n",
       "    </tr>\n",
       "    <tr>\n",
       "      <th>2</th>\n",
       "      <td>tt0069049</td>\n",
       "      <td>The Other Side of the Wind</td>\n",
       "      <td>The Other Side of the Wind</td>\n",
       "      <td>2018</td>\n",
       "      <td>122.0</td>\n",
       "      <td>Drama</td>\n",
       "      <td>6.9</td>\n",
       "      <td>4517.0</td>\n",
       "    </tr>\n",
       "    <tr>\n",
       "      <th>3</th>\n",
       "      <td>tt0069204</td>\n",
       "      <td>Sabse Bada Sukh</td>\n",
       "      <td>Sabse Bada Sukh</td>\n",
       "      <td>2018</td>\n",
       "      <td>NaN</td>\n",
       "      <td>Comedy,Drama</td>\n",
       "      <td>6.1</td>\n",
       "      <td>13.0</td>\n",
       "    </tr>\n",
       "    <tr>\n",
       "      <th>4</th>\n",
       "      <td>tt0100275</td>\n",
       "      <td>The Wandering Soap Opera</td>\n",
       "      <td>La Telenovela Errante</td>\n",
       "      <td>2017</td>\n",
       "      <td>80.0</td>\n",
       "      <td>Comedy,Drama,Fantasy</td>\n",
       "      <td>6.5</td>\n",
       "      <td>119.0</td>\n",
       "    </tr>\n",
       "  </tbody>\n",
       "</table>\n",
       "</div>"
      ],
      "text/plain": [
       "    movie_id                    primary_title              original_title  \\\n",
       "0  tt0063540                        Sunghursh                   Sunghursh   \n",
       "1  tt0066787  One Day Before the Rainy Season             Ashad Ka Ek Din   \n",
       "2  tt0069049       The Other Side of the Wind  The Other Side of the Wind   \n",
       "3  tt0069204                  Sabse Bada Sukh             Sabse Bada Sukh   \n",
       "4  tt0100275         The Wandering Soap Opera       La Telenovela Errante   \n",
       "\n",
       "   start_year  runtime_minutes                genres  averagerating  numvotes  \n",
       "0        2013            175.0    Action,Crime,Drama            7.0      77.0  \n",
       "1        2019            114.0       Biography,Drama            7.2      43.0  \n",
       "2        2018            122.0                 Drama            6.9    4517.0  \n",
       "3        2018              NaN          Comedy,Drama            6.1      13.0  \n",
       "4        2017             80.0  Comedy,Drama,Fantasy            6.5     119.0  "
      ]
     },
     "execution_count": 14,
     "metadata": {},
     "output_type": "execute_result"
    }
   ],
   "source": [
    "# Merge basics and ratings\n",
    "imdb_movies = pd.merge(movie_basics, movie_ratings, how='left', on='movie_id')\n",
    "\n",
    "# Preview merged IMDb data\n",
    "imdb_movies.head()\n"
   ]
  },
  {
   "cell_type": "markdown",
   "metadata": {},
   "source": [
    "## Merging the data\n",
    "Let's proceed step by step to merge the cleaned datasets into one master DataFrame that we'll use for EDA and Tableau.\n",
    "**Step-by-Step Plan**\n",
    "- Ensure all individual datasets are cleaned and renamed\n",
    "\n",
    "- Merge them progressively using movie_title as the key\n",
    "\n",
    "- Handle duplicates and missing values\n",
    "\n",
    "- Save final master dataset to the datasets/ folder\n",
    "\n",
    "### Step 1: Clean and Rename Columns for Merging\n",
    "\n"
   ]
  },
  {
   "cell_type": "code",
   "execution_count": 15,
   "metadata": {},
   "outputs": [
    {
     "data": {
      "text/html": [
       "<div>\n",
       "<style scoped>\n",
       "    .dataframe tbody tr th:only-of-type {\n",
       "        vertical-align: middle;\n",
       "    }\n",
       "\n",
       "    .dataframe tbody tr th {\n",
       "        vertical-align: top;\n",
       "    }\n",
       "\n",
       "    .dataframe thead th {\n",
       "        text-align: right;\n",
       "    }\n",
       "</style>\n",
       "<table border=\"1\" class=\"dataframe\">\n",
       "  <thead>\n",
       "    <tr style=\"text-align: right;\">\n",
       "      <th></th>\n",
       "      <th>movie_title</th>\n",
       "      <th>domestic_gross</th>\n",
       "      <th>foreign_gross</th>\n",
       "      <th>year</th>\n",
       "    </tr>\n",
       "  </thead>\n",
       "  <tbody>\n",
       "    <tr>\n",
       "      <th>0</th>\n",
       "      <td>Toy Story 3</td>\n",
       "      <td>415000000.0</td>\n",
       "      <td>652000000</td>\n",
       "      <td>2010</td>\n",
       "    </tr>\n",
       "    <tr>\n",
       "      <th>1</th>\n",
       "      <td>Alice in Wonderland (2010)</td>\n",
       "      <td>334200000.0</td>\n",
       "      <td>691300000</td>\n",
       "      <td>2010</td>\n",
       "    </tr>\n",
       "    <tr>\n",
       "      <th>2</th>\n",
       "      <td>Harry Potter and the Deathly Hallows Part 1</td>\n",
       "      <td>296000000.0</td>\n",
       "      <td>664300000</td>\n",
       "      <td>2010</td>\n",
       "    </tr>\n",
       "    <tr>\n",
       "      <th>3</th>\n",
       "      <td>Inception</td>\n",
       "      <td>292600000.0</td>\n",
       "      <td>535700000</td>\n",
       "      <td>2010</td>\n",
       "    </tr>\n",
       "    <tr>\n",
       "      <th>4</th>\n",
       "      <td>Shrek Forever After</td>\n",
       "      <td>238700000.0</td>\n",
       "      <td>513900000</td>\n",
       "      <td>2010</td>\n",
       "    </tr>\n",
       "  </tbody>\n",
       "</table>\n",
       "</div>"
      ],
      "text/plain": [
       "                                   movie_title  domestic_gross foreign_gross  \\\n",
       "0                                  Toy Story 3     415000000.0     652000000   \n",
       "1                   Alice in Wonderland (2010)     334200000.0     691300000   \n",
       "2  Harry Potter and the Deathly Hallows Part 1     296000000.0     664300000   \n",
       "3                                    Inception     292600000.0     535700000   \n",
       "4                          Shrek Forever After     238700000.0     513900000   \n",
       "\n",
       "   year  \n",
       "0  2010  \n",
       "1  2010  \n",
       "2  2010  \n",
       "3  2010  \n",
       "4  2010  "
      ]
     },
     "execution_count": 15,
     "metadata": {},
     "output_type": "execute_result"
    }
   ],
   "source": [
    "# BOM dataset: drop unnecessary columns and rename for consistency\n",
    "bom_clean = bom[['title', 'domestic_gross', 'foreign_gross', 'year']].copy()\n",
    "bom_clean.rename(columns={'title': 'movie_title'}, inplace=True)\n",
    "bom_clean.head()\n"
   ]
  },
  {
   "cell_type": "code",
   "execution_count": 16,
   "metadata": {},
   "outputs": [
    {
     "data": {
      "text/html": [
       "<div>\n",
       "<style scoped>\n",
       "    .dataframe tbody tr th:only-of-type {\n",
       "        vertical-align: middle;\n",
       "    }\n",
       "\n",
       "    .dataframe tbody tr th {\n",
       "        vertical-align: top;\n",
       "    }\n",
       "\n",
       "    .dataframe thead th {\n",
       "        text-align: right;\n",
       "    }\n",
       "</style>\n",
       "<table border=\"1\" class=\"dataframe\">\n",
       "  <thead>\n",
       "    <tr style=\"text-align: right;\">\n",
       "      <th></th>\n",
       "      <th>movie_title</th>\n",
       "      <th>production_budget</th>\n",
       "      <th>worldwide_gross</th>\n",
       "      <th>release_date</th>\n",
       "    </tr>\n",
       "  </thead>\n",
       "  <tbody>\n",
       "    <tr>\n",
       "      <th>0</th>\n",
       "      <td>Avatar</td>\n",
       "      <td>$425,000,000</td>\n",
       "      <td>$2,776,345,279</td>\n",
       "      <td>Dec 18, 2009</td>\n",
       "    </tr>\n",
       "    <tr>\n",
       "      <th>1</th>\n",
       "      <td>Pirates of the Caribbean: On Stranger Tides</td>\n",
       "      <td>$410,600,000</td>\n",
       "      <td>$1,045,663,875</td>\n",
       "      <td>May 20, 2011</td>\n",
       "    </tr>\n",
       "    <tr>\n",
       "      <th>2</th>\n",
       "      <td>Dark Phoenix</td>\n",
       "      <td>$350,000,000</td>\n",
       "      <td>$149,762,350</td>\n",
       "      <td>Jun 7, 2019</td>\n",
       "    </tr>\n",
       "    <tr>\n",
       "      <th>3</th>\n",
       "      <td>Avengers: Age of Ultron</td>\n",
       "      <td>$330,600,000</td>\n",
       "      <td>$1,403,013,963</td>\n",
       "      <td>May 1, 2015</td>\n",
       "    </tr>\n",
       "    <tr>\n",
       "      <th>4</th>\n",
       "      <td>Star Wars Ep. VIII: The Last Jedi</td>\n",
       "      <td>$317,000,000</td>\n",
       "      <td>$1,316,721,747</td>\n",
       "      <td>Dec 15, 2017</td>\n",
       "    </tr>\n",
       "  </tbody>\n",
       "</table>\n",
       "</div>"
      ],
      "text/plain": [
       "                                   movie_title production_budget  \\\n",
       "0                                       Avatar      $425,000,000   \n",
       "1  Pirates of the Caribbean: On Stranger Tides      $410,600,000   \n",
       "2                                 Dark Phoenix      $350,000,000   \n",
       "3                      Avengers: Age of Ultron      $330,600,000   \n",
       "4            Star Wars Ep. VIII: The Last Jedi      $317,000,000   \n",
       "\n",
       "  worldwide_gross  release_date  \n",
       "0  $2,776,345,279  Dec 18, 2009  \n",
       "1  $1,045,663,875  May 20, 2011  \n",
       "2    $149,762,350   Jun 7, 2019  \n",
       "3  $1,403,013,963   May 1, 2015  \n",
       "4  $1,316,721,747  Dec 15, 2017  "
      ]
     },
     "execution_count": 16,
     "metadata": {},
     "output_type": "execute_result"
    }
   ],
   "source": [
    "# The Numbers movie budget data\n",
    "tn_budgets_clean = tn_budgets[['movie', 'production_budget', 'worldwide_gross', 'release_date']].copy()\n",
    "tn_budgets_clean.rename(columns={'movie': 'movie_title'}, inplace=True)\n",
    "tn_budgets_clean.head()\n"
   ]
  },
  {
   "cell_type": "code",
   "execution_count": 17,
   "metadata": {},
   "outputs": [
    {
     "data": {
      "text/html": [
       "<div>\n",
       "<style scoped>\n",
       "    .dataframe tbody tr th:only-of-type {\n",
       "        vertical-align: middle;\n",
       "    }\n",
       "\n",
       "    .dataframe tbody tr th {\n",
       "        vertical-align: top;\n",
       "    }\n",
       "\n",
       "    .dataframe thead th {\n",
       "        text-align: right;\n",
       "    }\n",
       "</style>\n",
       "<table border=\"1\" class=\"dataframe\">\n",
       "  <thead>\n",
       "    <tr style=\"text-align: right;\">\n",
       "      <th></th>\n",
       "      <th>movie_title</th>\n",
       "      <th>tmdb_id</th>\n",
       "      <th>popularity</th>\n",
       "      <th>vote_average</th>\n",
       "      <th>vote_count</th>\n",
       "    </tr>\n",
       "  </thead>\n",
       "  <tbody>\n",
       "    <tr>\n",
       "      <th>0</th>\n",
       "      <td>Harry Potter and the Deathly Hallows: Part 1</td>\n",
       "      <td>12444</td>\n",
       "      <td>33.533</td>\n",
       "      <td>7.7</td>\n",
       "      <td>10788</td>\n",
       "    </tr>\n",
       "    <tr>\n",
       "      <th>1</th>\n",
       "      <td>How to Train Your Dragon</td>\n",
       "      <td>10191</td>\n",
       "      <td>28.734</td>\n",
       "      <td>7.7</td>\n",
       "      <td>7610</td>\n",
       "    </tr>\n",
       "    <tr>\n",
       "      <th>2</th>\n",
       "      <td>Iron Man 2</td>\n",
       "      <td>10138</td>\n",
       "      <td>28.515</td>\n",
       "      <td>6.8</td>\n",
       "      <td>12368</td>\n",
       "    </tr>\n",
       "    <tr>\n",
       "      <th>3</th>\n",
       "      <td>Toy Story</td>\n",
       "      <td>862</td>\n",
       "      <td>28.005</td>\n",
       "      <td>7.9</td>\n",
       "      <td>10174</td>\n",
       "    </tr>\n",
       "    <tr>\n",
       "      <th>4</th>\n",
       "      <td>Inception</td>\n",
       "      <td>27205</td>\n",
       "      <td>27.920</td>\n",
       "      <td>8.3</td>\n",
       "      <td>22186</td>\n",
       "    </tr>\n",
       "  </tbody>\n",
       "</table>\n",
       "</div>"
      ],
      "text/plain": [
       "                                    movie_title  tmdb_id  popularity  \\\n",
       "0  Harry Potter and the Deathly Hallows: Part 1    12444      33.533   \n",
       "1                      How to Train Your Dragon    10191      28.734   \n",
       "2                                    Iron Man 2    10138      28.515   \n",
       "3                                     Toy Story      862      28.005   \n",
       "4                                     Inception    27205      27.920   \n",
       "\n",
       "   vote_average  vote_count  \n",
       "0           7.7       10788  \n",
       "1           7.7        7610  \n",
       "2           6.8       12368  \n",
       "3           7.9       10174  \n",
       "4           8.3       22186  "
      ]
     },
     "execution_count": 17,
     "metadata": {},
     "output_type": "execute_result"
    }
   ],
   "source": [
    "# TMDb: includes popularity, vote average, vote count\n",
    "tmdb_clean = tmdb[['title', 'id', 'popularity', 'vote_average', 'vote_count']].copy()\n",
    "tmdb_clean.rename(columns={'title': 'movie_title', 'id': 'tmdb_id'}, inplace=True)\n",
    "tmdb_clean.head()\n"
   ]
  },
  {
   "cell_type": "code",
   "execution_count": 18,
   "metadata": {},
   "outputs": [
    {
     "data": {
      "text/html": [
       "<div>\n",
       "<style scoped>\n",
       "    .dataframe tbody tr th:only-of-type {\n",
       "        vertical-align: middle;\n",
       "    }\n",
       "\n",
       "    .dataframe tbody tr th {\n",
       "        vertical-align: top;\n",
       "    }\n",
       "\n",
       "    .dataframe thead th {\n",
       "        text-align: right;\n",
       "    }\n",
       "</style>\n",
       "<table border=\"1\" class=\"dataframe\">\n",
       "  <thead>\n",
       "    <tr style=\"text-align: right;\">\n",
       "      <th></th>\n",
       "      <th>rating</th>\n",
       "      <th>genre</th>\n",
       "      <th>studio</th>\n",
       "      <th>theater_date</th>\n",
       "      <th>runtime</th>\n",
       "      <th>movie_title</th>\n",
       "    </tr>\n",
       "  </thead>\n",
       "  <tbody>\n",
       "    <tr>\n",
       "      <th>0</th>\n",
       "      <td>R</td>\n",
       "      <td>Action and Adventure|Classics|Drama</td>\n",
       "      <td>NaN</td>\n",
       "      <td>Oct 9, 1971</td>\n",
       "      <td>104 minutes</td>\n",
       "      <td>0</td>\n",
       "    </tr>\n",
       "    <tr>\n",
       "      <th>1</th>\n",
       "      <td>R</td>\n",
       "      <td>Drama|Science Fiction and Fantasy</td>\n",
       "      <td>Entertainment One</td>\n",
       "      <td>Aug 17, 2012</td>\n",
       "      <td>108 minutes</td>\n",
       "      <td>1</td>\n",
       "    </tr>\n",
       "    <tr>\n",
       "      <th>2</th>\n",
       "      <td>R</td>\n",
       "      <td>Drama|Musical and Performing Arts</td>\n",
       "      <td>NaN</td>\n",
       "      <td>Sep 13, 1996</td>\n",
       "      <td>116 minutes</td>\n",
       "      <td>2</td>\n",
       "    </tr>\n",
       "    <tr>\n",
       "      <th>3</th>\n",
       "      <td>R</td>\n",
       "      <td>Drama|Mystery and Suspense</td>\n",
       "      <td>NaN</td>\n",
       "      <td>Dec 9, 1994</td>\n",
       "      <td>128 minutes</td>\n",
       "      <td>3</td>\n",
       "    </tr>\n",
       "    <tr>\n",
       "      <th>4</th>\n",
       "      <td>NR</td>\n",
       "      <td>Drama|Romance</td>\n",
       "      <td>NaN</td>\n",
       "      <td>NaN</td>\n",
       "      <td>200 minutes</td>\n",
       "      <td>4</td>\n",
       "    </tr>\n",
       "  </tbody>\n",
       "</table>\n",
       "</div>"
      ],
      "text/plain": [
       "  rating                                genre             studio  \\\n",
       "0      R  Action and Adventure|Classics|Drama                NaN   \n",
       "1      R    Drama|Science Fiction and Fantasy  Entertainment One   \n",
       "2      R    Drama|Musical and Performing Arts                NaN   \n",
       "3      R           Drama|Mystery and Suspense                NaN   \n",
       "4     NR                        Drama|Romance                NaN   \n",
       "\n",
       "   theater_date      runtime  movie_title  \n",
       "0   Oct 9, 1971  104 minutes            0  \n",
       "1  Aug 17, 2012  108 minutes            1  \n",
       "2  Sep 13, 1996  116 minutes            2  \n",
       "3   Dec 9, 1994  128 minutes            3  \n",
       "4           NaN  200 minutes            4  "
      ]
     },
     "execution_count": 18,
     "metadata": {},
     "output_type": "execute_result"
    }
   ],
   "source": [
    "# Rotten Tomatoes info data\n",
    "rt_info_clean = rt_info[['rating', 'genre', 'studio', 'theater_date', 'runtime']].copy()\n",
    "rt_info_clean['movie_title'] = rt_info.index\n",
    "rt_info_clean.reset_index(drop=True, inplace=True)\n",
    "rt_info_clean.head()\n"
   ]
  },
  {
   "cell_type": "markdown",
   "metadata": {},
   "source": [
    "## Step 2: Merging All Cleaned Datasets\n",
    "Let’s now proceed cell by cell to merge them using movie_title as the key.\n",
    "\n",
    "### Cell 1: Merge BOM + The Numbers Budgets"
   ]
  },
  {
   "cell_type": "code",
   "execution_count": 19,
   "metadata": {},
   "outputs": [
    {
     "data": {
      "text/html": [
       "<div>\n",
       "<style scoped>\n",
       "    .dataframe tbody tr th:only-of-type {\n",
       "        vertical-align: middle;\n",
       "    }\n",
       "\n",
       "    .dataframe tbody tr th {\n",
       "        vertical-align: top;\n",
       "    }\n",
       "\n",
       "    .dataframe thead th {\n",
       "        text-align: right;\n",
       "    }\n",
       "</style>\n",
       "<table border=\"1\" class=\"dataframe\">\n",
       "  <thead>\n",
       "    <tr style=\"text-align: right;\">\n",
       "      <th></th>\n",
       "      <th>movie_title</th>\n",
       "      <th>domestic_gross</th>\n",
       "      <th>foreign_gross</th>\n",
       "      <th>year</th>\n",
       "      <th>production_budget</th>\n",
       "      <th>worldwide_gross</th>\n",
       "      <th>release_date</th>\n",
       "    </tr>\n",
       "  </thead>\n",
       "  <tbody>\n",
       "    <tr>\n",
       "      <th>0</th>\n",
       "      <td>Toy Story 3</td>\n",
       "      <td>415000000.0</td>\n",
       "      <td>652000000</td>\n",
       "      <td>2010.0</td>\n",
       "      <td>$200,000,000</td>\n",
       "      <td>$1,068,879,522</td>\n",
       "      <td>Jun 18, 2010</td>\n",
       "    </tr>\n",
       "    <tr>\n",
       "      <th>1</th>\n",
       "      <td>Alice in Wonderland (2010)</td>\n",
       "      <td>334200000.0</td>\n",
       "      <td>691300000</td>\n",
       "      <td>2010.0</td>\n",
       "      <td>NaN</td>\n",
       "      <td>NaN</td>\n",
       "      <td>NaN</td>\n",
       "    </tr>\n",
       "    <tr>\n",
       "      <th>2</th>\n",
       "      <td>Harry Potter and the Deathly Hallows Part 1</td>\n",
       "      <td>296000000.0</td>\n",
       "      <td>664300000</td>\n",
       "      <td>2010.0</td>\n",
       "      <td>NaN</td>\n",
       "      <td>NaN</td>\n",
       "      <td>NaN</td>\n",
       "    </tr>\n",
       "    <tr>\n",
       "      <th>3</th>\n",
       "      <td>Inception</td>\n",
       "      <td>292600000.0</td>\n",
       "      <td>535700000</td>\n",
       "      <td>2010.0</td>\n",
       "      <td>$160,000,000</td>\n",
       "      <td>$835,524,642</td>\n",
       "      <td>Jul 16, 2010</td>\n",
       "    </tr>\n",
       "    <tr>\n",
       "      <th>4</th>\n",
       "      <td>Shrek Forever After</td>\n",
       "      <td>238700000.0</td>\n",
       "      <td>513900000</td>\n",
       "      <td>2010.0</td>\n",
       "      <td>$165,000,000</td>\n",
       "      <td>$756,244,673</td>\n",
       "      <td>May 21, 2010</td>\n",
       "    </tr>\n",
       "  </tbody>\n",
       "</table>\n",
       "</div>"
      ],
      "text/plain": [
       "                                   movie_title  domestic_gross foreign_gross  \\\n",
       "0                                  Toy Story 3     415000000.0     652000000   \n",
       "1                   Alice in Wonderland (2010)     334200000.0     691300000   \n",
       "2  Harry Potter and the Deathly Hallows Part 1     296000000.0     664300000   \n",
       "3                                    Inception     292600000.0     535700000   \n",
       "4                          Shrek Forever After     238700000.0     513900000   \n",
       "\n",
       "     year production_budget worldwide_gross  release_date  \n",
       "0  2010.0      $200,000,000  $1,068,879,522  Jun 18, 2010  \n",
       "1  2010.0               NaN             NaN           NaN  \n",
       "2  2010.0               NaN             NaN           NaN  \n",
       "3  2010.0      $160,000,000    $835,524,642  Jul 16, 2010  \n",
       "4  2010.0      $165,000,000    $756,244,673  May 21, 2010  "
      ]
     },
     "execution_count": 19,
     "metadata": {},
     "output_type": "execute_result"
    }
   ],
   "source": [
    "# Merge BOM and TN Budgets\n",
    "bom_tn_merged = pd.merge(bom_clean, tn_budgets_clean, on='movie_title', how='outer')\n",
    "bom_tn_merged.head()\n"
   ]
  },
  {
   "cell_type": "markdown",
   "metadata": {},
   "source": [
    "### Cell 2: Add TMDb Data"
   ]
  },
  {
   "cell_type": "code",
   "execution_count": 20,
   "metadata": {},
   "outputs": [
    {
     "data": {
      "text/html": [
       "<div>\n",
       "<style scoped>\n",
       "    .dataframe tbody tr th:only-of-type {\n",
       "        vertical-align: middle;\n",
       "    }\n",
       "\n",
       "    .dataframe tbody tr th {\n",
       "        vertical-align: top;\n",
       "    }\n",
       "\n",
       "    .dataframe thead th {\n",
       "        text-align: right;\n",
       "    }\n",
       "</style>\n",
       "<table border=\"1\" class=\"dataframe\">\n",
       "  <thead>\n",
       "    <tr style=\"text-align: right;\">\n",
       "      <th></th>\n",
       "      <th>movie_title</th>\n",
       "      <th>domestic_gross</th>\n",
       "      <th>foreign_gross</th>\n",
       "      <th>year</th>\n",
       "      <th>production_budget</th>\n",
       "      <th>worldwide_gross</th>\n",
       "      <th>release_date</th>\n",
       "      <th>tmdb_id</th>\n",
       "      <th>popularity</th>\n",
       "      <th>vote_average</th>\n",
       "      <th>vote_count</th>\n",
       "    </tr>\n",
       "  </thead>\n",
       "  <tbody>\n",
       "    <tr>\n",
       "      <th>0</th>\n",
       "      <td>Toy Story 3</td>\n",
       "      <td>415000000.0</td>\n",
       "      <td>652000000</td>\n",
       "      <td>2010.0</td>\n",
       "      <td>$200,000,000</td>\n",
       "      <td>$1,068,879,522</td>\n",
       "      <td>Jun 18, 2010</td>\n",
       "      <td>10193.0</td>\n",
       "      <td>24.445</td>\n",
       "      <td>7.7</td>\n",
       "      <td>8340.0</td>\n",
       "    </tr>\n",
       "    <tr>\n",
       "      <th>1</th>\n",
       "      <td>Alice in Wonderland (2010)</td>\n",
       "      <td>334200000.0</td>\n",
       "      <td>691300000</td>\n",
       "      <td>2010.0</td>\n",
       "      <td>NaN</td>\n",
       "      <td>NaN</td>\n",
       "      <td>NaN</td>\n",
       "      <td>NaN</td>\n",
       "      <td>NaN</td>\n",
       "      <td>NaN</td>\n",
       "      <td>NaN</td>\n",
       "    </tr>\n",
       "    <tr>\n",
       "      <th>2</th>\n",
       "      <td>Harry Potter and the Deathly Hallows Part 1</td>\n",
       "      <td>296000000.0</td>\n",
       "      <td>664300000</td>\n",
       "      <td>2010.0</td>\n",
       "      <td>NaN</td>\n",
       "      <td>NaN</td>\n",
       "      <td>NaN</td>\n",
       "      <td>NaN</td>\n",
       "      <td>NaN</td>\n",
       "      <td>NaN</td>\n",
       "      <td>NaN</td>\n",
       "    </tr>\n",
       "    <tr>\n",
       "      <th>3</th>\n",
       "      <td>Inception</td>\n",
       "      <td>292600000.0</td>\n",
       "      <td>535700000</td>\n",
       "      <td>2010.0</td>\n",
       "      <td>$160,000,000</td>\n",
       "      <td>$835,524,642</td>\n",
       "      <td>Jul 16, 2010</td>\n",
       "      <td>27205.0</td>\n",
       "      <td>27.920</td>\n",
       "      <td>8.3</td>\n",
       "      <td>22186.0</td>\n",
       "    </tr>\n",
       "    <tr>\n",
       "      <th>4</th>\n",
       "      <td>Shrek Forever After</td>\n",
       "      <td>238700000.0</td>\n",
       "      <td>513900000</td>\n",
       "      <td>2010.0</td>\n",
       "      <td>$165,000,000</td>\n",
       "      <td>$756,244,673</td>\n",
       "      <td>May 21, 2010</td>\n",
       "      <td>10192.0</td>\n",
       "      <td>15.041</td>\n",
       "      <td>6.1</td>\n",
       "      <td>3843.0</td>\n",
       "    </tr>\n",
       "  </tbody>\n",
       "</table>\n",
       "</div>"
      ],
      "text/plain": [
       "                                   movie_title  domestic_gross foreign_gross  \\\n",
       "0                                  Toy Story 3     415000000.0     652000000   \n",
       "1                   Alice in Wonderland (2010)     334200000.0     691300000   \n",
       "2  Harry Potter and the Deathly Hallows Part 1     296000000.0     664300000   \n",
       "3                                    Inception     292600000.0     535700000   \n",
       "4                          Shrek Forever After     238700000.0     513900000   \n",
       "\n",
       "     year production_budget worldwide_gross  release_date  tmdb_id  \\\n",
       "0  2010.0      $200,000,000  $1,068,879,522  Jun 18, 2010  10193.0   \n",
       "1  2010.0               NaN             NaN           NaN      NaN   \n",
       "2  2010.0               NaN             NaN           NaN      NaN   \n",
       "3  2010.0      $160,000,000    $835,524,642  Jul 16, 2010  27205.0   \n",
       "4  2010.0      $165,000,000    $756,244,673  May 21, 2010  10192.0   \n",
       "\n",
       "   popularity  vote_average  vote_count  \n",
       "0      24.445           7.7      8340.0  \n",
       "1         NaN           NaN         NaN  \n",
       "2         NaN           NaN         NaN  \n",
       "3      27.920           8.3     22186.0  \n",
       "4      15.041           6.1      3843.0  "
      ]
     },
     "execution_count": 20,
     "metadata": {},
     "output_type": "execute_result"
    }
   ],
   "source": [
    "# Merge with TMDb data\n",
    "bom_tn_tmdb = pd.merge(bom_tn_merged, tmdb_clean, on='movie_title', how='outer')\n",
    "bom_tn_tmdb.head()\n"
   ]
  },
  {
   "cell_type": "markdown",
   "metadata": {},
   "source": [
    "### Cell 3: Add Rotten Tomatoes Info"
   ]
  },
  {
   "cell_type": "code",
   "execution_count": 21,
   "metadata": {},
   "outputs": [
    {
     "data": {
      "text/html": [
       "<div>\n",
       "<style scoped>\n",
       "    .dataframe tbody tr th:only-of-type {\n",
       "        vertical-align: middle;\n",
       "    }\n",
       "\n",
       "    .dataframe tbody tr th {\n",
       "        vertical-align: top;\n",
       "    }\n",
       "\n",
       "    .dataframe thead th {\n",
       "        text-align: right;\n",
       "    }\n",
       "</style>\n",
       "<table border=\"1\" class=\"dataframe\">\n",
       "  <thead>\n",
       "    <tr style=\"text-align: right;\">\n",
       "      <th></th>\n",
       "      <th>movie_title</th>\n",
       "      <th>domestic_gross</th>\n",
       "      <th>foreign_gross</th>\n",
       "      <th>year</th>\n",
       "      <th>production_budget</th>\n",
       "      <th>worldwide_gross</th>\n",
       "      <th>release_date</th>\n",
       "      <th>tmdb_id</th>\n",
       "      <th>popularity</th>\n",
       "      <th>vote_average</th>\n",
       "      <th>vote_count</th>\n",
       "      <th>rating</th>\n",
       "      <th>genre</th>\n",
       "      <th>studio</th>\n",
       "      <th>theater_date</th>\n",
       "      <th>runtime</th>\n",
       "    </tr>\n",
       "  </thead>\n",
       "  <tbody>\n",
       "    <tr>\n",
       "      <th>0</th>\n",
       "      <td>Toy Story 3</td>\n",
       "      <td>415000000.0</td>\n",
       "      <td>652000000</td>\n",
       "      <td>2010.0</td>\n",
       "      <td>$200,000,000</td>\n",
       "      <td>$1,068,879,522</td>\n",
       "      <td>Jun 18, 2010</td>\n",
       "      <td>10193.0</td>\n",
       "      <td>24.445</td>\n",
       "      <td>7.7</td>\n",
       "      <td>8340.0</td>\n",
       "      <td>NaN</td>\n",
       "      <td>NaN</td>\n",
       "      <td>NaN</td>\n",
       "      <td>NaN</td>\n",
       "      <td>NaN</td>\n",
       "    </tr>\n",
       "    <tr>\n",
       "      <th>1</th>\n",
       "      <td>Alice in Wonderland (2010)</td>\n",
       "      <td>334200000.0</td>\n",
       "      <td>691300000</td>\n",
       "      <td>2010.0</td>\n",
       "      <td>NaN</td>\n",
       "      <td>NaN</td>\n",
       "      <td>NaN</td>\n",
       "      <td>NaN</td>\n",
       "      <td>NaN</td>\n",
       "      <td>NaN</td>\n",
       "      <td>NaN</td>\n",
       "      <td>NaN</td>\n",
       "      <td>NaN</td>\n",
       "      <td>NaN</td>\n",
       "      <td>NaN</td>\n",
       "      <td>NaN</td>\n",
       "    </tr>\n",
       "    <tr>\n",
       "      <th>2</th>\n",
       "      <td>Harry Potter and the Deathly Hallows Part 1</td>\n",
       "      <td>296000000.0</td>\n",
       "      <td>664300000</td>\n",
       "      <td>2010.0</td>\n",
       "      <td>NaN</td>\n",
       "      <td>NaN</td>\n",
       "      <td>NaN</td>\n",
       "      <td>NaN</td>\n",
       "      <td>NaN</td>\n",
       "      <td>NaN</td>\n",
       "      <td>NaN</td>\n",
       "      <td>NaN</td>\n",
       "      <td>NaN</td>\n",
       "      <td>NaN</td>\n",
       "      <td>NaN</td>\n",
       "      <td>NaN</td>\n",
       "    </tr>\n",
       "    <tr>\n",
       "      <th>3</th>\n",
       "      <td>Inception</td>\n",
       "      <td>292600000.0</td>\n",
       "      <td>535700000</td>\n",
       "      <td>2010.0</td>\n",
       "      <td>$160,000,000</td>\n",
       "      <td>$835,524,642</td>\n",
       "      <td>Jul 16, 2010</td>\n",
       "      <td>27205.0</td>\n",
       "      <td>27.920</td>\n",
       "      <td>8.3</td>\n",
       "      <td>22186.0</td>\n",
       "      <td>NaN</td>\n",
       "      <td>NaN</td>\n",
       "      <td>NaN</td>\n",
       "      <td>NaN</td>\n",
       "      <td>NaN</td>\n",
       "    </tr>\n",
       "    <tr>\n",
       "      <th>4</th>\n",
       "      <td>Shrek Forever After</td>\n",
       "      <td>238700000.0</td>\n",
       "      <td>513900000</td>\n",
       "      <td>2010.0</td>\n",
       "      <td>$165,000,000</td>\n",
       "      <td>$756,244,673</td>\n",
       "      <td>May 21, 2010</td>\n",
       "      <td>10192.0</td>\n",
       "      <td>15.041</td>\n",
       "      <td>6.1</td>\n",
       "      <td>3843.0</td>\n",
       "      <td>NaN</td>\n",
       "      <td>NaN</td>\n",
       "      <td>NaN</td>\n",
       "      <td>NaN</td>\n",
       "      <td>NaN</td>\n",
       "    </tr>\n",
       "  </tbody>\n",
       "</table>\n",
       "</div>"
      ],
      "text/plain": [
       "                                   movie_title  domestic_gross foreign_gross  \\\n",
       "0                                  Toy Story 3     415000000.0     652000000   \n",
       "1                   Alice in Wonderland (2010)     334200000.0     691300000   \n",
       "2  Harry Potter and the Deathly Hallows Part 1     296000000.0     664300000   \n",
       "3                                    Inception     292600000.0     535700000   \n",
       "4                          Shrek Forever After     238700000.0     513900000   \n",
       "\n",
       "     year production_budget worldwide_gross  release_date  tmdb_id  \\\n",
       "0  2010.0      $200,000,000  $1,068,879,522  Jun 18, 2010  10193.0   \n",
       "1  2010.0               NaN             NaN           NaN      NaN   \n",
       "2  2010.0               NaN             NaN           NaN      NaN   \n",
       "3  2010.0      $160,000,000    $835,524,642  Jul 16, 2010  27205.0   \n",
       "4  2010.0      $165,000,000    $756,244,673  May 21, 2010  10192.0   \n",
       "\n",
       "   popularity  vote_average  vote_count rating genre studio theater_date  \\\n",
       "0      24.445           7.7      8340.0    NaN   NaN    NaN          NaN   \n",
       "1         NaN           NaN         NaN    NaN   NaN    NaN          NaN   \n",
       "2         NaN           NaN         NaN    NaN   NaN    NaN          NaN   \n",
       "3      27.920           8.3     22186.0    NaN   NaN    NaN          NaN   \n",
       "4      15.041           6.1      3843.0    NaN   NaN    NaN          NaN   \n",
       "\n",
       "  runtime  \n",
       "0     NaN  \n",
       "1     NaN  \n",
       "2     NaN  \n",
       "3     NaN  \n",
       "4     NaN  "
      ]
     },
     "execution_count": 21,
     "metadata": {},
     "output_type": "execute_result"
    }
   ],
   "source": [
    "# Ensure movie_title is a string before merge\n",
    "rt_info_clean['movie_title'] = rt_info_clean['movie_title'].astype(str)\n",
    "bom_tn_tmdb['movie_title'] = bom_tn_tmdb['movie_title'].astype(str)\n",
    "\n",
    "# Now merge\n",
    "master_df = pd.merge(bom_tn_tmdb, rt_info_clean, on='movie_title', how='outer')\n",
    "master_df.head()\n"
   ]
  },
  {
   "cell_type": "markdown",
   "metadata": {},
   "source": [
    "## Step 3: Basic Cleaning\n",
    "\n",
    "### Cell 4: Remove Duplicates, Check Nulls\n",
    "\n"
   ]
  },
  {
   "cell_type": "code",
   "execution_count": 22,
   "metadata": {},
   "outputs": [
    {
     "data": {
      "text/plain": [
       "studio               30520\n",
       "theater_date         29813\n",
       "runtime              29484\n",
       "genre                29462\n",
       "rating               29457\n",
       "foreign_gross        28977\n",
       "domestic_gross       27656\n",
       "year                 27628\n",
       "release_date         25316\n",
       "worldwide_gross      25316\n",
       "production_budget    25316\n",
       "vote_count            6326\n",
       "vote_average          6326\n",
       "popularity            6326\n",
       "tmdb_id               6326\n",
       "movie_title              0\n",
       "dtype: int64"
      ]
     },
     "execution_count": 22,
     "metadata": {},
     "output_type": "execute_result"
    }
   ],
   "source": [
    "# Remove duplicate movie entries\n",
    "master_df.drop_duplicates(subset='movie_title', inplace=True)\n",
    "\n",
    "# Display columns with missing values\n",
    "master_df.isnull().sum().sort_values(ascending=False)\n"
   ]
  },
  {
   "cell_type": "markdown",
   "metadata": {},
   "source": [
    "### As of now, we haven't merged any data from the SQLite database (im.db) yet.\n",
    "We’ve only merged:\n",
    "\n",
    "- bom.movie_gross.csv.gz → bom_clean\n",
    "\n",
    "- tn.movie_budgets.csv.gz → tn_budgets_clean\n",
    "\n",
    "- tmdb.movies.csv.gz → tmdb_clean\n",
    "\n",
    "- rt.movie_info.tsv.gz → rt_info_clean\n",
    "\n",
    "\n",
    "### Let's Now Include Data from the im.db Database Before Saving\n",
    "- We'll extract and merge the most relevant tables:\n",
    "\n",
    "- movie_basics — contains primary movie info (primary_title, genres, runtime_minutes)\n",
    "\n",
    "- movie_ratings — contains average_rating, num_votes\n",
    "\n",
    "- principals or others — optional (for deeper analysis)\n",
    "\n",
    "### Cell 5A: Connect to the SQLite DB and Load Key Tables\n",
    "\n"
   ]
  },
  {
   "cell_type": "code",
   "execution_count": 23,
   "metadata": {},
   "outputs": [],
   "source": [
    "# Connect to the SQLite database\n",
    "conn = sqlite3.connect('datasets/im.db')\n",
    "\n",
    "# Load main tables\n",
    "movie_basics = pd.read_sql(\"SELECT * FROM movie_basics\", conn)\n",
    "movie_ratings = pd.read_sql(\"SELECT * FROM movie_ratings\", conn)\n"
   ]
  },
  {
   "cell_type": "markdown",
   "metadata": {},
   "source": [
    "### Cell 5B: Clean and Prepare the DB Tables for Merging"
   ]
  },
  {
   "cell_type": "code",
   "execution_count": 24,
   "metadata": {},
   "outputs": [
    {
     "data": {
      "text/html": [
       "<div>\n",
       "<style scoped>\n",
       "    .dataframe tbody tr th:only-of-type {\n",
       "        vertical-align: middle;\n",
       "    }\n",
       "\n",
       "    .dataframe tbody tr th {\n",
       "        vertical-align: top;\n",
       "    }\n",
       "\n",
       "    .dataframe thead th {\n",
       "        text-align: right;\n",
       "    }\n",
       "</style>\n",
       "<table border=\"1\" class=\"dataframe\">\n",
       "  <thead>\n",
       "    <tr style=\"text-align: right;\">\n",
       "      <th></th>\n",
       "      <th>movie_title</th>\n",
       "      <th>genres</th>\n",
       "      <th>runtime_minutes</th>\n",
       "      <th>imdb_rating</th>\n",
       "      <th>imdb_num_votes</th>\n",
       "    </tr>\n",
       "  </thead>\n",
       "  <tbody>\n",
       "    <tr>\n",
       "      <th>0</th>\n",
       "      <td>Sunghursh</td>\n",
       "      <td>Action,Crime,Drama</td>\n",
       "      <td>175.0</td>\n",
       "      <td>8.3</td>\n",
       "      <td>31.0</td>\n",
       "    </tr>\n",
       "    <tr>\n",
       "      <th>1</th>\n",
       "      <td>One Day Before the Rainy Season</td>\n",
       "      <td>Biography,Drama</td>\n",
       "      <td>114.0</td>\n",
       "      <td>8.9</td>\n",
       "      <td>559.0</td>\n",
       "    </tr>\n",
       "    <tr>\n",
       "      <th>2</th>\n",
       "      <td>The Other Side of the Wind</td>\n",
       "      <td>Drama</td>\n",
       "      <td>122.0</td>\n",
       "      <td>6.4</td>\n",
       "      <td>20.0</td>\n",
       "    </tr>\n",
       "    <tr>\n",
       "      <th>3</th>\n",
       "      <td>Sabse Bada Sukh</td>\n",
       "      <td>Comedy,Drama</td>\n",
       "      <td>NaN</td>\n",
       "      <td>4.2</td>\n",
       "      <td>50352.0</td>\n",
       "    </tr>\n",
       "    <tr>\n",
       "      <th>4</th>\n",
       "      <td>The Wandering Soap Opera</td>\n",
       "      <td>Comedy,Drama,Fantasy</td>\n",
       "      <td>80.0</td>\n",
       "      <td>6.5</td>\n",
       "      <td>21.0</td>\n",
       "    </tr>\n",
       "  </tbody>\n",
       "</table>\n",
       "</div>"
      ],
      "text/plain": [
       "                       movie_title                genres  runtime_minutes  \\\n",
       "0                        Sunghursh    Action,Crime,Drama            175.0   \n",
       "1  One Day Before the Rainy Season       Biography,Drama            114.0   \n",
       "2       The Other Side of the Wind                 Drama            122.0   \n",
       "3                  Sabse Bada Sukh          Comedy,Drama              NaN   \n",
       "4         The Wandering Soap Opera  Comedy,Drama,Fantasy             80.0   \n",
       "\n",
       "   imdb_rating  imdb_num_votes  \n",
       "0          8.3            31.0  \n",
       "1          8.9           559.0  \n",
       "2          6.4            20.0  \n",
       "3          4.2         50352.0  \n",
       "4          6.5            21.0  "
      ]
     },
     "execution_count": 24,
     "metadata": {},
     "output_type": "execute_result"
    }
   ],
   "source": [
    "# Prepare movie_basics\n",
    "basics_clean = movie_basics[['primary_title', 'genres', 'runtime_minutes']].copy()\n",
    "basics_clean.rename(columns={'primary_title': 'movie_title'}, inplace=True)\n",
    "\n",
    "# Prepare movie_ratings\n",
    "ratings_clean = movie_ratings[['averagerating', 'numvotes']].copy()\n",
    "ratings_clean.columns = ['imdb_rating', 'imdb_num_votes']\n",
    "\n",
    "# Since ratings has same index as basics, we combine them first\n",
    "imdb_combined = pd.concat([basics_clean, ratings_clean], axis=1)\n",
    "imdb_combined.head()\n"
   ]
  },
  {
   "cell_type": "markdown",
   "metadata": {},
   "source": [
    "## Cell 5C: Merge with Existing Master Dataset"
   ]
  },
  {
   "cell_type": "code",
   "execution_count": 25,
   "metadata": {},
   "outputs": [
    {
     "data": {
      "text/html": [
       "<div>\n",
       "<style scoped>\n",
       "    .dataframe tbody tr th:only-of-type {\n",
       "        vertical-align: middle;\n",
       "    }\n",
       "\n",
       "    .dataframe tbody tr th {\n",
       "        vertical-align: top;\n",
       "    }\n",
       "\n",
       "    .dataframe thead th {\n",
       "        text-align: right;\n",
       "    }\n",
       "</style>\n",
       "<table border=\"1\" class=\"dataframe\">\n",
       "  <thead>\n",
       "    <tr style=\"text-align: right;\">\n",
       "      <th></th>\n",
       "      <th>movie_title</th>\n",
       "      <th>domestic_gross</th>\n",
       "      <th>foreign_gross</th>\n",
       "      <th>year</th>\n",
       "      <th>production_budget</th>\n",
       "      <th>worldwide_gross</th>\n",
       "      <th>release_date</th>\n",
       "      <th>tmdb_id</th>\n",
       "      <th>popularity</th>\n",
       "      <th>vote_average</th>\n",
       "      <th>vote_count</th>\n",
       "      <th>rating</th>\n",
       "      <th>genre</th>\n",
       "      <th>studio</th>\n",
       "      <th>theater_date</th>\n",
       "      <th>runtime</th>\n",
       "      <th>genres</th>\n",
       "      <th>runtime_minutes</th>\n",
       "      <th>imdb_rating</th>\n",
       "      <th>imdb_num_votes</th>\n",
       "    </tr>\n",
       "  </thead>\n",
       "  <tbody>\n",
       "    <tr>\n",
       "      <th>0</th>\n",
       "      <td>Toy Story 3</td>\n",
       "      <td>415000000.0</td>\n",
       "      <td>652000000</td>\n",
       "      <td>2010.0</td>\n",
       "      <td>$200,000,000</td>\n",
       "      <td>$1,068,879,522</td>\n",
       "      <td>Jun 18, 2010</td>\n",
       "      <td>10193.0</td>\n",
       "      <td>24.445</td>\n",
       "      <td>7.7</td>\n",
       "      <td>8340.0</td>\n",
       "      <td>NaN</td>\n",
       "      <td>NaN</td>\n",
       "      <td>NaN</td>\n",
       "      <td>NaN</td>\n",
       "      <td>NaN</td>\n",
       "      <td>Adventure,Animation,Comedy</td>\n",
       "      <td>103.0</td>\n",
       "      <td>6.1</td>\n",
       "      <td>160.0</td>\n",
       "    </tr>\n",
       "    <tr>\n",
       "      <th>1</th>\n",
       "      <td>Alice in Wonderland (2010)</td>\n",
       "      <td>334200000.0</td>\n",
       "      <td>691300000</td>\n",
       "      <td>2010.0</td>\n",
       "      <td>NaN</td>\n",
       "      <td>NaN</td>\n",
       "      <td>NaN</td>\n",
       "      <td>NaN</td>\n",
       "      <td>NaN</td>\n",
       "      <td>NaN</td>\n",
       "      <td>NaN</td>\n",
       "      <td>NaN</td>\n",
       "      <td>NaN</td>\n",
       "      <td>NaN</td>\n",
       "      <td>NaN</td>\n",
       "      <td>NaN</td>\n",
       "      <td>NaN</td>\n",
       "      <td>NaN</td>\n",
       "      <td>NaN</td>\n",
       "      <td>NaN</td>\n",
       "    </tr>\n",
       "    <tr>\n",
       "      <th>2</th>\n",
       "      <td>Harry Potter and the Deathly Hallows Part 1</td>\n",
       "      <td>296000000.0</td>\n",
       "      <td>664300000</td>\n",
       "      <td>2010.0</td>\n",
       "      <td>NaN</td>\n",
       "      <td>NaN</td>\n",
       "      <td>NaN</td>\n",
       "      <td>NaN</td>\n",
       "      <td>NaN</td>\n",
       "      <td>NaN</td>\n",
       "      <td>NaN</td>\n",
       "      <td>NaN</td>\n",
       "      <td>NaN</td>\n",
       "      <td>NaN</td>\n",
       "      <td>NaN</td>\n",
       "      <td>NaN</td>\n",
       "      <td>NaN</td>\n",
       "      <td>NaN</td>\n",
       "      <td>NaN</td>\n",
       "      <td>NaN</td>\n",
       "    </tr>\n",
       "    <tr>\n",
       "      <th>3</th>\n",
       "      <td>Inception</td>\n",
       "      <td>292600000.0</td>\n",
       "      <td>535700000</td>\n",
       "      <td>2010.0</td>\n",
       "      <td>$160,000,000</td>\n",
       "      <td>$835,524,642</td>\n",
       "      <td>Jul 16, 2010</td>\n",
       "      <td>27205.0</td>\n",
       "      <td>27.920</td>\n",
       "      <td>8.3</td>\n",
       "      <td>22186.0</td>\n",
       "      <td>NaN</td>\n",
       "      <td>NaN</td>\n",
       "      <td>NaN</td>\n",
       "      <td>NaN</td>\n",
       "      <td>NaN</td>\n",
       "      <td>Action,Adventure,Sci-Fi</td>\n",
       "      <td>148.0</td>\n",
       "      <td>8.6</td>\n",
       "      <td>7.0</td>\n",
       "    </tr>\n",
       "    <tr>\n",
       "      <th>4</th>\n",
       "      <td>Shrek Forever After</td>\n",
       "      <td>238700000.0</td>\n",
       "      <td>513900000</td>\n",
       "      <td>2010.0</td>\n",
       "      <td>$165,000,000</td>\n",
       "      <td>$756,244,673</td>\n",
       "      <td>May 21, 2010</td>\n",
       "      <td>10192.0</td>\n",
       "      <td>15.041</td>\n",
       "      <td>6.1</td>\n",
       "      <td>3843.0</td>\n",
       "      <td>NaN</td>\n",
       "      <td>NaN</td>\n",
       "      <td>NaN</td>\n",
       "      <td>NaN</td>\n",
       "      <td>NaN</td>\n",
       "      <td>Adventure,Animation,Comedy</td>\n",
       "      <td>93.0</td>\n",
       "      <td>5.2</td>\n",
       "      <td>22.0</td>\n",
       "    </tr>\n",
       "  </tbody>\n",
       "</table>\n",
       "</div>"
      ],
      "text/plain": [
       "                                   movie_title  domestic_gross foreign_gross  \\\n",
       "0                                  Toy Story 3     415000000.0     652000000   \n",
       "1                   Alice in Wonderland (2010)     334200000.0     691300000   \n",
       "2  Harry Potter and the Deathly Hallows Part 1     296000000.0     664300000   \n",
       "3                                    Inception     292600000.0     535700000   \n",
       "4                          Shrek Forever After     238700000.0     513900000   \n",
       "\n",
       "     year production_budget worldwide_gross  release_date  tmdb_id  \\\n",
       "0  2010.0      $200,000,000  $1,068,879,522  Jun 18, 2010  10193.0   \n",
       "1  2010.0               NaN             NaN           NaN      NaN   \n",
       "2  2010.0               NaN             NaN           NaN      NaN   \n",
       "3  2010.0      $160,000,000    $835,524,642  Jul 16, 2010  27205.0   \n",
       "4  2010.0      $165,000,000    $756,244,673  May 21, 2010  10192.0   \n",
       "\n",
       "   popularity  vote_average  vote_count rating genre studio theater_date  \\\n",
       "0      24.445           7.7      8340.0    NaN   NaN    NaN          NaN   \n",
       "1         NaN           NaN         NaN    NaN   NaN    NaN          NaN   \n",
       "2         NaN           NaN         NaN    NaN   NaN    NaN          NaN   \n",
       "3      27.920           8.3     22186.0    NaN   NaN    NaN          NaN   \n",
       "4      15.041           6.1      3843.0    NaN   NaN    NaN          NaN   \n",
       "\n",
       "  runtime                      genres  runtime_minutes  imdb_rating  \\\n",
       "0     NaN  Adventure,Animation,Comedy            103.0          6.1   \n",
       "1     NaN                         NaN              NaN          NaN   \n",
       "2     NaN                         NaN              NaN          NaN   \n",
       "3     NaN     Action,Adventure,Sci-Fi            148.0          8.6   \n",
       "4     NaN  Adventure,Animation,Comedy             93.0          5.2   \n",
       "\n",
       "   imdb_num_votes  \n",
       "0           160.0  \n",
       "1             NaN  \n",
       "2             NaN  \n",
       "3             7.0  \n",
       "4            22.0  "
      ]
     },
     "execution_count": 25,
     "metadata": {},
     "output_type": "execute_result"
    }
   ],
   "source": [
    "# Merge IMDb info using outer join on movie_title\n",
    "master_df = pd.merge(master_df, imdb_combined, on='movie_title', how='outer')\n",
    "master_df.head()\n"
   ]
  },
  {
   "cell_type": "markdown",
   "metadata": {},
   "source": [
    "### Cell 5D: Check for Nulls and Duplicates Again After Merge"
   ]
  },
  {
   "cell_type": "code",
   "execution_count": 26,
   "metadata": {},
   "outputs": [
    {
     "data": {
      "text/plain": [
       "studio               150671\n",
       "theater_date         149964\n",
       "runtime              149635\n",
       "genre                149613\n",
       "rating               149608\n",
       "foreign_gross        149128\n",
       "domestic_gross       147807\n",
       "year                 147779\n",
       "production_budget    145467\n",
       "release_date         145467\n",
       "dtype: int64"
      ]
     },
     "execution_count": 26,
     "metadata": {},
     "output_type": "execute_result"
    }
   ],
   "source": [
    "# Drop duplicates if they came back\n",
    "master_df.drop_duplicates(subset='movie_title', inplace=True)\n",
    "\n",
    "# Check nulls again\n",
    "master_df.isnull().sum().sort_values(ascending=False).head(10)\n"
   ]
  },
  {
   "cell_type": "markdown",
   "metadata": {},
   "source": [
    "## Save the Master Dataset to CSV\n",
    "Let’s save your final dataset to the datasets folder:"
   ]
  },
  {
   "cell_type": "code",
   "execution_count": 27,
   "metadata": {},
   "outputs": [],
   "source": [
    "# Save the final master dataset to CSV\n",
    "master_df.to_csv('datasets/master_movie_dataset.csv', index=False)\n"
   ]
  },
  {
   "cell_type": "markdown",
   "metadata": {},
   "source": [
    "# 4. EXPLORATORY DATA ANALYSIS\n",
    "\n",
    "In this section we aim to understand the overall structure of the `master_movie_dataset.csv` by examining the dataset and  summarizing its main characteristics using statistics and visualizations.\n",
    "\n",
    "**Steps to achieve this:**\n",
    "\n",
    "- Understand the structure and content of the data\n",
    "\n",
    "- Identify missing or inconsistent values\n",
    "\n",
    "- Detect outliers and anomalies\n",
    "\n",
    "- Explore relationships between features\n",
    "\n",
    "- Generate insights that can guide further analysis or modeling\n",
    "\n",
    "We will examine a merged dataset containing movie information from multiple sources such as IMDb, Rotten Tomatoes,The Numbers,Box Office Mojo and TMDB."
   ]
  },
  {
   "cell_type": "markdown",
   "metadata": {},
   "source": [
    "### Step 1: Load the Master Dataset"
   ]
  },
  {
   "cell_type": "code",
   "execution_count": 29,
   "metadata": {},
   "outputs": [
    {
     "name": "stdout",
     "output_type": "stream",
     "text": [
      "Dataset shape: (151165, 20)\n"
     ]
    },
    {
     "name": "stderr",
     "output_type": "stream",
     "text": [
      "C:\\Users\\helle\\anaconda3\\envs\\learn-env\\lib\\site-packages\\IPython\\core\\interactiveshell.py:3145: DtypeWarning: Columns (2,4,5,6,11,12,13,14,15) have mixed types.Specify dtype option on import or set low_memory=False.\n",
      "  has_raised = await self.run_ast_nodes(code_ast.body, cell_name,\n"
     ]
    },
    {
     "data": {
      "text/html": [
       "<div>\n",
       "<style scoped>\n",
       "    .dataframe tbody tr th:only-of-type {\n",
       "        vertical-align: middle;\n",
       "    }\n",
       "\n",
       "    .dataframe tbody tr th {\n",
       "        vertical-align: top;\n",
       "    }\n",
       "\n",
       "    .dataframe thead th {\n",
       "        text-align: right;\n",
       "    }\n",
       "</style>\n",
       "<table border=\"1\" class=\"dataframe\">\n",
       "  <thead>\n",
       "    <tr style=\"text-align: right;\">\n",
       "      <th></th>\n",
       "      <th>movie_title</th>\n",
       "      <th>domestic_gross</th>\n",
       "      <th>foreign_gross</th>\n",
       "      <th>year</th>\n",
       "      <th>production_budget</th>\n",
       "      <th>worldwide_gross</th>\n",
       "      <th>release_date</th>\n",
       "      <th>tmdb_id</th>\n",
       "      <th>popularity</th>\n",
       "      <th>vote_average</th>\n",
       "      <th>vote_count</th>\n",
       "      <th>rating</th>\n",
       "      <th>genre</th>\n",
       "      <th>studio</th>\n",
       "      <th>theater_date</th>\n",
       "      <th>runtime</th>\n",
       "      <th>genres</th>\n",
       "      <th>runtime_minutes</th>\n",
       "      <th>imdb_rating</th>\n",
       "      <th>imdb_num_votes</th>\n",
       "    </tr>\n",
       "  </thead>\n",
       "  <tbody>\n",
       "    <tr>\n",
       "      <th>0</th>\n",
       "      <td>Toy Story 3</td>\n",
       "      <td>415000000.0</td>\n",
       "      <td>652000000</td>\n",
       "      <td>2010.0</td>\n",
       "      <td>$200,000,000</td>\n",
       "      <td>$1,068,879,522</td>\n",
       "      <td>Jun 18, 2010</td>\n",
       "      <td>10193.0</td>\n",
       "      <td>24.445</td>\n",
       "      <td>7.7</td>\n",
       "      <td>8340.0</td>\n",
       "      <td>NaN</td>\n",
       "      <td>NaN</td>\n",
       "      <td>NaN</td>\n",
       "      <td>NaN</td>\n",
       "      <td>NaN</td>\n",
       "      <td>Adventure,Animation,Comedy</td>\n",
       "      <td>103.0</td>\n",
       "      <td>6.1</td>\n",
       "      <td>160.0</td>\n",
       "    </tr>\n",
       "    <tr>\n",
       "      <th>1</th>\n",
       "      <td>Alice in Wonderland (2010)</td>\n",
       "      <td>334200000.0</td>\n",
       "      <td>691300000</td>\n",
       "      <td>2010.0</td>\n",
       "      <td>NaN</td>\n",
       "      <td>NaN</td>\n",
       "      <td>NaN</td>\n",
       "      <td>NaN</td>\n",
       "      <td>NaN</td>\n",
       "      <td>NaN</td>\n",
       "      <td>NaN</td>\n",
       "      <td>NaN</td>\n",
       "      <td>NaN</td>\n",
       "      <td>NaN</td>\n",
       "      <td>NaN</td>\n",
       "      <td>NaN</td>\n",
       "      <td>NaN</td>\n",
       "      <td>NaN</td>\n",
       "      <td>NaN</td>\n",
       "      <td>NaN</td>\n",
       "    </tr>\n",
       "    <tr>\n",
       "      <th>2</th>\n",
       "      <td>Harry Potter and the Deathly Hallows Part 1</td>\n",
       "      <td>296000000.0</td>\n",
       "      <td>664300000</td>\n",
       "      <td>2010.0</td>\n",
       "      <td>NaN</td>\n",
       "      <td>NaN</td>\n",
       "      <td>NaN</td>\n",
       "      <td>NaN</td>\n",
       "      <td>NaN</td>\n",
       "      <td>NaN</td>\n",
       "      <td>NaN</td>\n",
       "      <td>NaN</td>\n",
       "      <td>NaN</td>\n",
       "      <td>NaN</td>\n",
       "      <td>NaN</td>\n",
       "      <td>NaN</td>\n",
       "      <td>NaN</td>\n",
       "      <td>NaN</td>\n",
       "      <td>NaN</td>\n",
       "      <td>NaN</td>\n",
       "    </tr>\n",
       "    <tr>\n",
       "      <th>3</th>\n",
       "      <td>Inception</td>\n",
       "      <td>292600000.0</td>\n",
       "      <td>535700000</td>\n",
       "      <td>2010.0</td>\n",
       "      <td>$160,000,000</td>\n",
       "      <td>$835,524,642</td>\n",
       "      <td>Jul 16, 2010</td>\n",
       "      <td>27205.0</td>\n",
       "      <td>27.920</td>\n",
       "      <td>8.3</td>\n",
       "      <td>22186.0</td>\n",
       "      <td>NaN</td>\n",
       "      <td>NaN</td>\n",
       "      <td>NaN</td>\n",
       "      <td>NaN</td>\n",
       "      <td>NaN</td>\n",
       "      <td>Action,Adventure,Sci-Fi</td>\n",
       "      <td>148.0</td>\n",
       "      <td>8.6</td>\n",
       "      <td>7.0</td>\n",
       "    </tr>\n",
       "    <tr>\n",
       "      <th>4</th>\n",
       "      <td>Shrek Forever After</td>\n",
       "      <td>238700000.0</td>\n",
       "      <td>513900000</td>\n",
       "      <td>2010.0</td>\n",
       "      <td>$165,000,000</td>\n",
       "      <td>$756,244,673</td>\n",
       "      <td>May 21, 2010</td>\n",
       "      <td>10192.0</td>\n",
       "      <td>15.041</td>\n",
       "      <td>6.1</td>\n",
       "      <td>3843.0</td>\n",
       "      <td>NaN</td>\n",
       "      <td>NaN</td>\n",
       "      <td>NaN</td>\n",
       "      <td>NaN</td>\n",
       "      <td>NaN</td>\n",
       "      <td>Adventure,Animation,Comedy</td>\n",
       "      <td>93.0</td>\n",
       "      <td>5.2</td>\n",
       "      <td>22.0</td>\n",
       "    </tr>\n",
       "  </tbody>\n",
       "</table>\n",
       "</div>"
      ],
      "text/plain": [
       "                                   movie_title  domestic_gross foreign_gross  \\\n",
       "0                                  Toy Story 3     415000000.0     652000000   \n",
       "1                   Alice in Wonderland (2010)     334200000.0     691300000   \n",
       "2  Harry Potter and the Deathly Hallows Part 1     296000000.0     664300000   \n",
       "3                                    Inception     292600000.0     535700000   \n",
       "4                          Shrek Forever After     238700000.0     513900000   \n",
       "\n",
       "     year production_budget worldwide_gross  release_date  tmdb_id  \\\n",
       "0  2010.0      $200,000,000  $1,068,879,522  Jun 18, 2010  10193.0   \n",
       "1  2010.0               NaN             NaN           NaN      NaN   \n",
       "2  2010.0               NaN             NaN           NaN      NaN   \n",
       "3  2010.0      $160,000,000    $835,524,642  Jul 16, 2010  27205.0   \n",
       "4  2010.0      $165,000,000    $756,244,673  May 21, 2010  10192.0   \n",
       "\n",
       "   popularity  vote_average  vote_count rating genre studio theater_date  \\\n",
       "0      24.445           7.7      8340.0    NaN   NaN    NaN          NaN   \n",
       "1         NaN           NaN         NaN    NaN   NaN    NaN          NaN   \n",
       "2         NaN           NaN         NaN    NaN   NaN    NaN          NaN   \n",
       "3      27.920           8.3     22186.0    NaN   NaN    NaN          NaN   \n",
       "4      15.041           6.1      3843.0    NaN   NaN    NaN          NaN   \n",
       "\n",
       "  runtime                      genres  runtime_minutes  imdb_rating  \\\n",
       "0     NaN  Adventure,Animation,Comedy            103.0          6.1   \n",
       "1     NaN                         NaN              NaN          NaN   \n",
       "2     NaN                         NaN              NaN          NaN   \n",
       "3     NaN     Action,Adventure,Sci-Fi            148.0          8.6   \n",
       "4     NaN  Adventure,Animation,Comedy             93.0          5.2   \n",
       "\n",
       "   imdb_num_votes  \n",
       "0           160.0  \n",
       "1             NaN  \n",
       "2             NaN  \n",
       "3             7.0  \n",
       "4            22.0  "
      ]
     },
     "execution_count": 29,
     "metadata": {},
     "output_type": "execute_result"
    }
   ],
   "source": [
    "# Load the dataset\n",
    "df = pd.read_csv('datasets/master_movie_dataset.csv')\n",
    "\n",
    "# Display the shape and first few rows\n",
    "print(\"Dataset shape:\", df.shape)\n",
    "df.head()"
   ]
  },
  {
   "cell_type": "markdown",
   "metadata": {},
   "source": [
    "### Step 2: Overview of Columns and Data types\n",
    "\n",
    "This helps us understand which columns are numerical, categorical, and where missing values exist."
   ]
  },
  {
   "cell_type": "code",
   "execution_count": 30,
   "metadata": {},
   "outputs": [
    {
     "name": "stdout",
     "output_type": "stream",
     "text": [
      "<class 'pandas.core.frame.DataFrame'>\n",
      "RangeIndex: 151165 entries, 0 to 151164\n",
      "Data columns (total 20 columns):\n",
      " #   Column             Non-Null Count   Dtype  \n",
      "---  ------             --------------   -----  \n",
      " 0   movie_title        151165 non-null  object \n",
      " 1   domestic_gross     3358 non-null    float64\n",
      " 2   foreign_gross      2037 non-null    object \n",
      " 3   year               3386 non-null    float64\n",
      " 4   production_budget  5698 non-null    object \n",
      " 5   worldwide_gross    5698 non-null    object \n",
      " 6   release_date       5698 non-null    object \n",
      " 7   tmdb_id            24688 non-null   float64\n",
      " 8   popularity         24688 non-null   float64\n",
      " 9   vote_average       24688 non-null   float64\n",
      " 10  vote_count         24688 non-null   float64\n",
      " 11  rating             1557 non-null    object \n",
      " 12  genre              1552 non-null    object \n",
      " 13  studio             494 non-null     object \n",
      " 14  theater_date       1201 non-null    object \n",
      " 15  runtime            1530 non-null    object \n",
      " 16  genres             131180 non-null  object \n",
      " 17  runtime_minutes    106598 non-null  float64\n",
      " 18  imdb_rating        70310 non-null   float64\n",
      " 19  imdb_num_votes     70310 non-null   float64\n",
      "dtypes: float64(9), object(11)\n",
      "memory usage: 23.1+ MB\n"
     ]
    }
   ],
   "source": [
    "# Column names and data types\n",
    "df.info()"
   ]
  },
  {
   "cell_type": "markdown",
   "metadata": {},
   "source": [
    "### Step 3: Summary Statistics"
   ]
  },
  {
   "cell_type": "code",
   "execution_count": 31,
   "metadata": {},
   "outputs": [
    {
     "data": {
      "text/html": [
       "<div>\n",
       "<style scoped>\n",
       "    .dataframe tbody tr th:only-of-type {\n",
       "        vertical-align: middle;\n",
       "    }\n",
       "\n",
       "    .dataframe tbody tr th {\n",
       "        vertical-align: top;\n",
       "    }\n",
       "\n",
       "    .dataframe thead th {\n",
       "        text-align: right;\n",
       "    }\n",
       "</style>\n",
       "<table border=\"1\" class=\"dataframe\">\n",
       "  <thead>\n",
       "    <tr style=\"text-align: right;\">\n",
       "      <th></th>\n",
       "      <th>domestic_gross</th>\n",
       "      <th>year</th>\n",
       "      <th>tmdb_id</th>\n",
       "      <th>popularity</th>\n",
       "      <th>vote_average</th>\n",
       "      <th>vote_count</th>\n",
       "      <th>runtime_minutes</th>\n",
       "      <th>imdb_rating</th>\n",
       "      <th>imdb_num_votes</th>\n",
       "    </tr>\n",
       "  </thead>\n",
       "  <tbody>\n",
       "    <tr>\n",
       "      <th>count</th>\n",
       "      <td>3.358000e+03</td>\n",
       "      <td>3386.000000</td>\n",
       "      <td>24688.000000</td>\n",
       "      <td>24688.000000</td>\n",
       "      <td>24688.000000</td>\n",
       "      <td>24688.000000</td>\n",
       "      <td>106598.000000</td>\n",
       "      <td>70310.000000</td>\n",
       "      <td>7.031000e+04</td>\n",
       "    </tr>\n",
       "    <tr>\n",
       "      <th>mean</th>\n",
       "      <td>2.875439e+07</td>\n",
       "      <td>2013.957177</td>\n",
       "      <td>292050.796662</td>\n",
       "      <td>3.008331</td>\n",
       "      <td>5.983052</td>\n",
       "      <td>173.939606</td>\n",
       "      <td>86.186289</td>\n",
       "      <td>6.335036</td>\n",
       "      <td>3.501494e+03</td>\n",
       "    </tr>\n",
       "    <tr>\n",
       "      <th>std</th>\n",
       "      <td>6.699064e+07</td>\n",
       "      <td>2.477955</td>\n",
       "      <td>154978.956063</td>\n",
       "      <td>4.200146</td>\n",
       "      <td>1.868211</td>\n",
       "      <td>896.784914</td>\n",
       "      <td>172.111139</td>\n",
       "      <td>1.474287</td>\n",
       "      <td>3.024801e+04</td>\n",
       "    </tr>\n",
       "    <tr>\n",
       "      <th>min</th>\n",
       "      <td>1.000000e+02</td>\n",
       "      <td>2010.000000</td>\n",
       "      <td>27.000000</td>\n",
       "      <td>0.600000</td>\n",
       "      <td>0.000000</td>\n",
       "      <td>1.000000</td>\n",
       "      <td>1.000000</td>\n",
       "      <td>1.000000</td>\n",
       "      <td>5.000000e+00</td>\n",
       "    </tr>\n",
       "    <tr>\n",
       "      <th>25%</th>\n",
       "      <td>1.200000e+05</td>\n",
       "      <td>2012.000000</td>\n",
       "      <td>150201.750000</td>\n",
       "      <td>0.600000</td>\n",
       "      <td>5.000000</td>\n",
       "      <td>1.000000</td>\n",
       "      <td>70.000000</td>\n",
       "      <td>5.500000</td>\n",
       "      <td>1.400000e+01</td>\n",
       "    </tr>\n",
       "    <tr>\n",
       "      <th>50%</th>\n",
       "      <td>1.400000e+06</td>\n",
       "      <td>2014.000000</td>\n",
       "      <td>303294.000000</td>\n",
       "      <td>1.310500</td>\n",
       "      <td>6.000000</td>\n",
       "      <td>5.000000</td>\n",
       "      <td>86.000000</td>\n",
       "      <td>6.500000</td>\n",
       "      <td>4.900000e+01</td>\n",
       "    </tr>\n",
       "    <tr>\n",
       "      <th>75%</th>\n",
       "      <td>2.790000e+07</td>\n",
       "      <td>2016.000000</td>\n",
       "      <td>419055.000000</td>\n",
       "      <td>3.412000</td>\n",
       "      <td>7.000000</td>\n",
       "      <td>25.000000</td>\n",
       "      <td>99.000000</td>\n",
       "      <td>7.400000</td>\n",
       "      <td>2.830000e+02</td>\n",
       "    </tr>\n",
       "    <tr>\n",
       "      <th>max</th>\n",
       "      <td>9.367000e+08</td>\n",
       "      <td>2018.000000</td>\n",
       "      <td>608444.000000</td>\n",
       "      <td>80.773000</td>\n",
       "      <td>10.000000</td>\n",
       "      <td>22186.000000</td>\n",
       "      <td>51420.000000</td>\n",
       "      <td>10.000000</td>\n",
       "      <td>1.841066e+06</td>\n",
       "    </tr>\n",
       "  </tbody>\n",
       "</table>\n",
       "</div>"
      ],
      "text/plain": [
       "       domestic_gross         year        tmdb_id    popularity  vote_average  \\\n",
       "count    3.358000e+03  3386.000000   24688.000000  24688.000000  24688.000000   \n",
       "mean     2.875439e+07  2013.957177  292050.796662      3.008331      5.983052   \n",
       "std      6.699064e+07     2.477955  154978.956063      4.200146      1.868211   \n",
       "min      1.000000e+02  2010.000000      27.000000      0.600000      0.000000   \n",
       "25%      1.200000e+05  2012.000000  150201.750000      0.600000      5.000000   \n",
       "50%      1.400000e+06  2014.000000  303294.000000      1.310500      6.000000   \n",
       "75%      2.790000e+07  2016.000000  419055.000000      3.412000      7.000000   \n",
       "max      9.367000e+08  2018.000000  608444.000000     80.773000     10.000000   \n",
       "\n",
       "         vote_count  runtime_minutes   imdb_rating  imdb_num_votes  \n",
       "count  24688.000000    106598.000000  70310.000000    7.031000e+04  \n",
       "mean     173.939606        86.186289      6.335036    3.501494e+03  \n",
       "std      896.784914       172.111139      1.474287    3.024801e+04  \n",
       "min        1.000000         1.000000      1.000000    5.000000e+00  \n",
       "25%        1.000000        70.000000      5.500000    1.400000e+01  \n",
       "50%        5.000000        86.000000      6.500000    4.900000e+01  \n",
       "75%       25.000000        99.000000      7.400000    2.830000e+02  \n",
       "max    22186.000000     51420.000000     10.000000    1.841066e+06  "
      ]
     },
     "execution_count": 31,
     "metadata": {},
     "output_type": "execute_result"
    }
   ],
   "source": [
    "#summary statistics for numeric columns\n",
    "df.describe()"
   ]
  },
  {
   "cell_type": "markdown",
   "metadata": {},
   "source": [
    "### Step 4: Check for missing Data"
   ]
  },
  {
   "cell_type": "code",
   "execution_count": 32,
   "metadata": {},
   "outputs": [
    {
     "data": {
      "text/plain": [
       "studio               150671\n",
       "theater_date         149964\n",
       "runtime              149635\n",
       "genre                149613\n",
       "rating               149608\n",
       "foreign_gross        149128\n",
       "domestic_gross       147807\n",
       "year                 147779\n",
       "production_budget    145467\n",
       "release_date         145467\n",
       "worldwide_gross      145467\n",
       "vote_average         126477\n",
       "vote_count           126477\n",
       "popularity           126477\n",
       "tmdb_id              126477\n",
       "imdb_num_votes        80855\n",
       "imdb_rating           80855\n",
       "runtime_minutes       44567\n",
       "genres                19985\n",
       "dtype: int64"
      ]
     },
     "execution_count": 32,
     "metadata": {},
     "output_type": "execute_result"
    }
   ],
   "source": [
    "# Count of missing values per column\n",
    "missing_values = df.isnull().sum().sort_values(ascending=False)\n",
    "\n",
    "# Show only columns with missing data\n",
    "missing_values[missing_values > 0]"
   ]
  },
  {
   "cell_type": "code",
   "execution_count": 33,
   "metadata": {},
   "outputs": [
    {
     "data": {
      "image/png": "[encoded data removed]",
      "text/plain": [
       "<Figure size 720x576 with 1 Axes>"
      ]
     },
     "metadata": {
      "needs_background": "light"
     },
     "output_type": "display_data"
    }
   ],
   "source": [
    "# visualize the missing data\n",
    "\n",
    "# Plot top 20 columns with missing values\n",
    "missing_values.head(20).plot(kind='barh', figsize=(10, 8), title='Top Missing Fields')\n",
    "plt.gca().invert_yaxis()\n",
    "plt.xlabel('Missing Values')\n",
    "plt.show()"
   ]
  },
  {
   "cell_type": "markdown",
   "metadata": {},
   "source": [
    "#### Interpretation\n",
    "\n",
    "The top 10 columns (like studio, theater_date, runtime, genre, etc.) each have over 140,000 missing values, indicating that a significant portion of the dataset lacks this information.\n",
    "\n",
    "Columns such as:studio,theater_date,runtime,genre and rating are severely incomplete, likely because many entries came from sources that didn’t provide these details (e.g., IMDb might not list theater release dates for all entries).\n",
    "\n",
    "Mid-level missingness is observed in:vote_count, vote_average, popularity, and tmdb_id\n",
    "These are primarily from TMDb, so their absence suggests the TMDb data didn’t cover all films in the master set.\n",
    "\n",
    "The least missing columns:genres, runtime_minutes, imdb_rating, and imdb_num_votes\n",
    "These were likely better covered by the IMDb data and cleaned properly.\n",
    "\n",
    "movie_title has zero missing values, which is expected and important, since it's the key used for merging datasets."
   ]
  },
  {
   "cell_type": "markdown",
   "metadata": {},
   "source": [
    "### Step 5: Clean financial columns\n",
    "\n",
    "Some monetary values are stored as strings with $ and commas. Let's clean those."
   ]
  },
  {
   "cell_type": "code",
   "execution_count": 35,
   "metadata": {},
   "outputs": [],
   "source": [
    "# Clean dollar-formatted columns\n",
    "def clean_money(series):\n",
    "    return series.replace('[\\$,]', '', regex=True).astype(float)\n",
    "\n",
    "money_cols = ['production_budget', 'worldwide_gross', 'domestic_gross', 'foreign_gross']\n",
    "for col in money_cols:\n",
    "    df[col] = clean_money(df[col])"
   ]
  },
  {
   "cell_type": "markdown",
   "metadata": {},
   "source": [
    "### Step 6: Drop Duplicates and Confirm"
   ]
  },
  {
   "cell_type": "code",
   "execution_count": 36,
   "metadata": {},
   "outputs": [
    {
     "name": "stdout",
     "output_type": "stream",
     "text": [
      "Shape after removing duplicates: (151165, 20)\n"
     ]
    }
   ],
   "source": [
    "# Drop duplicates based on movie_title\n",
    "df.drop_duplicates(subset='movie_title', inplace=True)\n",
    "\n",
    "# Confirm shape\n",
    "print(\"Shape after removing duplicates:\", df.shape)"
   ]
  },
  {
   "cell_type": "markdown",
   "metadata": {},
   "source": [
    "### Step 7: Correlation Heatmap\n",
    "Let’s check how numerical features relate to each other"
   ]
  },
  {
   "cell_type": "code",
   "execution_count": 38,
   "metadata": {},
   "outputs": [
    {
     "data": {
      "image/png": "[encoded data removed]",
      "text/plain": [
       "<Figure size 720x576 with 2 Axes>"
      ]
     },
     "metadata": {
      "needs_background": "light"
     },
     "output_type": "display_data"
    }
   ],
   "source": [
    "# Select only numeric columns for correlation\n",
    "numeric_df = df.select_dtypes(include='number')\n",
    "\n",
    "# Plot correlation heatmap\n",
    "plt.figure(figsize=(10, 8))\n",
    "sns.heatmap(numeric_df.corr(), annot=True, cmap='coolwarm', fmt=\".2f\")\n",
    "plt.title('Correlation Between Numeric Features')\n",
    "plt.show()"
   ]
  },
  {
   "cell_type": "markdown",
   "metadata": {},
   "source": [
    "### Correlation Heatmap Interpretation\n",
    "This heatmap visualizes the correlation between various numeric features in the movie dataset. Key findings include:\n",
    "\n",
    "#### Revenue Relationships\n",
    "Domestic Gross & Worldwide Gross: Very strong correlation (0.94), indicating domestic revenue heavily contributes to global earnings.\n",
    "\n",
    "Foreign Gross & Worldwide Gross: Also strongly correlated (0.90), meaning both domestic and foreign markets are crucial for total revenue.\n",
    "\n",
    "Production Budget is moderately correlated with both:\n",
    "\n",
    "Domestic Gross: 0.70\n",
    "\n",
    "Worldwide Gross: 0.75\n",
    "Suggesting higher budgets often lead to higher returns, but not always proportionally.\n",
    "\n",
    "#### Popularity and Voting Patterns\n",
    "Popularity correlates:\n",
    "\n",
    "Strongly with Vote Count (0.68)\n",
    "\n",
    "Moderately with Domestic/Foreign Gross and Worldwide Gross (~0.58-0.60)\n",
    "This implies that popular films tend to earn more and receive more audience engagement.\n",
    "\n",
    "Vote Count is also correlated with:\n",
    "\n",
    "Worldwide Gross (0.74)\n",
    "\n",
    "Production Budget (0.63)\n",
    "\n",
    "Domestic Gross (0.75)\n",
    "Suggesting that commercially successful movies receive more votes.\n",
    "\n",
    "#### IMDb Ratings\n",
    "Surprisingly, IMDb Rating has very weak correlations with:\n",
    "\n",
    "Gross Revenue (all < 0.10)\n",
    "\n",
    "Vote Count and Popularity\n",
    "This suggests audience ratings are relatively independent of commercial success.\n",
    "\n",
    "#### Other Observations\n",
    "Runtime has weak to moderate positive correlations with:\n",
    "\n",
    "Vote Count (0.20)\n",
    "\n",
    "Production Budget (0.30)\n",
    "But minimal correlation with revenues or ratings.\n",
    "\n",
    "TMDb ID and Year show no meaningful correlations and likely serve as identifiers or time markers rather than predictors."
   ]
  },
  {
   "cell_type": "markdown",
   "metadata": {},
   "source": [
    "# Summary\n",
    "\n",
    "At this point, we’ve:\n",
    "\n",
    "- Loaded and explored the dataset\n",
    "\n",
    "- Identified and visualized missing data\n",
    "\n",
    "- Cleaned financial fields\n",
    "\n",
    "- Removed duplicates\n",
    "\n",
    "- Explored correlations"
   ]
  },
  {
   "cell_type": "markdown",
   "metadata": {},
   "source": [
    "### Step 8: Visual Analysis by Genre\n",
    "\n",
    "We'll explore how genres are distributed and which genres are most common in the dataset."
   ]
  },
  {
   "cell_type": "code",
   "execution_count": 39,
   "metadata": {},
   "outputs": [
    {
     "data": {
      "image/png": "[encoded data removed]",
      "text/plain": [
       "<Figure size 864x432 with 1 Axes>"
      ]
     },
     "metadata": {
      "needs_background": "light"
     },
     "output_type": "display_data"
    }
   ],
   "source": [
    "# Count the top 15 genres\n",
    "top_genres = df['genres'].dropna().str.split(',').explode().value_counts().head(15)\n",
    "\n",
    "# Plot the genre distribution\n",
    "plt.figure(figsize=(12, 6))\n",
    "sns.barplot(x=top_genres.values, y=top_genres.index, palette='viridis')\n",
    "plt.title('Top 15 Most Common Genres')\n",
    "plt.xlabel('Number of Movies')\n",
    "plt.ylabel('Genre')\n",
    "plt.tight_layout()\n",
    "plt.show()"
   ]
  },
  {
   "cell_type": "markdown",
   "metadata": {},
   "source": [
    "### Top 15 Most Common Movie Genres\n",
    "This bar chart displays the 15 most frequently occurring movie genres in the dataset. The number of movies per genre is shown on the x-axis.\n",
    "\n",
    "#### Key Observations:\n",
    "- Documentary is the most common genre, with nearly 50,000 movies, indicating high production volume, possibly due to lower budget requirements and educational demand.\n",
    "\n",
    "- Drama follows closely, with over 40,000 entries, suggesting it’s a highly favored storytelling format in film production.\n",
    "\n",
    "- Comedy ranks third, with more than 20,000 movies, reflecting its broad audience appeal.\n",
    "\n",
    "- Thriller, Horror, Action, and Romance form a mid-tier group with between 8,000–12,000 movies each, showing consistent but slightly lower popularity.\n",
    "\n",
    "- Genres like Biography, Crime, Adventure, and History have moderate representation, ranging between 5,000–8,000 movies.\n",
    "\n",
    "- Family, Mystery, Music, and Fantasy are the least represented among the top 15 but still significant, each with several thousand entries.\n",
    "\n",
    "#### Implications:\n",
    "- Content creators and studios may prioritize genres like Drama, Comedy, and Documentary due to high audience interest or lower production barriers.\n",
    "\n",
    "- Niche genres such as Music and Fantasy, while less common, may offer unique storytelling opportunities and face less competition."
   ]
  },
  {
   "cell_type": "markdown",
   "metadata": {},
   "source": [
    "### Step 9: Studio Output"
   ]
  },
  {
   "cell_type": "code",
   "execution_count": 40,
   "metadata": {},
   "outputs": [
    {
     "data": {
      "image/png": "[encoded data removed]",
      "text/plain": [
       "<Figure size 864x432 with 1 Axes>"
      ]
     },
     "metadata": {
      "needs_background": "light"
     },
     "output_type": "display_data"
    }
   ],
   "source": [
    "top_studios = df['studio'].value_counts().head(10)\n",
    "\n",
    "plt.figure(figsize=(12, 6))\n",
    "sns.barplot(x=top_studios.values, y=top_studios.index, palette='Set2')\n",
    "plt.title('Top 10 Movie Studios by Number of Movies')\n",
    "plt.xlabel('Number of Movies')\n",
    "plt.ylabel('Studio')\n",
    "plt.tight_layout()\n",
    "plt.show()"
   ]
  },
  {
   "cell_type": "markdown",
   "metadata": {},
   "source": [
    "### Top 10 Movie Studios by Number of Movies\n",
    "This bar chart showcases the 10 studios with the highest number of movies in the dataset. It provides insight into studio-level production volume.\n",
    "\n",
    "#### Key Observations:\n",
    "- Universal Pictures leads with 35+ movies, making it the most prolific studio in this dataset.\n",
    "\n",
    "- Paramount Pictures and 20th Century Fox follow closely, each producing over 25 movies, highlighting their longstanding industry presence.\n",
    "\n",
    "- Sony Pictures Classics, Warner Bros. Pictures, and Sony Pictures also show strong representation, each contributing 15–22 movies.\n",
    "\n",
    "- Columbia Pictures and New Line Cinema are in the 10–12 movie range, reflecting moderate but notable output.\n",
    "\n",
    "- IFC Films and Miramax Films, known for more independent or niche content, round out the top 10 with under 10 movies each.\n",
    "\n",
    "#### Implications:\n",
    "- Major studios like Universal, Paramount, and Fox dominate the dataset, aligning with their market influence and financial resources.\n",
    "\n",
    "- A diverse mix of traditional studios and indie-oriented labels (e.g., IFC, Miramax) signals varied content types and target audiences.\n",
    "\n",
    "- Analyzing production volume alongside revenue or ratings could help identify efficiency or quality leaders"
   ]
  },
  {
   "cell_type": "markdown",
   "metadata": {},
   "source": [
    "### Step 10: Trend by Release Year\n",
    "\n",
    "We'll analyze how many movies are released each year."
   ]
  },
  {
   "cell_type": "code",
   "execution_count": 41,
   "metadata": {},
   "outputs": [
    {
     "data": {
      "image/png": "[encoded data removed]",
      "text/plain": [
       "<Figure size 1008x432 with 1 Axes>"
      ]
     },
     "metadata": {
      "needs_background": "light"
     },
     "output_type": "display_data"
    }
   ],
   "source": [
    "# Drop NA in 'year' and convert to int\n",
    "df_year = df['year'].dropna().astype(int)\n",
    "\n",
    "plt.figure(figsize=(14, 6))\n",
    "sns.histplot(df_year, bins=30, kde=True, color='skyblue')\n",
    "plt.title('Number of Movies Released per Year')\n",
    "plt.xlabel('Release Year')\n",
    "plt.ylabel('Number of Movies')\n",
    "plt.tight_layout()\n",
    "plt.show()"
   ]
  },
  {
   "cell_type": "markdown",
   "metadata": {},
   "source": [
    "### Interpretation of Movies Released per Year (2010–2018)\n",
    "The bar chart above visualizes the number of movies released each year from 2010 to 2018. The bars represent yearly movie counts, while a smooth line trend overlays the chart, providing insight into the general movement over time.\n",
    "\n",
    "#### Key Observations:\n",
    "Growth Period (2010–2015):\n",
    "\n",
    "- The number of movies increased steadily from around 330 in 2010 to a peak of over 450 in 2015.\n",
    "\n",
    "- This suggests a consistent rise in movie production over these years.\n",
    "\n",
    "Peak Years:\n",
    "\n",
    "- 2015 had the highest number of movie releases, followed closely by 2016.\n",
    "\n",
    "- Both years exceeded 430 movies, indicating a production boom.\n",
    "\n",
    "Decline Period (2016–2018):\n",
    "\n",
    "- There is a noticeable decline after 2016, with the number dropping to just over 300 by 2018.\n",
    "\n",
    "- This could imply industry saturation, shifting production strategies, or external influences.\n",
    "\n",
    "Trend Line Insight:\n",
    "\n",
    "- The light blue line confirms the initial upward trend and the subsequent decline, reinforcing the observations seen in the bars.\n",
    "\n",
    "#### Summary:\n",
    "\n",
    "From 2010 to 2015, the film industry experienced a significant increase in output. However, starting in 2016, there was a downward trend in movie releases, with 2018 having one of the lowest counts in the timeframe. This chart effectively captures both the peak and the slowdown of annual movie production over the 9-year period."
   ]
  },
  {
   "cell_type": "markdown",
   "metadata": {},
   "source": [
    "### Step 11: Popularity vs Ratings\n",
    "\n",
    "How does TMDb popularity relate to audience scores? "
   ]
  },
  {
   "cell_type": "code",
   "execution_count": 44,
   "metadata": {},
   "outputs": [
    {
     "data": {
      "image/png": "[encoded data removed]",
      "text/plain": [
       "<Figure size 720x432 with 1 Axes>"
      ]
     },
     "metadata": {
      "needs_background": "light"
     },
     "output_type": "display_data"
    }
   ],
   "source": [
    "# Popularity vs Ratings\n",
    "\n",
    "plt.figure(figsize=(10, 6))\n",
    "sns.scatterplot(\n",
    "    x='popularity',\n",
    "    y='vote_average',\n",
    "    data=df,\n",
    "    alpha=0.5,\n",
    "    hue='vote_count',\n",
    "    palette='coolwarm',\n",
    "    edgecolor=None\n",
    ")\n",
    "plt.title('TMDb Popularity vs Average Rating')\n",
    "plt.xlabel('Popularity')\n",
    "plt.ylabel('Average Rating')\n",
    "plt.legend(title='Vote Count', bbox_to_anchor=(1.05, 1), loc='upper left')\n",
    "plt.tight_layout()\n",
    "plt.show()"
   ]
  },
  {
   "cell_type": "markdown",
   "metadata": {},
   "source": [
    "## TMDb Popularity vs Average Rating\n",
    "This scatter plot illustrates the relationship between movie popularity (based on TMDb metrics) and their average viewer ratings, with the color and size of each point representing the vote count.\n",
    "\n",
    "#### Key Insights:\n",
    "Concentration of Data:\n",
    "\n",
    "- The majority of movies are clustered in the low popularity range (0–20) and have an average rating between 5 and 8.\n",
    "\n",
    "- These movies also tend to have lower vote counts, shown by the denser dark blue markers.\n",
    "\n",
    "Popularity vs Rating:\n",
    "\n",
    "- There's no strong linear correlation between popularity and average rating.\n",
    "\n",
    "- Some less popular movies have very high ratings, and vice versa.\n",
    "\n",
    "High Vote Count Movies:\n",
    "\n",
    "- A few movies with high popularity (40+) and high vote counts (lighter to red hues) generally maintain good ratings (around 7–- 8).\n",
    "\n",
    "These are likely mainstream or blockbuster films.\n",
    "\n",
    "Outliers:\n",
    "\n",
    "- Several outliers appear with very low ratings (below 2) or very high ratings (above 9) but are not necessarily popular or widely voted on.\n",
    "\n",
    "These may represent niche or critically polarizing titles.\n",
    "\n",
    "### Summary:\n",
    "While the scatter plot shows a dense concentration of average-rated, low-popularity movies, there are notable exceptions that combine high popularity, strong ratings, and high vote counts. Overall, popularity does not guarantee high ratings, but popular movies tend to be rated more frequently."
   ]
  },
  {
   "cell_type": "markdown",
   "metadata": {},
   "source": [
    "## Step 12: Hypothesis Testing\n",
    "\n",
    "**Objective**\n",
    "Test whether average IMDb ratings are significantly different across selected genres.\n",
    "\n",
    "- **Null Hypothesis (H₀):** Mean IMDb ratings are the same across all genres.\n",
    "\n",
    "- **Alternative Hypothesis (H₁):** At least one genre has a different mean IMDb rating."
   ]
  },
  {
   "cell_type": "code",
   "execution_count": 47,
   "metadata": {},
   "outputs": [
    {
     "name": "stdout",
     "output_type": "stream",
     "text": [
      "Genres tested: ['Action', 'Comedy', 'Drama', 'Horror', 'Romance']\n",
      "F-statistic: 0.86\n",
      "P-value: 0.4881\n"
     ]
    }
   ],
   "source": [
    "# Select relevant genres\n",
    "genres_to_test = ['Action', 'Comedy', 'Drama', 'Horror', 'Romance']\n",
    "\n",
    "# Prepare groups: list of imdb_rating Series per genre\n",
    "rating_groups = []\n",
    "\n",
    "for genre in genres_to_test:\n",
    "    group = df[df['genres'].str.contains(genre, na=False)]['imdb_rating'].dropna()\n",
    "    rating_groups.append(group)\n",
    "\n",
    "# Run ANOVA\n",
    "f_stat, p_val = f_oneway(*rating_groups)\n",
    "\n",
    "print(\"Genres tested:\", genres_to_test)\n",
    "print(f\"F-statistic: {f_stat:.2f}\")\n",
    "print(f\"P-value: {p_val:.4f}\")"
   ]
  },
  {
   "cell_type": "markdown",
   "metadata": {},
   "source": [
    "#### Interpretation\n",
    "Since the p-value (0.4881) > 0.05, **we fail to reject the null hypothesis.**\n",
    "\n",
    "This means there's no statistically significant difference in average IMDb ratings between the genres tested.\n",
    "\n",
    "In simpler terms:\n",
    "\n",
    "**Based on the data we analyzed, Action, Comedy, Drama, Horror, and Romance movies have similar average IMDb ratings, statistically speaking.**"
   ]
  },
  {
   "cell_type": "code",
   "execution_count": 48,
   "metadata": {},
   "outputs": [
    {
     "data": {
      "image/png": "[encoded data removed]",
      "text/plain": [
       "<Figure size 720x432 with 1 Axes>"
      ]
     },
     "metadata": {
      "needs_background": "light"
     },
     "output_type": "display_data"
    }
   ],
   "source": [
    "#Visual Support\n",
    "#Add a boxplot to visualize rating distributions by genre:\n",
    "# Filter and explode genres for plotting\n",
    "df_genres = df[df['genres'].notna()].copy()\n",
    "df_genres['primary_genre'] = df_genres['genres'].str.extract(f\"({'|'.join(genres_to_test)})\")\n",
    "\n",
    "# Plot\n",
    "plt.figure(figsize=(10, 6))\n",
    "sns.boxplot(data=df_genres[df_genres['primary_genre'].notna()],\n",
    "            x='primary_genre', y='imdb_rating')\n",
    "plt.title('IMDb Rating Distribution by Genre')\n",
    "plt.xlabel('Genre')\n",
    "plt.ylabel('IMDb Rating')\n",
    "plt.show()"
   ]
  },
  {
   "cell_type": "markdown",
   "metadata": {},
   "source": [
    "## IMDb Rating Distribution by Genre\n",
    "The boxplot above visualizes the distribution of IMDb ratings across five different movie genres: Comedy, Action, Drama, Horror, and Romance.\n",
    "\n",
    "### Key Observations:\n",
    "**Overall Rating Range:**\n",
    "\n",
    "- Ratings across all genres range from about 1 to 10.\n",
    "\n",
    "- A number of outliers (shown as dots) exist at the lower end of the rating scale in every genre.\n",
    "\n",
    "**Median Ratings:**\n",
    "\n",
    "- The median rating (middle line in each box) is quite similar across genres, mostly falling between 6 and 7.\n",
    "\n",
    "- This suggests a relatively consistent central rating tendency across different movie genres.\n",
    "\n",
    "**Interquartile Range (IQR):**\n",
    "\n",
    "- The height of each box shows the IQR (middle 50% of ratings), which is also similar across genres, roughly from 5.5 to 7.5.\n",
    "\n",
    "- Drama and Romance genres exhibit a slightly wider spread than Comedy and Horror.\n",
    "\n",
    "**Outliers:**\n",
    "\n",
    "- All genres display a significant number of low-rating outliers (below 4), indicating that some movies received notably poor audience reception.\n",
    "\n",
    "- Romance and Horror appear to have the highest number of low-rating outliers.\n",
    "\n",
    "**Symmetry and Skewness:**\n",
    "\n",
    "The distributions are fairly symmetric, but some genres like Horror show slight negative skew, implying a few higher-rated films might be pulling the average up.\n",
    "\n",
    "### Summary:\n",
    "The IMDb rating distribution is largely consistent across genres, with most movies scoring between 5.5 and 7.5. However, genres like Horror and Romance tend to have more low-rated outliers, which may suggest higher variance in audience reception."
   ]
  },
  {
   "cell_type": "markdown",
   "metadata": {},
   "source": [
    "## Step 13: Perform Independent Samples t-test\n",
    "\n",
    "We'll compare the IMDb ratings for movies in the \"Action\" and \"Drama\" genres."
   ]
  },
  {
   "cell_type": "code",
   "execution_count": 50,
   "metadata": {},
   "outputs": [
    {
     "name": "stdout",
     "output_type": "stream",
     "text": [
      "T-statistic: -0.37\n",
      "P-value: 0.7089\n"
     ]
    }
   ],
   "source": [
    "# Filter dataset by genres\n",
    "action_ratings = df[df['genres'].str.contains('Action', na=False)]['imdb_rating'].dropna()\n",
    "drama_ratings = df[df['genres'].str.contains('Drama', na=False)]['imdb_rating'].dropna()\n",
    "\n",
    "# Perform t-test\n",
    "t_stat, p_value = ttest_ind(action_ratings, drama_ratings, equal_var=False)\n",
    "\n",
    "print(f\"T-statistic: {t_stat:.2f}\")\n",
    "print(f\"P-value: {p_value:.4f}\")"
   ]
  },
  {
   "cell_type": "markdown",
   "metadata": {},
   "source": [
    "### Interpretation\n",
    "**P-value > 0.05**\n",
    "→ This means the difference in average IMDb ratings between Action and Drama movies is not statistically significant.\n",
    "\n",
    "**T-statistic ≈ 0**\n",
    "→ Suggests the difference between the group means is very small.\n",
    "\n",
    "### Conclusion:\n",
    "There is no strong evidence to suggest that Action and Drama movies differ in their average IMDb ratings based on your dataset. Any difference you see is likely due to random variation rather than a real underlying difference."
   ]
  },
  {
   "cell_type": "markdown",
   "metadata": {},
   "source": [
    "## "
   ]
  },
  {
   "cell_type": "markdown",
   "metadata": {},
   "source": [
    "### 5. Visualization."
   ]
  }
 ],
 "metadata": {
  "kernelspec": {
   "display_name": "learn-env",
   "language": "python",
   "name": "python3"
  },
  "language_info": {
   "codemirror_mode": {
    "name": "ipython",
    "version": 3
   },
   "file_extension": ".py",
   "mimetype": "text/x-python",
   "name": "python",
   "nbconvert_exporter": "python",
   "pygments_lexer": "ipython3",
   "version": "3.8.5"
  }
 },
 "nbformat": 4,
 "nbformat_minor": 4
}
