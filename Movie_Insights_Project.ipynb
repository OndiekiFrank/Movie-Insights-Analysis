{
 "cells": [
  {
   "cell_type": "markdown",
   "metadata": {},
   "source": [
    "#  Movie Insights Analysis\n",
    "  \n",
    "**Group Members:** Mathews Wandera, Tinah, Diana, Pacificah, Night, Frank  \n",
    "**Branch Owners:**  \n",
    "- `Mathews-Tableau`  \n",
    "- `Tinah-Presentation`  \n",
    "- `Diana-Data_Preparation`  \n",
    "- `Pacificah-EDA`  \n",
    "- `Night-Visualization`  \n",
    "- `Frank-README`  \n",
    "\n",
    "---\n",
    "\n",
    "### Objective\n",
    "To analyze multiple movie-related datasets from various platforms (IMDb, Rotten Tomatoes, The Numbers, TMDb, and Box Office Mojo) and provide strategic insights to support decision-making in the film industry."
   ]
  },
  {
   "cell_type": "markdown",
   "metadata": {},
   "source": [
    "## 1. Business Understanding\n",
    "\n",
    "### Problem Statement\n",
    "The movie industry produces a vast number of films every year, but only a few turn out to be box office hits or critical successes. Stakeholders—such as producers, distributors, and marketing teams—require data-driven insights to inform their decisions. By analyzing trends in budgets, genres, ratings, and revenues, we aim to uncover factors that contribute to a movie's commercial and critical success.\n",
    "\n",
    "### Project Goal\n",
    "This project seeks to:\n",
    "- Identify the key characteristics of successful movies.\n",
    "- Understand how different platforms rate movies (IMDb, Rotten Tomatoes, etc.).\n",
    "- Analyze financial patterns like budget vs. revenue.\n",
    "- Provide data-driven recommendations for improving the profitability and impact of future productions.\n",
    "\n",
    "### Key Questions\n",
    "- What genres perform best in terms of revenue and ratings?\n",
    "- How do production budgets relate to revenue or critical scores?\n",
    "- Are there specific patterns in release dates that impact success?\n",
    "- What are the most profitable platforms or combinations of features?\n",
    "\n",
    "### Target Audience\n",
    "- Film producers and investors\n",
    "- Distribution and marketing teams\n",
    "- Data-driven creative teams in media\n",
    "- Streaming platform analysts"
   ]
  },
  {
   "cell_type": "markdown",
   "metadata": {},
   "source": [
    "## 2. Data Understanding\n",
    "We'll now systematically explore each dataset to understand:\n",
    "\n",
    "Structure (columns and data types)\n",
    "\n",
    "- Sample data (via .head())\n",
    "\n",
    "- Missing values\n",
    "\n",
    "- Duplicates\n",
    "\n",
    "- Basic statistics (via .describe())\n",
    "\n",
    "We'll do this for:\n",
    "\n",
    "**bom.movie_gross.csv.gz**\n",
    "\n",
    "**rt.movie_info.tsv.gz**\n",
    "\n",
    "**rt.reviews.tsv.gz**\n",
    "\n",
    "**tmdb.movies.csv.gz**\n",
    "\n",
    "**tn.movie_budgets.csv.gz**\n",
    "\n",
    "Key tables from `im.db`: movie_basics, movie_ratings, principals, etc.\n",
    "\n"
   ]
  },
  {
   "cell_type": "code",
   "execution_count": null,
   "metadata": {},
   "outputs": [],
   "source": [
    "import pandas as pd\n",
    "import numpy as np\n",
    "import matplotlib.pyplot as plt\n",
    "import seaborn as sns\n",
    "import sqlite3\n",
    "import zipfile\n",
    "import os"
   ]
  },
  {
   "cell_type": "markdown",
   "metadata": {},
   "source": [
    "## Confirm available files"
   ]
  },
  {
   "cell_type": "code",
   "execution_count": 4,
   "metadata": {},
   "outputs": [
    {
     "name": "stdout",
     "output_type": "stream",
     "text": [
      " Contents of 'datasets':\n",
      "['tmdb.movies.csv.gz', 'im.db.zip', 'rt.movie_info.tsv.gz', '.gitkeep', 'bom.movie_gross.csv.gz', 'rt.reviews.tsv.gz', '.gitignore', 'tn.movie_budgets.csv.gz']\n"
     ]
    }
   ],
   "source": [
    "\n",
    "# Confirm available files\n",
    "print(\" Contents of 'datasets':\")\n",
    "print(os.listdir('datasets'))"
   ]
  },
  {
   "cell_type": "markdown",
   "metadata": {},
   "source": [
    "## Load external CSV/TSV dataset"
   ]
  },
  {
   "cell_type": "code",
   "execution_count": 5,
   "metadata": {},
   "outputs": [],
   "source": [
    "# Load external CSV/TSV datasets\n",
    "bom = pd.read_csv(\"datasets/bom.movie_gross.csv.gz\")\n",
    "rt_info = pd.read_csv(\"datasets/rt.movie_info.tsv.gz\", sep=\"\\t\")\n",
    "rt_reviews = pd.read_csv(\"datasets/rt.reviews.tsv.gz\", sep=\"\\t\", encoding=\"latin1\")  # fixed encoding issue\n",
    "tmdb = pd.read_csv(\"datasets/tmdb.movies.csv.gz\")\n",
    "tn_budgets = pd.read_csv(\"datasets/tn.movie_budgets.csv.gz\")\n"
   ]
  },
  {
   "cell_type": "markdown",
   "metadata": {},
   "source": [
    "## Unzip the im.db.zip"
   ]
  },
  {
   "cell_type": "code",
   "execution_count": 6,
   "metadata": {},
   "outputs": [],
   "source": [
    "if not os.path.exists(\"datasets/im.db\"):\n",
    "    with zipfile.ZipFile(\"datasets/im.db.zip\", 'r') as zip_ref:\n",
    "        zip_ref.extractall(\"datasets\")"
   ]
  },
  {
   "cell_type": "code",
   "execution_count": 7,
   "metadata": {},
   "outputs": [
    {
     "name": "stdout",
     "output_type": "stream",
     "text": [
      "\n",
      " Tables in im.db:\n",
      "            name\n",
      "0   movie_basics\n",
      "1      directors\n",
      "2      known_for\n",
      "3     movie_akas\n",
      "4  movie_ratings\n",
      "5        persons\n",
      "6     principals\n",
      "7        writers\n"
     ]
    }
   ],
   "source": [
    "#Connect to the SQLite database\n",
    "conn = sqlite3.connect(\"datasets/im.db\")\n",
    "\n",
    "# Preview available tables\n",
    "tables = pd.read_sql(\"SELECT name FROM sqlite_master WHERE type='table';\", conn)\n",
    "print(\"\\n Tables in im.db:\")\n",
    "print(tables)"
   ]
  },
  {
   "cell_type": "markdown",
   "metadata": {},
   "source": [
    "## 3. Data Preparation\n",
    "\n",
    "Now that we have successfully loaded all datasets and explored their structure, we'll proceed with data preparation. This involves:\n",
    "\n",
    "- Merging key datasets into a master data table.\n",
    "- Cleaning and standardizing fields.\n",
    "- Saving the final cleaned dataset for EDA and Tableau use.\n"
   ]
  },
  {
   "cell_type": "markdown",
   "metadata": {},
   "source": [
    "### Step 1 — Prepare Individual DataFrames"
   ]
  },
  {
   "cell_type": "code",
   "execution_count": null,
   "metadata": {},
   "outputs": [],
   "source": []
  }
 ],
 "metadata": {
  "kernelspec": {
   "display_name": "Python (learn-env)",
   "language": "python",
   "name": "learn-env"
  },
  "language_info": {
   "codemirror_mode": {
    "name": "ipython",
    "version": 3
   },
   "file_extension": ".py",
   "mimetype": "text/x-python",
   "name": "python",
   "nbconvert_exporter": "python",
   "pygments_lexer": "ipython3",
   "version": "3.8.5"
  }
 },
 "nbformat": 4,
 "nbformat_minor": 4
}
