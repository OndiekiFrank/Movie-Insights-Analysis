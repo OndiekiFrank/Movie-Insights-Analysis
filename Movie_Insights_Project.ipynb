{
 "cells": [
  {
   "cell_type": "markdown",
   "metadata": {},
   "source": [
    "#  Movie Insights Analysis\n",
    "  \n",
    "**Group Members:** Mathews Wandera, Tinah, Diana, Pacificah, Night, Frank  \n",
    "**Branch Owners:**  \n",
    "- `Mathews-Tableau`  \n",
    "- `Tinah-Statistics`  \n",
    "- `Diana-Data_Preparation`  \n",
    "- `Pacificah-EDA`  \n",
    "- `Night-Visualization`  \n",
    "- `Frank-README`  \n",
    "\n",
    "---\n",
    "\n",
    "### Objective\n",
    "To analyze multiple movie-related datasets from various platforms (IMDb, Rotten Tomatoes, The Numbers, TMDb, and Box Office Mojo) and provide strategic insights to support decision-making in the film industry."
   ]
  },
  {
   "cell_type": "markdown",
   "metadata": {},
   "source": [
    "# 1. Business Understanding\n",
    "\n",
    "### Problem Statement\n",
    "The movie industry produces a vast number of films every year, but only a few turn out to be box office hits or critical successes. Stakeholders—such as producers, distributors, and marketing teams—require data-driven insights to inform their decisions. By analyzing trends in budgets, genres, ratings, and revenues, we aim to uncover factors that contribute to a movie's commercial and critical success.\n",
    "\n",
    "### Project Goal\n",
    "This project seeks to:\n",
    "- Identify the key characteristics of successful movies.\n",
    "- Understand how different platforms rate movies (IMDb, Rotten Tomatoes, etc.).\n",
    "- Analyze financial patterns like budget vs. revenue.\n",
    "- Provide data-driven recommendations for improving the profitability and impact of future productions.\n",
    "\n",
    "### Key Questions\n",
    "- What genres perform best in terms of revenue and ratings?\n",
    "- How do production budgets relate to revenue or critical scores?\n",
    "- Are there specific patterns in release dates that impact success?\n",
    "- What are the most profitable platforms or combinations of features?\n",
    "\n",
    "### Target Audience\n",
    "- Film producers and investors\n",
    "- Distribution and marketing teams\n",
    "- Data-driven creative teams in media\n",
    "- Streaming platform analysts"
   ]
  },
  {
   "cell_type": "markdown",
   "metadata": {},
   "source": [
    "# 2. Data Understanding\n",
    "We'll now systematically explore each dataset to understand:\n",
    "\n",
    "Structure (columns and data types)\n",
    "\n",
    "- Sample data (via .head())\n",
    "\n",
    "- Missing values\n",
    "\n",
    "- Duplicates\n",
    "\n",
    "- Basic statistics (via .describe())\n",
    "\n",
    "We'll do this for:\n",
    "\n",
    "**bom.movie_gross.csv.gz**\n",
    "\n",
    "**rt.movie_info.tsv.gz**\n",
    "\n",
    "**rt.reviews.tsv.gz**\n",
    "\n",
    "**tmdb.movies.csv.gz**\n",
    "\n",
    "**tn.movie_budgets.csv.gz**\n",
    "\n",
    "Key tables from `im.db`: movie_basics, movie_ratings, principals, etc.\n",
    "\n",
    "### Entity Relationship Diagram (ERD)\n",
    "\n",
    "![ERD Diagram](images/movie_data_erd.jpeg)\n",
    "\n"
   ]
  },
  {
   "cell_type": "code",
   "execution_count": 2,
   "metadata": {},
   "outputs": [],
   "source": [
    "import pandas as pd\n",
    "import numpy as np\n",
    "import matplotlib.pyplot as plt\n",
    "import seaborn as sns\n",
    "import sqlite3\n",
    "import zipfile\n",
    "import os\n",
    "from scipy.stats import f_oneway\n",
    "from scipy.stats import ttest_ind"
   ]
  },
  {
   "cell_type": "markdown",
   "metadata": {},
   "source": [
    "## Confirm available files"
   ]
  },
  {
   "cell_type": "code",
   "execution_count": 3,
   "metadata": {},
   "outputs": [
    {
     "name": "stdout",
     "output_type": "stream",
     "text": [
      " Contents of 'datasets':\n",
      "['tmdb.movies.csv.gz', 'im.db.zip', 'rt.movie_info.tsv.gz', '.gitkeep', 'master_movie_dataset.csv', 'bom.movie_gross.csv.gz', 'rt.reviews.tsv.gz', '.gitignore', 'tn.movie_budgets.csv.gz']\n"
     ]
    }
   ],
   "source": [
    "\n",
    "# Confirm available files\n",
    "print(\" Contents of 'datasets':\")\n",
    "print(os.listdir('datasets'))"
   ]
  },
  {
   "cell_type": "markdown",
   "metadata": {},
   "source": [
    "## Load external CSV/TSV dataset"
   ]
  },
  {
   "cell_type": "code",
   "execution_count": 4,
   "metadata": {},
   "outputs": [],
   "source": [
    "# Load external CSV/TSV datasets\n",
    "bom = pd.read_csv(\"datasets/bom.movie_gross.csv.gz\")\n",
    "rt_info = pd.read_csv(\"datasets/rt.movie_info.tsv.gz\", sep=\"\\t\")\n",
    "rt_reviews = pd.read_csv(\"datasets/rt.reviews.tsv.gz\", sep=\"\\t\", encoding=\"latin1\")  # fixed encoding issue\n",
    "tmdb = pd.read_csv(\"datasets/tmdb.movies.csv.gz\")\n",
    "tn_budgets = pd.read_csv(\"datasets/tn.movie_budgets.csv.gz\")\n"
   ]
  },
  {
   "cell_type": "markdown",
   "metadata": {},
   "source": [
    "## Unzip the im.db.zip"
   ]
  },
  {
   "cell_type": "code",
   "execution_count": 5,
   "metadata": {},
   "outputs": [],
   "source": [
    "if not os.path.exists(\"datasets/im.db\"):\n",
    "    with zipfile.ZipFile(\"datasets/im.db.zip\", 'r') as zip_ref:\n",
    "        zip_ref.extractall(\"datasets\")"
   ]
  },
  {
   "cell_type": "code",
   "execution_count": 6,
   "metadata": {},
   "outputs": [
    {
     "name": "stdout",
     "output_type": "stream",
     "text": [
      "\n",
      " Tables in im.db:\n",
      "            name\n",
      "0   movie_basics\n",
      "1      directors\n",
      "2      known_for\n",
      "3     movie_akas\n",
      "4  movie_ratings\n",
      "5        persons\n",
      "6     principals\n",
      "7        writers\n"
     ]
    }
   ],
   "source": [
    "#Connect to the SQLite database\n",
    "conn = sqlite3.connect(\"datasets/im.db\")\n",
    "\n",
    "# Preview available tables\n",
    "tables = pd.read_sql(\"SELECT name FROM sqlite_master WHERE type='table';\", conn)\n",
    "print(\"\\n Tables in im.db:\")\n",
    "print(tables)"
   ]
  },
  {
   "cell_type": "markdown",
   "metadata": {},
   "source": [
    "# 3. Data Preparation\n",
    "\n",
    "Now that we have successfully loaded all datasets and explored their structure, we'll proceed with data preparation. This involves:\n",
    "\n",
    "- Merging key datasets into a master data table.\n",
    "- Cleaning and standardizing fields.\n",
    "- Saving the final cleaned dataset for EDA and Tableau use.\n"
   ]
  },
  {
   "cell_type": "markdown",
   "metadata": {},
   "source": [
    "## Step 1 — Prepare Individual DataFrames\n",
    "\n",
    "### 🔹 Step 1: Select and Rename Relevant Columns\n",
    "\n",
    "We’ll simplify each dataset and rename columns for consistency before merging. This ensures our final dataset is clean and easy to work with.\n"
   ]
  },
  {
   "cell_type": "code",
   "execution_count": 7,
   "metadata": {},
   "outputs": [
    {
     "name": "stdout",
     "output_type": "stream",
     "text": [
      "['id', 'synopsis', 'rating', 'genre', 'director', 'writer', 'theater_date', 'dvd_date', 'currency', 'box_office', 'runtime', 'studio']\n"
     ]
    }
   ],
   "source": [
    "# Check column names in Rotten Tomatoes info dataset\n",
    "print(rt_info.columns.tolist())\n"
   ]
  },
  {
   "cell_type": "markdown",
   "metadata": {},
   "source": [
    "### 1: BOM (Box Office Mojo)"
   ]
  },
  {
   "cell_type": "code",
   "execution_count": 8,
   "metadata": {},
   "outputs": [],
   "source": [
    "# BOM dataset (Box Office Mojo)\n",
    "bom_clean = bom[['title', 'domestic_gross', 'foreign_gross', 'year']].copy()\n",
    "bom_clean.rename(columns={'title': 'movie_title'}, inplace=True)\n"
   ]
  },
  {
   "cell_type": "markdown",
   "metadata": {},
   "source": [
    "###  2.TN (The Numbers) Budgets"
   ]
  },
  {
   "cell_type": "code",
   "execution_count": 9,
   "metadata": {},
   "outputs": [],
   "source": [
    "# TN Budgets dataset\n",
    "tn_budgets_clean = tn_budgets[['movie', 'production_budget', 'worldwide_gross', 'release_date']].copy()\n",
    "tn_budgets_clean.rename(columns={'movie': 'movie_title'}, inplace=True)\n"
   ]
  },
  {
   "cell_type": "markdown",
   "metadata": {},
   "source": [
    "### 3: TMDb"
   ]
  },
  {
   "cell_type": "code",
   "execution_count": 10,
   "metadata": {},
   "outputs": [],
   "source": [
    "# TMDb dataset\n",
    "tmdb_clean = tmdb[['title', 'id', 'popularity', 'vote_average', 'vote_count']].copy()\n",
    "tmdb_clean.rename(columns={'title': 'movie_title', 'id': 'tmdb_id'}, inplace=True)\n"
   ]
  },
  {
   "cell_type": "markdown",
   "metadata": {},
   "source": [
    "### 4: Rotten Tomatoes (info)"
   ]
  },
  {
   "cell_type": "code",
   "execution_count": 11,
   "metadata": {},
   "outputs": [],
   "source": [
    "# Rotten Tomatoes info dataset\n",
    "rt_info_clean = rt_info[['genre', 'rating', 'studio', 'theater_date', 'runtime']].copy()\n",
    "\n",
    "# No title column, so we cannot rename to movie_title here — will join later if possible\n"
   ]
  },
  {
   "cell_type": "markdown",
   "metadata": {},
   "source": [
    "## Step 2 – Load Tables from the SQLite Database\n",
    "We'll extract and preview the following key tables:\n",
    "\n",
    "- movie_basics – core movie metadata\n",
    "\n",
    "- movie_ratings – IMDb average rating + votes\n",
    "\n",
    "- principals – cast/crew info\n",
    "\n",
    "- optionally) names, crew, etc., if needed later\n",
    "\n"
   ]
  },
  {
   "cell_type": "markdown",
   "metadata": {},
   "source": [
    "### 5: Connect to the SQLite DB and List Tables"
   ]
  },
  {
   "cell_type": "code",
   "execution_count": 12,
   "metadata": {},
   "outputs": [
    {
     "data": {
      "text/html": [
       "<div>\n",
       "<style scoped>\n",
       "    .dataframe tbody tr th:only-of-type {\n",
       "        vertical-align: middle;\n",
       "    }\n",
       "\n",
       "    .dataframe tbody tr th {\n",
       "        vertical-align: top;\n",
       "    }\n",
       "\n",
       "    .dataframe thead th {\n",
       "        text-align: right;\n",
       "    }\n",
       "</style>\n",
       "<table border=\"1\" class=\"dataframe\">\n",
       "  <thead>\n",
       "    <tr style=\"text-align: right;\">\n",
       "      <th></th>\n",
       "      <th>name</th>\n",
       "    </tr>\n",
       "  </thead>\n",
       "  <tbody>\n",
       "    <tr>\n",
       "      <th>0</th>\n",
       "      <td>movie_basics</td>\n",
       "    </tr>\n",
       "    <tr>\n",
       "      <th>1</th>\n",
       "      <td>directors</td>\n",
       "    </tr>\n",
       "    <tr>\n",
       "      <th>2</th>\n",
       "      <td>known_for</td>\n",
       "    </tr>\n",
       "    <tr>\n",
       "      <th>3</th>\n",
       "      <td>movie_akas</td>\n",
       "    </tr>\n",
       "    <tr>\n",
       "      <th>4</th>\n",
       "      <td>movie_ratings</td>\n",
       "    </tr>\n",
       "    <tr>\n",
       "      <th>5</th>\n",
       "      <td>persons</td>\n",
       "    </tr>\n",
       "    <tr>\n",
       "      <th>6</th>\n",
       "      <td>principals</td>\n",
       "    </tr>\n",
       "    <tr>\n",
       "      <th>7</th>\n",
       "      <td>writers</td>\n",
       "    </tr>\n",
       "  </tbody>\n",
       "</table>\n",
       "</div>"
      ],
      "text/plain": [
       "            name\n",
       "0   movie_basics\n",
       "1      directors\n",
       "2      known_for\n",
       "3     movie_akas\n",
       "4  movie_ratings\n",
       "5        persons\n",
       "6     principals\n",
       "7        writers"
      ]
     },
     "execution_count": 12,
     "metadata": {},
     "output_type": "execute_result"
    }
   ],
   "source": [
    "# Connect to the SQLite database\n",
    "conn = sqlite3.connect('datasets/im.db')\n",
    "\n",
    "# Check available tables\n",
    "tables_query = \"SELECT name FROM sqlite_master WHERE type='table';\"\n",
    "pd.read_sql(tables_query, conn)\n"
   ]
  },
  {
   "cell_type": "markdown",
   "metadata": {},
   "source": [
    "### 6: Load Key Tables into DataFrames"
   ]
  },
  {
   "cell_type": "code",
   "execution_count": 13,
   "metadata": {},
   "outputs": [],
   "source": [
    "# Load movie_basics\n",
    "movie_basics = pd.read_sql(\"SELECT * FROM movie_basics\", conn)\n",
    "\n",
    "# Load movie_ratings\n",
    "movie_ratings = pd.read_sql(\"SELECT * FROM movie_ratings\", conn)\n",
    "\n",
    "# Load principals (optional for later joins with crew/names)\n",
    "principals = pd.read_sql(\"SELECT * FROM principals\", conn)\n"
   ]
  },
  {
   "cell_type": "markdown",
   "metadata": {},
   "source": [
    "### 7: Merge IMDb tables\n",
    "\n",
    "**We merge movie_basics and movie_ratings on movie_id.**"
   ]
  },
  {
   "cell_type": "code",
   "execution_count": 14,
   "metadata": {},
   "outputs": [
    {
     "data": {
      "text/html": [
       "<div>\n",
       "<style scoped>\n",
       "    .dataframe tbody tr th:only-of-type {\n",
       "        vertical-align: middle;\n",
       "    }\n",
       "\n",
       "    .dataframe tbody tr th {\n",
       "        vertical-align: top;\n",
       "    }\n",
       "\n",
       "    .dataframe thead th {\n",
       "        text-align: right;\n",
       "    }\n",
       "</style>\n",
       "<table border=\"1\" class=\"dataframe\">\n",
       "  <thead>\n",
       "    <tr style=\"text-align: right;\">\n",
       "      <th></th>\n",
       "      <th>movie_id</th>\n",
       "      <th>primary_title</th>\n",
       "      <th>original_title</th>\n",
       "      <th>start_year</th>\n",
       "      <th>runtime_minutes</th>\n",
       "      <th>genres</th>\n",
       "      <th>averagerating</th>\n",
       "      <th>numvotes</th>\n",
       "    </tr>\n",
       "  </thead>\n",
       "  <tbody>\n",
       "    <tr>\n",
       "      <th>0</th>\n",
       "      <td>tt0063540</td>\n",
       "      <td>Sunghursh</td>\n",
       "      <td>Sunghursh</td>\n",
       "      <td>2013</td>\n",
       "      <td>175.0</td>\n",
       "      <td>Action,Crime,Drama</td>\n",
       "      <td>7.0</td>\n",
       "      <td>77.0</td>\n",
       "    </tr>\n",
       "    <tr>\n",
       "      <th>1</th>\n",
       "      <td>tt0066787</td>\n",
       "      <td>One Day Before the Rainy Season</td>\n",
       "      <td>Ashad Ka Ek Din</td>\n",
       "      <td>2019</td>\n",
       "      <td>114.0</td>\n",
       "      <td>Biography,Drama</td>\n",
       "      <td>7.2</td>\n",
       "      <td>43.0</td>\n",
       "    </tr>\n",
       "    <tr>\n",
       "      <th>2</th>\n",
       "      <td>tt0069049</td>\n",
       "      <td>The Other Side of the Wind</td>\n",
       "      <td>The Other Side of the Wind</td>\n",
       "      <td>2018</td>\n",
       "      <td>122.0</td>\n",
       "      <td>Drama</td>\n",
       "      <td>6.9</td>\n",
       "      <td>4517.0</td>\n",
       "    </tr>\n",
       "    <tr>\n",
       "      <th>3</th>\n",
       "      <td>tt0069204</td>\n",
       "      <td>Sabse Bada Sukh</td>\n",
       "      <td>Sabse Bada Sukh</td>\n",
       "      <td>2018</td>\n",
       "      <td>NaN</td>\n",
       "      <td>Comedy,Drama</td>\n",
       "      <td>6.1</td>\n",
       "      <td>13.0</td>\n",
       "    </tr>\n",
       "    <tr>\n",
       "      <th>4</th>\n",
       "      <td>tt0100275</td>\n",
       "      <td>The Wandering Soap Opera</td>\n",
       "      <td>La Telenovela Errante</td>\n",
       "      <td>2017</td>\n",
       "      <td>80.0</td>\n",
       "      <td>Comedy,Drama,Fantasy</td>\n",
       "      <td>6.5</td>\n",
       "      <td>119.0</td>\n",
       "    </tr>\n",
       "  </tbody>\n",
       "</table>\n",
       "</div>"
      ],
      "text/plain": [
       "    movie_id                    primary_title              original_title  \\\n",
       "0  tt0063540                        Sunghursh                   Sunghursh   \n",
       "1  tt0066787  One Day Before the Rainy Season             Ashad Ka Ek Din   \n",
       "2  tt0069049       The Other Side of the Wind  The Other Side of the Wind   \n",
       "3  tt0069204                  Sabse Bada Sukh             Sabse Bada Sukh   \n",
       "4  tt0100275         The Wandering Soap Opera       La Telenovela Errante   \n",
       "\n",
       "   start_year  runtime_minutes                genres  averagerating  numvotes  \n",
       "0        2013            175.0    Action,Crime,Drama            7.0      77.0  \n",
       "1        2019            114.0       Biography,Drama            7.2      43.0  \n",
       "2        2018            122.0                 Drama            6.9    4517.0  \n",
       "3        2018              NaN          Comedy,Drama            6.1      13.0  \n",
       "4        2017             80.0  Comedy,Drama,Fantasy            6.5     119.0  "
      ]
     },
     "execution_count": 14,
     "metadata": {},
     "output_type": "execute_result"
    }
   ],
   "source": [
    "# Merge basics and ratings\n",
    "imdb_movies = pd.merge(movie_basics, movie_ratings, how='left', on='movie_id')\n",
    "\n",
    "# Preview merged IMDb data\n",
    "imdb_movies.head()\n"
   ]
  },
  {
   "cell_type": "markdown",
   "metadata": {},
   "source": [
    "## Merging the data\n",
    "Let's proceed step by step to merge the cleaned datasets into one master DataFrame that we'll use for EDA and Tableau.\n",
    "**Step-by-Step Plan**\n",
    "- Ensure all individual datasets are cleaned and renamed\n",
    "\n",
    "- Merge them progressively using movie_title as the key\n",
    "\n",
    "- Handle duplicates and missing values\n",
    "\n",
    "- Save final master dataset to the datasets/ folder\n",
    "\n",
    "### Step 1: Clean and Rename Columns for Merging\n",
    "\n"
   ]
  },
  {
   "cell_type": "code",
   "execution_count": 15,
   "metadata": {},
   "outputs": [
    {
     "data": {
      "text/html": [
       "<div>\n",
       "<style scoped>\n",
       "    .dataframe tbody tr th:only-of-type {\n",
       "        vertical-align: middle;\n",
       "    }\n",
       "\n",
       "    .dataframe tbody tr th {\n",
       "        vertical-align: top;\n",
       "    }\n",
       "\n",
       "    .dataframe thead th {\n",
       "        text-align: right;\n",
       "    }\n",
       "</style>\n",
       "<table border=\"1\" class=\"dataframe\">\n",
       "  <thead>\n",
       "    <tr style=\"text-align: right;\">\n",
       "      <th></th>\n",
       "      <th>movie_title</th>\n",
       "      <th>domestic_gross</th>\n",
       "      <th>foreign_gross</th>\n",
       "      <th>year</th>\n",
       "    </tr>\n",
       "  </thead>\n",
       "  <tbody>\n",
       "    <tr>\n",
       "      <th>0</th>\n",
       "      <td>Toy Story 3</td>\n",
       "      <td>415000000.0</td>\n",
       "      <td>652000000</td>\n",
       "      <td>2010</td>\n",
       "    </tr>\n",
       "    <tr>\n",
       "      <th>1</th>\n",
       "      <td>Alice in Wonderland (2010)</td>\n",
       "      <td>334200000.0</td>\n",
       "      <td>691300000</td>\n",
       "      <td>2010</td>\n",
       "    </tr>\n",
       "    <tr>\n",
       "      <th>2</th>\n",
       "      <td>Harry Potter and the Deathly Hallows Part 1</td>\n",
       "      <td>296000000.0</td>\n",
       "      <td>664300000</td>\n",
       "      <td>2010</td>\n",
       "    </tr>\n",
       "    <tr>\n",
       "      <th>3</th>\n",
       "      <td>Inception</td>\n",
       "      <td>292600000.0</td>\n",
       "      <td>535700000</td>\n",
       "      <td>2010</td>\n",
       "    </tr>\n",
       "    <tr>\n",
       "      <th>4</th>\n",
       "      <td>Shrek Forever After</td>\n",
       "      <td>238700000.0</td>\n",
       "      <td>513900000</td>\n",
       "      <td>2010</td>\n",
       "    </tr>\n",
       "  </tbody>\n",
       "</table>\n",
       "</div>"
      ],
      "text/plain": [
       "                                   movie_title  domestic_gross foreign_gross  \\\n",
       "0                                  Toy Story 3     415000000.0     652000000   \n",
       "1                   Alice in Wonderland (2010)     334200000.0     691300000   \n",
       "2  Harry Potter and the Deathly Hallows Part 1     296000000.0     664300000   \n",
       "3                                    Inception     292600000.0     535700000   \n",
       "4                          Shrek Forever After     238700000.0     513900000   \n",
       "\n",
       "   year  \n",
       "0  2010  \n",
       "1  2010  \n",
       "2  2010  \n",
       "3  2010  \n",
       "4  2010  "
      ]
     },
     "execution_count": 15,
     "metadata": {},
     "output_type": "execute_result"
    }
   ],
   "source": [
    "# BOM dataset: drop unnecessary columns and rename for consistency\n",
    "bom_clean = bom[['title', 'domestic_gross', 'foreign_gross', 'year']].copy()\n",
    "bom_clean.rename(columns={'title': 'movie_title'}, inplace=True)\n",
    "bom_clean.head()\n"
   ]
  },
  {
   "cell_type": "code",
   "execution_count": 16,
   "metadata": {},
   "outputs": [
    {
     "data": {
      "text/html": [
       "<div>\n",
       "<style scoped>\n",
       "    .dataframe tbody tr th:only-of-type {\n",
       "        vertical-align: middle;\n",
       "    }\n",
       "\n",
       "    .dataframe tbody tr th {\n",
       "        vertical-align: top;\n",
       "    }\n",
       "\n",
       "    .dataframe thead th {\n",
       "        text-align: right;\n",
       "    }\n",
       "</style>\n",
       "<table border=\"1\" class=\"dataframe\">\n",
       "  <thead>\n",
       "    <tr style=\"text-align: right;\">\n",
       "      <th></th>\n",
       "      <th>movie_title</th>\n",
       "      <th>production_budget</th>\n",
       "      <th>worldwide_gross</th>\n",
       "      <th>release_date</th>\n",
       "    </tr>\n",
       "  </thead>\n",
       "  <tbody>\n",
       "    <tr>\n",
       "      <th>0</th>\n",
       "      <td>Avatar</td>\n",
       "      <td>$425,000,000</td>\n",
       "      <td>$2,776,345,279</td>\n",
       "      <td>Dec 18, 2009</td>\n",
       "    </tr>\n",
       "    <tr>\n",
       "      <th>1</th>\n",
       "      <td>Pirates of the Caribbean: On Stranger Tides</td>\n",
       "      <td>$410,600,000</td>\n",
       "      <td>$1,045,663,875</td>\n",
       "      <td>May 20, 2011</td>\n",
       "    </tr>\n",
       "    <tr>\n",
       "      <th>2</th>\n",
       "      <td>Dark Phoenix</td>\n",
       "      <td>$350,000,000</td>\n",
       "      <td>$149,762,350</td>\n",
       "      <td>Jun 7, 2019</td>\n",
       "    </tr>\n",
       "    <tr>\n",
       "      <th>3</th>\n",
       "      <td>Avengers: Age of Ultron</td>\n",
       "      <td>$330,600,000</td>\n",
       "      <td>$1,403,013,963</td>\n",
       "      <td>May 1, 2015</td>\n",
       "    </tr>\n",
       "    <tr>\n",
       "      <th>4</th>\n",
       "      <td>Star Wars Ep. VIII: The Last Jedi</td>\n",
       "      <td>$317,000,000</td>\n",
       "      <td>$1,316,721,747</td>\n",
       "      <td>Dec 15, 2017</td>\n",
       "    </tr>\n",
       "  </tbody>\n",
       "</table>\n",
       "</div>"
      ],
      "text/plain": [
       "                                   movie_title production_budget  \\\n",
       "0                                       Avatar      $425,000,000   \n",
       "1  Pirates of the Caribbean: On Stranger Tides      $410,600,000   \n",
       "2                                 Dark Phoenix      $350,000,000   \n",
       "3                      Avengers: Age of Ultron      $330,600,000   \n",
       "4            Star Wars Ep. VIII: The Last Jedi      $317,000,000   \n",
       "\n",
       "  worldwide_gross  release_date  \n",
       "0  $2,776,345,279  Dec 18, 2009  \n",
       "1  $1,045,663,875  May 20, 2011  \n",
       "2    $149,762,350   Jun 7, 2019  \n",
       "3  $1,403,013,963   May 1, 2015  \n",
       "4  $1,316,721,747  Dec 15, 2017  "
      ]
     },
     "execution_count": 16,
     "metadata": {},
     "output_type": "execute_result"
    }
   ],
   "source": [
    "# The Numbers movie budget data\n",
    "tn_budgets_clean = tn_budgets[['movie', 'production_budget', 'worldwide_gross', 'release_date']].copy()\n",
    "tn_budgets_clean.rename(columns={'movie': 'movie_title'}, inplace=True)\n",
    "tn_budgets_clean.head()\n"
   ]
  },
  {
   "cell_type": "code",
   "execution_count": 17,
   "metadata": {},
   "outputs": [
    {
     "data": {
      "text/html": [
       "<div>\n",
       "<style scoped>\n",
       "    .dataframe tbody tr th:only-of-type {\n",
       "        vertical-align: middle;\n",
       "    }\n",
       "\n",
       "    .dataframe tbody tr th {\n",
       "        vertical-align: top;\n",
       "    }\n",
       "\n",
       "    .dataframe thead th {\n",
       "        text-align: right;\n",
       "    }\n",
       "</style>\n",
       "<table border=\"1\" class=\"dataframe\">\n",
       "  <thead>\n",
       "    <tr style=\"text-align: right;\">\n",
       "      <th></th>\n",
       "      <th>movie_title</th>\n",
       "      <th>tmdb_id</th>\n",
       "      <th>popularity</th>\n",
       "      <th>vote_average</th>\n",
       "      <th>vote_count</th>\n",
       "    </tr>\n",
       "  </thead>\n",
       "  <tbody>\n",
       "    <tr>\n",
       "      <th>0</th>\n",
       "      <td>Harry Potter and the Deathly Hallows: Part 1</td>\n",
       "      <td>12444</td>\n",
       "      <td>33.533</td>\n",
       "      <td>7.7</td>\n",
       "      <td>10788</td>\n",
       "    </tr>\n",
       "    <tr>\n",
       "      <th>1</th>\n",
       "      <td>How to Train Your Dragon</td>\n",
       "      <td>10191</td>\n",
       "      <td>28.734</td>\n",
       "      <td>7.7</td>\n",
       "      <td>7610</td>\n",
       "    </tr>\n",
       "    <tr>\n",
       "      <th>2</th>\n",
       "      <td>Iron Man 2</td>\n",
       "      <td>10138</td>\n",
       "      <td>28.515</td>\n",
       "      <td>6.8</td>\n",
       "      <td>12368</td>\n",
       "    </tr>\n",
       "    <tr>\n",
       "      <th>3</th>\n",
       "      <td>Toy Story</td>\n",
       "      <td>862</td>\n",
       "      <td>28.005</td>\n",
       "      <td>7.9</td>\n",
       "      <td>10174</td>\n",
       "    </tr>\n",
       "    <tr>\n",
       "      <th>4</th>\n",
       "      <td>Inception</td>\n",
       "      <td>27205</td>\n",
       "      <td>27.920</td>\n",
       "      <td>8.3</td>\n",
       "      <td>22186</td>\n",
       "    </tr>\n",
       "  </tbody>\n",
       "</table>\n",
       "</div>"
      ],
      "text/plain": [
       "                                    movie_title  tmdb_id  popularity  \\\n",
       "0  Harry Potter and the Deathly Hallows: Part 1    12444      33.533   \n",
       "1                      How to Train Your Dragon    10191      28.734   \n",
       "2                                    Iron Man 2    10138      28.515   \n",
       "3                                     Toy Story      862      28.005   \n",
       "4                                     Inception    27205      27.920   \n",
       "\n",
       "   vote_average  vote_count  \n",
       "0           7.7       10788  \n",
       "1           7.7        7610  \n",
       "2           6.8       12368  \n",
       "3           7.9       10174  \n",
       "4           8.3       22186  "
      ]
     },
     "execution_count": 17,
     "metadata": {},
     "output_type": "execute_result"
    }
   ],
   "source": [
    "# TMDb: includes popularity, vote average, vote count\n",
    "tmdb_clean = tmdb[['title', 'id', 'popularity', 'vote_average', 'vote_count']].copy()\n",
    "tmdb_clean.rename(columns={'title': 'movie_title', 'id': 'tmdb_id'}, inplace=True)\n",
    "tmdb_clean.head()\n"
   ]
  },
  {
   "cell_type": "code",
   "execution_count": 18,
   "metadata": {},
   "outputs": [
    {
     "data": {
      "text/html": [
       "<div>\n",
       "<style scoped>\n",
       "    .dataframe tbody tr th:only-of-type {\n",
       "        vertical-align: middle;\n",
       "    }\n",
       "\n",
       "    .dataframe tbody tr th {\n",
       "        vertical-align: top;\n",
       "    }\n",
       "\n",
       "    .dataframe thead th {\n",
       "        text-align: right;\n",
       "    }\n",
       "</style>\n",
       "<table border=\"1\" class=\"dataframe\">\n",
       "  <thead>\n",
       "    <tr style=\"text-align: right;\">\n",
       "      <th></th>\n",
       "      <th>rating</th>\n",
       "      <th>genre</th>\n",
       "      <th>studio</th>\n",
       "      <th>theater_date</th>\n",
       "      <th>runtime</th>\n",
       "      <th>movie_title</th>\n",
       "    </tr>\n",
       "  </thead>\n",
       "  <tbody>\n",
       "    <tr>\n",
       "      <th>0</th>\n",
       "      <td>R</td>\n",
       "      <td>Action and Adventure|Classics|Drama</td>\n",
       "      <td>NaN</td>\n",
       "      <td>Oct 9, 1971</td>\n",
       "      <td>104 minutes</td>\n",
       "      <td>0</td>\n",
       "    </tr>\n",
       "    <tr>\n",
       "      <th>1</th>\n",
       "      <td>R</td>\n",
       "      <td>Drama|Science Fiction and Fantasy</td>\n",
       "      <td>Entertainment One</td>\n",
       "      <td>Aug 17, 2012</td>\n",
       "      <td>108 minutes</td>\n",
       "      <td>1</td>\n",
       "    </tr>\n",
       "    <tr>\n",
       "      <th>2</th>\n",
       "      <td>R</td>\n",
       "      <td>Drama|Musical and Performing Arts</td>\n",
       "      <td>NaN</td>\n",
       "      <td>Sep 13, 1996</td>\n",
       "      <td>116 minutes</td>\n",
       "      <td>2</td>\n",
       "    </tr>\n",
       "    <tr>\n",
       "      <th>3</th>\n",
       "      <td>R</td>\n",
       "      <td>Drama|Mystery and Suspense</td>\n",
       "      <td>NaN</td>\n",
       "      <td>Dec 9, 1994</td>\n",
       "      <td>128 minutes</td>\n",
       "      <td>3</td>\n",
       "    </tr>\n",
       "    <tr>\n",
       "      <th>4</th>\n",
       "      <td>NR</td>\n",
       "      <td>Drama|Romance</td>\n",
       "      <td>NaN</td>\n",
       "      <td>NaN</td>\n",
       "      <td>200 minutes</td>\n",
       "      <td>4</td>\n",
       "    </tr>\n",
       "  </tbody>\n",
       "</table>\n",
       "</div>"
      ],
      "text/plain": [
       "  rating                                genre             studio  \\\n",
       "0      R  Action and Adventure|Classics|Drama                NaN   \n",
       "1      R    Drama|Science Fiction and Fantasy  Entertainment One   \n",
       "2      R    Drama|Musical and Performing Arts                NaN   \n",
       "3      R           Drama|Mystery and Suspense                NaN   \n",
       "4     NR                        Drama|Romance                NaN   \n",
       "\n",
       "   theater_date      runtime  movie_title  \n",
       "0   Oct 9, 1971  104 minutes            0  \n",
       "1  Aug 17, 2012  108 minutes            1  \n",
       "2  Sep 13, 1996  116 minutes            2  \n",
       "3   Dec 9, 1994  128 minutes            3  \n",
       "4           NaN  200 minutes            4  "
      ]
     },
     "execution_count": 18,
     "metadata": {},
     "output_type": "execute_result"
    }
   ],
   "source": [
    "# Rotten Tomatoes info data\n",
    "rt_info_clean = rt_info[['rating', 'genre', 'studio', 'theater_date', 'runtime']].copy()\n",
    "rt_info_clean['movie_title'] = rt_info.index\n",
    "rt_info_clean.reset_index(drop=True, inplace=True)\n",
    "rt_info_clean.head()\n"
   ]
  },
  {
   "cell_type": "markdown",
   "metadata": {},
   "source": [
    "## Step 2: Merging All Cleaned Datasets\n",
    "Let’s now proceed cell by cell to merge them using movie_title as the key.\n",
    "\n",
    "### Cell 1: Merge BOM + The Numbers Budgets"
   ]
  },
  {
   "cell_type": "code",
   "execution_count": 19,
   "metadata": {},
   "outputs": [
    {
     "data": {
      "text/html": [
       "<div>\n",
       "<style scoped>\n",
       "    .dataframe tbody tr th:only-of-type {\n",
       "        vertical-align: middle;\n",
       "    }\n",
       "\n",
       "    .dataframe tbody tr th {\n",
       "        vertical-align: top;\n",
       "    }\n",
       "\n",
       "    .dataframe thead th {\n",
       "        text-align: right;\n",
       "    }\n",
       "</style>\n",
       "<table border=\"1\" class=\"dataframe\">\n",
       "  <thead>\n",
       "    <tr style=\"text-align: right;\">\n",
       "      <th></th>\n",
       "      <th>movie_title</th>\n",
       "      <th>domestic_gross</th>\n",
       "      <th>foreign_gross</th>\n",
       "      <th>year</th>\n",
       "      <th>production_budget</th>\n",
       "      <th>worldwide_gross</th>\n",
       "      <th>release_date</th>\n",
       "    </tr>\n",
       "  </thead>\n",
       "  <tbody>\n",
       "    <tr>\n",
       "      <th>0</th>\n",
       "      <td>Toy Story 3</td>\n",
       "      <td>415000000.0</td>\n",
       "      <td>652000000</td>\n",
       "      <td>2010.0</td>\n",
       "      <td>$200,000,000</td>\n",
       "      <td>$1,068,879,522</td>\n",
       "      <td>Jun 18, 2010</td>\n",
       "    </tr>\n",
       "    <tr>\n",
       "      <th>1</th>\n",
       "      <td>Alice in Wonderland (2010)</td>\n",
       "      <td>334200000.0</td>\n",
       "      <td>691300000</td>\n",
       "      <td>2010.0</td>\n",
       "      <td>NaN</td>\n",
       "      <td>NaN</td>\n",
       "      <td>NaN</td>\n",
       "    </tr>\n",
       "    <tr>\n",
       "      <th>2</th>\n",
       "      <td>Harry Potter and the Deathly Hallows Part 1</td>\n",
       "      <td>296000000.0</td>\n",
       "      <td>664300000</td>\n",
       "      <td>2010.0</td>\n",
       "      <td>NaN</td>\n",
       "      <td>NaN</td>\n",
       "      <td>NaN</td>\n",
       "    </tr>\n",
       "    <tr>\n",
       "      <th>3</th>\n",
       "      <td>Inception</td>\n",
       "      <td>292600000.0</td>\n",
       "      <td>535700000</td>\n",
       "      <td>2010.0</td>\n",
       "      <td>$160,000,000</td>\n",
       "      <td>$835,524,642</td>\n",
       "      <td>Jul 16, 2010</td>\n",
       "    </tr>\n",
       "    <tr>\n",
       "      <th>4</th>\n",
       "      <td>Shrek Forever After</td>\n",
       "      <td>238700000.0</td>\n",
       "      <td>513900000</td>\n",
       "      <td>2010.0</td>\n",
       "      <td>$165,000,000</td>\n",
       "      <td>$756,244,673</td>\n",
       "      <td>May 21, 2010</td>\n",
       "    </tr>\n",
       "  </tbody>\n",
       "</table>\n",
       "</div>"
      ],
      "text/plain": [
       "                                   movie_title  domestic_gross foreign_gross  \\\n",
       "0                                  Toy Story 3     415000000.0     652000000   \n",
       "1                   Alice in Wonderland (2010)     334200000.0     691300000   \n",
       "2  Harry Potter and the Deathly Hallows Part 1     296000000.0     664300000   \n",
       "3                                    Inception     292600000.0     535700000   \n",
       "4                          Shrek Forever After     238700000.0     513900000   \n",
       "\n",
       "     year production_budget worldwide_gross  release_date  \n",
       "0  2010.0      $200,000,000  $1,068,879,522  Jun 18, 2010  \n",
       "1  2010.0               NaN             NaN           NaN  \n",
       "2  2010.0               NaN             NaN           NaN  \n",
       "3  2010.0      $160,000,000    $835,524,642  Jul 16, 2010  \n",
       "4  2010.0      $165,000,000    $756,244,673  May 21, 2010  "
      ]
     },
     "execution_count": 19,
     "metadata": {},
     "output_type": "execute_result"
    }
   ],
   "source": [
    "# Merge BOM and TN Budgets\n",
    "bom_tn_merged = pd.merge(bom_clean, tn_budgets_clean, on='movie_title', how='outer')\n",
    "bom_tn_merged.head()\n"
   ]
  },
  {
   "cell_type": "markdown",
   "metadata": {},
   "source": [
    "### Cell 2: Add TMDb Data"
   ]
  },
  {
   "cell_type": "code",
   "execution_count": 20,
   "metadata": {},
   "outputs": [
    {
     "data": {
      "text/html": [
       "<div>\n",
       "<style scoped>\n",
       "    .dataframe tbody tr th:only-of-type {\n",
       "        vertical-align: middle;\n",
       "    }\n",
       "\n",
       "    .dataframe tbody tr th {\n",
       "        vertical-align: top;\n",
       "    }\n",
       "\n",
       "    .dataframe thead th {\n",
       "        text-align: right;\n",
       "    }\n",
       "</style>\n",
       "<table border=\"1\" class=\"dataframe\">\n",
       "  <thead>\n",
       "    <tr style=\"text-align: right;\">\n",
       "      <th></th>\n",
       "      <th>movie_title</th>\n",
       "      <th>domestic_gross</th>\n",
       "      <th>foreign_gross</th>\n",
       "      <th>year</th>\n",
       "      <th>production_budget</th>\n",
       "      <th>worldwide_gross</th>\n",
       "      <th>release_date</th>\n",
       "      <th>tmdb_id</th>\n",
       "      <th>popularity</th>\n",
       "      <th>vote_average</th>\n",
       "      <th>vote_count</th>\n",
       "    </tr>\n",
       "  </thead>\n",
       "  <tbody>\n",
       "    <tr>\n",
       "      <th>0</th>\n",
       "      <td>Toy Story 3</td>\n",
       "      <td>415000000.0</td>\n",
       "      <td>652000000</td>\n",
       "      <td>2010.0</td>\n",
       "      <td>$200,000,000</td>\n",
       "      <td>$1,068,879,522</td>\n",
       "      <td>Jun 18, 2010</td>\n",
       "      <td>10193.0</td>\n",
       "      <td>24.445</td>\n",
       "      <td>7.7</td>\n",
       "      <td>8340.0</td>\n",
       "    </tr>\n",
       "    <tr>\n",
       "      <th>1</th>\n",
       "      <td>Alice in Wonderland (2010)</td>\n",
       "      <td>334200000.0</td>\n",
       "      <td>691300000</td>\n",
       "      <td>2010.0</td>\n",
       "      <td>NaN</td>\n",
       "      <td>NaN</td>\n",
       "      <td>NaN</td>\n",
       "      <td>NaN</td>\n",
       "      <td>NaN</td>\n",
       "      <td>NaN</td>\n",
       "      <td>NaN</td>\n",
       "    </tr>\n",
       "    <tr>\n",
       "      <th>2</th>\n",
       "      <td>Harry Potter and the Deathly Hallows Part 1</td>\n",
       "      <td>296000000.0</td>\n",
       "      <td>664300000</td>\n",
       "      <td>2010.0</td>\n",
       "      <td>NaN</td>\n",
       "      <td>NaN</td>\n",
       "      <td>NaN</td>\n",
       "      <td>NaN</td>\n",
       "      <td>NaN</td>\n",
       "      <td>NaN</td>\n",
       "      <td>NaN</td>\n",
       "    </tr>\n",
       "    <tr>\n",
       "      <th>3</th>\n",
       "      <td>Inception</td>\n",
       "      <td>292600000.0</td>\n",
       "      <td>535700000</td>\n",
       "      <td>2010.0</td>\n",
       "      <td>$160,000,000</td>\n",
       "      <td>$835,524,642</td>\n",
       "      <td>Jul 16, 2010</td>\n",
       "      <td>27205.0</td>\n",
       "      <td>27.920</td>\n",
       "      <td>8.3</td>\n",
       "      <td>22186.0</td>\n",
       "    </tr>\n",
       "    <tr>\n",
       "      <th>4</th>\n",
       "      <td>Shrek Forever After</td>\n",
       "      <td>238700000.0</td>\n",
       "      <td>513900000</td>\n",
       "      <td>2010.0</td>\n",
       "      <td>$165,000,000</td>\n",
       "      <td>$756,244,673</td>\n",
       "      <td>May 21, 2010</td>\n",
       "      <td>10192.0</td>\n",
       "      <td>15.041</td>\n",
       "      <td>6.1</td>\n",
       "      <td>3843.0</td>\n",
       "    </tr>\n",
       "  </tbody>\n",
       "</table>\n",
       "</div>"
      ],
      "text/plain": [
       "                                   movie_title  domestic_gross foreign_gross  \\\n",
       "0                                  Toy Story 3     415000000.0     652000000   \n",
       "1                   Alice in Wonderland (2010)     334200000.0     691300000   \n",
       "2  Harry Potter and the Deathly Hallows Part 1     296000000.0     664300000   \n",
       "3                                    Inception     292600000.0     535700000   \n",
       "4                          Shrek Forever After     238700000.0     513900000   \n",
       "\n",
       "     year production_budget worldwide_gross  release_date  tmdb_id  \\\n",
       "0  2010.0      $200,000,000  $1,068,879,522  Jun 18, 2010  10193.0   \n",
       "1  2010.0               NaN             NaN           NaN      NaN   \n",
       "2  2010.0               NaN             NaN           NaN      NaN   \n",
       "3  2010.0      $160,000,000    $835,524,642  Jul 16, 2010  27205.0   \n",
       "4  2010.0      $165,000,000    $756,244,673  May 21, 2010  10192.0   \n",
       "\n",
       "   popularity  vote_average  vote_count  \n",
       "0      24.445           7.7      8340.0  \n",
       "1         NaN           NaN         NaN  \n",
       "2         NaN           NaN         NaN  \n",
       "3      27.920           8.3     22186.0  \n",
       "4      15.041           6.1      3843.0  "
      ]
     },
     "execution_count": 20,
     "metadata": {},
     "output_type": "execute_result"
    }
   ],
   "source": [
    "# Merge with TMDb data\n",
    "bom_tn_tmdb = pd.merge(bom_tn_merged, tmdb_clean, on='movie_title', how='outer')\n",
    "bom_tn_tmdb.head()\n"
   ]
  },
  {
   "cell_type": "markdown",
   "metadata": {},
   "source": [
    "### Cell 3: Add Rotten Tomatoes Info"
   ]
  },
  {
   "cell_type": "code",
   "execution_count": 21,
   "metadata": {},
   "outputs": [
    {
     "data": {
      "text/html": [
       "<div>\n",
       "<style scoped>\n",
       "    .dataframe tbody tr th:only-of-type {\n",
       "        vertical-align: middle;\n",
       "    }\n",
       "\n",
       "    .dataframe tbody tr th {\n",
       "        vertical-align: top;\n",
       "    }\n",
       "\n",
       "    .dataframe thead th {\n",
       "        text-align: right;\n",
       "    }\n",
       "</style>\n",
       "<table border=\"1\" class=\"dataframe\">\n",
       "  <thead>\n",
       "    <tr style=\"text-align: right;\">\n",
       "      <th></th>\n",
       "      <th>movie_title</th>\n",
       "      <th>domestic_gross</th>\n",
       "      <th>foreign_gross</th>\n",
       "      <th>year</th>\n",
       "      <th>production_budget</th>\n",
       "      <th>worldwide_gross</th>\n",
       "      <th>release_date</th>\n",
       "      <th>tmdb_id</th>\n",
       "      <th>popularity</th>\n",
       "      <th>vote_average</th>\n",
       "      <th>vote_count</th>\n",
       "      <th>rating</th>\n",
       "      <th>genre</th>\n",
       "      <th>studio</th>\n",
       "      <th>theater_date</th>\n",
       "      <th>runtime</th>\n",
       "    </tr>\n",
       "  </thead>\n",
       "  <tbody>\n",
       "    <tr>\n",
       "      <th>0</th>\n",
       "      <td>Toy Story 3</td>\n",
       "      <td>415000000.0</td>\n",
       "      <td>652000000</td>\n",
       "      <td>2010.0</td>\n",
       "      <td>$200,000,000</td>\n",
       "      <td>$1,068,879,522</td>\n",
       "      <td>Jun 18, 2010</td>\n",
       "      <td>10193.0</td>\n",
       "      <td>24.445</td>\n",
       "      <td>7.7</td>\n",
       "      <td>8340.0</td>\n",
       "      <td>NaN</td>\n",
       "      <td>NaN</td>\n",
       "      <td>NaN</td>\n",
       "      <td>NaN</td>\n",
       "      <td>NaN</td>\n",
       "    </tr>\n",
       "    <tr>\n",
       "      <th>1</th>\n",
       "      <td>Alice in Wonderland (2010)</td>\n",
       "      <td>334200000.0</td>\n",
       "      <td>691300000</td>\n",
       "      <td>2010.0</td>\n",
       "      <td>NaN</td>\n",
       "      <td>NaN</td>\n",
       "      <td>NaN</td>\n",
       "      <td>NaN</td>\n",
       "      <td>NaN</td>\n",
       "      <td>NaN</td>\n",
       "      <td>NaN</td>\n",
       "      <td>NaN</td>\n",
       "      <td>NaN</td>\n",
       "      <td>NaN</td>\n",
       "      <td>NaN</td>\n",
       "      <td>NaN</td>\n",
       "    </tr>\n",
       "    <tr>\n",
       "      <th>2</th>\n",
       "      <td>Harry Potter and the Deathly Hallows Part 1</td>\n",
       "      <td>296000000.0</td>\n",
       "      <td>664300000</td>\n",
       "      <td>2010.0</td>\n",
       "      <td>NaN</td>\n",
       "      <td>NaN</td>\n",
       "      <td>NaN</td>\n",
       "      <td>NaN</td>\n",
       "      <td>NaN</td>\n",
       "      <td>NaN</td>\n",
       "      <td>NaN</td>\n",
       "      <td>NaN</td>\n",
       "      <td>NaN</td>\n",
       "      <td>NaN</td>\n",
       "      <td>NaN</td>\n",
       "      <td>NaN</td>\n",
       "    </tr>\n",
       "    <tr>\n",
       "      <th>3</th>\n",
       "      <td>Inception</td>\n",
       "      <td>292600000.0</td>\n",
       "      <td>535700000</td>\n",
       "      <td>2010.0</td>\n",
       "      <td>$160,000,000</td>\n",
       "      <td>$835,524,642</td>\n",
       "      <td>Jul 16, 2010</td>\n",
       "      <td>27205.0</td>\n",
       "      <td>27.920</td>\n",
       "      <td>8.3</td>\n",
       "      <td>22186.0</td>\n",
       "      <td>NaN</td>\n",
       "      <td>NaN</td>\n",
       "      <td>NaN</td>\n",
       "      <td>NaN</td>\n",
       "      <td>NaN</td>\n",
       "    </tr>\n",
       "    <tr>\n",
       "      <th>4</th>\n",
       "      <td>Shrek Forever After</td>\n",
       "      <td>238700000.0</td>\n",
       "      <td>513900000</td>\n",
       "      <td>2010.0</td>\n",
       "      <td>$165,000,000</td>\n",
       "      <td>$756,244,673</td>\n",
       "      <td>May 21, 2010</td>\n",
       "      <td>10192.0</td>\n",
       "      <td>15.041</td>\n",
       "      <td>6.1</td>\n",
       "      <td>3843.0</td>\n",
       "      <td>NaN</td>\n",
       "      <td>NaN</td>\n",
       "      <td>NaN</td>\n",
       "      <td>NaN</td>\n",
       "      <td>NaN</td>\n",
       "    </tr>\n",
       "  </tbody>\n",
       "</table>\n",
       "</div>"
      ],
      "text/plain": [
       "                                   movie_title  domestic_gross foreign_gross  \\\n",
       "0                                  Toy Story 3     415000000.0     652000000   \n",
       "1                   Alice in Wonderland (2010)     334200000.0     691300000   \n",
       "2  Harry Potter and the Deathly Hallows Part 1     296000000.0     664300000   \n",
       "3                                    Inception     292600000.0     535700000   \n",
       "4                          Shrek Forever After     238700000.0     513900000   \n",
       "\n",
       "     year production_budget worldwide_gross  release_date  tmdb_id  \\\n",
       "0  2010.0      $200,000,000  $1,068,879,522  Jun 18, 2010  10193.0   \n",
       "1  2010.0               NaN             NaN           NaN      NaN   \n",
       "2  2010.0               NaN             NaN           NaN      NaN   \n",
       "3  2010.0      $160,000,000    $835,524,642  Jul 16, 2010  27205.0   \n",
       "4  2010.0      $165,000,000    $756,244,673  May 21, 2010  10192.0   \n",
       "\n",
       "   popularity  vote_average  vote_count rating genre studio theater_date  \\\n",
       "0      24.445           7.7      8340.0    NaN   NaN    NaN          NaN   \n",
       "1         NaN           NaN         NaN    NaN   NaN    NaN          NaN   \n",
       "2         NaN           NaN         NaN    NaN   NaN    NaN          NaN   \n",
       "3      27.920           8.3     22186.0    NaN   NaN    NaN          NaN   \n",
       "4      15.041           6.1      3843.0    NaN   NaN    NaN          NaN   \n",
       "\n",
       "  runtime  \n",
       "0     NaN  \n",
       "1     NaN  \n",
       "2     NaN  \n",
       "3     NaN  \n",
       "4     NaN  "
      ]
     },
     "execution_count": 21,
     "metadata": {},
     "output_type": "execute_result"
    }
   ],
   "source": [
    "# Ensure movie_title is a string before merge\n",
    "rt_info_clean['movie_title'] = rt_info_clean['movie_title'].astype(str)\n",
    "bom_tn_tmdb['movie_title'] = bom_tn_tmdb['movie_title'].astype(str)\n",
    "\n",
    "# Now merge\n",
    "master_df = pd.merge(bom_tn_tmdb, rt_info_clean, on='movie_title', how='outer')\n",
    "master_df.head()\n"
   ]
  },
  {
   "cell_type": "markdown",
   "metadata": {},
   "source": [
    "## Step 3: Basic Cleaning\n",
    "\n",
    "### Cell 4: Remove Duplicates, Check Nulls\n",
    "\n"
   ]
  },
  {
   "cell_type": "code",
   "execution_count": 22,
   "metadata": {},
   "outputs": [
    {
     "data": {
      "text/plain": [
       "studio               30520\n",
       "theater_date         29813\n",
       "runtime              29484\n",
       "genre                29462\n",
       "rating               29457\n",
       "foreign_gross        28977\n",
       "domestic_gross       27656\n",
       "year                 27628\n",
       "release_date         25316\n",
       "worldwide_gross      25316\n",
       "production_budget    25316\n",
       "vote_count            6326\n",
       "vote_average          6326\n",
       "popularity            6326\n",
       "tmdb_id               6326\n",
       "movie_title              0\n",
       "dtype: int64"
      ]
     },
     "execution_count": 22,
     "metadata": {},
     "output_type": "execute_result"
    }
   ],
   "source": [
    "# Remove duplicate movie entries\n",
    "master_df.drop_duplicates(subset='movie_title', inplace=True)\n",
    "\n",
    "# Display columns with missing values\n",
    "master_df.isnull().sum().sort_values(ascending=False)\n"
   ]
  },
  {
   "cell_type": "markdown",
   "metadata": {},
   "source": [
    "### As of now, we haven't merged any data from the SQLite database (im.db) yet.\n",
    "We’ve only merged:\n",
    "\n",
    "- bom.movie_gross.csv.gz → bom_clean\n",
    "\n",
    "- tn.movie_budgets.csv.gz → tn_budgets_clean\n",
    "\n",
    "- tmdb.movies.csv.gz → tmdb_clean\n",
    "\n",
    "- rt.movie_info.tsv.gz → rt_info_clean\n",
    "\n",
    "\n",
    "### Let's Now Include Data from the im.db Database Before Saving\n",
    "- We'll extract and merge the most relevant tables:\n",
    "\n",
    "- movie_basics — contains primary movie info (primary_title, genres, runtime_minutes)\n",
    "\n",
    "- movie_ratings — contains average_rating, num_votes\n",
    "\n",
    "- principals or others — optional (for deeper analysis)\n",
    "\n",
    "### Cell 5A: Connect to the SQLite DB and Load Key Tables\n",
    "\n"
   ]
  },
  {
   "cell_type": "code",
   "execution_count": 23,
   "metadata": {},
   "outputs": [],
   "source": [
    "# Connect to the SQLite database\n",
    "conn = sqlite3.connect('datasets/im.db')\n",
    "\n",
    "# Load main tables\n",
    "movie_basics = pd.read_sql(\"SELECT * FROM movie_basics\", conn)\n",
    "movie_ratings = pd.read_sql(\"SELECT * FROM movie_ratings\", conn)\n"
   ]
  },
  {
   "cell_type": "markdown",
   "metadata": {},
   "source": [
    "### Cell 5B: Clean and Prepare the DB Tables for Merging"
   ]
  },
  {
   "cell_type": "code",
   "execution_count": 24,
   "metadata": {},
   "outputs": [
    {
     "data": {
      "text/html": [
       "<div>\n",
       "<style scoped>\n",
       "    .dataframe tbody tr th:only-of-type {\n",
       "        vertical-align: middle;\n",
       "    }\n",
       "\n",
       "    .dataframe tbody tr th {\n",
       "        vertical-align: top;\n",
       "    }\n",
       "\n",
       "    .dataframe thead th {\n",
       "        text-align: right;\n",
       "    }\n",
       "</style>\n",
       "<table border=\"1\" class=\"dataframe\">\n",
       "  <thead>\n",
       "    <tr style=\"text-align: right;\">\n",
       "      <th></th>\n",
       "      <th>movie_title</th>\n",
       "      <th>genres</th>\n",
       "      <th>runtime_minutes</th>\n",
       "      <th>imdb_rating</th>\n",
       "      <th>imdb_num_votes</th>\n",
       "    </tr>\n",
       "  </thead>\n",
       "  <tbody>\n",
       "    <tr>\n",
       "      <th>0</th>\n",
       "      <td>Sunghursh</td>\n",
       "      <td>Action,Crime,Drama</td>\n",
       "      <td>175.0</td>\n",
       "      <td>8.3</td>\n",
       "      <td>31.0</td>\n",
       "    </tr>\n",
       "    <tr>\n",
       "      <th>1</th>\n",
       "      <td>One Day Before the Rainy Season</td>\n",
       "      <td>Biography,Drama</td>\n",
       "      <td>114.0</td>\n",
       "      <td>8.9</td>\n",
       "      <td>559.0</td>\n",
       "    </tr>\n",
       "    <tr>\n",
       "      <th>2</th>\n",
       "      <td>The Other Side of the Wind</td>\n",
       "      <td>Drama</td>\n",
       "      <td>122.0</td>\n",
       "      <td>6.4</td>\n",
       "      <td>20.0</td>\n",
       "    </tr>\n",
       "    <tr>\n",
       "      <th>3</th>\n",
       "      <td>Sabse Bada Sukh</td>\n",
       "      <td>Comedy,Drama</td>\n",
       "      <td>NaN</td>\n",
       "      <td>4.2</td>\n",
       "      <td>50352.0</td>\n",
       "    </tr>\n",
       "    <tr>\n",
       "      <th>4</th>\n",
       "      <td>The Wandering Soap Opera</td>\n",
       "      <td>Comedy,Drama,Fantasy</td>\n",
       "      <td>80.0</td>\n",
       "      <td>6.5</td>\n",
       "      <td>21.0</td>\n",
       "    </tr>\n",
       "  </tbody>\n",
       "</table>\n",
       "</div>"
      ],
      "text/plain": [
       "                       movie_title                genres  runtime_minutes  \\\n",
       "0                        Sunghursh    Action,Crime,Drama            175.0   \n",
       "1  One Day Before the Rainy Season       Biography,Drama            114.0   \n",
       "2       The Other Side of the Wind                 Drama            122.0   \n",
       "3                  Sabse Bada Sukh          Comedy,Drama              NaN   \n",
       "4         The Wandering Soap Opera  Comedy,Drama,Fantasy             80.0   \n",
       "\n",
       "   imdb_rating  imdb_num_votes  \n",
       "0          8.3            31.0  \n",
       "1          8.9           559.0  \n",
       "2          6.4            20.0  \n",
       "3          4.2         50352.0  \n",
       "4          6.5            21.0  "
      ]
     },
     "execution_count": 24,
     "metadata": {},
     "output_type": "execute_result"
    }
   ],
   "source": [
    "# Prepare movie_basics\n",
    "basics_clean = movie_basics[['primary_title', 'genres', 'runtime_minutes']].copy()\n",
    "basics_clean.rename(columns={'primary_title': 'movie_title'}, inplace=True)\n",
    "\n",
    "# Prepare movie_ratings\n",
    "ratings_clean = movie_ratings[['averagerating', 'numvotes']].copy()\n",
    "ratings_clean.columns = ['imdb_rating', 'imdb_num_votes']\n",
    "\n",
    "# Since ratings has same index as basics, we combine them first\n",
    "imdb_combined = pd.concat([basics_clean, ratings_clean], axis=1)\n",
    "imdb_combined.head()\n"
   ]
  },
  {
   "cell_type": "markdown",
   "metadata": {},
   "source": [
    "## Cell 5C: Merge with Existing Master Dataset"
   ]
  },
  {
   "cell_type": "code",
   "execution_count": 25,
   "metadata": {},
   "outputs": [
    {
     "data": {
      "text/html": [
       "<div>\n",
       "<style scoped>\n",
       "    .dataframe tbody tr th:only-of-type {\n",
       "        vertical-align: middle;\n",
       "    }\n",
       "\n",
       "    .dataframe tbody tr th {\n",
       "        vertical-align: top;\n",
       "    }\n",
       "\n",
       "    .dataframe thead th {\n",
       "        text-align: right;\n",
       "    }\n",
       "</style>\n",
       "<table border=\"1\" class=\"dataframe\">\n",
       "  <thead>\n",
       "    <tr style=\"text-align: right;\">\n",
       "      <th></th>\n",
       "      <th>movie_title</th>\n",
       "      <th>domestic_gross</th>\n",
       "      <th>foreign_gross</th>\n",
       "      <th>year</th>\n",
       "      <th>production_budget</th>\n",
       "      <th>worldwide_gross</th>\n",
       "      <th>release_date</th>\n",
       "      <th>tmdb_id</th>\n",
       "      <th>popularity</th>\n",
       "      <th>vote_average</th>\n",
       "      <th>vote_count</th>\n",
       "      <th>rating</th>\n",
       "      <th>genre</th>\n",
       "      <th>studio</th>\n",
       "      <th>theater_date</th>\n",
       "      <th>runtime</th>\n",
       "      <th>genres</th>\n",
       "      <th>runtime_minutes</th>\n",
       "      <th>imdb_rating</th>\n",
       "      <th>imdb_num_votes</th>\n",
       "    </tr>\n",
       "  </thead>\n",
       "  <tbody>\n",
       "    <tr>\n",
       "      <th>0</th>\n",
       "      <td>Toy Story 3</td>\n",
       "      <td>415000000.0</td>\n",
       "      <td>652000000</td>\n",
       "      <td>2010.0</td>\n",
       "      <td>$200,000,000</td>\n",
       "      <td>$1,068,879,522</td>\n",
       "      <td>Jun 18, 2010</td>\n",
       "      <td>10193.0</td>\n",
       "      <td>24.445</td>\n",
       "      <td>7.7</td>\n",
       "      <td>8340.0</td>\n",
       "      <td>NaN</td>\n",
       "      <td>NaN</td>\n",
       "      <td>NaN</td>\n",
       "      <td>NaN</td>\n",
       "      <td>NaN</td>\n",
       "      <td>Adventure,Animation,Comedy</td>\n",
       "      <td>103.0</td>\n",
       "      <td>6.1</td>\n",
       "      <td>160.0</td>\n",
       "    </tr>\n",
       "    <tr>\n",
       "      <th>1</th>\n",
       "      <td>Alice in Wonderland (2010)</td>\n",
       "      <td>334200000.0</td>\n",
       "      <td>691300000</td>\n",
       "      <td>2010.0</td>\n",
       "      <td>NaN</td>\n",
       "      <td>NaN</td>\n",
       "      <td>NaN</td>\n",
       "      <td>NaN</td>\n",
       "      <td>NaN</td>\n",
       "      <td>NaN</td>\n",
       "      <td>NaN</td>\n",
       "      <td>NaN</td>\n",
       "      <td>NaN</td>\n",
       "      <td>NaN</td>\n",
       "      <td>NaN</td>\n",
       "      <td>NaN</td>\n",
       "      <td>NaN</td>\n",
       "      <td>NaN</td>\n",
       "      <td>NaN</td>\n",
       "      <td>NaN</td>\n",
       "    </tr>\n",
       "    <tr>\n",
       "      <th>2</th>\n",
       "      <td>Harry Potter and the Deathly Hallows Part 1</td>\n",
       "      <td>296000000.0</td>\n",
       "      <td>664300000</td>\n",
       "      <td>2010.0</td>\n",
       "      <td>NaN</td>\n",
       "      <td>NaN</td>\n",
       "      <td>NaN</td>\n",
       "      <td>NaN</td>\n",
       "      <td>NaN</td>\n",
       "      <td>NaN</td>\n",
       "      <td>NaN</td>\n",
       "      <td>NaN</td>\n",
       "      <td>NaN</td>\n",
       "      <td>NaN</td>\n",
       "      <td>NaN</td>\n",
       "      <td>NaN</td>\n",
       "      <td>NaN</td>\n",
       "      <td>NaN</td>\n",
       "      <td>NaN</td>\n",
       "      <td>NaN</td>\n",
       "    </tr>\n",
       "    <tr>\n",
       "      <th>3</th>\n",
       "      <td>Inception</td>\n",
       "      <td>292600000.0</td>\n",
       "      <td>535700000</td>\n",
       "      <td>2010.0</td>\n",
       "      <td>$160,000,000</td>\n",
       "      <td>$835,524,642</td>\n",
       "      <td>Jul 16, 2010</td>\n",
       "      <td>27205.0</td>\n",
       "      <td>27.920</td>\n",
       "      <td>8.3</td>\n",
       "      <td>22186.0</td>\n",
       "      <td>NaN</td>\n",
       "      <td>NaN</td>\n",
       "      <td>NaN</td>\n",
       "      <td>NaN</td>\n",
       "      <td>NaN</td>\n",
       "      <td>Action,Adventure,Sci-Fi</td>\n",
       "      <td>148.0</td>\n",
       "      <td>8.6</td>\n",
       "      <td>7.0</td>\n",
       "    </tr>\n",
       "    <tr>\n",
       "      <th>4</th>\n",
       "      <td>Shrek Forever After</td>\n",
       "      <td>238700000.0</td>\n",
       "      <td>513900000</td>\n",
       "      <td>2010.0</td>\n",
       "      <td>$165,000,000</td>\n",
       "      <td>$756,244,673</td>\n",
       "      <td>May 21, 2010</td>\n",
       "      <td>10192.0</td>\n",
       "      <td>15.041</td>\n",
       "      <td>6.1</td>\n",
       "      <td>3843.0</td>\n",
       "      <td>NaN</td>\n",
       "      <td>NaN</td>\n",
       "      <td>NaN</td>\n",
       "      <td>NaN</td>\n",
       "      <td>NaN</td>\n",
       "      <td>Adventure,Animation,Comedy</td>\n",
       "      <td>93.0</td>\n",
       "      <td>5.2</td>\n",
       "      <td>22.0</td>\n",
       "    </tr>\n",
       "  </tbody>\n",
       "</table>\n",
       "</div>"
      ],
      "text/plain": [
       "                                   movie_title  domestic_gross foreign_gross  \\\n",
       "0                                  Toy Story 3     415000000.0     652000000   \n",
       "1                   Alice in Wonderland (2010)     334200000.0     691300000   \n",
       "2  Harry Potter and the Deathly Hallows Part 1     296000000.0     664300000   \n",
       "3                                    Inception     292600000.0     535700000   \n",
       "4                          Shrek Forever After     238700000.0     513900000   \n",
       "\n",
       "     year production_budget worldwide_gross  release_date  tmdb_id  \\\n",
       "0  2010.0      $200,000,000  $1,068,879,522  Jun 18, 2010  10193.0   \n",
       "1  2010.0               NaN             NaN           NaN      NaN   \n",
       "2  2010.0               NaN             NaN           NaN      NaN   \n",
       "3  2010.0      $160,000,000    $835,524,642  Jul 16, 2010  27205.0   \n",
       "4  2010.0      $165,000,000    $756,244,673  May 21, 2010  10192.0   \n",
       "\n",
       "   popularity  vote_average  vote_count rating genre studio theater_date  \\\n",
       "0      24.445           7.7      8340.0    NaN   NaN    NaN          NaN   \n",
       "1         NaN           NaN         NaN    NaN   NaN    NaN          NaN   \n",
       "2         NaN           NaN         NaN    NaN   NaN    NaN          NaN   \n",
       "3      27.920           8.3     22186.0    NaN   NaN    NaN          NaN   \n",
       "4      15.041           6.1      3843.0    NaN   NaN    NaN          NaN   \n",
       "\n",
       "  runtime                      genres  runtime_minutes  imdb_rating  \\\n",
       "0     NaN  Adventure,Animation,Comedy            103.0          6.1   \n",
       "1     NaN                         NaN              NaN          NaN   \n",
       "2     NaN                         NaN              NaN          NaN   \n",
       "3     NaN     Action,Adventure,Sci-Fi            148.0          8.6   \n",
       "4     NaN  Adventure,Animation,Comedy             93.0          5.2   \n",
       "\n",
       "   imdb_num_votes  \n",
       "0           160.0  \n",
       "1             NaN  \n",
       "2             NaN  \n",
       "3             7.0  \n",
       "4            22.0  "
      ]
     },
     "execution_count": 25,
     "metadata": {},
     "output_type": "execute_result"
    }
   ],
   "source": [
    "# Merge IMDb info using outer join on movie_title\n",
    "master_df = pd.merge(master_df, imdb_combined, on='movie_title', how='outer')\n",
    "master_df.head()\n"
   ]
  },
  {
   "cell_type": "markdown",
   "metadata": {},
   "source": [
    "### Cell 5D: Check for Nulls and Duplicates Again After Merge"
   ]
  },
  {
   "cell_type": "code",
   "execution_count": 26,
   "metadata": {},
   "outputs": [
    {
     "data": {
      "text/plain": [
       "studio               150671\n",
       "theater_date         149964\n",
       "runtime              149635\n",
       "genre                149613\n",
       "rating               149608\n",
       "foreign_gross        149128\n",
       "domestic_gross       147807\n",
       "year                 147779\n",
       "production_budget    145467\n",
       "release_date         145467\n",
       "dtype: int64"
      ]
     },
     "execution_count": 26,
     "metadata": {},
     "output_type": "execute_result"
    }
   ],
   "source": [
    "# Drop duplicates if they came back\n",
    "master_df.drop_duplicates(subset='movie_title', inplace=True)\n",
    "\n",
    "# Check nulls again\n",
    "master_df.isnull().sum().sort_values(ascending=False).head(10)\n"
   ]
  },
  {
   "cell_type": "markdown",
   "metadata": {},
   "source": [
    "## Save the Master Dataset to CSV\n",
    "Let’s save your final dataset to the datasets folder:"
   ]
  },
  {
   "cell_type": "code",
   "execution_count": 27,
   "metadata": {},
   "outputs": [],
   "source": [
    "# Save the final master dataset to CSV\n",
    "master_df.to_csv('datasets/master_movie_dataset.csv', index=False)\n"
   ]
  },
  {
   "cell_type": "markdown",
   "metadata": {},
   "source": [
    "# 4. EXPLORATORY DATA ANALYSIS\n",
    "\n",
    "In this section we aim to understand the overall structure of the `master_movie_dataset.csv` by examining the dataset and  summarizing its main characteristics using statistics and visualizations.\n",
    "\n",
    "**Steps to achieve this:**\n",
    "\n",
    "- Understand the structure and content of the data\n",
    "\n",
    "- Identify missing or inconsistent values\n",
    "\n",
    "- Detect outliers and anomalies\n",
    "\n",
    "- Explore relationships between features\n",
    "\n",
    "- Generate insights that can guide further analysis or modeling\n",
    "\n",
    "We will examine a merged dataset containing movie information from multiple sources such as IMDb, Rotten Tomatoes,The Numbers,Box Office Mojo and TMDB."
   ]
  },
  {
   "cell_type": "markdown",
   "metadata": {},
   "source": [
    "### Step 1: Load the Master Dataset"
   ]
  },
  {
   "cell_type": "code",
   "execution_count": 31,
   "metadata": {},
   "outputs": [
    {
     "name": "stdout",
     "output_type": "stream",
     "text": [
      "Dataset shape: (151165, 20)\n"
     ]
    },
    {
     "name": "stderr",
     "output_type": "stream",
     "text": [
      "C:\\Users\\Admin\\anaconda3\\envs\\learn-env\\lib\\site-packages\\IPython\\core\\interactiveshell.py:3145: DtypeWarning: Columns (2,4,5,6,11,12,13,14,15) have mixed types.Specify dtype option on import or set low_memory=False.\n",
      "  has_raised = await self.run_ast_nodes(code_ast.body, cell_name,\n"
     ]
    },
    {
     "data": {
      "text/html": [
       "<div>\n",
       "<style scoped>\n",
       "    .dataframe tbody tr th:only-of-type {\n",
       "        vertical-align: middle;\n",
       "    }\n",
       "\n",
       "    .dataframe tbody tr th {\n",
       "        vertical-align: top;\n",
       "    }\n",
       "\n",
       "    .dataframe thead th {\n",
       "        text-align: right;\n",
       "    }\n",
       "</style>\n",
       "<table border=\"1\" class=\"dataframe\">\n",
       "  <thead>\n",
       "    <tr style=\"text-align: right;\">\n",
       "      <th></th>\n",
       "      <th>movie_title</th>\n",
       "      <th>domestic_gross</th>\n",
       "      <th>foreign_gross</th>\n",
       "      <th>year</th>\n",
       "      <th>production_budget</th>\n",
       "      <th>worldwide_gross</th>\n",
       "      <th>release_date</th>\n",
       "      <th>tmdb_id</th>\n",
       "      <th>popularity</th>\n",
       "      <th>vote_average</th>\n",
       "      <th>vote_count</th>\n",
       "      <th>rating</th>\n",
       "      <th>genre</th>\n",
       "      <th>studio</th>\n",
       "      <th>theater_date</th>\n",
       "      <th>runtime</th>\n",
       "      <th>genres</th>\n",
       "      <th>runtime_minutes</th>\n",
       "      <th>imdb_rating</th>\n",
       "      <th>imdb_num_votes</th>\n",
       "    </tr>\n",
       "  </thead>\n",
       "  <tbody>\n",
       "    <tr>\n",
       "      <th>0</th>\n",
       "      <td>Toy Story 3</td>\n",
       "      <td>415000000.0</td>\n",
       "      <td>652000000</td>\n",
       "      <td>2010.0</td>\n",
       "      <td>$200,000,000</td>\n",
       "      <td>$1,068,879,522</td>\n",
       "      <td>Jun 18, 2010</td>\n",
       "      <td>10193.0</td>\n",
       "      <td>24.445</td>\n",
       "      <td>7.7</td>\n",
       "      <td>8340.0</td>\n",
       "      <td>NaN</td>\n",
       "      <td>NaN</td>\n",
       "      <td>NaN</td>\n",
       "      <td>NaN</td>\n",
       "      <td>NaN</td>\n",
       "      <td>Adventure,Animation,Comedy</td>\n",
       "      <td>103.0</td>\n",
       "      <td>6.1</td>\n",
       "      <td>160.0</td>\n",
       "    </tr>\n",
       "    <tr>\n",
       "      <th>1</th>\n",
       "      <td>Alice in Wonderland (2010)</td>\n",
       "      <td>334200000.0</td>\n",
       "      <td>691300000</td>\n",
       "      <td>2010.0</td>\n",
       "      <td>NaN</td>\n",
       "      <td>NaN</td>\n",
       "      <td>NaN</td>\n",
       "      <td>NaN</td>\n",
       "      <td>NaN</td>\n",
       "      <td>NaN</td>\n",
       "      <td>NaN</td>\n",
       "      <td>NaN</td>\n",
       "      <td>NaN</td>\n",
       "      <td>NaN</td>\n",
       "      <td>NaN</td>\n",
       "      <td>NaN</td>\n",
       "      <td>NaN</td>\n",
       "      <td>NaN</td>\n",
       "      <td>NaN</td>\n",
       "      <td>NaN</td>\n",
       "    </tr>\n",
       "    <tr>\n",
       "      <th>2</th>\n",
       "      <td>Harry Potter and the Deathly Hallows Part 1</td>\n",
       "      <td>296000000.0</td>\n",
       "      <td>664300000</td>\n",
       "      <td>2010.0</td>\n",
       "      <td>NaN</td>\n",
       "      <td>NaN</td>\n",
       "      <td>NaN</td>\n",
       "      <td>NaN</td>\n",
       "      <td>NaN</td>\n",
       "      <td>NaN</td>\n",
       "      <td>NaN</td>\n",
       "      <td>NaN</td>\n",
       "      <td>NaN</td>\n",
       "      <td>NaN</td>\n",
       "      <td>NaN</td>\n",
       "      <td>NaN</td>\n",
       "      <td>NaN</td>\n",
       "      <td>NaN</td>\n",
       "      <td>NaN</td>\n",
       "      <td>NaN</td>\n",
       "    </tr>\n",
       "    <tr>\n",
       "      <th>3</th>\n",
       "      <td>Inception</td>\n",
       "      <td>292600000.0</td>\n",
       "      <td>535700000</td>\n",
       "      <td>2010.0</td>\n",
       "      <td>$160,000,000</td>\n",
       "      <td>$835,524,642</td>\n",
       "      <td>Jul 16, 2010</td>\n",
       "      <td>27205.0</td>\n",
       "      <td>27.920</td>\n",
       "      <td>8.3</td>\n",
       "      <td>22186.0</td>\n",
       "      <td>NaN</td>\n",
       "      <td>NaN</td>\n",
       "      <td>NaN</td>\n",
       "      <td>NaN</td>\n",
       "      <td>NaN</td>\n",
       "      <td>Action,Adventure,Sci-Fi</td>\n",
       "      <td>148.0</td>\n",
       "      <td>8.6</td>\n",
       "      <td>7.0</td>\n",
       "    </tr>\n",
       "    <tr>\n",
       "      <th>4</th>\n",
       "      <td>Shrek Forever After</td>\n",
       "      <td>238700000.0</td>\n",
       "      <td>513900000</td>\n",
       "      <td>2010.0</td>\n",
       "      <td>$165,000,000</td>\n",
       "      <td>$756,244,673</td>\n",
       "      <td>May 21, 2010</td>\n",
       "      <td>10192.0</td>\n",
       "      <td>15.041</td>\n",
       "      <td>6.1</td>\n",
       "      <td>3843.0</td>\n",
       "      <td>NaN</td>\n",
       "      <td>NaN</td>\n",
       "      <td>NaN</td>\n",
       "      <td>NaN</td>\n",
       "      <td>NaN</td>\n",
       "      <td>Adventure,Animation,Comedy</td>\n",
       "      <td>93.0</td>\n",
       "      <td>5.2</td>\n",
       "      <td>22.0</td>\n",
       "    </tr>\n",
       "  </tbody>\n",
       "</table>\n",
       "</div>"
      ],
      "text/plain": [
       "                                   movie_title  domestic_gross foreign_gross  \\\n",
       "0                                  Toy Story 3     415000000.0     652000000   \n",
       "1                   Alice in Wonderland (2010)     334200000.0     691300000   \n",
       "2  Harry Potter and the Deathly Hallows Part 1     296000000.0     664300000   \n",
       "3                                    Inception     292600000.0     535700000   \n",
       "4                          Shrek Forever After     238700000.0     513900000   \n",
       "\n",
       "     year production_budget worldwide_gross  release_date  tmdb_id  \\\n",
       "0  2010.0      $200,000,000  $1,068,879,522  Jun 18, 2010  10193.0   \n",
       "1  2010.0               NaN             NaN           NaN      NaN   \n",
       "2  2010.0               NaN             NaN           NaN      NaN   \n",
       "3  2010.0      $160,000,000    $835,524,642  Jul 16, 2010  27205.0   \n",
       "4  2010.0      $165,000,000    $756,244,673  May 21, 2010  10192.0   \n",
       "\n",
       "   popularity  vote_average  vote_count rating genre studio theater_date  \\\n",
       "0      24.445           7.7      8340.0    NaN   NaN    NaN          NaN   \n",
       "1         NaN           NaN         NaN    NaN   NaN    NaN          NaN   \n",
       "2         NaN           NaN         NaN    NaN   NaN    NaN          NaN   \n",
       "3      27.920           8.3     22186.0    NaN   NaN    NaN          NaN   \n",
       "4      15.041           6.1      3843.0    NaN   NaN    NaN          NaN   \n",
       "\n",
       "  runtime                      genres  runtime_minutes  imdb_rating  \\\n",
       "0     NaN  Adventure,Animation,Comedy            103.0          6.1   \n",
       "1     NaN                         NaN              NaN          NaN   \n",
       "2     NaN                         NaN              NaN          NaN   \n",
       "3     NaN     Action,Adventure,Sci-Fi            148.0          8.6   \n",
       "4     NaN  Adventure,Animation,Comedy             93.0          5.2   \n",
       "\n",
       "   imdb_num_votes  \n",
       "0           160.0  \n",
       "1             NaN  \n",
       "2             NaN  \n",
       "3             7.0  \n",
       "4            22.0  "
      ]
     },
     "execution_count": 31,
     "metadata": {},
     "output_type": "execute_result"
    }
   ],
   "source": [
    "# Load the dataset\n",
    "# Suppress DtypeWarning by setting low_memory=False\n",
    "df = pd.read_csv('datasets/master_movie_dataset.csv', low_memory=False)\n",
    "\n",
    "# Display the shape and preview of the dataset\n",
    "print(\"Dataset shape:\", df.shape)\n",
    "df.head()"
   ]
  },
  {
   "cell_type": "markdown",
   "metadata": {},
   "source": [
    "### Step 2: Overview of Columns and Data types\n",
    "\n",
    "This helps us understand which columns are numerical, categorical, and where missing values exist."
   ]
  },
  {
   "cell_type": "code",
   "execution_count": 32,
   "metadata": {},
   "outputs": [
    {
     "name": "stdout",
     "output_type": "stream",
     "text": [
      "<class 'pandas.core.frame.DataFrame'>\n",
      "RangeIndex: 151165 entries, 0 to 151164\n",
      "Data columns (total 20 columns):\n",
      " #   Column             Non-Null Count   Dtype  \n",
      "---  ------             --------------   -----  \n",
      " 0   movie_title        151165 non-null  object \n",
      " 1   domestic_gross     3358 non-null    float64\n",
      " 2   foreign_gross      2037 non-null    object \n",
      " 3   year               3386 non-null    float64\n",
      " 4   production_budget  5698 non-null    object \n",
      " 5   worldwide_gross    5698 non-null    object \n",
      " 6   release_date       5698 non-null    object \n",
      " 7   tmdb_id            24688 non-null   float64\n",
      " 8   popularity         24688 non-null   float64\n",
      " 9   vote_average       24688 non-null   float64\n",
      " 10  vote_count         24688 non-null   float64\n",
      " 11  rating             1557 non-null    object \n",
      " 12  genre              1552 non-null    object \n",
      " 13  studio             494 non-null     object \n",
      " 14  theater_date       1201 non-null    object \n",
      " 15  runtime            1530 non-null    object \n",
      " 16  genres             131180 non-null  object \n",
      " 17  runtime_minutes    106598 non-null  float64\n",
      " 18  imdb_rating        70310 non-null   float64\n",
      " 19  imdb_num_votes     70310 non-null   float64\n",
      "dtypes: float64(9), object(11)\n",
      "memory usage: 23.1+ MB\n"
     ]
    }
   ],
   "source": [
    "# Column names and data types\n",
    "df.info()"
   ]
  },
  {
   "cell_type": "markdown",
   "metadata": {},
   "source": [
    "### Step 3: Summary Statistics"
   ]
  },
  {
   "cell_type": "code",
   "execution_count": 33,
   "metadata": {},
   "outputs": [
    {
     "data": {
      "text/html": [
       "<div>\n",
       "<style scoped>\n",
       "    .dataframe tbody tr th:only-of-type {\n",
       "        vertical-align: middle;\n",
       "    }\n",
       "\n",
       "    .dataframe tbody tr th {\n",
       "        vertical-align: top;\n",
       "    }\n",
       "\n",
       "    .dataframe thead th {\n",
       "        text-align: right;\n",
       "    }\n",
       "</style>\n",
       "<table border=\"1\" class=\"dataframe\">\n",
       "  <thead>\n",
       "    <tr style=\"text-align: right;\">\n",
       "      <th></th>\n",
       "      <th>domestic_gross</th>\n",
       "      <th>year</th>\n",
       "      <th>tmdb_id</th>\n",
       "      <th>popularity</th>\n",
       "      <th>vote_average</th>\n",
       "      <th>vote_count</th>\n",
       "      <th>runtime_minutes</th>\n",
       "      <th>imdb_rating</th>\n",
       "      <th>imdb_num_votes</th>\n",
       "    </tr>\n",
       "  </thead>\n",
       "  <tbody>\n",
       "    <tr>\n",
       "      <th>count</th>\n",
       "      <td>3.358000e+03</td>\n",
       "      <td>3386.000000</td>\n",
       "      <td>24688.000000</td>\n",
       "      <td>24688.000000</td>\n",
       "      <td>24688.000000</td>\n",
       "      <td>24688.000000</td>\n",
       "      <td>106598.000000</td>\n",
       "      <td>70310.000000</td>\n",
       "      <td>7.031000e+04</td>\n",
       "    </tr>\n",
       "    <tr>\n",
       "      <th>mean</th>\n",
       "      <td>2.875439e+07</td>\n",
       "      <td>2013.957177</td>\n",
       "      <td>292050.796662</td>\n",
       "      <td>3.008331</td>\n",
       "      <td>5.983052</td>\n",
       "      <td>173.939606</td>\n",
       "      <td>86.186289</td>\n",
       "      <td>6.335036</td>\n",
       "      <td>3.501494e+03</td>\n",
       "    </tr>\n",
       "    <tr>\n",
       "      <th>std</th>\n",
       "      <td>6.699064e+07</td>\n",
       "      <td>2.477955</td>\n",
       "      <td>154978.956063</td>\n",
       "      <td>4.200146</td>\n",
       "      <td>1.868211</td>\n",
       "      <td>896.784914</td>\n",
       "      <td>172.111139</td>\n",
       "      <td>1.474287</td>\n",
       "      <td>3.024801e+04</td>\n",
       "    </tr>\n",
       "    <tr>\n",
       "      <th>min</th>\n",
       "      <td>1.000000e+02</td>\n",
       "      <td>2010.000000</td>\n",
       "      <td>27.000000</td>\n",
       "      <td>0.600000</td>\n",
       "      <td>0.000000</td>\n",
       "      <td>1.000000</td>\n",
       "      <td>1.000000</td>\n",
       "      <td>1.000000</td>\n",
       "      <td>5.000000e+00</td>\n",
       "    </tr>\n",
       "    <tr>\n",
       "      <th>25%</th>\n",
       "      <td>1.200000e+05</td>\n",
       "      <td>2012.000000</td>\n",
       "      <td>150201.750000</td>\n",
       "      <td>0.600000</td>\n",
       "      <td>5.000000</td>\n",
       "      <td>1.000000</td>\n",
       "      <td>70.000000</td>\n",
       "      <td>5.500000</td>\n",
       "      <td>1.400000e+01</td>\n",
       "    </tr>\n",
       "    <tr>\n",
       "      <th>50%</th>\n",
       "      <td>1.400000e+06</td>\n",
       "      <td>2014.000000</td>\n",
       "      <td>303294.000000</td>\n",
       "      <td>1.310500</td>\n",
       "      <td>6.000000</td>\n",
       "      <td>5.000000</td>\n",
       "      <td>86.000000</td>\n",
       "      <td>6.500000</td>\n",
       "      <td>4.900000e+01</td>\n",
       "    </tr>\n",
       "    <tr>\n",
       "      <th>75%</th>\n",
       "      <td>2.790000e+07</td>\n",
       "      <td>2016.000000</td>\n",
       "      <td>419055.000000</td>\n",
       "      <td>3.412000</td>\n",
       "      <td>7.000000</td>\n",
       "      <td>25.000000</td>\n",
       "      <td>99.000000</td>\n",
       "      <td>7.400000</td>\n",
       "      <td>2.830000e+02</td>\n",
       "    </tr>\n",
       "    <tr>\n",
       "      <th>max</th>\n",
       "      <td>9.367000e+08</td>\n",
       "      <td>2018.000000</td>\n",
       "      <td>608444.000000</td>\n",
       "      <td>80.773000</td>\n",
       "      <td>10.000000</td>\n",
       "      <td>22186.000000</td>\n",
       "      <td>51420.000000</td>\n",
       "      <td>10.000000</td>\n",
       "      <td>1.841066e+06</td>\n",
       "    </tr>\n",
       "  </tbody>\n",
       "</table>\n",
       "</div>"
      ],
      "text/plain": [
       "       domestic_gross         year        tmdb_id    popularity  vote_average  \\\n",
       "count    3.358000e+03  3386.000000   24688.000000  24688.000000  24688.000000   \n",
       "mean     2.875439e+07  2013.957177  292050.796662      3.008331      5.983052   \n",
       "std      6.699064e+07     2.477955  154978.956063      4.200146      1.868211   \n",
       "min      1.000000e+02  2010.000000      27.000000      0.600000      0.000000   \n",
       "25%      1.200000e+05  2012.000000  150201.750000      0.600000      5.000000   \n",
       "50%      1.400000e+06  2014.000000  303294.000000      1.310500      6.000000   \n",
       "75%      2.790000e+07  2016.000000  419055.000000      3.412000      7.000000   \n",
       "max      9.367000e+08  2018.000000  608444.000000     80.773000     10.000000   \n",
       "\n",
       "         vote_count  runtime_minutes   imdb_rating  imdb_num_votes  \n",
       "count  24688.000000    106598.000000  70310.000000    7.031000e+04  \n",
       "mean     173.939606        86.186289      6.335036    3.501494e+03  \n",
       "std      896.784914       172.111139      1.474287    3.024801e+04  \n",
       "min        1.000000         1.000000      1.000000    5.000000e+00  \n",
       "25%        1.000000        70.000000      5.500000    1.400000e+01  \n",
       "50%        5.000000        86.000000      6.500000    4.900000e+01  \n",
       "75%       25.000000        99.000000      7.400000    2.830000e+02  \n",
       "max    22186.000000     51420.000000     10.000000    1.841066e+06  "
      ]
     },
     "execution_count": 33,
     "metadata": {},
     "output_type": "execute_result"
    }
   ],
   "source": [
    "#summary statistics for numeric columns\n",
    "df.describe()"
   ]
  },
  {
   "cell_type": "markdown",
   "metadata": {},
   "source": [
    "### Step 4: Check for missing Data"
   ]
  },
  {
   "cell_type": "code",
   "execution_count": 34,
   "metadata": {},
   "outputs": [
    {
     "data": {
      "text/plain": [
       "studio               150671\n",
       "theater_date         149964\n",
       "runtime              149635\n",
       "genre                149613\n",
       "rating               149608\n",
       "foreign_gross        149128\n",
       "domestic_gross       147807\n",
       "year                 147779\n",
       "production_budget    145467\n",
       "release_date         145467\n",
       "worldwide_gross      145467\n",
       "vote_average         126477\n",
       "vote_count           126477\n",
       "popularity           126477\n",
       "tmdb_id              126477\n",
       "imdb_num_votes        80855\n",
       "imdb_rating           80855\n",
       "runtime_minutes       44567\n",
       "genres                19985\n",
       "dtype: int64"
      ]
     },
     "execution_count": 34,
     "metadata": {},
     "output_type": "execute_result"
    }
   ],
   "source": [
    "# Count of missing values per column\n",
    "missing_values = df.isnull().sum().sort_values(ascending=False)\n",
    "\n",
    "# Show only columns with missing data\n",
    "missing_values[missing_values > 0]"
   ]
  },
  {
   "cell_type": "code",
   "execution_count": 35,
   "metadata": {},
   "outputs": [
    {
     "data": {
      "image/png": "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",
      "text/plain": [
       "<Figure size 720x576 with 1 Axes>"
      ]
     },
     "metadata": {
      "needs_background": "light"
     },
     "output_type": "display_data"
    }
   ],
   "source": [
    "# visualize the missing data\n",
    "\n",
    "# Plot top 20 columns with missing values\n",
    "missing_values.head(20).plot(kind='barh', figsize=(10, 8), title='Top Missing Fields')\n",
    "plt.gca().invert_yaxis()\n",
    "plt.xlabel('Missing Values')\n",
    "plt.show()"
   ]
  },
  {
   "cell_type": "markdown",
   "metadata": {},
   "source": [
    "#### Interpretation\n",
    "\n",
    "The top 10 columns (like studio, theater_date, runtime, genre, etc.) each have over 140,000 missing values, indicating that a significant portion of the dataset lacks this information.\n",
    "\n",
    "Columns such as:studio,theater_date,runtime,genre and rating are severely incomplete, likely because many entries came from sources that didn’t provide these details (e.g., IMDb might not list theater release dates for all entries).\n",
    "\n",
    "Mid-level missingness is observed in:vote_count, vote_average, popularity, and tmdb_id\n",
    "These are primarily from TMDb, so their absence suggests the TMDb data didn’t cover all films in the master set.\n",
    "\n",
    "The least missing columns:genres, runtime_minutes, imdb_rating, and imdb_num_votes\n",
    "These were likely better covered by the IMDb data and cleaned properly.\n",
    "\n",
    "movie_title has zero missing values, which is expected and important, since it's the key used for merging datasets."
   ]
  },
  {
   "cell_type": "markdown",
   "metadata": {},
   "source": [
    "### Step 5: Clean financial columns\n",
    "\n",
    "Some monetary values are stored as strings with $ and commas. Let's clean those."
   ]
  },
  {
   "cell_type": "code",
   "execution_count": 36,
   "metadata": {},
   "outputs": [],
   "source": [
    "# Step 5: Clean financial columns\n",
    "# Some monetary values are stored as strings with $ and commas. Let's clean those.\n",
    "\n",
    "def clean_money(series):\n",
    "    return series.replace(r'[\\$,]', '', regex=True).astype(float)\n",
    "\n",
    "# List of monetary columns to clean\n",
    "money_cols = ['production_budget', 'worldwide_gross', 'domestic_gross', 'foreign_gross']\n",
    "\n",
    "# Apply cleaning function to each column\n",
    "for col in money_cols:\n",
    "    df[col] = clean_money(df[col])"
   ]
  },
  {
   "cell_type": "markdown",
   "metadata": {},
   "source": [
    "### Step 6: Drop Duplicates and Confirm"
   ]
  },
  {
   "cell_type": "code",
   "execution_count": 37,
   "metadata": {},
   "outputs": [
    {
     "name": "stdout",
     "output_type": "stream",
     "text": [
      "Shape after removing duplicates: (151165, 20)\n"
     ]
    }
   ],
   "source": [
    "# Drop duplicates based on movie_title\n",
    "df.drop_duplicates(subset='movie_title', inplace=True)\n",
    "\n",
    "# Confirm shape\n",
    "print(\"Shape after removing duplicates:\", df.shape)"
   ]
  },
  {
   "cell_type": "markdown",
   "metadata": {},
   "source": [
    "### Step 7: Correlation Heatmap\n",
    "Let’s check how numerical features relate to each other"
   ]
  },
  {
   "cell_type": "code",
   "execution_count": 38,
   "metadata": {},
   "outputs": [
    {
     "data": {
      "image/png": "iVBORw0KGgoAAAANSUhEUgAAAnoAAAI2CAYAAADHMCUbAAAAOXRFWHRTb2Z0d2FyZQBNYXRwbG90bGliIHZlcnNpb24zLjMuMSwgaHR0cHM6Ly9tYXRwbG90bGliLm9yZy/d3fzzAAAACXBIWXMAAAsTAAALEwEAmpwYAAEAAElEQVR4nOzdd3gU1frA8e+7Jb2HFAglEEB6B1GkCIrYUYpYr/1ee+8N8dr1qtixAfYCYsGOUqRI7z2hhZKE9L6bnfP7YzZlswkEdjGY3/k8T57szJwz8+7MZHL2PWdmRSmFpmmapmma1vRYGjsATdM0TdM07djQDT1N0zRN07QmSjf0NE3TNE3Tmijd0NM0TdM0TWuidENP0zRN0zStidINPU3TNE3TtCZKN/Q0rQkTkStF5E8f6v8oIv/yZ0za8UFEHhSRdxs7Dk3Tji3d0NO0Y0xELhGR5SJSJCL73Y2nUxo7rtpEZKKIfFRznlLqTKXUtGOwraki4nDvk0IRWSEiQ4+gvhKR9v6Oy19EJNkd4+xa8z8SkYmNFJYHpdRTSqlrj7SeiMwVkTL3sav8OcmXWNzrPOJYNE07PN3Q07RjSETuBF4GngISgNbAG8D5R7EuW0Pm/YM8p5QKAyKBN4GZImJt5Jj8baCIDGrsIGrzw3lzs1IqrMbPYr8EdpT+4X8HmnZM6Yaeph0jIhIJTAJuUkrNVEoVK6WcSqnvlFL3uMsEisjLIrLP/fOyiAS6lw0TkXQRuU9EDgAfuLNuX7kzQwXAlSISKSLvubOFe0Xkv/U1mETkFRHZIyIF7izaYPf8UcCDwEXuDM0a9/yqTIuIWETkYRHZJSKZIjLd/R5rZrD+JSK7ReSgiDzUkP2klDKAT4AYzMZwZaxXi8gmEckVkZ9FpI17/nx3kTXuWC8SkXkiMsa9/BR3LGe5p08TkdWHW697WScR+VVEckRki4iMr7Fsqoi8LiKz3VnIv0Qk5TBv7zngv3UtqKtbvWam0r29N9wZ4CIRWSgiie5zJFdENotI7xp1W4jIDBHJEpEdInJrjWV1nTceGVz3flskInnuc+TKw7y32u8nUERecB//DBF5S0SC3cuiReR7d2y57tct3cueBAYDr7nf52s1zidbjfXXPBevdO+Pl0QkB5h4mO03c28zz31sF4iI/v+n/b+gT3RNO3ZOAoKArw9R5iFgINAL6AkMAB6usTwRswHUBrjePe984CsgCvgYmAZUAO2B3sBIoL5usGXubcVgNq6+FJEgpdRPmFnHz90Zmp511L3S/XMq0A4IA16rVeYU4ARgBPCoiHQ+xHsHwN0ovQLYAWS4543GbHheCMQBC4BPAZRSQ9xVe7pj/RyYBwxzzx8CpAFDa0zPO9x6RSQU+NW9X+KBi4E3RKRrjXAvBh4HooHtwJOHeXuvAx1F5LTD7Yd6jMc8H5oB5cBiYKV7+ivgf+7YLcB3wBogCXP/3y4iZ9RYV+3zpoqItAZ+BF7F3C+9gNVHGOuzQEd33fbuOB51L7MAH2Cex62BUtznjlLqIczjUJklvLmB2zsR8zjHYx6HQ23/LiDd/d4SMM8B/f2f2v8LuqGnacdOLHBQKVVxiDKXApOUUplKqSzMRsTlNZYbwGNKqXKlVKl73mKl1Cx3JiwCOBO43Z0xzAReAibUtTGl1EdKqWylVIVS6kUgELNh1hCXAv9TSqUppYqAB4AJ4tlt9rhSqlQptQaz0VFXg7HS3SKSBxRjdm8/opRyuZf9G3haKbXJvf+eAnrVzL7VMg/Pht3TNaaHupcfbr3nADuVUh+4989KYAYwtsZ2ZiqllrrrfozZqDiUMsxGSJ1ZvQb4Wim1QilVhvmBoUwpNd29nz7HbNgD9AfilFKTlFIOpVQa8A6e50HVeVPjXKp0KfCbUupTd9Y5Wym1+hBxTXZnx/JEZKWICHAdcIdSKkcpVYi5bycAuNc3QylV4l72JNXH52jtU0q96j4WZYfaPuAEmgNt3O9vgdJf9K79P6Ebepp27GQDzeTQ44daALtqTO9yz6uU5f4nX9OeGq/bAHZgf+U/XuBtzCyHFxG5y91tme8uG4mZHWqIumK1UaO7FThQ43UJZtavPi8opaKAYKAf8LyInFnjfb1S4z3lAIKZpanLYszMWQJm42s60EpEmmFmSSu7ew+13jbAiTUaMHmYDaDEo3x/ld4BEkTk3AaUrS2jxuvSOqYrt98GaFEr9gfxPDY1z5vaWgGpRxDXrUqpKPdPH8xMWQiwosb2f3LPR0RCRORtMbv9CzCPR5T4Niaz5vs55PaB5zEzsL+ISJqI3O/DdjXtH0UPYNW0Y2cxZqZhNGaXWV32Yf6T3uCebu2eV6murEPNeXswu/SaHSZziJjj8e7D7NbboJQyRCQXs6FT37bqirVSa8wu4wyg5WHq1sudWVkvIguBszG7EPcATyqlPj5k5ep1lIjICuA2YL1SyiEii4A7gVSl1EF30XrX687qzVNKnX6076We2Jwi8jjwBNXHGcxMZkiN7SfWrnsE9gA7lFIdDhXKYeoP8GH7BzEbnl2VUnvrWH4XZub4RKXUARHpBayi/nOv2P07BChwv669f2rWOeT23Rm+u4C73F3xf4jIMqXUnIa8OU37J9MZPU07RpRS+ZhjhF4XkdHurIZdRM4UkefcxT4FHhaROHf26VHgo/rWWcc29gO/AC+KSISYN0ykSN2PKgnHbJhlATYReRSz67dSBpB8iEHqnwJ3iEhbEQmjekzfIRuYDSEinTDH91U2hN4CHqgcHyfmDSfjasXartZq5gE3U91NO7fW9OHW+z1mVvBy93Gyi0j/howzbIAPMbvJR9WYtwboKiK9RCQImOjD+pcCBWLeuBMsIlYR6SYi/RtY/2PgNBEZLyI2EYl1N8YaxD2M4B3gJRGJBxCRpBpjBMMxG2J5IhIDPFZrFR7H0z2MYS9wmfu9XA3Ue+PL4bYvIueISHt3F3MB4HL/aFqTpxt6mnYMKaX+h5lVehizgbUHs/Exy13kv8ByYC2wDnOg/ZGO57oCCAA2ArmY2cPmdZT7GTNbthWz27UMz+6vL92/s0VkZR3138dssMzHvHGiDLjlCGOt6V4x77IsxmysfoDZ7YxS6mvMwfWfubv61mOORaw0EZjm7qarvDN2HmaDYn4904dcrzvrMxJzXNc+zG7aZzEbaD5xj6l7DPMmmMp5WzHvyv4N2AYc9YOt3es/F7PbegdmhutdzK75htTfDZyFmfXKwbwR41DjK+tyH2b36BL3vv2N6vGfL2N20R8ElmB2q9b0CjBWzDtyJ7vnXQfcgzkEoiuwyIftd3BPF2Fm2t9QSs09wvenaf9IosejapqmaZqmNU06o6dpmqZpmtZE6YaepmmapmlaIxOR98V8GP36epaLiEwWke0islZE+jRkvbqhp2mapmma1vim4nnDVm1nYo437YD5AP03G7JS3dDTNE3TNE1rZEqp+Zg3Q9XnfGC6Mi3BfBZlXTfeedANPU3TNE3TtONfEp5PSkin/ofIV9EPTP6HmW0/4bi7TfrkicMbOwQvjwQ/09gheHku8sXGDsHL2im1n3JxfHi2f4Oek/y3+mTM0sYOwcvruRc3dgherku7o7FD8PJFr1caO4Q6rV6d19gheCkqqP1FPI1v2qREOXwp/zlW/2fPqdj6b6q/sxxgilJqyhGsoq79cNhYdUNP0zRN0zTtGHM36o6kYVdbOubXFVZqiec3KdVJN/Q0TdM0TdPcxP63JhCPxLfAzSLyGXAikO/+dqRD0g09TdM0TdO0RiYinwLDgGYiko75bTp2AKXUW8APmN9gsx0oAa5qyHp1Q0/TNE3TNM3NYmucjJ5S6pCDbpX5VWY3Hel69V23mqZpmqZpTZTO6GmapmmaprmJvWnlwHRDT9M0TdM0za2xum6PlabVbNU0TdM0TdOq6Iyepmmapmma23H8eJWjojN6mqZpmqZpTZTO6Gmapmmaprk1tTF6uqGnaZqmaZrm1tS6bnVDrwnq8c5TxJ81DEdmNvN7n1tnmS4vPUT8qKG4SstYc839FKzaCEDcyMF0+d9DiNXCnve/JPX5d/wSk61dF0JGjgcRylcvpHzxLx7LAweeTkC3/gCIWLE0SyT/pXuQkHBCL7ymqpw1qhml876nfNnvfomrc7KNscOCsFhg0Tonvy4r9yoz9tQgura14XDChz+XkJ5pEBUmXHFmCBEhglKwcJ2DuascfolpYdp+np+zCkMpRvdox9UDO3ssn/bXZn7YtAsAl2GwI7uQ328+n8jgwMPWPVqRAweSfOddiMVC5rffsG/6dI/l1vBwUh5+hMCkJJTDQep/n6A0La26gMVC96nTcGRlseWuO/0SE8A1Y+Po2zWEcofi1Q8zSEv3Pn7xsTbuuqo5YSEW0vaU88r0A1S4YPSIKIb0jzDjt0BSYgBX3p9GUYlx1PEs3LCd5774GcMwuGBQb64edYrH8mVbdnLHm5/TolkUACN6d+LfZw8F4OM5fzFz4UqUggtP6c1lIwYedRy17dmygMXfP4UyDE7oP5Zew67zWJ6Xmca8rx7k4L6N9B95Oz2GXA1AhbOc76dcjqvCgWFU0K7bGfQ9/Ra/xGRL7kTQ8AtBLDjXLaF86W8eywP6Dyegc19zwmLFEpNA4RsPocpKCL/uUZSjHJSBMgyKP3rRLzHt2DCf3796EmUYdB80jhNHXu+xPPtAKj999CCZezZwyrl30P8089qUk5HGd+/dUVUuP3sPg86+lb7Dr/Q5pi7JNsYOD8Yi5nXm16Xe5/i44cHmNaoCPvyxhD2ZLqLChX+dGUJEqAWl4M+15cxd6Z9rFMClZ4XTs0MgDqfina/z2bW/wqtMsygrN46PJDTYwq59Tt6emY/LBSf1COLsU0IBKHMopn1XwJ4M7/qaf+iGXhOUPm0mO9/4iF7vP1vn8rhRQwhtn8zcziOJOrEn3V6byKJB48FioevkR/nrzKsoS8/glCVfkfH97xRtSvUtIBFCRk2g6JPJGAW5hF99P85tazEOHqgqUr7kV8qX/AqAvUN3AgeMQJWVoMpKKHz3qar1RN76NM4tq32Lpzosxg8P4rUZxeQVKu65NIx1qU4O5FT/o+/S1kZclIXH3y8iubmVCSOCeeHTYgwFM+eVkp5pEGiH+y4LY/OuCo+6R8NlGDzz2wreHD+MhPBgLp3+K0PbtyClWWRVmX+d2Il/ndgJgHnb9/Lx8q1EBgc2qO5RsVhoe8+9bLrlZhyZmXSbOo3cBQso3bGjqkjSlVdSvHUrW++7l6A2bczyN1c/wD3xogmU7tyJNTTUt1hq6NMlhBZxdm58fBcdk4P494R47nthj1e5K85vxnd/5PLniiL+MyGeESdF8vOf+cyak8esOXkA9OsWynmnRvnUyHMZBk9/+iNv3XYZCdERXPr0uwztcQIpLeI8yvXu0JpXb/J8AP72vZnMXLiSj+6/FrvVyk2vfszgbh1okxB71PFUMgwXC799grOueY/QiARmvT6eNp1PJTqhfVWZwJBITj73IXZunONR12oL4OxrP8AeGIrhcvLtW5fR8oTBJLTu5VtQIgSdNo7iL99AFeYRdtldOFPXYWRnVBVxLPsdh/sDna1dVwL7DUOVlVQtL/7iNVRpsW9x1GAYLn77YhLjbvmA8KgEPnpuLCndh9OsefV+CgqNYvi4h9i+xnM/xSS0418PflO1nrceHEL7nqf7HJMIjD8tmFe/LCav0ODey8LNa1R29Xnata2NuGgLE98rNK9Rpwfz/MdFGAbMnFvGnkyXeY26PNy8RmX7do0C6NEhgMRYG/e+cpCUlnb+dW4Ek6bkeJW7aGQYPy8q4a/1Zfzr3AiG9gnm92WlZOW6eOr9HErKFD06BHDV+XXXbyxNrev2b78ZQ0Qmisjdf/M2rxSRFjWm3xWRLn9nDH+nnD+X48zJr3d5wnkj2PvRLADy/lqDPTKCwMQ4ogb0oCR1F6U70lFOJ/s+n03CuSN8jsfaIhkjJwsj7yAYLpwblxPQsWe95QO69MexYZnXfFtyJ4zcgxgF/rkgJCdaOZhnkJ2vcBmwcrOTHil2jzI9Umws3egEYOd+F8GBQkSoUFCsSM80L5jlTjiQbRAV5vuf0/r9ObSKCqdlVBh2q5UzOrdm7va99Zb/adNuRnVufVR1GyqsS1fK0tMp37cPVVFB9q+/ED1kiEeZ4LZtKVhuHrOyXbsIbN4ce0wMAAHx8UQPGkTmN9/4HEtNA3qE8cfSAgC27iwjNNhCdITVq1z3jiEsWlUEwB9/FXBiT+/G5uB+4SxYUehTPOt37qVVfDQt46Kx26yc0b8rc9duaVDdtAMH6dG2JcEBdmxWC307tOH31Zt9iqdS1p61RMS2JiKmFVZbACk9z2LXJs+MeHBYLHGtumOxen72FxHsgeb+MlwVGIYTwfd/gtbENhi5Waj8bPOasHkl9pTu9Za3d+6LY9NKn7d7KAd2riU6rg1Rzcz91Knv2aSu9WzQhYbH0rxND6/9VNPuLYuJimtFZGySzzElJ1rJyjXIzjdwGbBis8P7GtXezl8bzExd7WvUnkwXYF6jMnL8c40C6NMpiIWrSwFITXcSEmQhso51d24byLKNZQD8ubqUPp2DANi+x0lJmap6HVPH363mP/9f7rq9Eqhq6CmlrlVKbfT3RsR03O/ToBYJlKZXZ9PK9h4gKCmhjvkZBCUl+Lw9S3gURmFu1bRRkIuER9Vd2GbHltIF5+ZVXosCuvbDsdG7AXi0IsOE3EJVNZ1bZBAZ7vlPLCrMQm5h9SfgvCLldbGMiRBaxlvZecD3rofMolISwoOrphPCQ8gqLK2zbKmzgkU7DjCiY8sjrnskAuLjcGTUyLRkZhIQ55mlKtm2jZhhpwIQ2qULgYmJBMTHA9DmjjvY/dqroHzPJNQUG2UjO7d6n2fnVRAT5fkPODzUQnGpC8O96YO5FcRGepYJsAu9O4eweHWRT/Fk5haSGF2dPU2IiiAz17vxuDYtnfFPvM1Nr37M9n2ZALRvEceKbbvIKyqh1OHkz/XbyMgt8CmeSsUFmYRFJlZNh0YkUJyfcYgangzDxYzJF/Dhk6eQ1P5k4lvX/yGtoSQ8ElWYV72NojwkvJ7Ms82OLbkTFdvWeMwOHXsDYZfdjb3HST7HA1CYl0F4dPV+CotKoDCv4fup0ubls+nU9xy/xBQVXvv6YxAV7nn9iQyzkFezTKF3gy4mwmJeo+roXj0a0REWsvNdVdM5BS6iIzy3GRYilJQZVX97ufkuosO9/z0O7RvM2m3e3dGNSaxyTH4ay9/SKBGRh0Rki4j8BpzgntdLRJaIyFoR+VpEot3z54rISyIyX0Q2iUh/EZkpIttE5L811nmZiCwVkdUi8raIWN0/U0VkvYisE5E7RGQs0A/42F022L2Nfu71jBKRlSKyRkTm1BF+5fbiRORXd9m3RWSXiDQTkWR3nG8AK4FWIvJ8jRguctdv7n5Pq93LBtcV7zE7CJ7vxWueUsrsJ/Be4I8tNni99g49qEhP9eiiAcBixd6hh18/1df5Z9eAt6tqxB5gh2vPDWXG3FLK/DH8pa7t13N9mL99H72SmhEZHHjEdY9MXcfPc3Lf9OlYI8Lp/uFHJI4fT/HWrSiXi6hBp+DMyaV4s3+yU4dT+7Sq81yvNd2/eyib00p96rata73m9j2nO7duzo9P3sYXj/ybCcMGcMebXwDQrnkcV50xiP+88hE3Tf6Yji0TsVr8dXmuI7K6/tbrYbFYGXPr11xy/x9kpa8j58BWP8R0+HOqkj2lG659OzyuCUWfvEzRhy9QPPMtAnsNxtoyxQ8xeQdQ1/lzKK4KB6nrfueEPqP8EE/dvM/xOsrUeB1oh+vOC+GrP/x0jYK6ryu14zp8ETq1DWBInxA+/8W3bLp2aMd8jJ6I9AUmAL3d21sJrACmA7copeaJyCTgMeB2dzWHUmqIiNwGfAP0BXKAVBF5CYgHLgIGKaWc7kbWpcAGIEkp1c297SilVJ6I3AzcrZRa7p5fGVsc8A4wRCm1Q0RiDvFWHgN+V0o9LSKjgJqjdE8ArlJK3SgiY4BeQE+gGbBMROYDlwA/K6WeFBErEOIu5xFvPfvw+srt3WyJZ5SlzmINVrr3AMEtE6nMsQUlJVK+LxNLgJ3gltWfaIOSEihzZxx8YRTmYgmPrpq2RESjiuruWg7o2g/HhuVe8+3tu+I6sBtV7L8LQl6RIrpGBi86zEJ+kapVxnB/CjU/vUaFCfnFZhmLBa47N4Tlmxys2e6fT8rx4cFk1MjCZRSWEBcWXGfZnzdXd9sead0j4cjMJCChOrMbEB+P42CWRxlXcTFpTzxRNd3761mU79tH7OmnEz1kMNEnn4wEBmINDSVl4uOkTnzsqGI5c0gkp59sZn627yojNrr6EhYbZSM33/M4FBS5CA22YrGAYUCzaBs5tcqc0jecBSt8y+YBJESHcyC3+rzOyCsgLirco0xYZaMcGNy9A099+gO5RSVEh4VwwaDeXDCoNwCTZ80hISrC55jAzOAV5Vdn6osLMgiNiD/i9QQGR9C87QDSt/5JTGJHn2JShXkeWX1LWFS91wR7pz44a33AU8VmtlOVFOHcvhZrYmtc6b6NJQ6PSqQwt3o/FeVlEBZ5ZPtpx4b5xLfqSmhEM59iqZRXaHhkwaLCLOQXGV5lompeo8Kry1gscO15oSzb5GTNNqdPsYwYEMLQvub1ZMdeJ7GRVrZhrjMmwuqReQQoLFGEBFmq/vaiI60emcdWCTauOT+CFz7MpbjUHwkF/7E0YvbtWPg7MnqDga+VUiVKqQLgWyAUiFJKzXOXmQbUHPTzrfv3OmCDUmq/UqocSANaASMwG3/LRGS1e7qde3k7EXnV3Rg7XN/HQGC+UmoHgFLqUIO/TgE+c5f7CaraSQC7lFJLapT7VCnlUkplAPOA/sAy4CoRmQh0V0oVNjRepdQUpVQ/pVQ/Xxt5AJnf/U7SZaMBiDqxJxUFhZQfyCJ/2TpC2ycTnNwSsdtpcdHZZHzv+92trn27sMTEY4mMNTNzXfrh2LrWu2BgELbWHXBuXeO1yBy3590A9MWuAy7ioqzERghWC/TpZGdtmufFcF1qBQO6mGNikptbKXUoCtwNvUtHBnMgx+B3P97J1rV5DLtzC9mbV4TT5eLnTbsZ1t57rE9huYMVe7I8ljW07pEq2rSRoFatCGzeArHZiD19JLnzF3iUsYaFITaz0RV//vkUrF6Nq7iYPW+8wapzz2XVBaPZ/vBDFCxfftSNPIAf5+dz5zO7ufOZ3fy1tohTB5iNoY7JQZSUGuQWuLzqrN9awsm9wwA49cQIlq6tHsAfEmSha/tglq71vaHXtU0SuzNz2HswF2eFi5+XbWBoD88G0cH8oqqM8Lode1FKERVq/vPMKTDj2p+Tz++rNnNm/24+xwQQ17I7BQd3UZCTbmac1vxA686nNqhuaVEO5aXmZanCWcbe1MVExrX1OSbXgd1Yo+OQyBjzmtCpD87U9d4FA4KwtkzBmbquep49AOyBVa9tbTphHNzvc0yJbbqTm7mTvIN7cFU42LxiNindhx/ROjatmE2nfmf7HEulXQdcxEdbiI20YLVA304BrEv1vEatTXVyYtcAwH2NKq++Rl12Roh5jVrhe9fonKUlPPpmNo++mc3KzeUM6mWetykt7ZSWGV4NUIBNOxz072KOyzulVzArN5nj9WIiLdwyIYq3Z+STke39N9vYxCLH5Kex/F133R5pc73yrDRqvK6ctmFmhacppR6oXVFEegJnADcB44GrD7EdOYLYDnWUat76VXePoFLzRWQIcDbwoYg8r5SafoTxNkivD18kdugAAppFM3zHPLZNehWxm4d695TPyPxxHnFnDmXY5l9xlZay9toHzRhdLtbfNokBs99FrFbSp86gaON2X8MBZVDy82eEXXwLWCw41izCOLifgD6DAXCsNBsNASf0oiJtEzhrNZxsdmxtO1H848e+x1KDoeCLP0q5aUwoIrBkvXk32yk9zIvmn2sdbNhRQde2Nh67OgxnBXz0s5kxa9fCyoldAtib5eL+y8xGxLcLy9i4w7fMns1i4b7T+nDjl/MwlOL87u1IaRbJl6vM4zCut3kH4B9b9zIwOYHgANth6/rM5WLnC8/TafJk8/Eq331H6Y404i+4EIDMr2cSnNyWlImPgcugdMcOUp/872FW6rsVG0ro2zWUNx9rQ7lT8epH1eOpHr6hBa9/kkFuvovp3xzkrquac8k5sezYU85vi6s/T53YM5TVm0sod/ieUbBZLdx/0ZncMPljDENx/sm9aN8ini/nmx9Qxg3px28rN/LF/BXYLBYCA2w8c+2Yqh6Gu6Z8QX5RKTarlQcuPpOIUN+zsQAWq42Tz3uYH9+/FqUMTuh3ITEJHdj412cAdDlxAiWFWcx6bRyO8iJELKxfOJ2xd3xPSWEW8758AKVcKGXQrvso2jSwkXhIyqB0zgxCx9wAFvPxKkb2AQJ6DgLAsWYh4B7KsWuLxzVBQsIJPd/9yCWLBeemFVTs9H1ogMVqY8T4R5nx+rUYhovuJ42hWYsOrF7wKQC9Bl9McX4WHz43BkeZuZ9W/DGNqx7+gcDgMJyOUnZtXsTIiyf5HEslQ8EXc8xrlMUCi9c52J9tcEpP9zVqjYMNaRV0bWtn4rXhOJzw0U9mF3dKkpUTu5rXqAeuMDPL3y4oZYOP1yiANVvL6dEhgOdvb0a5U/Hu19XZ2Dsvi+b9b/LJKzT44tdCbhwXyZgRYezaX8H8leb1c/SwMMJCLFxxjvlBzTBg4tvZPsel1U2UX8ZgHWIDIn2AqcCJVHfdvg1cDtyslFrgznJFKqXuEJG5uLtZRWSY+/U57nXNBe4GSjC7dAcppTLdXa7hmA0uh1KqQER6AVOVUr1E5Dvgf0qpP2qtZ5c7nqqu2/qyeiLyOrBbKfWsiIwEfgbigDDg+xrdrxcC/wbOAmKA5e73HgjsVUpViMjtQDLw37riPdT+nG0/4fjKcQMnTzyyT71/h0eCn2nsELw8F+mfZ33509opPzV2CHV6tr9/G/X+8MmYpY0dgpfXcy8+fKG/2XVpf8tQ4yPyRa9XGjuEOq1endfYIXgpKihr7BC8TJuU+Lemwxb1639M/s+evHxZo6T1jnlGTym1UkQ+B1ZjNqwq+3z+BbwlIiGYXZhXHcE6N4rIw8Av7rtcnZgZsVLggxp3vlZm/Ka6t1UKnFRjPVnu8W8z3XUygfoefvQ48Kn75op5wH6gELOhV9PX7m2swcwW3quUOiAi/wLuEREnUARcASTVE6+maZqmaZrP/pauW6XUk8CTdSzyevS7UmpYjddzgbn1LPsc+LyOdfapY50zgBk1ZtVcz4/Aj/UGXy0fOMOdkTsJONU9bnAnUDWYRpkp0nvcPzVjmIY5FvGw8Wqapmma1jia2s0Y+psxGq418IU7++YArjtMeU3TNE3T/mEa88aJY0E39GoRkauA22rNXqiUugnzETGapmmapmn/CLqhV4tS6gPgg8aOQ9M0TdO0v19T67o97r+uS9M0TdM0TTs6OqOnaZqmaZrm1pjfS3ss6Iaepmmapmmam/jte6aPD03r3WiapmmapmlVdEZP0zRN0zTNrak9XkVn9DRN0zRN05oondHTNE3TNE1z049X0TRN0zRN0/4RdEZP0zRN0zTNramN0dMNvX+YkycOb+wQvCya+Htjh+DlhFkRjR2CF+fG3MYOwUtoXGhjh1CnFslxjR2Cl4rQqMYOwUto+fHXKROY1KKxQ/ASG2E0dgh1qqg4/uJyuY6/mP5u+vEqmqZpmqZp2j+CzuhpmqZpmqa5NbWuW53R0zRN0zRNa6J0Rk/TNE3TNM2tqT1eRTf0NE3TNE3T3HTXraZpmqZpmvaPoDN6mqZpmqZpbvrxKpqmaZqmado/gs7oaZqmaZqmuTW1MXq6oadpmqZpmubW1Bp6uutW0zRN0zStidIZPU3TNE3TNDed0dM0TdM0TdP+EXRGrwmytetCyMjxIEL56oWUL/7FY3ngwNMJ6NYfABErlmaJ5L90DxISTuiF11SVs0Y1o3Te95Qv+93nmHq88xTxZw3DkZnN/N7n1lmmy0sPET9qKK7SMtZccz8FqzYCEDdyMF3+9xBitbDn/S9Jff4dn+OptGvTAhbMehJlGHQZOJa+I673WJ6bkcZvnz1AVvpGBp51O31Ord4/054Yjj0wFIvFilisXHTnDL/EZEvuTNCIMSAWnGsXU770V4/lAf1HENClnzkhFiyxiRS+/gCqrITw6yeiHOWgDJRhUPzh836JKaxPf1pcfzNYrOT+Mpusrz71WG4JDaPl7fcSkNgC5XSQ/spzlO/a2aC6R6tLso2xw4OxCCxc5+DXpeVeZcYND6ZrWxuOCvjwxxL2ZLoAuOyMYLql2CksUTw5tdAv8QAsWruJFz6chWEYjB42kCvPHeGxfPmm7dz10vskxcUAcGq/7lx3wRlVy12GweWPvkR8dCQv33Wt3+LauWk+82Y+iWEYdBs4jv6ne57nORmp/PLJg2Tt2cDJ59xB3+HV53lZSQG/ffYw2fu3gginX/wULdr29jmmhdvSefanJRiG4oI+HblmcE+vMst27Of5n/7CaRhEhwTx/lVnsfNgPvd++UdVmfTcQm48tQ+XndTV55i2rF3A9x8+hWEY9B82lmHnXuexfNXC75g/+10AAgJDGH3lYzRv06lquWG4eO3RcUREx3PlXW/5HA9A17Z2xp8WgsUCf64p5+clZV5lLjothG4pdhxOxdTZxezJcDW47tG6/OwIep0QRLlTMWVGHjv3Ob3KxEVbuemiaMKCLezc5+TNr3JxuaBP5yDGnhaOUuAyFB/NLmDrLoffYvNVU3u8ynHV0BORW4EbgJVKqUt9WM95QBel1DN+C+6fQoSQURMo+mQyRkEu4Vffj3PbWoyDB6qKlC/5lfIlZuPB3qE7gQNGoMpKUGUlFL77VNV6Im99GueW1X4JK33aTHa+8RG93n+2zuVxo4YQ2j6ZuZ1HEnViT7q9NpFFg8aDxULXyY/y15lXUZaewSlLviLj+98p2pTqc0yG4WLezEmc/5/3CYtM4IuXxtG263BiEttXlQkMiWTIBQ+Ttv63OtdxwY3TCQ6L9jmWKiIEnT6O4i9eRxXmEXb5PThT12FkVx8/x7I5OJbNAcCW0o3Avqeiykqqlhd/PhlVWuy/mCwWWtxwGzsevoeK7CxSXnqLgr8WUb5nV1WR+PGXUpa2nd1PPkpgy1a0uOF2djx0V4PqHg0RGH9aMK9+WUxeocG9l4WzLtXJgWyjqkzXtjbioi1MfK+Q5OZWJpwezPMfFwGwZIODeascXHFWiE9x1OQyDJ6dNpPX7/sPCTGRXPHoSwzp05V2SYke5Xqf0K7eRtynP8+nbYt4iku9G61HyzBc/PHlJC688QPCohL49MWxtOs+nNga53lQSBTDLnyI1HVzvOrPm/kkyZ0Hc87Vk3FVOHA6fG8suAyDp35YzNuXn0FCRCiXvPMtw05oTUp89d9SQWk5T81ezBuXjaR5VBjZRaUAJDeL5IsbRlet5/QXP2d45zY+x2QYLr6d9gTX3PceETEJvP7oeDr3OZWEpOr9FBPXkusfmk5waCRb1sxn5vuPcdPjn1ctX/jzh8S3aEdZaZHP8YB5nl88MoSXPyskt9DggSsjWLvNwf4a53m3dnbioy088nY+bVtYufSMUJ6ZXtCgukerZ8dAEpvZuOt/maS0snPleZFMfOugV7kJZ0Tw08Iilqwr46rzIxnWN4Q5S0vYkFrOyk3medQqwcYtF0dz78tZPsel1e14a7beCJzVkEaeiNTbSFVKfdsYjbxDxfR3sbZIxsjJwsg7CIYL58blBHT0/qRcKaBLfxwblnnNtyV3wsg9iFGQ45e4cv5cjjMnv97lCeeNYO9HswDI+2sN9sgIAhPjiBrQg5LUXZTuSEc5nez7fDYJtbIkRytj91oim7UmMrYVVlsAHXqfRdp6z390IeGxJLTujsXy9xxaa/M2GLkHUfnZ5vHbvAJ7++71lrd36otj84pjGlNIx0449u/DmbEfVVFB/vzfiRg4yKNMYOtkitasBKA8fQ/2+ARsUdENqns0khOtZOUaZOcbuAxYsdlBjxS7R5ke7e38tcHMEuzc7yI4UIgINcfebE93UVymfI6jpg2pu2mV0IyW8bHYbTZGDuzNvBXrG1w/IyePhas3MXroQL/GdWDXWiLj2hDZzDzPO/Y526tBFxIeS2KbHlisnud5eVkRe1OX0XXgWACstgCCQiJ8jmn93oO0iomgZUwEdpuVUd3aMXfLbo8yP65LY0TnNjSPCgMgNizYaz1/pe2nVUw4LdxlfLEndS2xCa2JiW+FzRZAz4FnsWmFZ29Gm469CQ6NBKB1+54U5FZ/AMvPOcCW1fPoP3Ssz7FUatvcRmauwUH3eb58o4OeHQI8yvTsYGfJevM837Gv+jxvSN2j1bdzEH+uMhveqXuchAZZiAr3bk50aRfA0g1mg27ByhL6dgkCoNxR/bcXGCAo//4p+sxilWPy02jvp9G2XIuIvAW0A74VkbtEZJaIrBWRJSLSw11moohMEZFfgOkiEiciM0RkmftnkLvclSLymvt1insdy0RkkogUuecPE5G5IvKViGwWkY9FpN4jISJnucv9KSKTReT7emJqIyJz3LHPEZHW7nLjRGS9iKwRkfnueV1FZKmIrHaX7+DrfrSER2EU5lZNGwW5SHhU3YVtdmwpXXBuXuW1KKBrPxwbvRuAx0pQiwRK06svmmV7DxCUlFDH/AyCkhL8ss3i/AzCo5pXTYdFJVKcn9HwFYjw7dvX8Pn/LmT94s8PX74hqwyLQtU8foV5SFhU3YVtdmxtO1OxdXX1PAWh424i7PJ7sPc42S8x2WKb4czKrJp2HszCHtvMo0zZjlQiTx4CQHDHTgTEJ2KLjWtQ3aMRFW4ht7A6M5FXZHj9o4kMs5BXs0yhQVTYsbvkZebmkxATVTUdHxNFZq73h5t123dy8YPPc+vzU0itcW6/+NEsbp1wjt8HgpvneXVWMTwqocHnef7BPQSHxfDLJw/w8XOj+fXTh3CWlxy+4mFkFhSTGBFaNR0fEUpGged6d2XnU1BWzjUf/MCEt7/hu9XbvNbz0/o0RnVr53M8AAW5mUTGVO+niJgE8nPr30/L5s6gY4/BVdPff/Q0Z06426/dflHhQm6hq2o6t9D7PI8Kt5BT6zyPDrc0qO7Rio6wkp1fve6cAhfREVaPMmEhFkrKFIZRd5l+XYJ47vY47r4ilndm5vklLn8RixyTn8Zy3DT0lFL/AfYBpwLJwCqlVA/gQWB6jaJ9gfOVUpcArwAvKaX6A2OAd+tY9SvAK+4y+2ot6w3cDnTBbGTWmWoQkSDgbeBMpdQpQFytIjVjeg2Y7o79Y2Cyu8yjwBlKqZ7Aee55/3HH1gvoB6TXs/3rRWS5iCyfumxjXUVqlvaeVc/HJXuHHlSkp3p0+wFgsWLv0APHppWH2Zb/1NXGVkqZfRfeC/yz0bpWU39b38uYWz7hortmcu5177Duz0/Ym3qsGsb1HL+U7rj2pnkcv6JP/kfR9OconvEmgb2HYG2Z4oft13Nsasj68hMsoWG0n/wOsedcQGnqNjBcDarrL7VXW+epc0y2XE8AeJ/XnZJb8t1Lj/DpU/cw/vRTuPvl9wFYsGoDMRFhdG7b6hiEVeeJ3rC6RgWZ6RvpMehiLr13FvaAYJb9NsX3mOqKqFZIFYZi475sXr30dN687AymzF/DzoPVDWdnhYt5W3Yzsmtbn+Mxgzr88auUuvEvls+fwaiL7gJg06o/CI2IIamt7+MEj1RdER7rDFlDLst17rkaZZZvLOPel7N46eMcxp7me5ZYq1+jdzXW4xTMhhtKqd9FJFZEIt3LvlVKlbpfnwZ0qfHHGCEi4bXWdRIw2v36E+CFGsuWKqXSAURkNWYD88864ukEpCmldrinPwVqjmauGdNJwIXu1x8Cz7lfLwSmisgXwEz3vMXAQyLSEpiplPL+yAoopaYAUwByn7zhkH/CRmEulvDqcS6WiGhUUd1dpgFd++HYsNxrvr19V1wHdqOK/TdI/XBK9x4guGUilbmsoKREyvdlYgmwE9yy+lN2UFICZfsy617JEQqNSqAwb3/VdFHeAUIj4htcPyzSzCyGhMfSrvtpZOxeS1JKf59iUkV5SM3jFx5V7/Gzd+6Ds1a3rSouMH+XFOHctgZr8za40n0bz1iRnYU9rnq/2JvFUZGT7VHGKC1h7yvPVU2f8N6nOA7sxxIYeNi6R6Mya1EpKsxCfpHhVcbMYJiZh6hw7zL+FB8TRUZOXtV0Zk4ecVGe/8DCgoOqXp/SqwvPTptBXmERa7buYP7KDSxcswmHs4Ki0jIeefMjnrjhMp/jCotKpDCvOnNYmJdBaGTDzvOwqETCohJpnmwO/+jQa5RfGnoJEaEcKKgeR5pZUEx8eEitMiFEhyQREmAnJMBOnzYJbM3IIbmZ+a/gz+3pdGoeW2eX7tGIiEkgP6d6PxXkZBAR5b2f9u/ewsz3HuHKu98m1P23umvrKjat/IMta+ZT4XRQXlrE52/ey0U3POdV/0jkFSqiw6uzYNHhnllqMDN1MeEWKv/Ko8It5BUZ2Kxy2LpH4rQTQzi1v5mFTUt3EBtZve6YCCt5NbKHAIUlBiFBgsUChmGWya1VBmDLTgfxMVbCQiwUlRy7v88j0dRuxjhe302dH1Lcv2uOMrcAJymlerl/kpRSR9I6qTni2UX9Dd/Dffw91Mh3BVUZy4eBVsBqEYlVSn2Cmd0rBX4WkeENivoQXPt2YYmJxxIZa2bmuvTDsXWtd8HAIGytO+DcusZrkTluz7sBeCxlfvc7SZeNBiDqxJ5UFBRSfiCL/GXrCG2fTHByS8Rup8VFZ5Pxve93AQMktOpOftYuCrLTcVU42LbqB9p2a9ghcJaX4Cgrqnq9Z+tCYhM7+hyTa/9urNFxSOXx69QX5/Z13gUDgrC2bO+5zB4A9sCq17bkThhZ+73rHqGSrZsJbJGEPSERsdmIHDKcgr8WeZSxhIYiNvPPJ/qMsynesBajtKRBdY/GrgMu4qMtxEZasFqgb6cA1qV63vW3NtXJiV3NMUnJza2UlisKio9dqqNLu1bsOZDF3sxsnBUV/LJkFUP6dPMoczCvoCrDtj51F4ZSRIaFcvNF5/DD5Mf47qVHePKmy+nfpYNfGnkAia27k5e1k/zsPbgqHGxdOZuUBp7noRFxhEclkpORBsDurYuJTfQ9S9y1RTN2Z+eTnluIs8LFT+vTGHpCa48yp3Zqw8rdGVS4DEodFaxLz6Jts6iq5T+uS+PM7v7ptgVo2a47Bw/sIicznYoKB2uW/EDnPqd6lMk7uI+PXrmV8f9+lrjm1ZnEURfdyQOT53LfS3O4+KYXadflRJ8beQA791cQH1N9nvfrEsCa7Z7n+ZrtTgZ2M8/zti2qz/OG1D0Sv/1VwkOvZfHQa1ms2FTGKb3NBnZKKzsl5UadjciNaQ4GdDU/3AzuE1J1A0ZCTHUjMbmFHZtNjptGXlN0vGb05gOXAk+IyDDgoFKqoI40+i/AzcDzACLSSym1ulaZJZjZwc+BCUcZz2agnYgkK6V2Ahcdouwi93Y+dL+HP92xpSil/gL+EpFzgVbuLGWaUmqyiLQDegC+tWKUQcnPnxF28S1gseBYswjj4H4C+phjSRwrFwAQcEIvKtI2gbPWLe02O7a2nSj+8WOfwqit14cvEjt0AAHNohm+Yx7bJr2K2M3Tb/eUz8j8cR5xZw5l2OZfcZWWsvbaB82343Kx/rZJDJj9LmK1kj51BkUbt/slJovVxpALH+GbKdeYj1cZMIbYxA6sX/QZAN1OnkBxQRZfvDQWR1kRIhbWzJ/OpffNprQ4lx/ev9mM0XDRsc85tOk8+FCbaxhlUPrbl4SOvREsgnPdEozsAwT0NEcVONYsBMDeoScVOzd7HD8JCSd0tPtxEBYLzk3Lqdi5yfeYDIN9b02m7aTnwGIh99cfKd+9k5gzzcfk5Pz4HUGt2tDyzgdQLoPyPTtJf+X5Q9b1OSQFX8wp5aYxoVgssHideTfhKT3Nf3h/rnGwIa2Crm3tTLw2HIcTPvqpuov7qrND6NDKRliw8N9/RzB7YRmL1/v2eAeb1co9V1zILc9PwWUYnDdkACktE/lqjtmwHTviZOYsW8OMOYuwWiwEBth56sbL6+0e9BeL1capYx7l6zevRRkuug4cQ2zzDqz903zMTY9TLqa4IItPXxhjfnixWFg1dxqXP/gDgUFhDBvzCD99eDdGhZOIZq0YecnTPsdks1p44KyTuOHDnzGUYnTvDrSPj+aLZZsBGN+/E+3iohjUviXj3pyFCFzY5wQ6JJgZtFJHBUvS9vHIub7f2FPJarVx3hUP8/7z16IMg35DLiShZQf+mmNeD04cMYE5s96gpCiPb6ZNAsBitXLzpK/8FkNthoLPfinhtovCzccIrS1n/0EXQ3qZH+jmry5nfaqT7u3s/PffkTicimk/FB+yrj+s3lJOz45BvHhnPA6nYkqNMXZ3XxHDu1/nkVdo8NnPBdw8IZpxp0ewc5+TucvNv8H+XYM5pXcwLgMcTsVrn+XWs6XG0dQemCzHarzM0RCRnZhj1QzgA6AtUAJcr5RaKyITgSKl1Avu8s2A14HOmI3W+Uqp/4jIlUA/pdTN7hscPsLMys12ryvJ3YC8Wyl1jntdrwHLlVJT64ntXMwG5UFgKZCglLq0jpiSgfeBZkAWcJVSareIzAQ6uOOYgzk28H7gMsAJHAAuUUod8jbXw3XdNoZFE/2TYfOntFmbGzsEL1dsvLWxQ/Cye17D7wr9O7017OvGDsHLM0MWNnYIXj7KObuxQ/ByVW7dj1BqTD+k3NPYIdTp59/zGjsEL8WF/nvWnr989GSLv7Xltev60cfk/2ybKbMapQV5XGX0lFLJNSbPr2P5xFrTB6kju+ZurE11T+4FBiqllIhMAJa7y8wF5taoc/NhwvtDKdXJfWfu6zXWUzumnYBXv4hS6sLa84Cn3T+apmmapml+d1w19I6RvsBr7gZaHnD1Ua7nOhH5FxAArMK8C1fTNE3TtCakqd2M0eQbekqpBUD9TwyuRUS+xuwyruk+pdRLwEv+jE3TNE3TNO1YavINvSOllLqgsWPQNE3TNK1xNLWbMXRDT9M0TdM0za2pdd02rXejaZqmaZqmVdEZPU3TNE3TtErH+NmWfzed0dM0TdM0TWuidEZP0zRN0zTNTd+MoWmapmma1kTpmzE0TdM0TdO0fwSd0dM0TdM0TXNral23OqOnaZqmaZp2HBCRUSKyRUS2i8j9dSyPFJHvRGSNiGwQkasOt06d0fuHeST4mcYOwcsJsyIaOwQv7UZ3auwQvDz/zrrGDsFL9LX2xg6hTjd+MKKxQ/DyVd/fGzsEL3kFrsYOwcvd+//T2CF4sWeXNHYIdTIM1dgheImKDW3sEBpdY43RExEr8DpwOpAOLBORb5VSG2sUuwnYqJQ6V0TigC0i8rFSylHfenVGT9M0TdM0rfENALYrpdLcDbfPgPNrlVFAuIgIEAbkABWHWqnO6Gmapmmaprk14hi9JGBPjel04MRaZV4DvgX2AeHARUop41Ar1Rk9TdM0TdM0N7HIsfkRuV5Eltf4ub72pusIp3b//hnAaqAF0At4TUQOOX5KZ/Q0TdM0TdOOMaXUFGDKIYqkA61qTLfEzNzVdBXwjFJKAdtFZAfQCVha30p1Rk/TNE3TNK2SxXJsfg5vGdBBRNqKSAAwAbObtqbdwAgAEUkATgDSDrVSndHTNE3TNE1rZEqpChG5GfgZsALvK6U2iMh/3MvfAp4AporIOsyu3vuUUgcPtV7d0NM0TdM0TXMzb2htHEqpH4Afas17q8brfcDII1mnbuhpmqZpmqa56e+61TRN0zRN0/4RdEZP0zRN0zTNTX/XraZpmqZpmvaPoDN6mqZpmqZplZrYGD3d0NM0TdM0TXNral23uqHXBHVOtjF2WBAWCyxa5+TXZeVeZcaeGkTXtjYcTvjw5xLSMw2iwoQrzgwhIkRQChauczB3lcMvMe3atIAFs55EGQZdBo6l7wjPb37JzUjjt88eICt9IwPPup0+p15TtWzaE8OxB4ZisVgRi5WL7pzhl5h6vPMU8WcNw5GZzfze59ZZpstLDxE/aiiu0jLWXHM/Bas2AhA3cjBd/vcQYrWw5/0vSX3+Hb/EBNAhSThrgA2LwIptLuav8/4aw7MHWOnY0oKzQjHjTxf7c8xvyTm5i4W+HcxPoxm5ipkLXVS4fI9pz5YFLPr2SZQy6NR/LL1O9Tx+eZlpzP3yAQ7u3Uj/M26n51Dz+FU4y/nurctwuRwol4u23UfSb+StvgcEhPXuT+J1N4PFQt6vP3Bwxqceyy2hYSTdei8Bic0xHE72vfoc5bt3Nqju0UrbMJ/fvngSwzDoOWgcJ43y3E/ZB1KZPe1BMvZsYMh5d3DiyOrzfNmcaaxZ+CUoRc9TxtF/xJV+iQmgXSKc1suCRWD1DsWSzZ7fqhQTDuf0t5AQDfPWK5ZuqV5+Vn+hfXOhpBze/fmQX6l5RI7H61Sn1lYuGByICPy10cmclU6vMhcMDqBzGxvOCsWnc8pJz6reJyJw5/hg8osV735f5peYACacHkL3lAAcFYoPvitid4b3H3WzSAvXjQ4jNNjC7gMVvPdtES6j4fWPxPF47LT6Na38pIYIjB8exBtfF/PfqUX07WQnMcbzMHdpayMuysLj7xfx6W+lTBgRDIChYOa8Uv47rYgXPi1iSK8Ar7pHwzBczJs5iXOvf4dL7vuerStnk3Ngu0eZwJBIhlzwML1PvbrOdVxw43Qm3D3Lb408gPRpM1l6zrX1Lo8bNYTQ9snM7TySdTc8QrfXJpoLLBa6Tn6Upedey7weZ9NiwjmEdU7xS0wicO6JNqb/6mTyLCfd21qIi/Qs0zFJiI0QXprpZNZiF+edZAUgPARO6mzlze8rePWbCkSge1v/HL8/Z03izKvfYdyd37N9zWxyM7yP38nnPUyPIZ7Hz2oL4JzrpzL29m8Yc/vX7Nn6Jxm7VvscExYLzf99G7sev5/Um68icvBwAlu18SgSN+5SytK2k3rbdex9+WkSr725wXWPhmG4+OXTSYy/+V2ue2w2G5d9z8F9nvspKCSK0y96iAGnXeMxP2vvVtYs/JJ/3f8lVz/8DdvXzSUnY6fPMYF5To3sY+GLBQZTfjbo0lqIrfXNmGUO+HWVwV9ban+tJqzbofh8vv8aeJUxHW/XKREYMzSQKd+V8uwnJfTuaCMh2jOz07mNlbgoC099VMIXf5Qzdmigx/IhPe1k5Pp3X3VLsRMfY+Wht/L48IdiLh0VWme5McND+G1ZGQ+/lUdJmeKUXoFHVL+hjsdj528ilmPy01iOvz38/5yIWH2pn5xo5WCeQXa+wmXAys1OeqTYPcr0SLGxdKP5SXXnfhfBgUJEqFBQrEjPNC9S5U44kG0QFeb7KZKxey2RzVoTGdsKqy2ADr3PIm39HI8yIeGxJLTujsXy9yWZc/5cjjMnv97lCeeNYO9HswDI+2sN9sgIAhPjiBrQg5LUXZTuSEc5nez7fDYJ547wS0wtmwnZhYrcInAZsG6HQefWnsegc2sLq1PN45SepQgKEMLM6ygWC9itYBGw24TCEu9/3Ecqa89aImNbE+E+fik9z2LnRs/jFxwWS3yr7lisnsdPRLAHmv9YDFcFhqvCLw8jDe7QCceBvTgz9qMqKshf8DvhA072KBPYqg3Fa1cC4Ni7h4D4RKyR0Q2qezT271xLdHwbouLM/dSl/9lsW+u5n0IjYmme3MNrP2UfSKVF257YA4KxWG207tCfrat/9TkmgBYxkFsEecVgGLBpt6JjC89jUFIO+3PNf8S17TloNgT96Xi8TrVOsHAw3yC7wIxp1bYKurXzPE7d2tpYtrkCgF0ZhhlTiLkvI0OFLm2sLNlQ4XMsNfXqGMCSdWbGLG1fBSFBFiJDvf+GTmhjZ8Um80AtWldO744BR1S/oY7HY6cdmt7DPhCRJ0TkthrTT4rIrSJyj4gsE5G1IvJ4jeWzRGSFiGwQketrzC8SkUki8hdwki8xRYYJuYXVV+vcIoPIcM8/6qgwC7mF1Z8684qU1x9bTITQMt7KzgO+X7SK8zMIj2peNR0WlUhxfkbDVyDCt29fw+f/u5D1iz/3OZ6GCmqRQGn6garpsr0HCEpKqGN+BkFJCX7ZZkQI5BdXH7+CYqr+kVQKD5FaZRQRIUJhCfy53sXd4+zcd5Gdcodi+z7fG3rF+RmE1jh+oZFHdvwMw8WMl0cz/YlBtOxwMvGte/ockz22Gc6DmVXTzuyD2GLjPMqU7Ugl/KTBgNkwtMcnYG/WrEF1j0Zhbgbh0YlV0+FRCRTmNmw/NWvRkT3bllNalIvTUUrq+vkU5B44fMUGCAuGghoN/sJSCA/2y6qP2vF4nYoKFfJqxJRfpLwaRJFhQl5RzZgMIsPMMhcMDuS7RQ58/4vzFB1mIaegepu5hQZR4Z77ISxYKC1TVQ313ILqMg2pfySOx2PndxY5Nj+NRI/R8817wEzgFTHzshOABzG/cHgA5vfQfSsiQ5RS84GrlVI5IhIMLBORGUqpbCAUWK+UetTXgOo8lRpw5VGqulCAHa49N5QZc0v980m+ru0fQVZnzC2fEBaZQElhNt+8dTXR8e1ISunvh8AOra7Mk1Kq7tiVvy/vNVZda7q+PRcUYGb7XvzKSZkDJpxqo2c7C2vS/NuVBEf2FUEWi5Uxt8+ivLSAX6bfTM6BrcQkdvQ1Au9ZtY7BwRmfknjdzbR7aQrlu3ZQlrYN5XI1qO7RqWMdDdxPzZqnMPCMa/nslauxB4YQ3/IELBafkvvVIdQx79idrQ1zXF6nGqDOfamgS7KVwlJFepZBSpJ/jtuhNuq1qw51Sjekvm/h/COO3f9nuqHnA6XUThHJFpHeQAKwCuiP+T10q9zFwoAOwHzgVhG5wD2/lXt+NuAC6h185s7+XQ8wbOzLdD3pynpjyitSRNf4dBUdZiG/SNUqYxAdbnFvFqLCqjNEFgtcd24Iyzc5WLPdP5+0QqMSKMzbXzVdlHeA0Ij4BtcPizSzZSHhsbTrfhoZu9f+LQ290r0HCG6ZSK57OigpkfJ9mVgC7AS3rM7cBCUlULYvs+6VHKGCEjyyCBGheHW/FpRUZhqUu4xQUKJIaW5+0i5xj4veuMugdbywJs23mEIjEyiucfyK8w8QcgTHr1JgcAQt2g1gz5YFPjf0nNlZ2JtVx2CPbUZFjuf3ehulJeyb/FzVdIcpn+DMOIAlMOiwdY9GeHQihTWycIV5GYRHNXw/9Rw0jp6DxgEwb9b/CI/yT5a4sLQyK2yeL+HBUFTql1UftePxOpVXrIiqEVNkmGfmvDJuMzNluGOyUFCs6NneRre2Vrq0CcFmhaAA4dLTA/n4V++bFBpiWN9AhvQKAmDHvgpiIqqzYdHhFvILPT+8FZUogoMEi5jd79ERFvLdmcfcQuOw9Y/E8Xjs/E1/BZpW27vAlcBVwPuYH3ieVkr1cv+0V0q9JyLDgNOAk5RSPTEbgkHudZQppeq9DUopNUUp1U8p1e9QjTyAXQdcxEVZiY0QrBbo08nO2jTPO8fWpVYwoIs5piK5uZVSh6LA/Ud46chgDuQY/L7Sfx+zElp1Jz9rFwXZ6bgqHGxb9QNtuw1vUF1neQmOsqKq13u2LiTW52xQw2R+9ztJl40GIOrEnlQUFFJ+IIv8ZesIbZ9McHJLxG6nxUVnk/H9737Z5t6DitgIIToMrBbzZorNezwvopv2GPRKMf90W8YJ5Q5FUSnkF5vTdndCIaW5kJXne+4mrmV38rN3UZBjHr/UNT/QpnPDjl9pUQ7lpQUAVDjL2Lt9MVHx7XyOqXTbZgKaJ2GPT0RsNiIHD6dw6WKPMpbQUMRmfpaNPv1sSjauxSgtaVDdo9G8TXdyMneSd3APrgoHG5fNpn2Phu0ngOKCbADyc/axZdUvdOl/js8xAezLgegwiAw1/8l2bi1s80OXvi+Ox+vUngyDuEgLMeFmTL072Niww/OyvGFHBf07medUmwSLGVOJYvZiB49PLeGJ6SVM/6WcbXtdR93IA5i7opxJ7+Uz6b18Vm91MLC7eWNFuxY2SsuVVwMUYMsuJ307m+PyTu4eyOqt5r5Z08D6DXU8Hjt/E4sck5/GojN6vvsamATYgUuACuAJEflYKVUkIkmAE4gEcpVSJSLSCRh4LIIxFHzxRyk3jQlFBJasd3Ig2+CUHuYF4M+1DjbsqKBrWxuPXR2GswI++tn8eN+uhZUTuwSwN8vF/ZeFAfDtwjI27vDtU5fFamPIhY/wzZRrzMerDBhDbGIH1i/6DIBuJ0+guCCLL14ai6OsCBELa+ZP59L7ZlNanMsP75t3SyrDRcc+59Cm82Cf4qnU68MXiR06gIBm0QzfMY9tk15F7OafxO4pn5H54zzizhzKsM2/4iotZe21D5pxuFysv20SA2a/i1itpE+dQdHG7YfaVIMZCr5fUsG/Trebj1fZ7iIzT9H/BLNht2yLwdZ0RcckxZ0X2nG4FDP/NP8ZpR9UbNiluPE8O4ah2J+jWLbV925bi9XGoPMf4cf3rsEwDE7oP4aYxA5sXGIevy4DJ1BSmMXXk8fiKDeP3/o/pzPurtmUFGYx94v7UYYLpRTteoyiTedTfY4Jw2D/lFdpM/FZxGIld86PlO/ZSfQo8zE5uT99R2DLNiTdfj8YBuV7drH31ecPWddXFquNkRc9yueTr0UZLnqcPIa4Fh1YNd98dEvvIRdTlJ/FtKfHUO4+z5f/Po1rH/uBwOAwvp5yC6VFeeZ6Ln6MoNDIw2yxYZSCX1caTBhiQQTW7lAcLIDeKeY/nlWpitAguPI0C4F2s3z/DsI7Pxk4KuD8gULrOCE4EG46x8KCDYq1O3xrKB6P1ylDwYz55fz7/GAs7serHMgxOLmreU1YtKGCjbtcdG5j5aHLQ3BUKD6bc/SNuYZal+qke/sAnrwhCodTMfX7oqplt44PZ9oPReQXKWb8UcL1o8MZPSSE3RkV/Lmm/LD1j8bxeOy0QxN1DMcW/X8hIm8BeUqp+93TtwGVz+0oAi4D0oFZQBKwBYgDJiql5opIkVIqrCHbuvl/+cfdATvhhIjDF/qbtRvdqbFD8LL4nXWNHYKX6Cj74Qs1glEf+OcuZn9aert/srb+dCDLDw9J9LO96b41JI4Fe4Cfx835SVHBsW8oHqnAoOMv//PanZF/azos/4Xbjsn/2ci7X2mUtN7xd0T/Ydw3YQwExlXOU0q9ArxSR/Ez61pHQxt5mqZpmqZpR0I39HwgIl2A74GvlVLbGjseTdM0TdN8o78CTauilNoI+D6yXNM0TdO044O+61bTNE3TNE37J9AZPU3TNE3TNDd/fE3j8URn9DRN0zRN05oondHTNE3TNE2r1MTG6OmGnqZpmqZpmltTu+u2aTVbNU3TNE3TtCo6o6dpmqZpmlZJmlYOrGm9G03TNE3TNK2KzuhpmqZpmqZV0mP0NE3TNE3TtH8CndH7h3ku8sXGDsGLc2NuY4fg5fl31jV2CF5Ouq57Y4fg5ZSnRzV2CHU6h8cbOwQvP1u/aOwQvLwXOq6xQ/DyQsdPGjsEL4vbXNnYIdTp8x+Ov1xLSWF5Y4fQ6KSJjdHTDT1N0zRN07RKuutW0zRN0zRN+yfQGT1N0zRN0zQ3aWLfjNG03o2maZqmaZpWRWf0NE3TNE3TKknTGqOnG3qapmmapmmVdNetpmmapmma9k+gM3qapmmapmmVmljXrc7oaZqmaZqmNVE6o6dpmqZpmubW1B6voht6mqZpmqZplZrYV6A1rXejaZqmaZqmVdEZPU3TNE3TtEpN7LtudUOvCVqYtp/n56zCUIrRPdpx9cDOHsun/bWZHzbtAsBlGOzILuT3m88nMjjwsHWPli25M0EjxoBYcK5dTPnSXz2WB/QfQUCXfuaEWLDEJlL4+gOoshLCr5+IcpSDMlCGQfGHz/slJoAOScJZA2xYBFZsczF/neFV5uwBVjq2tOCsUMz408X+HAXAyV0s9O1gJsUzchUzF7qocPkWT493niL+rGE4MrOZ3/vcOst0eekh4kcNxVVaxppr7qdg1UYA4kYOpsv/HkKsFva8/yWpz7/jWzA12JI7ETT8QvP4rVtC+dLfPJYH9B9OQOe+5oTFiiUmgcI3HjKP33WPeh6/j170W1y3XdeOgX1jKC83eOqVLWxNK/Yqc+FZzRl3XhItmwdzzmWLyS+sAKBXt0iefrAL+zPKAJi/JJupn+/2KZ6F67fx/GezMQzF6MF9ufrMIR7Ll2/ZwR2vf0yL2GgAhvfpwr/PPRWAj35dxNcLliMitE9K4PGrLiDQbvcpnkq7Ni1gwawnUYZBl4Fj6Tvieo/luRlp/PbZA2Slb2TgWbfT59RrqpZNe2I49sBQLBYrYrFy0Z0z/BLTws07eXbWPAzD4IITu3HNiP5eZZZt38Pz38zD6TKIDg3m/ZvGUe6s4KrXv8RZ4aLCMDi9RwduHHWSX2LasGohX3zwHIZhMGjEBYy64GqP5auX/sF3n72BWASLxcb4q+6hfefeDap7tLq0tTF+RAgWCyxcU87Pf5V7lRk/IphuKXYcTsW0H0rYk2FeiC4/M4TuKXYKSxRPvF/gl3gqXTIqjO4dAnA44b1ZBew+UOFVplmUhf+MiSQ0WNi1v4J3vi7AZcDA7oGcOSgUgHKH4sPZhezJ8K6v+Ydu6DUxLsPgmd9W8Ob4YSSEB3Pp9F8Z2r4FKc0iq8r868RO/OvETgDM276Xj5dvJTI4sEF1j4oIQaePo/iL11GFeYRdfg/O1HUY2QeqijiWzcGxbA4AtpRuBPY9FVVWUrW8+PPJqFLvf+I+hsW5J9r44BcnBSXwn3NsbNptkJVfXaZjkhAbIbw000nLOOG8k6y8PbuC8BA4qbOVV2Y5qXDBRUOtdG9rYdV274bikUifNpOdb3xEr/efrXN53KghhLZPZm7nkUSd2JNur01k0aDxYLHQdfKj/HXmVZSlZ3DKkq/I+P53ijal+hQPYB6/08ZR/OUb5vG77C738cuoKuJY9juOZb8DYGvXlcB+wzyP3xev+f34DewbTcvmwVz8n+V06RjOXTe059/3rPEqt25TAYuW5zD5vz28lq3dmM99/93ol3hchsEzn3zHm3dcSUJ0BJc++RZDe3YipUW8R7ne7dsw+dbLPeZl5hbw6ZzFzJh0K0EBdu596zN+XrqO8wb18Tkuw3Axb+Ykzv/P+4RFJvDFS+No23U4MYntq8oEhkQy5IKHSVv/W53ruODG6QSHRfscSyWXYfDUzD94+98XkhAZxiUvf8qwru1ISYytKlNQWsZTM//gjetG0zw6guxC83wKsFl594YxhAQG4HS5uPK1LzilczI92jT3KSbD5eLTd5/mtkffIjomgafvv5Qe/YbSolVKVZlO3U+kZ/9hiAjpO7fyzv/u5fHJsxpU92iIwMWnh/DK50XkFho88K9w1m53sj+7+jrTrZ2N+Bgrj04poG0LK5eMDOHZDwsBWLzOwdyV5Vx5dqhPcdTWvX0ACTFWHng1h3ZJNq44O5z/vpfrVW7caWH8sqSEpRvKufzscAb3CWbu8lKycl08OzWXkjJF9/YB/Oucuus3FtFj9I6eiFwpIq/5ULdFjel3RaSLH2ObKiJjfajvy3uLEpEbj3bbNa3fn0OrqHBaRoVht1o5o3Nr5m7fW2/5nzbtZlTn1kdVt6Gszdtg5B5E5WeD4cK5eQX29t3rLW/v1BfH5hU+b/dwWjYTsgsVuUXgMmDdDoPOrT3/JDq3trA61byopmcpggKEsGBzmcUCdquZ5bfbhMIS5XNMOX8ux5mTX+/yhPNGsPejWQDk/bUGe2QEgYlxRA3oQUnqLkp3pKOcTvZ9PpuEc0f4HA+ANbENRm5WjeO3EnvKIY5f5744Nq30y7YP5ZQBsfz0RyYAG7cWEhZqIzbaOwO2bUcxBzK9syD+tn5HOq3iYmkZF4PdZuOM/t2Zu3pTg+u7DINyp5MKl4syh5O4qAi/xJWxey2RzVoTGdsKqy2ADr3PIm39HI8yIeGxJLTujsXy93z2X7/7AK1iI2kZG4ndZmVU747M3eD5oeTHlVsY0b09zaPN/RAbHgKAiBASGABAhcugwuXbh6tKO7evJz6xFXEJLbHZ7fQfdAZrl831KBMUHIK4n7HmKC+tet2QukcjubmVzDyDg/kGLgOWbXLSo0OAR5keHQJYst48v3fscxEcKESEmnFtT6+gpNT361JtvTsFsmitmQlP21tBSJAQGebdnOjUNoDlG83YFq0ppc8JZuyp6RWUlCn3ayfREU2rYXW88ctftYhYlVI+dlod1pXAemAfgFLq2mO8vb9TFHAj8IavK8osKiUhPLhqOiE8hPX7sussW+qsYNGOA9x/Wp8jrnskJCwKVVj9ac0ozMPaPLnuwjY7tradKZvzZfU8BaHjbgKlKF+zEOfaRT7HBBARAvnF1RfBgmJoGec5NiM8RMgvNmqUUUSECPuyFX+ud3H3ODsVLti+12D7Pv9fUGsLapFAaXp1JrRs7wGCkhLqmJ9B1ADvDNbRkPBIVGFe1bRRlIe1eZu6C9vs2JI7UTbnK4/ZoWNvAAXlaxfiXLvYL3HFxQaQebC6AZd10EGz2ECyc50NXkfXEyL44OXeHMxx8PoHO9i5p+TwleqRmVdAQkx19jshOpL1O9K9yq1N28P4x18jLiqCO8eeQUpSAvHREVwx8hTOvO9FAu02TurSnpO6tveqezSK8zMIj6rOdoVFJZKxyzvzWS8Rvn37GhDoetJFdDvpIp9jyswvJjEqvGo6PjKcdbsPeJTZlZVLhcvgmje+pLjcyaWDe3FuP/OzvcswuPilT9h9MJ+LBvXwOZsHkJuTSXSzxKrpqNgEdmxb51Vu1V+/M+vjyRQW5HDzA68eUd0jFR1uIbeg+vqTV2jQtrnVo0xUmHiViQq3UFB87P4lR4dbyMmv3mZOgUF0uIX8oup5YcFCSZmBoarLREVYa6+Kwb2DWLfdccxiPSpNbIzeYZvRIpIsIptFZJqIrBWRr0QkRER2isijIvInME5ELhaRdSKyXkSerVH/KhHZKiLzgEE15ntk0ESkqMbre93rWiMiz7jL9QM+FpHVIhIsInNFpJ+7fH3bLhKRJ93rWSIiCYd5u6eJyAJ3vOe41+GRqROR70Vk2GHeW4p7e8tEZFKt93aPe/5aEXncPfsZIMX93nwbgFZXW6Oec3b+9n30SmpGZHDgEdf1Xd2NIntKd1x70zy6/Yo++R9F05+jeMabBPYegrWlb90hRxJVfW8/KMDM9r34lZNnP3ditws92x37T6VSxxPblVJ1P8ld+avhWde66y5pT+mGa9+OWsfvZYo+fIHimW8R2Guw345f3fui4fW3phYx7rqlXHX7KmbM3sdTD/rYQdCAbXdq3ZwfnrmLLx67mQnDB3LHG58AUFBcytzVm/j+6Tv55fl7KXU4mL1ktW/xHCquI3jy/5hbPuGiu2Zy7nXvsO7PT9ibuswPIXkHVTuiCkOxMT2TV68ZzZvXXcCUX5eyM8v8wGi1WPjirsv45dFrWL87g237D/ocU10nT13nWO8Th/P45FnccO9LfPvZG0dU1x+8rlF1/u0fk00fkndchy/UKdnO4N7BfPlbUR2FG5FYjs1PI2nolk8ApiilegAFmNkngDKl1CnAfOBZYDjQC+gvIqNFpDnwOGYj6HTgsFdSETkTGA2cqJTqCTynlPoKWA5cqpTqpZQqrVG+RV3bdi8OBZa41zMfuO4wm08GhgJnA2+JSNAh4jzUe3sFeEUp1R93BtJdZyTQARjgjrWviAwB7gdS3e/tnjq2db2ILBeR5e/PO3SXWHx4MBmFVbuHjMIS4sKC6yz78+bqbtsjrXskVFEeEl49vscSHoUqqrt70t65D85a3baq2BxErEqKcG5bU3826QgVlEBkaPXVKCIUr+7XghJVq4xQUKJIaS7kFipKysFQsHGXQev4Y/8psHTvAYJbVmcOgpISKd+XSZnX/ATK9mX6ZZuqMA8Jj6qatoQd4vh16oOzVretx/HbvhZrYuu6qjbIBWc15/2XevP+S705mFNOfLPAqmVxzQLIzml4F21JqYvSMjMDsWRFLjarEBl+9J0c8dERZNTods/IzSeuRtYKICw4iJAgM+bB3TtS4TLILSzmr02ptGgWTUx4KHableG9u7Amdc9Rx1JTaFQChXn7q6aL8g4QGhF/iBqewiLNz8ch4bG0634aGbvX+hxTQmQYB/IKq6Yz8wuJjwz1KjOoUxtCAu1EhwXTp10SW/dleZSJCA6if0pLFm3e5XNM0bEJ5B6szirmZWcQFR1Xb/kOXfqSlbGHooLcI67bULmFhke3ZlS4hbwi1YAy/unOrml4/2Am/juaif+OJq/IICayepsxERbyCj23WViiCAmyVCXHzDLVWcaW8VauPDeCVz/Lp/gYdC9r1Rra0NujlFrofv0RcIr79efu3/2BuUqpLKVUBfAxMAQ4scZ8R43yh3Ia8IFSqgRAKZVzmPL1bRvAAXzvfr0CsyF3KF8opQyl1DYgDeh0iLKHem8nAZV9j5/UmD/S/bMKWOlef4fDxIRSaopSqp9Sqt/VQw89OLtr8xh25xayN68Ip8vFz5t2M6x9kle5wnIHK/ZkeSxraN0j5dq/G2t0HBIZCxYr9k59cW6vo1sjIAhry/aey+wBYA+sem1L7oSRtd+77lHYe1ARGyFEh4HVAt3bWti8x/OCs2mPQa8U88+kZZxQ7lAUlUK+u5vX7u6JSGkuZOUd+4tV5ne/k3TZaACiTuxJRUEh5QeyyF+2jtD2yQQnt0TsdlpcdDYZ3//ul226DlQevxj38euDM3W9d8GAIKwtU3CmHuL4temEcfDoj9/XP+zn6jtWcfUdq1iwJJtRp5oNli4dwykqdh1Rt21MVPV4vs4dwrBYqLoj92h0TU5id2Y2e7NycVZU8POydQzr6XkJOZhfaGZgMcf0KaWICgshMSaSdWl7KC13oJRi6eY02ib63lAASGjVnfysXRRkp+OqcLBt1Q+07Ta8QXWd5SU4yoqqXu/ZupDYxI4+x9S1VSK7D+aRnp2Ps8LFT6u2MrSrZ6b31G4prEzbR4XLoNThZN3uA7SNjyGnqISCUnN8WJmzgiXbdpOc4PuNIm3adyVz/24OZuylwulk2cKf6dF/qEeZzP27q47f7rRNVFQ4CQ2PalDdo7Frv4v4aAuxkRasFujf2c7aWt2ca7c5GNjN/Btr28JKWbmioNj/16Lfl5Uy8e1cJr6dy6rN5Zzcw8yDtEuyUVKuPLptK23e4aBfFzO2k3sGs2qLGXtMhIWbLorkna/zycg51qO+joLIsflpJA39+Fr7rKmcrryN7lDvoL4zrgJ3Q1PM3HPlCFM5RJ26HGrbTqWqcuouDv9+63qfVXG6BdVafiQEeFop9bbHTJHkI1xPvWwWC/ed1ocbv5yHoRTnd29HSrNIvly1HYBxvc1xP39s3cvA5ASCA2yHreszZVD625eEjr0RLIJz3RKM7AME9DR7ux1rzM8Q9g49qdi5GZzVFzIJCSd0tDsRa7Hg3LScip0NH+B+KIaC75dU8K/T7ebjVba7yMxT9D/BPNzLthhsTVd0TFLceaEdh0sx80/zopR+ULFhl+LG8+wYhmJ/jmLZVt8/Rff68EVihw4goFk0w3fMY9ukVxG7eYx2T/mMzB/nEXfmUIZt/hVXaSlrr30QAOVysf62SQyY/S5itZI+dQZFG7f7HI+5coPSOTMIHXODeQzqPX49qNi1xfv4ne9+VIfFgnPTCvMY+8HiFbkM7BfDZ2/1o6zc4OlXt1Yte+6Rrjz7+jaycxyMOacFl1zQkpjoAKZO7sOSFbk8+9o2hp3cjNFnNsflUpQ7DCa+4FtcNquV+y45hxtfnoahDM4f1IeUpAS+nLsUgHHDBvDbig18OXcpVquFILudp68bj4jQvV0rTuvblUv++yZWi4VOrZszZkg/n+KpZLHaGHLhI3wz5Rrz8SoDxhCb2IH1iz4DoNvJEyguyOKLl8biKCtCxMKa+dO59L7ZlBbn8sP7NwOgDBcd+5xDm86DfY7JZrXwwIWncsOUr81HOQ3oSvvEWL5YZGYLx5/cg3YJMQzq1IZxL36EiHDhiV3p0LwZW/dl8fCnv2AohaEUI3t2YGiXdj7HZLXauOja+5n83xswDIOTh59Pi1btmf+z+Zl9yBnjWLVkDkvmfYfVZsMeEMR1dzyHiNRb11eGgs9/LeHW8WFYBBatc7D/oMHgXua/ywWrHaxPq6Bbiosnro/AUQHTfqi+u/2ac0Pp2NpGWLDw9I2RfPdnKYvW+j4ebu02Bz06BPDMLbE4nIr3v6l+dMvtl0Qy9dtC8ooMvvqtiH+PjeSC4aHs3l/BglVmj9F5Q0MJC7Zw+dlmxtswYNI7x89dt02NqMMManE3QnYAJyulFovIO8Bm4Bagn1LqoLsbcwnQF8gFfgZeBZa65/fB7PL9HVijlLpZRB4GwpVS97m7Wr9WSomIjAIeBU5TSpWISIxSKkdEvgP+p5T6wx3XXOBuYG9d21ZKfSMiRUqpMHf5scA5Sqkr63mfU4F44BygLTAPaI85NvA5zCxmErABOA/Ycoj3NhuYrpT6XESud8cd5u66fQIYoZQqEpEkwInZCF2plDpsn2TJe48edzluZ87x9wf6fJz/ntXmLyddV/+dqo3llKdHNXYIdTpnwVHfAH/M/HyXfzLJ/vRe4bjGDsHLdeqtxg7By+I2VzZ2CHX6/Ieyxg7Bi6Os4Vnxv8v7j/0N42JqKJvx0jH5Pxs05o5GSes1tOt2E/AvEVkLxABv1lyolNoPPAD8AazBbLR8454/EVgM/IbZXVnpHWCoiCzF7AYtdq/rJ+BbYLmIrMZszAFMxRw3t1pEqgaO1bftBr6v2rZgNvB+BP6jlCoDFmI2dNcBL1S+h8O8t9uBO93vrTmQ767zC2ZX7mIRWQd8hdnYzQYWum8m8d/TgDVN0zRNOzJN7GaMhnbdGkqp/9Sal1xzQin1CZ7j0SrnfwB8UMf8DGBgjVkP1Fj2DOadqDXLzwBqPpJ9WAO2HVbj9VeYDas61Zfpc3f9XlrPsjrfG2aWcaAyU5QTMG8kqazzCubNGrXXdUl9sWmapmmaph0N/c0Yx0Zf4DX32MM8wD/fhaNpmqZp2rHVxJ6jd9iGnlJqJ9Dt2Ify9xCRh4DaA1u+VEo96a9tKKUWAD39tT5N0zRN07Sj8f8uo+du0PmtUadpmqZpWhPSxL7r9v9dQ0/TNE3TNK1ejfjMu2OhaTVbNU3TNE3TtCo6o6dpmqZpmlbJ0rRyYE3r3WiapmmapmlVdEZP0zRN0zStkh6jp2mapmmapv0T6IyepmmapmlaJf14FU3TNE3TtCZK34yhaZqmaZqm/RPojN4/zNopPzV2CF5C40IbOwQv0dfaGzsEL6c8PaqxQ/Dy5wPH3/kEEH75tY0dQh32N3YAXqIjGjsCb86V2xs7BC9FzY+/6wGAWMobOwQvFRWuxg6h8embMTRN0zRN0zR/E5FRIrJFRLaLyP31lBkmIqtFZIOIzDvcOnVGT9M0TdM0rVIj3YwhIlbgdeB0IB1YJiLfKqU21igTBbwBjFJK7RaR+MOtVzf0NE3TNE3TKjVe1+0AYLtSKs0MQz4Dzgc21ihzCTBTKbUbQCmVebiV6q5bTdM0TdO0xpcE7Kkxne6eV1NHIFpE5orIChG54nAr1Rk9TdM0TdO0Ssfo8Soicj1wfY1ZU5RSU2oWqaOaqjVtA/oCI4BgYLGILFFKba1vu7qhp2mapmmadoy5G3VTDlEkHWhVY7olsK+OMgeVUsVAsYjMB3oC9Tb0dNetpmmapmmamxI5Jj8NsAzoICJtRSQAmAB8W6vMN8BgEbGJSAhwIrDpUCvVGT1N0zRN07RKjXTXrVKqQkRuBn4GrMD7SqkNIvIf9/K3lFKbROQnYC1gAO8qpdYfar26oadpmqZpmnYcUEr9APxQa95btaafB55v6Dp1Q0/TNE3TNK1SI2X0jpWm9W40TdM0TdO0Kjqjp2mapmma5tbAGyf+MXRDrwmKHDiQ5DvvQiwWMr/9hn3Tp3sst4aHk/LwIwQmJaEcDlL/+wSlaWnVBSwWuk+dhiMriy133emXmML69KfF9TeDxUruL7PJ+upTj+WW0DBa3n4vAYktUE4H6a88R/munQ2q64s9Wxaw6NsnUcqgU/+x9Dr1eo/leZlpzP3yAQ7u3Uj/M26n59BrAKhwlvPdW5fhcjlQLhdtu4+k38hb/RKTLbkTQcMvBLHgXLeE8qW/eSwP6D+cgM59zQmLFUtMAoVvPIQqKyH8ukdRjnJQBsowKP7oRZ/j6fHOU8SfNQxHZjbze59bZ5kuLz1E/KihuErLWHPN/RSsMh/kHjdyMF3+9xBitbDn/S9Jff4dn+Op6d+XNKd/93DKHQb/ey+d1N1lXmXOGR7L6NNjaZEQyIRbN1JQ5Dqi+kdi4fptPP/ZbAxDMXpwX64+c4jH8uVbdnDH6x/TIjYagOF9uvDvc08F4KNfF/H1guWICO2TEnj8qgsItNt9iqfS9vUL+PnTJ1GGQe/BYxl0lud5vm7Jdyz60Tw2AUEhnHnZRBJbdQLg2w8eZNvauYSGx/KfSd/5JR4Aa5sTCBo62jzPN/yFY/nvHsvtfYZh79THnBALlpgEiqY8CuWl7nlCyIQ7UMX5lH77nl9i2rxmAd9MfwbDcHHiqWMYft51HstX/vk9f3xnbisgKIQxVz9Cizbmfnry1tMJDA7FYrFgsdi4/ckv/BJTl2Qb40cEIwIL1zr4ZWm5V5nxw4Pp2s6GowKm/1DCnkzzHL98VDDd29kpLFE8MbXQL/FUuuysCHp2DKTcqXhnZh679ld4lWkWZeWm8VGEhljYtc/JWzPycLmgT6dALhwRjlJgGIqPfyhg626nX+PTqumGXlNjsdD2nnvZdMvNODIz6TZ1GrkLFlC6Y0dVkaQrr6R461a23ncvQW3amOVvvqlqeeJFEyjduRNraKjfYmpxw23sePgeKrKzSHnpLQr+WkT5nl1VReLHX0pZ2nZ2P/kogS1b0eKG29nx0F0Nqnu0DMPFn7Mmcfa17xMamcDXr42jTZfhRCe0ryoTGBLJyec9zM4Nno0tqy2Ac66fij0wFMPl5Js3L6XVCUNIaNPLt6BECDptHMVfvoEqzCPssrtwpq7DyM6oKuJY9juOZeY/RVu7rgT2G4YqK6laXvzFa6jSYt/iqCF92kx2vvERvd5/ts7lcaOGENo+mbmdRxJ1Yk+6vTaRRYPGg8VC18mP8teZV1GWnsEpS74i4/vfKdqU6pe4+nUPJykhkGsf2MoJ7YK5+Yok7viv97o3bi9m6ZoCnr2v3VHVbyiXYfDMJ9/x5h1XkhAdwaVPvsXQnp1IaeH5VZS927dh8q2Xe8zLzC3g0zmLmTHpVoIC7Nz71mf8vHQd5w3qc9TxVDIMFz99PIlL73yfiOgE3v3vODr2Gk5ci+rzPKpZElfc+yHBoZFsXzef2dMf5ZqHzIZKz0EX0H/4pXzzXp3fr350RAgadiElX7+NKsonZMLtVKRtwMipPs+dK+fiXDkXAGvbLgT0HlLdyAPsvQZj5GYgAUF+CckwXHz9wZNc/8A7RMYm8MrDF9Glz6kktqzeTzHxSdzwyFRCwiLZtHoBX747kdue+Kxq+Q0PfUBoRLRf4gHzm7gmnB7M5C+KyS00uP/ycNamOjmQbVSV6drWRny0hcfeLaRtcysXnx7Mcx8XAbB4vYO5Kx1ceVaI32IC6NEhkIRYK/e8nEVKSztXnhvJ41OyvcpddEY4Py0u5q91ZVx5bgRD+4Tw+7ISNqQ5WLn5IACtEmzcdFE090/O8muMPtFj9I4991d79Ktj/pUi8loD13GeiNR5ZRKRIl9jPF6FdelKWXo65fv2oSoqyP71F6KHeGYVgtu2pWD5MgDKdu0isHlz7DExAATExxM9aBCZ33zjt5hCOnbCsX8fzoz9qIoK8uf/TsTAQR5lAlsnU7RmJQDl6Xuwxydgi4puUN2jlbVnLZGxrYmIbYXVFkBKz7PYuXGOR5ngsFjiW3XHYvX8TCQi2APNhrDhqsBwVSB+SPdbE9tg5Gah8rPBcOHcvBJ7Svd6y9s798WxaaXP2z2UnD+X48zJr3d5wnkj2PvRLADy/lqDPTKCwMQ4ogb0oCR1F6U70lFOJ/s+n03CuSP8FtfA3uHMWZQLwJa0UkJDrERHen92TdtdRma2d7agofUbav2OdFrFxdIyLga7zcYZ/bszd/UhH2/lwWUYlDudVLhclDmcxEVFHHUsNe3bsZbo+NZEx5nnedcBZ7Flted53qp9H4JDIwFIateTwtwDVcvadOxftcxfLAmtMfKzUQU5YLio2LoKW7uu9Za3n9Cbii2rqqYlLBJb2y441//lt5h2b19HbEIrYhNaYbMF0Ouks9iw4g+PMskdexMSZu6LNu17kF+jYXosJDe3kpVrcDDfwGXA8s0Oerb3zPL27GBnyQYHADv2uwgJEiJCzWvR9nQXxWW1v1jBd306B7JwtdnoTk13EhJsITLMuznRpW0gyzaYWfI/V5fSt7PZKC93VMcUGHAcdpOKHJufRnLcNfRExOqP9SilvlVKPeOPdR0JEWnULGlAfByOjBrZn8xMAuLiPMqUbNtGzDCzuyi0SxcCExMJiDezDm3uuIPdr70KysBfbLHNcGZVf++y82AW9thmHmXKdqQSebLZIA3u2ImA+ERssXENqnu0ivMzCI1qXjUdGplIcX7DL9yG4WLGy6OZ/sQgWnY4mfjWPX2OScIjUYV51dsoykPC6/kna7NjS+5ExbY1HrNDx95A2GV3Y+9xks/xNERQiwRK06sbBmV7DxCUlFDH/AyCkhL8tt1m0XaycqobcAdznDSLbnhXp6/1a8vMKyAhpvpYJURHkpXn3V22Nm0P4x9/jZtemU7qXvN8i4+O4IqRp3DmfS9y+t3PERYcxEld23vVPRoFuRlERFef5xHRiRTm1n+er/7zK1K6Dal3uT9YwiIxPM7zfCTsEOd5m044t6+tmhU45HzK//welP8aMfm5GUTFVu+nqJiEQzbkls6dSaeeg6tniDDlmet46cFxLJnjn27bqDALuYXV1+LcQoOoWg2qhpTxt5gIKzn51UMgcvJdxER4/usOCxFKygwMo7pMdER1XH07B/LMrXHceVkM736dd0zj/f/Or2eDiNwrIre6X78kIr+7X48QkY9E5GIRWSci60Xk2Rr1ikRkkoj8BZxUa51XichWEZkHDHLPs4pImpiiRMQQkSHuZQtEpH3N7J/7KdOLRWSZiDxRa/33uOevFZHHD/P+HhGRzSLyq4h8KiJ3u+fPFZGn3DHe5n6/q9zv9X0RCXSXe0ZENrq39YJ73jj3/ljj/ioTH9XxqaHWtXDf9OlYI8Lp/uFHJI4fT/HWrSiXi6hBp+DMyaV482bfwzhMTKrWBTrry0+whIbRfvI7xJ5zAaWp28BwNaiuPx1JVs5isTLm9llc+uBcMvesJedAvd9AcyQReM+q5+3aU7rh2rfDo9u26JOXKfrwBYpnvkVgr8FYW6b4IaZDq2ufKaXq/gR7DI9d1XYbq34DqnZq3ZwfnrmLLx67mQnDB3LHG58AUFBcytzVm/j+6Tv55fl7KXU4mL1k9dHHchj1nec7Ny9h1YIZjBh71zHbdr3q2X+2tl1x7dtR1W1rbdsZVVqEkZl+zLdf337avuEvls6dydkXV49hvnniR9zx1Fdce99bLPz1U1I3Lfc5pIZ88enxQtWKTOq6dtd4vWJTOfdPzuKVT3IZMyL8GEd3hCyWY/PTSPydfZoP3AVMBvoBgSJiB04BtgHPYn4Zby7wi4iMVkrNAkKB9UqpR6H6j0tEmgOPu+vkA38Aq5RSLhHZCnQB2gIrML8S5C+gpVJqu4icUiOuV4A3lVLTRaRqMJqIjAQ6AAMw/6a+FZEhSimvBpe7K3kM0Btzv610b7dSlFJqqIgEud/rCKXUVhGZDtzg/n0B0EkppUQkyl3vUeAMpdTeGvNqb7vqi5DvS27D6Pj4uooB7gxeQnXWJCA+HsdBz7EPruJi0p6obu/2/noW5fv2EXv66UQPGUz0yScjgYFYQ0NJmfg4qRMfq3d7DVGRnYU9rjpme7M4KnI8x3MYpSXsfeW5qukT3vsUx4H9WAIDD1v3aIVGJlCct79qujj/ACER9e/b+gQGR9Ci3QD2bFlATGJHn2JShXlIeFTVtCUsClVUd7epvVMfnLW6bVVxgfm7pAjn9rVYE1vjSvfPmLj6lO49QHDLRHLd00FJiZTvy8QSYCe4ZWJVuaCkBMr2Zda9kgY6Z3gMZwwxhxls21FKXEx1Bq5ZjJ3sPO8B4fU5mOv0qX5t8dERZNTo4s7IzScuyvMfWFhw9Xiywd078vTH35FbWMzyLTto0SyamHBzOMDw3l1Yk7qHswf2Oup4KkVEJ1CQW32eF+QeICzK+zzP2LOF76c9wsW3TSEkzH/jzOpiFOVj9zjPI1HFdZ/nto69cG6t7ra1Nm+LrW1XbMmdwWpDAoIIOuMSyn7+xKeYImMSyMuu3k95ORlERHvvp327t/DlO49x7X1vEVrjPUS6y4ZHxtKt32nsSV1HSmevEUhHJLfIIDq8uoEQHW4hv8iztyWvqoyrqkxekf96ZCqNGBDCsH7mWL8de53ERFoBMyMeE2klt8Bzm4UlBiFBFiwWMAyzTF6Bd1xbdjmIj7ESFiIUlRyvzdh/Nn83MVcAfUUkHCgHFmM2+AYDecBcpVSWUqoC+Bio7B9wATPqWN+JNeo4gM9rLFvgrj8EeBqzMdkf87viahsEVN6q+WGN+SPdP6swG26dMBt+dTkF+EYpVaqUKgRq335WGdsJwA6lVGV6Z5o7xgKgDHhXRC4EKtMwC4GpInId5leeeFFKTVFK9VNK9TtUIw+gaNNGglq1IrB5C8RmI/b0keTOX+BRxhoWhtjMNn78+edTsHo1ruJi9rzxBqvOPZdVF4xm+8MPUbB8uc+NPICSrZsJbJGEPSERsdmIHDKcgr8WeZSxhIZWxRR9xtkUb1iLUVrSoLpHK65ld/Kzd1GQk46rwkHqmh9o03l4g+qWFuVQXmo2qiqcZezdvpio+HaHqXV4rgO7sUbHIZExYLGajbnUOr7dJiAIa8sUnKnrqufZA8AeWPXa1qYTxsH93nX9LPO730m6bDQAUSf2pKKgkPIDWeQvW0do+2SCk1sidjstLjqbjO9/P/TKDuP733O4ZeJ2bpm4ncWrChhxstkgOaFdMMUlLnLzG95Q+2t1oU/1a+uanMTuzGz2ZuXirKjg52XrGNazk0eZg/mFVVnD9TvSUUoRFRZCYkwk69L2UFruQCnF0s1ptE2Mq2szR6xFcndyMnaRm2We5xuW/kDHnp7neX72Pr584xbOv+ZZYhPb+mW7h2Jk7MES1QyJMM9zW8feVKRt8C4YEIStZQoVqdXLHIt+oPj9Jyj+4EnKfvwIV/p2nxt5AK1SunHwwG6yM9OpqHCwevEPdO17qkeZ3IP7mPbSbVx849PENU+uml9eVkKZ+wao8rIStq5bRGIr37ved+13ER9tITbSgtUC/ToFsHa753jTtdudDOwaAEDb5lZKyxUFxf5vMM1ZWsIjbxzkkTcOsmJTGYN6BQOQ0tJOSZnh1QAF2LSjnP5dzQ83p/QKZuVmc7xefEz1v7o2zW1YrcdXI68Rv+v2mPBrRk8p5RSRncBVwCLM72I7FUgBdmNm5upSppRy1bOsvqO/APgP0AIzK3YPMAwzq9jQ9QjwtFLq7Xrq1C57KJW3OdZZzv0ddgOAEZhfVHwzMFwp9R8RORE4G1gtIr2UUkefsnK52PnC83SaPNl8vMp331G6I434Cy4EIPPrmQQntyVl4mPgMijdsYPUJ/971JtrEMNg31uTaTvpObBYyP31R8p37yTmTPNRHTk/fkdQqza0vPMBlMugfM9O0l95/pB1/cFitTHo/Ef48b1rMAyDE/qPISaxAxuXmHfRdRk4gZLCLL6ePBZHeREiFtb/OZ1xd82mpDCLuV/cjzJcKKVo12MUbTqfepgtNoAyKJ0zg9AxN4DFfLyKkX2AgJ7mDSiONQsBsHfoQcWuLeB0VFWVkHBCz7/G/eYsODetoGKn793wvT58kdihAwhoFs3wHfPYNulVxG5eOnZP+YzMH+cRd+ZQhm3+FVdpKWuvfdB8Ky4X62+bxIDZ7yJWK+lTZ1C0cbvP8VRatraQ/j3Cee+ZjpQ7FC+9X92V9/jtybwyNZ2cvArOOy2WsaPiiI608fqkDixfW8grU/cesv7RsFmt3HfJOdz48jQMZXD+oD6kJCXw5dylAIwbNoDfVmzgy7lLsVotBNntPH3deESE7u1acVrfrlzy3zexWix0at2cMUN8ywZVslhtjLrkET55+RqUYdBz0BjikzqwYq55nvcdNoH5371BaXEeP348yaxjsXLtI+Zn75lT7mTXlmWUFOXy8j1DGXreLfQePNa3oJRB2dyZhIy+HkRwblyKkZOBvbs5cse5bjEAtpTu5nle4TjU2vzCarVxwZUP8c4z16MMg/7DLiCxZXsW/WZ+hj/5tIv4deZblBTmM/MDs0ek8jEqRfnZTH3JfLyS4XLRe9DZnuP3jpKh4LPfSrllbCgWCyxa52B/tsHgnmbDbsEaB+vTKujWzs6k68JxOGH6j9VDOa4+J4SOrWyEBQtP/SeC7xeWsWid7/tyzdZyenYM5Pk74nA4Fe/OrM7G3nV5NO/Nyiev0ODzXwq5cXwUY0eEs2u/k3krzNj6dw1iUK9gXC5wOhVvfJ5b36YaRxO761b8Pd5JRCYCV7t/1mFm2FYANwJLqO66/Rl4VSn1jYgUKaXCaqxjLnA3sNddpw9mRux3YI1S6mb3uLctQJpSariIvAmcA5yjlFojIlcC/dxlvwW+UEp9JCI3AM8rpcLcXbdPYHazFolIEuBUSnn1L4lIf+Bt4GTMBvIK4B2l1AuV8Sqllru7brdiNuK2i8hUzIzhe0CIUipTRGKA7UqpGBFJUUqlurexCrhKKbW6vv275MQBx8/HHrfQOD89hsWPfrnWt8zRsXDt9tsbOwQvfz7wU2OHUKfXL/+qsUPw8tWVDb+D9u8yU8Y1dghezl95d2OH4GXuKXU/Gqix/fD78fcAiOKC0sMX+ptNf6L535oOK14865j8nw09aXSjpPWOxR2iC4CHgMVKqWIRKQMWKKX2i8gDmOPsBPhBKXXIZ3i460zE7ALej9m9anUvKxeRPZgNwcrtXozZuKztNuATEbmNGl3ESqlfRKQzsNg9LrAIuAzwaugppZa5G4xrgF3Acsxxg7XLlYnIVcCX7jtwlwFvATHAN+6GoAB3uKs8LyId3PPmuNevaZqmaVojUE0so+f3hp5Sag5grzHdscbrTwCvwRQ1s3nu6WE1Xn8AfFDPtgbXeO2xbqXUVGCq+/UOPO/mfaZGuVcwb9ZoiBeUUhNFJASzi/jF2vG6p+dg3rRR037Mmz5qv4cLG7htTdM0TdO0I6K/GePITBGRLkAQME0pdWyfVKtpmqZp2t9Lf9dt0yYisZhdqLWNUEpd8nfHo2mapmna30d33TZx7jteezV2HJqmaZqmab7SDT1N0zRN07RKTazrtmnlJzVN0zRN07QqOqOnaZqmaZpWqYmN0Wta70bTNE3TNE2rojN6mqZpmqZpbo35vbTHgm7oaZqmaZqmVdJdt5qmaZqmado/gc7oaZqmaZqmuSmaVtetzuhpmqZpmqY1UTqj9w/zbP+PGzsELy2S4xo7BC83fjCisUPwcg6PN3YIXsIvv7axQ6jTTR+ObewQvIzMmtLYIXg570rV2CF4OXfB8Xfswjdua+wQ6pTYJr6xQ/ASGBzQ2CE0Ov0VaJqmaZqmaU1VE2voNa13o2mapmmaplXRGT1N0zRN0zS3pvYcPZ3R0zRN0zRNa6J0Rk/TNE3TNM1N34yhaZqmaZrWVOmuW03TNE3TNO2fQGf0NE3TNE3T3Jpa123TejeapmmapmlaFZ3R0zRN0zRNc9PfdatpmqZpmqb9I+iMnqZpmqZpmltTG6OnG3qapmmapmmVmtjjVXRDr4m6ZmwcfbuGUO5QvPphBmnp5V5l4mNt3HVVc8JCLKTtKeeV6QeocMHoEVEM6R8BgNUCSYkBXHl/GkUlxlHH0yXZxtjhwVgEFq5z8OtS73jGDQ+ma1sbjgr48McS9mS6ALjsjGC6pdgpLFE8ObXwqGOoS1jv/iRedzNYLOT9+gMHZ3zqsdwSGkbSrfcSkNgcw+Fk36vPUb57Z4Pq+uK269oxsG8M5eUGT72yha1pxV5lLjyrOePOS6Jl82DOuWwx+YUVAPTqFsnTD3Zhf0YZAPOXZDP1890+x/TvS5rTv3s45Q6D/72XTuruMq8y5wyPZfTpsbRICGTCrRspKHIdUf0j0eOdp4g/axiOzGzm9z63zjJdXnqI+FFDcZWWseaa+ylYtRGAuJGD6fK/hxCrhT3vf0nq8+/4FEtNt12fwkl9Yykrd5nHLrXIq8yFZ7dg/HktadkimLMvXUh+QUXVst7dIrn1uvbYbEJegZNbHljjc0zpWxew5PunMAyDE/qPpefQ6zyW52WmMX/Gg2Tv20i/kbfTffDVABTl7Wf+l/dTUnQQEeGE/uPpNugKn+OpdMvVyQzsHU2Zw8Uzr6WybYf3eX7BqETGnt2cpOZBnH/VsqrzvNIJKaG88VR3Jr20lXlLcnyO6fqLEujbLYxyh8ErU/eTusf7PE2ItXPPdUmEh1hJ3VPG/97fS4ULQkMs3HZFCxLj7Didilem72f3Pu9r3ZGacHoI3VMCcFQoPviuiN0ZLq8yzSItXDc6jNBgC7sPVPDet0W4jIbXbwoxaXVrWvnJBhKRKBG50cd1FLl/DxOR74+g3g8iElXH/IkicrcvMVXq0yWEFnF2bnx8F29+msm/J8TXWe6K85vx3R+53DRpF8WlBiNOigRg1pw87nxmN3c+s5sPv81m47ZSnxp5IjD+tGBen1HMEx8U0q9TAImxnqde17Y24qItTHyvkE9+KWHC6cFVy5ZscPD6V97/AHxmsdD837ex6/H7Sb35KiIHDyewVRuPInHjLqUsbTupt13H3pefJvHamxtc92gN7BtNy+bBXPyf5Tz3+jbuuqF9neXWbSrgjkfXVTXoalq7MZ+r71jF1Xes8ksjr1/3cJISArn2ga1MnraXm69IqrPcxu3FPPjCDjIOOo6q/pFInzaTpedcW+/yuFFDCG2fzNzOI1l3wyN0e22iucBioevkR1l67rXM63E2LSacQ1jnFJ/jARjYN4ZWLUKY8O+lPP/6Vu6+oUOd5dZtKuD2R9Z4HbuwUCt33tCB+/+7nstvWs4j/8fefcdHUeYPHP88u9m0Tdn0kFASQi+hF5GOIqAoCIL9LNjPdufdeWLvnnfn2RVQUbErNkBERRDpPaFDqAGSQHrfMs/vj1mSbHaBDbuYkN/zfr3yYnfmeWa+OzM7+8z3eWZ4fpvPMWmagxXfPcXoG2Yw6b7v2bt5PoW5e1zKBIVGct746TUNvBMMBiP9x/2dyffPZ/wdn7F91cdudc/UgF4WWrYI5pq7N/Kft/Zy/62pHstl7izhr09uIyfP/Tg3GOC2a9uwdnORX2Lq081MUnwgtz2SxetzjnLHNYkey91weTzf/lzAbY9mUVbu4MLzLQBMGRvL3uwq7nlqHy+9d4Rbpyb4HFO3NBPx0Uamv1XEhwvKuWaM2WO5SSND+XltFQ+/VURFlWRwz6AG1T/XY/InieGs/DWW/5cNPcAC+NTQO1NSynFSyqKzuY7+6WH8uqYEgF37qzCHGIiKMLqV694hlBUb9WzDr6tLGNDD/cs2pG84y9b7lkVLSTRyrFAjv1jDocH6HVbS00wuZdLbmVi9VW8c7D/qICRIEGHW0+d7sh2UV0mfYvAkpH0nrDmHseUeRdrtFC9bTHj/QS5lglq1oTxjAwDWw4cIjE/EGBnlVd0zNbh/DAt/zQNg265SwswBxESZ3Mrt3ldOTp7v2QJvDOwVzi8rCgHYubcSc6iRqEj3DoG9B6vIy7edcf2GKPh9HbaC4pPOT7h0FIfnfANA0erNmCIjCEqMw9I/nYqsA1Tuy0babBz5bD4J40f5FMsJQwbGsHBxDgBbd57Yd4Fu5XbvLfO47y4clsBvK4+Te0yfV1Tsvi0b6lh2BhExrYmIboUxIJC26eM4uH2xS5mQsBjiWnbHYHDdJ6ER8cQmdwUgMMiMJT6NipJcn2MCOL9fND8uOQbAtt1lhIUGEG1xP8737Ksg55jn4/zysYn8tjrfL9sJYGCPcBav0o+pnftOnDvdj9P0TqEs36CfY39ZVczAnuEAtGoRRMZ2/aI0O9dKfIwJS7j7ubchenYIZFWm/vn3HrETGmwg0uzetdixjYn12/Vz6IrManp1CGxQ/XM9JuXk/r829J4H0oQQm4QQa4UQS4UQnwshdgkhnhdCXCOEWCOEyBRCpAEIIVKFECud5Z+qt7wIIcTXQohtQoi3hDj5SE4hxH4hRKzz9XQhxE4hxM9AR399uBhLAPmFtd0b+UV2oi2uJ6tws4HySgeaM1F3vNBOTL0f3kCToFfnUFZucu96aghLuIHC0tqMYFGZhiXcdRNFhhkoqlumVMMSdnYPT1NMLLbjeTXvbfnHCYiJcylTtS+L8POGAHrD0BSfgCk21qu6ZyouJpC847U/bMeOW4mNCWrQMrp2jOC9//XixUe7ktIq1OeYYqNMHCuo/TE9XmAj1kPj82zVPxPBSQlUZufUvK86nENwcoKH6bkEJ/ueeQGIjQly2Xd5+dXExrg39E6mVVII4WEBvPpsD955qTdjRvgeV0VxHubI2sxUaGQC5WfQWCstPEz+ke3Eterhc0ygH+fH8mszv8cKrMQ1YFvFRgcyuH8M3y3yT8MT9HPn8TrHaX6RnZgo1/NihNlIWYVWc+7ML7QR4zy/7suu4rzeeqOvfUow8dEmjxdpDREVZqCgpPbcWFjqfv4MCxFUVkk05/VwYUltGW/qN4eY/EkKcVb+GkvT2bJ/rAeBLCllT+BvQA/gXqA7cB3QQUrZH5gF3O2s8zLwppSyH5BTb3n9gb8666cBl58uACFEH+BKoJezfL9TlL1VCLFOCLFu/9ZPvf2MLmS9hJjwcNDVz5n1625mx17fum29j8dDGb+vtT5PK3Vd6/GvPsEYFk7bl2YQffFEqvbuRjocXtU946g87ZsGLHpXVhlX3LKGG+/byFfzj/DsQ138Epd7TL59Xl/rn47n7ShPcrD5ad95mtiARRuNgo5p4fztiUz+8lgGf7qyNa2SQk5f8ZTcAxANfE6YrbqcXz66h4EXP0hgcJiP8ZxcQ3bDn29MYcacAzUNLr/w5rt3inPVlwvzCQs18vLDqYwfEc3eQ1U4NB+PLW/Ojac6pM/GubUpxuRHUhjOyl9jUTdj6NZKKY8CCCGygEXO6ZnACOfr84FJztcfAi/Uqb9GSrnXWf8TYDDw5WnWOQT4WkpZ4az33ckKSilnADMAJv55t8fvw9ihkVw4SB9jt+dAlctVaIwlgMJi1wHMJWUOzCFGDAbQNIiNCqCgXpnBfcJZtt63bB7o2bmoOldrljADxWWaWxn9ik4fkGsJdy/jb7b8Y5hia8cvmmJisRccdymjVVZw5JV/1bxvP+NjbLk5GIKCT1u3ISaOa8H4C/Wsy449pcTH1mbw4mIDyS/wvou2orJ2UPOq9YX85TZBZHiA2yD207lkZDQXDY0GYPe+SuKiazMTsdEm8ou8X97xQptP9c9E5eEcQlomUuh8H5ycSPWRPAyBJkJa1ma4gpMTqDqS53khXrh8XBLjL2oBwPbdrvsuPiaI4wXWk1V1cyy/muISG1XVGlXVGpu3FNMu1cyhI5VnHF9oZALlxbXXphXFuYRGeB6364nmsPHLx/eS1nM8Kd1Gn3EcABPGJHDJKD1LuSOrzCWDFxcd2KBt1bGtmUfv18dARoabGNA7CodD8vvawtPUdDVueBQXDbYAsHt/JbHRJsjSt3eMJYCCIvdzZ1iooebcGRNlqilTWaXx8vtHa8rOeiaN3OMN71Ye3ieIoT2DAdh3xE50RO35MyrcQHGp67mxrEISEiwwCNAkREXUnj8LS7XT1j9XY1K88/81o1df3V9Rrc57DdfG8MkuOupP9/bixG8XMT/8VlxzA8XqjDJG9Nfvmu2QEkxFpUZhifsdTVt2VTCol351PmJABGsyam94CA020LVdCGsyfG/oHchxEB9lICbSgNEAfToFkpnlevLLyLIxoKt+0k9pYaSyWlJSfnav8Sp37yCwRTKm+EREQACRQ0ZSumalSxmD2YwI0A+BqAsvpmJbBlplhVd1G+LrBUdrbp5YtiqfMSP0H+IuHcIpK3eQX+j9j0XdcU6d24dhMNDgRh7AvMUF3P34Hu5+fA8rN5YwalAUAB3bhlBe4XC7eDiV1ZtKfap/JvK+X0zytRMAsAzogb2klOqcYxSvzcTcLoWQlJYIk4mkqReTO2/xqRd2CnMXHOHGe9dz473rWbbqOGNG6o3Irh3DKauwk1/ofeNl2ap80rtGYjRAUJCBLh0j2H+o4oxjA4hL7k7J8QOUFmTjsFvZm7GA1p1HnL4iegZ02dyHscS1pfvgG3yKA+CbhblM+1sG0/6Wwe9rCrhouD7coUv7MMorHBQUeX+cX3XXRq68U/9buiqf/83c2+BGHsCCJYXc+/Q+7n16H6s2lTFyoH7B3DH1xLnT/TjN2FnB+b31c+yogZGs3qyfJ80hBgKcQ/JGD7awdXcFlVUNb8AsWV/Nk+8U8+Q7xWzaZWVgd/3ioW1SAJXVkmIP58adB2z06ayfQwd1D2LTLv242+xl/XMxprNFIs7KX2P5/5rRKwXCG1hnOXpX6xzgmnrz+gshUoEDwFSc2bfT+A2YLYR4Hn0/jAfebmBMHq3fWkGfrmbefKwN1TbJq3Nqx7A8fEcSr3+cS2Gxgw++Pc5fb2zB1ZfEsO9QNT+vLKkpN6CHmU07Kqi2+v7l0yR8/ksld00yYzDAykwrR/M1BvfQTwC/b7ayda+drqkmHp8WjtUGcxbW/rjdeHEo7VsFEBYiePq2COYvr2LlFu9/PE8emMbRGa/S5vEXEAYjhb/8QPWh/USN0R/VUbjwe4JatiH5vgdB06g+dIDDr754yrr+sHJ9IQP7RvPpW32pqtZ47tVdNfP+9UhXXnh9N/kFViZdksTVE1sSHRXI7Fd6s2p9IS+8tpvhg2KZMLYFDoek2qrx+L93+BzT2oxS+qWH887zHai2Sl56N7tm3hP3pfDy7GwKiuxcekEMk8fEERUZwOtPtmddRikvzz58yvpnqueH/yFmWH8CY6MYuW8pu598FWHST2kHZ3xK3g9LiRs7jOE7fsJRWUnGtIcAkA4HW+59kv7zZyGMRrJnf0XZNv/cSbpyXQHn9Y3msxn9ax6vcsKLj3Xj+Vd3kV9gZfL4ZK6+vBXRUYG8/0pfVq4v4IVXd3Egu4LV6wuY/WpfpITvFx1l30HfGnoGYwDnXfowC9+bhpQaHfpcTlRCe7av1oeBdB5wJRWlx/j29SuwVZchhIEtyz9g0n3zKMjZyZ6N3xGV2IGvX50IQN/R99Gq4zCfYgJYtaGIAb2j+Oi1XlRXa7zwRu0+eP6hTrz4Zhb5hTYuH5fIVZclEW0J5J3/9GD1hkJefGuvz+v3ZN2WMvp2NzPj6TT98Sp1snOP/bkVr354lIJiO7Pn5vH3aclce1kcew9VsWh5EQAtWwTxlxuS0KTk4NFqXvng6EnW5L3MLBvd2wXyzB0WrDbJ7Hm1F9/3TAnn/QVlFJdJvvq1glsnhDNhaCgHc+38vrn6tPWbU0zKyYmzPU6mqRJCfAykA5VArpTyEuf0JcADUsp1QojhzteXOBtyH6M3yr4CHpZShjnLPAocQx+j9xtwp5TS42WcEGI/0FdKeVwIMR24Hr2BmA1sk1L++1Rxn6zrtjElpfjnJgR/unPZaYdJ/uFu54nGDsFNeIylsUPw6K4PJzd2CG6eG+PN9dsf69IbhjR2CG4WfLK6sUNw01SP88Q23neh/38286GYPzQddmRnxln5nU3qmN4oab3/rxk9pJRXn2T68DqvlwBLnK/3AefVKfp8/TJerjelzutngGe8rasoiqIoytnVmHfIng1qjJ6iKIqiKEoz9f82o3e2CSFWA/UffnadlDKzMeJRFEVRFOX0GvPGibNBNfTOEinlgMaOQVEURVGU/99UQ09RFEVRFMWpMR9ufDaohp6iKIqiKIpTc+u6bV7NVkVRFEVRFKWGyugpiqIoiqI4Nbeu2+b1aRRFURRFUZQaKqOnKIqiKIripMboKYqiKIqiKOcEldFTFEVRFEVxam5j9FRDT1EURVEUxam5dd2qht455uNJaxo7BDd2s6WxQ3DzZZ/FjR2Cmx+Nnzd2CB4cbewAPBp9bEZjh+DmnwtvbewQ3Pw2flNjh+Dmhwm/NnYIbn7u/PfGDsGjbxcWNXYIboRoXo0cRTX0FEVRFEVRashm1thtXh3RiqIoiqIoSg2V0VMURVEURXGSsnll9FRDT1EURVEUxUk2s87O5vVpFEVRFEVRzlFCiDFCiJ1CiD1CiAdPUa6fEMIhhJh8umWqjJ6iKIqiKIpTYz1eRQhhBF4HLgSygbVCiO+klNs8lHsB+NGb5aqMnqIoiqIoSuPrD+yRUu6VUlqBT4HLPJS7G/gKyPNmoaqhpyiKoiiK4iQRZ+VPCHGrEGJdnb/6D+dMBg7VeZ/tnFZDCJEMTATe8vbzqK5bRVEURVEUp7PVdSulnAGc6mnwnlYs673/H/APKaXD24dbq4aeoiiKoihK48sGWtV53xI4Uq9MX+BTZyMvFhgnhLBLKb852UJVQ09RFEVRFMWpEf+v27VAeyFEKnAYuBK4um4BKWXqiddCiNnAvFM18kA19BRFURRFURqdlNIuhPgz+t20RuBdKeVWIcTtzvlej8urSzX0FEVRFEVRnBrzf8aQUi4AFtSb5rGBJ6W8wZtlqoZeM7R86x7+9fmPaJrGxPN7cdOYwS7z1+7cz/1vfkZSrAWAUb06cdvFwwD46JfVzF2+ASnh8sG9uHbUQL/EtCJjO//+8Bs0TWPC8IHcMH6Uy/x12/fw15feJTkuGoARfbtzy8SLauY7NI3rHn2J+KhI/vfXaX6JCWDv1t/4+fNn0DSNHudfwXljXG+Cys/JYv77D5F7aCtDL72fAaNvrpm39pf32bz8C5CSHoOvoN+oG/wS0/Itu3nx0/lommTCkD7cNHaoy/x1O/dx/+sfkRQTBcDI3l24bfwIAOb8tIKvl61DCEG75ASeuHEiQSZTs4wJ4N5b0zivTwxV1Q6efXknu7LK3MpcfnESUy5tScukEC6+ZjnFJfaaeb26RXLPLe0ICBAUldi4+5+bfYonfeazxI8bjjUvn996jfdYpstL04kfMwxHZRWbb36Qko36I7LiRg+hy3+nI4wGDr37BVkvzvQplro6tDRw6SATQsDaHQ6WbLa7lbl0kImOrQzY7PD5EitH8vUx4MGBMHloIAnRAiR8sdTGwTzN55iW7znMv35cgyYlE3u156bzu7uVWbs/hxcXrcHu0IgKDeadP40B4MNVW/l6426EELSPt/DEpYMJCjD6HNOOzcv49oPn0TQHA0ZMYuSlt7jM3/D7PH79/h0AAoNDmXTTIyS16QRAZXkJn898lJxDexBCMOXWp0jp0NPnmACuGm2me1ogVpvk3XmlHMxxuJWJjTRw68RwzCEGDubYmfVtKQ4NEmOM3HhJGK0TA/h6SQWLVlf6JaYrLwzVY7JL3vu+jIO5nmO6ZUJYTUzvfFeGQ/O+vuIfqqHXAEKIFPT+8G4NrLdCSjnIWX+QlPLjsxEf6A2i5z75gbfuvZaEqAiueW4Ww9I7kpYU51KuV/vWvHrXVS7T9hzOY+7yDcx5cBomo5G7Xv2IId3a0yYhxueYXnh/Lq//43YSoiO5/tGXGNq7K22TE11j6tj2pI24T378jdSkeMorq32KpS5Nc7Dokye58t73CI9KYPZzk2mfPpLYpHY1ZYJDLVw4dTq7Nv3iUvfY4V1sXv4Ff3rwC4xGE5+9Oo20bsOJTkjxKSaHpvH8x9/z5v036PvvmbcY1qMTaUnxLuV6tWvDK/dc5zItr7CET35ZyVdP3kNwoIm/v/UpP67J5NLzeze7mAAG9ommVVIoV962hq4dw3ngjvbc+sBGt3KZ20tYsXYzrz7b02V6mNnIX+5ozwOPZ5J7rBpLpO+Nz+z357L/jTn0fPcFj/PjxgzF3C6FJZ1HYxnQg26vPc6K86eAwUDXVx5l9dgbqcrOZfCqL8mdt5iy7Vk+xyQETBhsYtZ8K8Xlkj9PDGLbAQd5RbU383VsZSA2QvDiZ9W0jhdMHBLI69/o37VLB5nYecjBnJ8dGA1g8sOvhkPTeG7hKt66ZjQJEaFcM2s+wzq0Ii3OUlOmpMrKcz+s4vWrL6BFZBgF5XoDJbeknE/W7mDu7ZcRbArgb18uYeHWfVzWo91J1uYdTXPw9XvPcOs/ZxIZk8DLD0+lS+8RJLasXW50fDJ3PDKb0LBItm9axhezHufepz4F4JsPnqNTj8H86b7/YbdbsVVX+RTPCd3TTMRHG3nozULaJgVw7Zgwnp1d7FZu0kgzP62pZO02K9eONTOkZzBLNlRRXqnxyaJyenUM9Es8AN2cMU1/q4i2SQFcM8bMc++XeIgplJ/XVukxjTEzuGcQSzdUe12/sTTiGL2zQj1H7yxyPr0aKeUg56QU6g2s9Lct+w/TKj6KlnFRmAKMXNSvK0sydnpVd2/OcdJTWxISaCLAaKBP+zYs3rTD55i2Zh2kVUIsLeNjMAUEMHpgL5au3+J1/dyCIpZv2s6EYf7JLp5wdH8GUfFtsMS1whgQSJd+F7M7w7VBZ46IoUVKOgaj669bfk4WSak9MAWGYDAG0Lp9P3Zt+snnmLbsy6ZVXAwt46IxBQRwUb/uLNm03ev6Dk2j2mbD7nBQZbURZ4loljEBDBkYw8LFOQBs3VlKmDmAmCj3H7Pde8vIyXO/QLhwWAK/rTxO7jF9XlGxzeeYCn5fh63A/Uf4hIRLR3F4zjf6+lZvxhQZQVBiHJb+6VRkHaByXzbSZuPIZ/NJqJf1PlOt4gzkF0sKSiUODTZnOeiS4pr96ppiZP1uPaNyME8SEgjhIRBkgtREA2t36vMcGlRZfY9py5HjtIqKoGVUOCajkYu6prJk5yGXMj9s2cvITq1pERkGQLQ5pGaeQ9OotjuwaxpVdgdxYSH46uCeTGISWhGT0IqAgEB6njeOret/dSmT0qEXoWGRALRpl05xQS4AVRVl7N2xnv7DJwEQEBBIiNk/x3nPDoGszNAbjXuP2AkNFkSGuTdEOqWYWL9d3zkrMqrp2UH/LpRWSPYftePwY8KsZ4dAVmVW14nJQKTZPaaOberElFlNL2dM3tZvLGfrOXqNpVk19IQQKUKIHUKI94UQGUKIL4UQoUKIUUKIjUKITCHEu0KIIGf5/UKIF4QQa5x/7ZzTZ9f9/+OEEG79Qc51LRNCbHD+DXJOHy6E+FUI8TGQWa/+88AQIcQmIcT9zvo96yxzuRAi3ZdtkFdYSmJUZM37BEsEeYWlbuUy9mYz5am3uevVj9hzRH+4drukONbvPkBRWQWVVhu/b9lNbqHvV1l5hcUkRFtq3sdHW8grdP8xzNyzn6seepF7XpxBVnZOzfT/zPmGe668BGHw7xeltDCX8KjarGK4JYHSwlyv6sYmdeDQ7nVUlhVis1aSteU3SgpzTl/xNPKKSkiIrrP/oiI5VuRp/x1iyhOvcdfLH5B1WI85PiqC60cPZuw//sOFD/yLsJBgzuvqW5ajqcYEEBsTRN7x2gZcXn41sTHeZy1aJYUQHhbAq8/24J2XejNmRIJf4jqV4KQEKusc21WHcwhOTvAwPZfgZP/EE2mGovLa7F1xuXT7UY0IFRSXuZaJMAuiIwTlVXDFMBP3XB7EpKEmv2T08koqSIww17xPiAglr7TcpcyB/BJKqqzc/MFCrpr5Pd9vznKWNXP9wK6MeflLLnzpc8KCTAxKc3mm7BkpLszFEtOi5r0lOqGmIefJmiVz6dRjCAD5eYcIC4/is7en899/TuLzGY9SXVXhc0wAlnAjBSW1XeWFJRqWcNeGeliIoLJKosnaMlHhZ+/nPSrM4BpTqYal3vo8xXSijDf1Ff9pjlu2IzBDSpkOlAB/AWYDU6WU3dG7q++oU75EStkfeA39QYTeygMulFL2BqYCr9SZ1x+YLqXsUq/Og8AyKWVPKeVLwCzgBgAhRAcgSEqZ0YAY3NR/sqK+bNf3nVu34Idn7uXzR27jyuH9uf/NzwFo2yKOGy86n9tfnsNdr3xEh5aJGA1+OESke1T1H/TYKaUl37/0CJ88+zemXDiYB/73LgDLNm4lOiKMzqmt3Jbhh8DcJ3n5AMrYFmkMvGgan758E5+9Mo34lh0xGHwfI+RxB9bTqXULFjz/Vz5/7M9cOXIg97+hjwQoKa9kyabtzHvuLyx68e9UWq3MX7WpecaE5yeLehPrCUajoGNaOH97IpO/PJbBn65sTask3zNDp+LpAadSSs/HnYfvjb+4Lfokh71BQFKsYNU2O6/MrcZqgxE9fW/peT5PuQbh0DS2H83ntStH8cY1FzLj980cyC+mpLKaJbsOMf/uSSy6bwqVVjvzM3zv4vZ8OvC8YfZsXc2aJXO5+Kq/AHq37+H92znvgiv5y3NfERgUwq/fzfI9Jk5ySqq/Az0dPn5Z+0l4s75THdJ/dLwNpDJ6Td8hKeVy5+s5wChgn5Ryl3Pa+0DdkeSf1Pn3vAasxwTMFEJkAl8AdRt1a6SU+7xYxhfAJUIIE3ATeoPUTd3/NuWdeYtPucCEqHBy6mTLcotKiLOEu5QJCwkiNFjPfAzp3h67w0FhmX71OfH8Xnw6/VbefeAGIszBtI6P9uJjnFp8tIXcgqKa93kFRW7dd2EhwYQGBwEwuGcX7A4HRaVlbN61j982bGX8/U8x/fUPWbttN4+8OcfnmADCoxIprZOFKy3KJdwSf4oarnqcfwU3Tv+aax/4iBCzhej4Nj7HFB8VQW6drr/cwmIP+692Ww3p3gG7Q6OwtJzV27NIio0iOtyMKcDIyF5d2Jzl2h12rsd0+bgk3nu5D++93IfjBVbiY4Nq44wJ4niB9/2Kx/KrWb2hgKpqjeISO5u3FNMu1Xz6ij6oPJxDSMvaLHJwciLVR/KocpueQNURr/4by9MqLgdLnQxepFlQUuH6s1pSLl26AyPNgpJySbHz79AxvXzmPgdJsb7/bCREhJJTUpvByy2pIC4stF4ZM4PSkgkJNBEVGkyf1gnszC1k1b6jJFvCiDYHYzIaGNWpDZuyj/kcU2R0AkX5R2veFxXkEhHlfj44cnAnX8x8jBv/+irmcEtN3cjoBNq00ztk0geMJnu/98Mb6hvRJ5hHp1l4dJqFolKN6IjabR4VYaCozPVmmLIKSUiw4ESnR1SEgaJS32+YqWt4nyAevTmSR2+OdI8p3EBx6eljKnbGXehFfcV/mmNDr6EXBtLDazvObSP0SzpP/UH3A7lAD/QnVdctU+6hvPuKpawAfkL/T4unAB5v0pBSzpBS9pVS9r35kpGnXGbXNskczCvg8PFCbHYHP67dyrD0Di5ljheX6VkEIHPfYaSUWJzjXwqcJ9+jBcUs3riDsf0adN+JR13atuJQzjEO5+Vjs9tZtGojQ3u7Lvd4UUlNTFuyDqBJSWSYmT9PvYQFrzzG9y89wjN3XUe/Lu156o5rfY4JoEWb7hTk7afo+CEcdivb1s6nXfqpt29d5SX5ABQXHGHnxkV06XeJzzF1TUnmYF4+h48VYrPb+XFtJsN7dHIpc7y4tHZb7cvW919YKInRkWTuPURltRUpJWt27CU1Mc7Tas7ZmOYuOMKN967nxnvXs2zVccaM1BtHXTuGU1ZhJ7/Q+4beslX5pHeNxGiAoCADXTpGsP+Qf7rbTibv+8UkXzsBAMuAHthLSqnOOUbx2kzM7VIISWmJMJlImnoxuae5qPNW9jGNmEhBVLjAaIAeaUa2H3AdsLVtv4M+7fWMdOt4QZUVSiuhrBKKyySxkfqvdbtkA3mFvv8gd02K5WBBCYcLS7E5HPy4dR/DOrR0KTO8Qys2HszFrmlU2uxkHj5O29hIWkSaycg+RqXNjpSS1fuP0jY28iRr8l6rtG4czzlIfl42druVTSsX0LXPCJcyhceP8P5L93LVnc8R1yKlZnqEJQ5LTCJ5R/Tr+91bVpGQnHbGsfy6voonZxXx5KwiNu6q5rz0YADaJgVQWS1dutlP2HnARp/O+s/QoPQgNu32w2DKOpasr+bJd4p58p1iNu2yMrB7kGtM5aeJqXsQm3bpMW32sn5jkVKclb/G0hzvum0thDhPSrkSuAr4GbhNCNFOSrkHuA5YWqf8VPSxc1OBlc5p+4E+wOfojTBPt+NFAtlSSk0I8Sf0hxueTikQXm/aLOB79C7dAi+WcUoBRgMPTh3LHa98hKZJLhvUk3ZJ8Xzx2zoArhjal583bOPz39YTYDAQFBjA89Mm1XRR/HXG5xSXVRJgNPLPq8YSYfa9KyvAaORv11/O3S/OwKFpXDq0P2ktE/nylxUATB41iF/WbuarX1ZgNBgICjTx7J3XnbTbxF8MxgBGT32Uz16ZhtQcpA+aRFxSezb+pid5ew29irLiY7z/3CSqq8oQwsC6xe8z7bEFBIWE8fWMu6ksK9KXc9VjBJt9/7EJMBr5x9WXcOf/3keTGped35u05AS+WLIGgCuG9+fn9Vv5YskajEYDwSYTz90yBSEE3du24oI+Xbn66TcxGgx0at2CSUP7NsuYAFauK+C8vtF8NqN/zeNVTnjxsW48/+ou8gusTB6fzNWXtyI6KpD3X+nLyvUFvPDqLg5kV7B6fQGzX+2LlPD9oqPsO+hbQ6/nh/8hZlh/AmOjGLlvKbuffBXhHNR2cMan5P2wlLixwxi+4ycclZVkTHsIAOlwsOXeJ+k/fxbCaCR79leUbdvjUywnaBK+XW7j5rGBGAywdqeD3ELJgM76KWv1dgc7Dml0bC35+5VBWO3wxZLaRsK3K2xcNTIQowEKSqXLvDMVYDDw4JgB3PHxz/ox1aM97eKj+GK9vg+v6NORtnEWBqUlM+Xt7xBCMLGXXgbggs4pXDXze/2YSoxmUu8Op1qdV4zGACbeMJ2Zz9+K1DT6DZ9IYst2rPj5MwAGXTCVn+a+RUVpMXPfewoAgyGA+57Rh75M+NNDfPz6P3DYbUTHt2TqbU/7HBNA5h4b3dMCefbOKKw2yXvzaoeM3zs1gtnzyygu0/hycTm3TQxn4jAzB3Pt/L5Jv2iPMAsevslCSJBASrigfzCPvl1ElfXMG1aZWTa6twvkmTssWG2S2XViumdKOO8vKKO4TPLVrxXcOiGcCUND9Zg2V5+2flOgNbO7boU8i+NA/mjOx5csAH4DBgG70Rt25wH/Rm/YrgXukFJWCyH2A+8B49AzeFdJKfcIIRKAb53TfgHullKG1X28ihCiPfAVUAH8WqfMcOABKWVNekcIUeacZwIWov//dLOd4/QQQuwA7pNSLjzdZ6z89aMmt8PsZktjh+Dmy/KLGzsEN1ONnzd2COeM0S+e/RsjGuqfC289faE/2G+vb2rsENw8HvpSY4fg5ufOf2/sEDz6dmFRY4fg5mxfYJ+JmQ/F/KFBbdp97Kz8zvZsH9coG7c5ZvQ0KeXt9ab9AvQ6SfnXpZRP1J0gpcwF6j7L45/O6fuBbs7Xu4F0D2WWAEvqLS/M+a8NfcxgDSFEEnqDctEpP5WiKIqiKGedeo6e4jdCiOuB1eh36KqRqIqiKIqi+FWzyujVzbh5WT7lrAXj3fo/AD5ozBgURVEURanVmDdOnA3NqqGnKIqiKIriC9V1qyiKoiiKopwTVEZPURRFURTFqbl13aqMnqIoiqIoSjOlMnqKoiiKoihOaoyeoiiKoiiKck5QGT1FURRFURSn5jZGTzX0FEVRFEVRnJrb/16gum4VRVEURVGaKZXRUxRFURRFcWpuXbdCStnYMSgN8O+5WpPbYebQppcYLipxNHYIbsLMTW87RUU0dgSeHclrcoc5+fnVjR2Cm6F39WzsENysnpXZ2CG4MRqb5g93Xk55Y4fgpqrS1tghuHnnkbg/dAeu3F5yVk5A53WOaJQDUWX0FEVRFEVRnJrb41VUQ09RFEVRFMWpuXXdNr2+JEVRFEVRFMUvVEZPURRFURTFqbl13aqMnqIoiqIoSjOlMnqKoiiKoihOTe/ZFr5RDT1FURRFURQn1XWrKIqiKIqinBNURk9RFEVRFMVJPV5FURRFURRFOSeojJ6iKIqiKIpTc/ufYVVGT1EURVEUpZlSGT1FURRFURQnrZnddasaes3QoZ3LWDnvWaSm0bHfZHoOv8VlflHeXpZ++RDHj2yj3+j7SB96EwB2WzXzZlyHw25F0+y07XYRfS682y8x7d/+G0vnPoOmaXQbeAX9LrzVZX5BbhaLPn6IY4e2MuiS++kz8uaaeVUVJfz86cPkH90FQnDhVc+SlNrLL3G1TYQLehowCNi0T7Jqh2vOPjocLulnICEKlm6RrNlZO39cP0G7FoKKapj1o+aXeAAObF/Gsm+eQWoaXQZOps8o121VmLuXnz/9J8eytzFw3H30HlG7rd5/aiSmIDMGgxFhMDL1L1/5JaY9W5bx4yd6TL2GTOb8ca4xZa76nhU/zAQgMDiUsdc+TmKrTgB8995D7M5Ygjk8htuf/N4v8QBk71rGqnnPojmP8x7D3I/z3756iPwj2+g7+j66D9GP87Kio/z2xYNUlB1HCEHHflPodv71fompQ0sDlw4yIQSs3eFgyWa7W5lLB5no2MqAzQ6fL7FyJF8/poIDYfLQQBKiBUj4YqmNg3m+H1fpM58lftxwrHn5/NZrvMcyXV6aTvyYYTgqq9h884OUbNwGQNzoIXT573SE0cChd78g68WZPsdzQrskwbj+AQgBG3Y7WLbF/bOO62+kfbIBm13y9XIHRwv0bXVeFwN92huQEnKLJN/87sDuh69gWgvBmH5GDAI27NFYvtV9oWP6GpwxwTcr7eQU6NMHdDTQu73eSbZhj8bqHf45J3RJCWDyyBAMApZnWvlpTbVbmStGhtA1NQCrHT78oYJDeQ4s4YI/jQ0lwqxvp98zqlmyweqXmACuushM93ZBWG2Sd78r5WCO+7EeazFw2+URmIMFB3LszPqmFIcGiTFGbro0nNaJAXz9azk/rqr0W1z+0NxuxjgnG3pCiBRgkJTy48aOpanRNAfLv3uKcTe/gzkigW9en0KbziOISmhXUyYoNJJB46ezf9svLnWNAYFcPO09TEFmNIeN7966lpYdh5DQuqfPMf36xZNcfud7hFkS+OQ/k2nbfSQxibUxBYdaGH75dLIyf3Grv3TuM6R0HsIlN72Cw27FZq3yKZ4ThIDRvQ18ulSjpBJuuMDA7iOS/JLaMlVW+GmjRvtk9y9+5j7J+t2S8QP8NwJC0xwsnfskl93+LmGRCXz+0hWkdh1JdKLr/hs68WH2bvnZ4zIm3vkBIWFRfo1p4UdPcs1f3iUiKoFZT19Bh54jiUuqjckSm8z1f/+QEHMkezJ/Y/4Hj3Lz9M8B6HH+RPqNvIZv33nQrzGt+O4pxtykH+ffvTGF1p3cj/Pzxk/nQL3j3GAw0n/c34lN7oq1upxvX5tEcrtBLnXPhBAwYbCJWfOtFJdL/jwxiG0HHOQV1V4cdGxlIDZC8OJn1bSOF0wcEsjr3+g/3JcOMrHzkIM5PzswGsDkp7Nz9vtz2f/GHHq++4LH+XFjhmJul8KSzqOxDOhBt9ceZ8X5U8BgoOsrj7J67I1UZecyeNWX5M5bTNn2LJ9jEgIuGRjA+4tslFTAbRcHsOOQxrHi2jLtkwUx4YKXv7bRMlYwfqCRGQvshIfCwE5GXv3Wht0BU4YZ6ZZqYFOWbw0rIfSG5Ye/2CmpgFvGBrAzW+N4nZjaJQmiwwWvfmsnOVZwcX8j7yx0EBcJvdsbmPmDHYcG1440svswFJT6FBJCwJQLQnj1i3KKSjX+fm04mVk2cvJrP2vX1ADiogw8/k4pKS2MXHlhCC9+VIamwdwlVRzKcxBkgn9cF86OA3aXumeqe7tAEqIDeOj1AtomB3DduDCeebfIrdzkUWZ+Wl3Jmq3VXDcujCG9glmyvorySo2PF5bRq1Ogz7Eop3eujtFLAa5u7CBOELomsS2PHcogIqY1EdGtMAYEktZjHAe2L3YpExIWQ1yr7hiMrr8kQghMQWYANIcdTbMh/JDCzjmQQWRcGyJj9Zg69L7YrUEXGh5DYpt0t5iqq8o4nLWWrgMnA3pjNDg0wueYAJKiobAMispB02D7QUmHJNfPW1ENRws9Pyn90HG9IehPuQcziIxtTWSMvq3a9xrH3i3u2yqhdXcMhj/mOu3Ivgyi4lsTFafH1LX/OHZuco2pVbvehJgjAUhu24PSwpyaeW069KuZ5y/Hsl2P87bp4zjo6Thv6b6dQiPiiU3uCkBgkBlLfBoVJbk+x9QqzkB+saSgVOLQYHOWgy4pRpcyXVOMrN/tAOBgniQkEMJDIMgEqYkG1u7U5zk0/x1bBb+vw1ZQfNL5CZeO4vCcbwAoWr0ZU2QEQYlxWPqnU5F1gMp92UibjSOfzSdh/Ci/xNQyVlBQIiks0z9r5j6NTq1cT6GdWhnYtFdvlGQflwQHCsJC9HkGA5iMYBBgMgpKK30fPZ8cIygolRSV6eeDrfs1OrWsH5MgY58e0+E6McVFCrKPS+wOfSD/gTzp9nnOREqikWOFGvnFGg4N1u+wkp5mcimT3s7E6q36wbL/qIOQIEGEWVBSLjmUpx9P1TbILdCwhPnnZ6pnh0BWZOgX3HsP2wkNFkR6WHanlEDWbdMvZFZsrqJXxyAASisk+4/acTj8Eo7fSXl2/hpLk2icAAghXhBC3Fnn/eNCiL8KIV4UQmwRQmQKIaY6Zz8PDBFCbBJC3C+EMDrLrRVCZAghbjvFesKEEL8IITY4l3nZqdbvfP23Ost+wjktRQixXQjxBrABaCWEeFMIsU4IsfVEOWfZcUKIHUKI34UQrwgh5jmnm4UQ7zqXvfFELL4oL8kjLDKx5r05IoHyYu9/xDTNwVevTOTDZwaT3G4Q8a17+BoS5cW5hFtqYwq3eB9T8fFDhIRFs+jjf/LRvybw0yfTsVVX+BwTQFgIlFTUfvtKK/Uf3cakb6sWNe/DLIkN2n8IwXdv38xn/72cLSs/80tMJYW5RETVxhQRlUhp4clj2vT7l6R1G+qXdZ9MRXEe5jrHeWhkAuVn0FgrLTxM/pHtxLXy/TiPNENRee3xVFwuiTS7XjhEhAqKy1zLRJgF0RGC8iq4YpiJey4PYtJQk98yeqcTnJRAZXZtw7zqcA7ByQkepucSnJzgl3WGh+qf/YSSCojwtK1cykgiQgWlFbB8q4O/TDbxtykmqmySrCO+/4qGh+px1F1feGi9MiGC4vI6Zcol4SGCvCJJm3hBSCAEGPXMX2S9umfCEm6gsLQ2A1dUpmEJd/3ZjgwzUFS3TKl7gy46wkDLeCP7j7p3r56JqHADBSW1rbTCEve4wkIEFVWy5iK5oFQjKrzJNDn+X2lKW/1TYGqd91OA40BPoAdwAfCiEKIF8CCwTErZU0r5EnAzUCyl7Af0A24RQqSeZD1VwEQpZW9gBPAfIYQ4yfq/EEKMBtoD/Z2x9BFCnPgV6wh8IKXsJaU8AEyXUvYF0oFhQoh0IUQw8DYwVko5GIirs47pwGJn3COcn8/cgG3mgYcTnvA+K2cwGJl0z9dc/eCvHMvOpCBnl2/hANLjpYx3MUnNTl72NtLPv4pr/v4NpsAQ1v48w+eYThZBo99V73FTeb//Jt39MVP/Opfxt8wk8/ePOZy11n+xuYTkOab9O1axcdlXjJr817Oy3lruG6qh2WdbdTm/fHQPAy9+kMDgMH8F5sLt0D9JiAYBSbGCVdvsvDK3GqsNRvT8Y1p6nvallNLzceentITH7169RZ9s9cGBerbvpa9svPi5jcAAQXpb33/KPO4ar/af5HiJ3vi87oIArh1pJLdQnrX/L9Wr7VTndZAJbrk0lC9/rfRbltjj19+LbdXo51cvScRZ+WssTaahJ6XcCMQLIZKEED2AQvSG1SdSSoeUMhdYit6Qq280cL0QYhOwGohBb5x5IoBnhRAZwM9AMpDgaf1SyoPOZY8GNqJn7jrVWfYBKeWqOsueIoTY4CzbFejiLL9XSrnPWeaTenE/6Ix7CRAMtHYLWIhbnZnCdasWnbqRY45IoKy49iq8vCQXc0T8Ket4EhQSQYvU/mTv+r3BdesLsyRSWlQbU2lRLuZI72IKsyQSZkmkRYqecWnfcwx52dt8jgn0DF5EaO2XLzwEyhp5TLDZkkBp0dGa92VFOQ3af2GResYlNDyGtt0vIPdghs8xRUQlUFJYG1NJYQ5hFveYcg/tZN77jzD1z68T6scxgp6ERiZQXuc4ryjOJbQB20lz2Pjl43tJ6zmelG6j/RJTcTlY6mSlIs3CJWMMegYoMqxemXJJsfPv0DG9fOY+B0mxf8zpufJwDiEta7OjwcmJVB/Jo8ptegJVR/L8ss6SClyynRGhendeXfUzohGhehdtWgtBYZmkolofUrHtgEbrON9/REsq9Dhc1+daprRCElnnUjzCXFtmY5ZkxgI7s39yUGmFfB/H54GenaubBbOEGSgu09zK1M2mWcJryxgMMO1SM2u329i82+ZTLCP6BvPYLVE8dksURaUa0RG1wxKiIgwU1YurrEISGiwwOHdNdLhr5rEp0+TZ+WssTaah5/QlMBk9s/Yp3qZ99HJ3OzN8PaWUqVLKRScpew16Vq2PlLInkIvewPK0/hPLfq7OsttJKd9xzqtJ4jsziA8Ao6SU6cB853JP9RkEMKnOsltLKbfXLySlnCGl7Cul7Dtw9K0eFlMrrmV3So4foKQgG4fdStbmBbTuPOKUdU6oLCugulK/E8Fuq+Jw1koi406WGPVeYuvuFB3bT3H+IRx2K7s2zCet20iv6poj4gi3JFKQuxeAg7tWEpOY5nNMAEcKICpM73IzGKBza8FuP3QB+SKhVXeKjx2gJF/ff7s3LiDVy21lq67AWlVW8/rQruXEJHbwOaaklO4U5B6g8Jge09Y1C+jQwzWm4vwjfPHG3Vx28wvEJPp+zJxOXLJ+nJc6j/O9Gd4f51JKls19GEtcW7oPvsFvMWUf04iJFESFC4wG6JFmZPsB10FI2/Y76NNe/4FsHS+osuoXHGWVUFwmiY3UTxftkg3kFf4xP4p53y8m+doJAFgG9MBeUkp1zjGK12ZibpdCSEpLhMlE0tSLyZ23+NQL89Lh45LoCIElDIwG6J5qYEe263dv5yGNns5MXctYQZVN6tupHFrFCUzOdkbbFoJjxb5/bw/nS2LCBRbn+aBrioGd2a77YGe2JD1Vjyk5VlBtlTUXh6H68DMiQqFzKwNb9vu+/w7kOIiPMhATacBogD6dAsnMcm2wZWTZGNBVv6khpYWRympJibPL+9qLQskp0Fi83v1O3Yb6dV0VT8ws5ImZhWzcaWVQuv6z2TY5gIoq6dYABdi530bfLvqGGdQjmE07fY9DaTjhuVutcQghugIzgVhgGHAecBswDogG1gED0LNw/5VSDnPWu9VZ5goppU0I0QE4LKUs97COe4F2Usq7hRAjgMVAqpRyf/31SymPOrtun0JvwJUJIZIBGxAKzJNSdnMutwfwAdALvSGZAfwD+AzYBQxxruMjIFJKeYkQ4lkgAr2RKoUQvZyZxZP699zTXxcc3LGUlfOeQ0qNjn0vp9eI29m2Wm+3dhlwJRWlx/jmtSuwVpchhAFTYCiT759HaeFhln7xT6R0IKVG2+5j6D3qrtOtDnPo6a8X9m1dytKvn0VqDroOnET/0XeQ8bue3EwffBXlJcf45N+T9IaKwUBgYCjXPbSAoOAw8rK38/On09HsNiJiWzH66ucIDj314P6iEu9G+aYlwgW9DAgBGfskK7ZLeqXpP7YbsyTmYP1u3CCT3mVitcPMhRpWO1w2UNA6ThASBOVVsGyrJGPfyXdPmNm766r925ay7Fv98Thd+k+i74W3s2WFvv+6DbqS8pJjfP7SZKxVzv0XFMo1/5hPZXkhC979MwBSc9Ch9yX0vfD2U64rysv7WnZnLGXRZ3pMPc6fxJBLbmf9Ej2mPsOv5PvZD7NjwyIiY5IAfQjAtEf0R7vMnfEXDuxcS0VZIeaIGIZdeje9hkw+5fqO5J3+vHRo51JWOY/zDn0up+eI29nuPM47O4/zb1+/ApvzOA8IDGXSffMoyNnJ/BnXEpXYgRP3UPUdfR+tOg475fry80//I9WxlYHx55kwGGDtTge/brQzoLPeIlm9XT8mLztff7yK1Q5fLLFy+Lj+WVvECCYPDcRogIJSyRdLrFSepqtt6F09TxtTzw//Q8yw/gTGRlGdm8/uJ19FOAcAHpyhb6+urzxK3OghOCoryZj2EMXrtwD6Hbld/vMQwmgke/ZX7Hn+rdOub/WszNOWAf2u2rH9AjAY9Mer/Jap0beDvj/W7dIbDRcPcH28yolH0Yzood9pq2mSowWSb1c4cJyiXWU0epczaJckGNPXiBCwKUtj2RaNPs5Hpqzfra9gXD8DaUn641W+XVn7yJcbRhsJDRQ4JCxa72BfzumP4bwct58oN11TA5g0IgSDAVZmWvlxdTWDe+gNu9836wfIlFEhdEkNwGqDOQsrOJjrIC3ZyF+uCufwMUdNd+93yyrZuu/U4/SqKr3L/F0zJoxuaYFY7frjVQ44x//de2UE788ro6hMq328SoiBQzl2Zn5Tgt2hZ0IfmRZFSJBASqiySh55s5Aqq+dt9s4jfkjZNsAPG21npWE0tpepUfpvm1RDD0AIkQkcl1KOcI6d+xcwFr17/2kp5WdCCBOwEL1BNht4GXgaGI+eJTsGTJBSut1qJoSIBb4HTMAm4Hz08XP766+/Tp17gWnOt2XAtYCDOg09Z7nZ6A3RvUA18J2UcrYQYjzwIvqYwzXoXcXXCCFCgP8Bg5xx75dSXnKq7eNNQ++P5k1D74/mbUPvj+RtQ++P5G1D74/mTUPvj+ZNQ++P5k1D74/mbUPvj+RtQ++P5k1D74/mbUPvj6Qaer5pcs/Rk1J2r/NaAn9z/tUtYwPq3+f/kPPvdMs/jp4pPO3660x7Gb0xWV+3euVuOMlif5VSdnI2XF9Hz0wipaxEz1gqiqIoitIENLH8l8+aXEOvmbpFCPEnIBD9Ro23GzkeRVEURVE8UP8F2jlCCNEd+LDe5Gop5YA/OhbnI2Be+qPXqyiKoijK/2/NtqEnpcxEfzyLoiiKoiiKV5pb123TGx2uKIqiKIqi+EWzzegpiqIoiqI0lJTNa4yeyugpiqIoiqI0UyqjpyiKoiiK4tT0nlbrG9XQUxRFURRFcVI3YyiKoiiKoijnBJXRUxRFURRFcZLN7IHJKqOnKIqiKIrSTKmMnqIoiqIoipO6GUNpVLfsvb+xQ3ATlJzU2CG4eeDo7Y0dgpt/d/i4sUNwY9uwp7FD8Gj8ssmNHYKbHyb82tghuHluVmZjh+BmwLTujR2Cm/yfdzZ2CB7lHG3sCNwJQ/PqtjwT6mYMRVEURVEU5ZygMnqKoiiKoihOKqOnKIqiKIqinBNURk9RFEVRFMVJa2b/161q6CmKoiiKojiprltFURRFURTlnKAyeoqiKIqiKE4qo6coiqIoiqL4nRBijBBipxBijxDiQQ/zrxFCZDj/VgghepxumSqjpyiKoiiK4tRY/zOGEMIIvA5cCGQDa4UQ30kpt9Uptg8YJqUsFEKMBWYAA061XJXRUxRFURRFaXz9gT1Syr1SSivwKXBZ3QJSyhVSykLn21VAy9MtVGX0FEVRFEVRnGTjPV4lGThU5302p87W3Qz8cLqFqoaeoiiKoiiK09m6GUMIcStwa51JM6SUM+oW8RTOSZY1Ar2hN/h061UNPUVRFEVRlLPM2aibcYoi2UCrOu9bAkfqFxJCpAOzgLFSyvzTrVc19JqhgJROBI+8HIQBW+Yqqtf87DI/sN9IAjv30d8YjBiiEyh9YzqyqoLwWx5FWqtBakhNo3zOf/wS0/Ld2bywcBWaJpnYuwM3D3G/UWjtvqO8uHA1Nk0jKjSYd28cx/7jxfz9i19rymQXlnLniN5ce15Xv8TVOSWAycODMRhgRaaNn9ZWu5WZPCKYrqkBWG3w4Y8VZOdpWMIE148NJSJUICUsz7SyZKPVLzEt37GfF75ZiqZpTBzQjZtH9XMrs3bPIV78dik2h0aUOYR377qCapudG1//ApvdgV3TuDC9PXeOOc8vMRnbdCR42AT9mNq6Guu6xS7zTb2HY+rUW38jDBiiEyib8ShUVzqnCUKvvB9ZXkzld+/4JSaAu29KYWCvKKqsDp5/LYvd+8rdykwck8jki1uQ3CKYy25cS3Gp3WV+xzQzbzzbnSdf2sXSVQU+xbN8z2H+9eMaNCmZ2Ks9N53f3a3M2v05vLhoDXaHfpy/86cxAHy4aitfb9yNEIL28RaeuHQwQQFGn+I5oV2SYFz/AISADbsdLNuiuZUZ199I+2QDNrvk6+UOjhboiYTzuhjo096AlJBbJPnmdwd29+oNkj7zWeLHDceal89vvcZ7LNPlpenEjxmGo7KKzTc/SMlGfTx63OghdPnvdITRwKF3vyDrxZm+BVNH1pbfWPTZM0hNo+fgKxg09laX+VtWf8fKhfr6TEFmxl7zOAmtOnlV90x1SQlgyqgQhIDlGVYWrXE/R00ZGULXtgFY7fDBggoO5TkAuG5MCN3bmiitkDw1u9Qv8Zxw1Wgz3dMCsdok784r5WCOw61MbKSBWyeGYw4xcDDHzqxvS3FokBhj5MZLwmidGMDXSypYtLrSr7H5qrFuxgDWAu2FEKnAYeBK4Oq6BYQQrYG5wHVSyl3eLPT/RUNPCJECDJJSftzYsXgihHhISvmsnxZG8AVXUP7FG8jSIsKu/Su2rEy0/NyaIta1i7Gu1X+oA9p2JajvcGRVRc388s9fQ1a6/2CeKYem8eyClbx93UUkRJi5euZ3DO/YmrT4qJoyJZXVPDt/JW9cO5oWljDyy/QvfkpsJJ/fMaFmORf+5zNGdm7jl7iEgCkjg3ntq3KKSiV/uyaMzCwbOQW1v2JdUgOIsxh44t0yUloYuXJUCP/+pBxNwtyllWTnaQSZ4B/XhrHjgN2l7plwaBrPzv2Vt2+7nITIMK7+3ycM79qWtMSYmjIllVU8O/dX3rhlAi2iIsgv1fddYICRWXdMIjQoEJvDwQ2vfc7gzimkt2nhU0wIQfDwy6n4+m1kWTGhV96Hfe9WtILaY8q2YQm2DUsAMKZ2IbDX0NpGHmDqOQStMBcRGOxbLHUM6GWhZYtgrrl7I13ah3H/ranc+c8tbuUyd5awcn0h/3uii9s8gwFuu7YNazcX+RyPQ9N4buEq3rpmNAkRoVwzaz7DOrQiLc5SU6akyspzP6zi9asvoEVkGAXl+jbKLSnnk7U7mHv7ZQSbAvjbl0tYuHUfl/Vo53NcQsAlAwN4f5GNkgq47eIAdhzSOFZcW6Z9siAmXPDy1zZaxgrGDzQyY4Gd8FAY2MnIq9/asDtgyjAj3VINbMry7TjPfn8u+9+YQ893X/A4P27MUMztUljSeTSWAT3o9trjrDh/ChgMdH3lUVaPvZGq7FwGr/qS3HmLKdue5VM8AJrmYOHHT3L1/e8REZXAu89Opn2PkcQl1e4DS2xLrn1gDiHmSPZkLmXBh49w40NfeFX3TAgBV14Ywiufl1NYqvHgdeFkZNnIya/d/l1TA4iPMvDYrFJSWxi56sIQ/vVRGQArt1hZssHKDeNCfYqjvu5pJuKjjTz0ZiFtkwK4dkwYz84udis3aaSZn9ZUsnablWvHmhnSM5glG6oor9T4ZFE5vToG+jWuc52U0i6E+DPwI2AE3pVSbhVC3O6c/xbwKBADvCGEALBLKfuearn/X+66TaFeq7iJechfCzImtkErPIYszgfNgW3HBkxp7lmFE0yd+2DdvsFfq/doy+HjtIqOoGV0BKYAI2O6tWXJzoMuZX7I3Muozm1oYQkDICYsxG05q/cepVV0OEnOMr5KSTRyvEgjv1ji0GDDDhvpaSaXMulpAazZZgNg/1EHIUGCCLOgpFySnaefbKttkJOvYQnz/eu05WAOrWIiaRkTqW+rXh1YstX1R+yHDTsZ1b0dLaIiAIgJ10/iQghCg/QTp92hYXf4mHZxMiS0RivOR5YUgObAvmsjAW1PnlE1deyFfefGmvciLJKA1C7Ytqz2SzwnnN8vmh+XHANg2+4ywkIDiLaY3Mrt2VdBzjH3LAjA5WMT+W11PkXFNp/j2XLkOK2iImgZFY7JaOSirqks2XnIpcwPW/YyslNrWkTqx3C0ufY4d2ga1c5sbJXdQZyH78CZaBkrKCiRFJaBQ4PMfRqdWrkeq51aGdi0Vz9eso9LggMFJ1ZvMIDJCAYBJqOgtNL3dEfB7+uwFbg3DE5IuHQUh+d8A0DR6s2YIiMISozD0j+diqwDVO7LRtpsHPlsPgnjR/kcD8CRfRlEx7chKq4VxoBAuvS7mF2bf3Ep0zKtNyHmSACS2/akpCjH67pnIqWFkWOFGseLNRwarNthpUc712O8R3sTq7bqvQn7jjoIDdbPUQB7sh2UV/k/PdWzQyArM6oA2HvETmiwIDLMfXhZpxQT67frsa3IqKZnB/38VFoh2X/UjsM9CdgkSHl2/rxbt1wgpewgpUyTUj7jnPaWs5GHlHKalDJKStnT+XfKRh6cww09IcQLQog767x/XAjxVyHEi0KILUKITCHEVOfs54EhQohNQoj7hRBGZ7m1zocO3naadf3dubzNQojnndN6CiFWOet/LYSIck5fIoTo63wdK4TY73x9gxBirhBioRBitxDiX87pzwMhztg+8nm7hEciS4tq3mtlRYjwSM+FA0wEpHTCvnuzy2Tz5DsIu/YBTOn+6fbLKyknMcJc8z4+wkxuSYVLmQP5xZRUVXPzewu48u1v+X7TbrflLNyylzHd2volJoDIMEFhae23r7BMIzLc9WRlCTNQWFrbYCoqk24NuugIQct4I/tzXLsEz0RecTmJlvCa9/GR4eQWu2ZXDxwrpKSiipvf+IIrX/qY79fVPmLJoWlM+c8cRjw2g4EdWvuezQMMYZFoLsdUMSLsFMdUm07Y9mTUTAoaehnVv8/z+wjnuJhAjuXXdpcfK7ASF+N9hiA2OpDB/WP4blHu6Qt7Ia+kwuU4T4gIJa+03r7LL6GkysrNHyzkqpnf8/3mLGdZM9cP7MqYl7/kwpc+JyzIxKC0ZL/EFR4KxeW1276kgpqGwAkRoaJeGUlEqKC0ApZvdfCXySb+NsVElU2SdeTs92sFJyVQmZ1T877qcA7ByQkepucSnJzgl3WWFuUSHp1Y8z7CkkBp4cmPjc3LvySt29Azquut+uefwlL3C0pvyvibJdxIQUmddZZoWMJdhxmEhQgqq2RNN2hhiUZU+LnR5GjMht7ZcC533X4K/A94w/l+CvACMAboAcSiP2zwN+BB4AEp5SVQc+dLsZSynxAiCFguhFgkpdxXfyXOBxJOAAZIKSuEENHOWR8Ad0splwohngQeA+47Tcw9gV5ANbBTCPGqlPJBIcSfpZQ9z2AbeODhpp2THGCmtG44juxz6bYt+/h/yPISRGgY5sl3ohXk4cj2rVvE0+pFvTDtmmTbkXxm/GkM1TYH178zj+4t40mJ1RsUNruDpTsPcu8Fp7148ZrHG+i9+DLKOt/YQBNMG2/mqyWVVPlhiJ70EED9OO2aZFt2HjNun0S1zc71r35G9zYtSImLwmgw8Plfr6Wksor735vH7qPHad8i1vfA3AP1KCC1K44j+2q6bY2pnZGVZWh52RiT0/wfR/2wGnAy/fONKcyYcwDNP4nPkxznrnvPoWlsP5rPjGtHU2V3cP17C0hvGUtUaDBLdh1i/t2TCA8O5G9fLmF+RhYXp/u+zTzexlcv2PrfxxNlggP1bN9LX9mossLU4QGktzWQsddPG+0k6m83PR558kD9wcNyPMUBsH/HKjb9/iXX//3jBtdtCK9vwfyDefxobgeVhyJnJRrldM7Zhp6UcqMQIl4IkQTEAYXoDalPpJQOIFcIsRToB5TUqz4aSBdCTHa+jwTaoz9xur4LgPeklBXO9RYIISIBi5RyqbPM+8AXXoT9i5SyGEAIsQ1og+szczyqe0v2/yaN5IaB3U5aVpYWIcItNe8NYRZkmecuElOn3tjqddvKcn1TyYoybHsyMCa29rmhlxBhJqekNrORV1JOfHhovTKhRIUmExpoIjTQRO82CezKLahp6P2+J5tOLWI8dumeqaIySVSdDF5UmIHiMlmvzImrUL2PwRJWm/kwGOCW8aGs225l8x7fs3kACZFh5BTVDprOKy4lPtLsVibKHExokInQIBO92yaz68gxUuJqxzxGhATTL60lK3Yc8Lmhp5UVY3I5piKR5Z6PqYAOPbHtqu22NbZIJSC1KwEpncEYgAgMJviiq6n68cyGy04Yk8Alo/QMzo6sMpcMXlx0IMcLvG9td2xr5tH72wMQGW5iQO8oHA7J72sLT1PTs4SIUJfjPLekgriw+se5GUtoMCGBJkICTfRpncDOXH19yZYwos36GMZRndqwKfuYXxp6JRUQWSeDFxGqd53VVVwunWWks4zeRZvWQlBYJqlw9nxvO6DROk6QsdfnsE6p8nAOIS0TObEngpMTqT6ShyHQREjL2sxZcHICVUfy/LLO8KhESgtqs4UlRbmEWeLdyuVm72D+Bw9z5b0zCQ2LalDdhiosc82CRYUbKC5zbWTXP0dFhRsoKvN/Q3xEn2CG9NKPz/1H7ERH1Ikrwn2dZRWSkGCBQeg3N0RFGCgqPbsXCP7SiDdjnBXnRh715L4EJgNT0TN83l5CCfRs3Ik+7lQp5aJTlG3IbrdTu13rjzyvO1DIgZcNbSnlDCllXyll31M18gAcOQcxRsUhIqPBYNQbc1nuA9QJDMbYMg1bVmbtNFMgmIJqXge06YR2/Kg3IZ5S16RYDuYXk11Yis3uYOGWvQzr2NqlzIhObdhwMBe7Q6PSaicz+xipsZaa+T9k7mVsd/912wIcyHEQZzESEyEwGqB3JxMZe13HamVm2enfRR8Tk9LCSKVVUuJs6F0zOoScAo3FG/xzty1A11aJHDxeRHZ+sb6tNu5iWFfXH/sR3dLYsPeIc1vZyDyYQ2p8NAVlFZRU6uNmqmx2Vu0+SEpClKfVNIiWewiDJRYRoR9TAR16Yd+71b1gYDABLdOwZ9XOs65YQPm7T1H+3jNU/TAHR/aeM27kAXyzMJdpf8tg2t8y+H1NARcNjwOgS/swyiscFBR5P9buqrs2cuWd+t/SVfn8b+beM27kgfM4LyjhcGEpNoeDH7fuY1gH14fWD+/Qio0Hc7FrGpU2O5mHj9M2NpIWkWYyso9RabMjpWT1/qO0jT1J93gDHT4uiY4QWMLAaIDuqQZ2ZLue0nYe0ujZVj9ttYwVVNkkZZVQXA6t4gQmZ69c2xaCY8Vn/1cw7/vFJF87AQDLgB7YS0qpzjlG8dpMzO1SCElpiTCZSJp6MbnzFp96YV5KSulOQd5+io4fwmG3sm3tfDr0GOlSpjj/CF+9eTeX3fwvYhJSG1T3TBw46iA+ykBMpAGjAfp2CiRjj+sxnrHHxsCu+gVPagsjldW15yh/+nV9FU/OKuLJWUVs3FXNeen6z1vbpAAqq6XbRTLAzgM2+nTWYxuUHsSm3f47VyreO2czek6fAjPRu2mHAecBtwkh3geigaHA39CfNh1ep96PwB1CiMVSSpsQogNwWErp6VbTRcCjQoiPT3TdOrN6hUKIIVLKZcB1wIns3n6gD7AGvRHqDZsQwiSl9H1EuNSo/OUrzJPuAIP+eBUtP4fAHucDYN28HABT+3TsB3aCrfaLJ0LDMV92s/7GYMC2fT32/Tt8DinAaOCf487jjg9/RJOSCb3a0y4+is/X6sue0q8TbeMsnN+uJVe8+Q1CwOW9O9Le2UiptNpZtfcIj4w/3+dY6tIkfP5rJXdNMiMErNqi3802OF0/Mf2eYWXrPjtdUwN47KYwbHaY86PeJdk2yciALoEcPubgwWv1gfXfLa9i2z7fMnsBRgP/vHwEd8z4Wt9W/bvSLjGGz1foY96mDEqnbUI053dqwxX/mYMQgssHdKV9i1h2HTnGw58sQpMSTUpG92jPsC5+aBxLjaolcwmdcCsIgW3bGrSCXEzd9TGctsyVeuxp3fVjyv7HnMxXbShiQO8oPnqtF9XVGi+8sadm3vMPdeLFN7PIL7Rx+bhErrosiWhLIO/8pwerNxTy4lv+T0kFGAw8OGYAd3z8M5rUuKyHfpx/sX4nAFf06UjbOAuD0pKZ8vZ3CCGY6PwuAFzQOYWrZn6P0WCgU2I0k3p38EtcmoT5q+1cf4EJg0F/vMqxIknfDnrDbt0ujV2HJe1bSu673FTzeBXQb8zYul9y+3gTmiY5WiBZt8v3rEzPD/9DzLD+BMZGMXLfUnY/+SrCpP8cHZzxKXk/LCVu7DCG7/gJR2UlGdP0+9Wkw8GWe5+k//xZCKOR7NlfUbZtz6lW5TWDMYCLrnqUT/43DU1z0OP8ScQltWf90k8A6DPsKpbNf53K8iJ++OgJZx0jN0+fe9K6vtIkfPpzJXdPNjsfAWXlaL7GkB76OWrZZitb9trp1tbEk7eEY7XBBz/UDsW56ZJQOrQKICxE8OztEcxbXsWKTN+/n5l7bHRPC+TZO6Ow2iTvzSurmXfv1Ahmzy+juEzjy8Xl3DYxnInDzBzMtfP7Jv0nNsIsePgmCyFB+uOpLugfzKNvF1FlbRqptMYcT3c2CHmOfyIhRCZwXEo5QuiDIv4FjEXPwj0tpfxMCGECFqI3CGcDLwNPA+PRM3bHgAknulU9rONB4HrACiyQUj4khOgJvAWEAnuBG53/yXAn4HOgDFgMXCulTBFC3AD0lVL+2bnMecC/pZRLhBAvAJcCG6SU15zq8xb/+94mt8OCkpMaOwQ3Dxy9vbFDcPPvDk3v6T62LP/8SPrb+GXeXiP9cX6Y8OvpC/3BnnM80NghuBkw7eR3+TeW/J93NnYIHq1cU9TYIbixWf0zDMWfZk2P/UP/T7K3F52d4YS3jfa619GvzvWMHlLK7nVeS/QM3t/qlbEB9e/BfwgvH2sipXwe/c7dutM2AQM9lN0BpNeZ9LBz+mz0RuaJcpfUef0P4B/exKIoiqIoiuKtc76hpyiKoiiK4i/neEenG9XQcxJCdAc+rDe5Wko5oDHiURRFURRF8ZVq6DlJKTPRH8+iKIqiKMr/U80to3euP15FURRFURRFOQmV0VMURVEURXFqbg9MVg09RVEURVEUp7P32LlGebqK6rpVFEVRFEVprlRGT1EURVEUxUndjKEoiqIoiqKcE1RGT1EURVEUxUnz/b9zblJUQ09RFEVRFMVJdd0qiqIoiqIo5wSV0VMURVEURXFSz9FTGtXnPV9u7BDcxEQ0vQENpvyKxg7Bzco2NzR2CG7KWpgaOwSPwrftbuwQ3Pzc+e+NHYIb4/am94uU//POxg7BTcwFHRs7BI/k06saOwQ3RqPq6GtuVENPURRFURTFqbmN0VMNPUVRFEVRFCd51vpu1f+MoSiKoiiKoviRyugpiqIoiqI4NbebMVRGT1EURVEUpZlSGT1FURRFURQndTOGoiiKoihKM6U1s75b1XWrKIqiKIrSTKmMnqIoiqIoilNz67pVGT1FURRFUZRmSmX0FEVRFEVRnFRGT1EURVEURTknqIxeM7Rv628s/vIZpKbR/fwrGDD6Vpf5+TlZLJzzEHmHtjJ4/P30u+BmAApy9/L9O/fXlCvOP8T5F99Dn5E3+BzTzoxlzPvwWTRNo9/wyQwff4vL/I3Lv+e3+bMACAwKZcINj9GiTaea+Zrm4LVHryAiKp4b/vqWz/Gc0Km1kYlDghACVm+z8csGm1uZiUMC6dwmAJtd8skv1WQf02rmCQF/mRJCcblk1rwqv8S0deNyPn/vX2iaxvmjJjJm4k0u8zet+ZXvP30DYRAYDAFMufFvtOvcy6u6Z2rH5mV8+8HzaJqDASMmMfJS1/234fd5/Pr9OwAEBocy6aZHSHLuv2fuuZCgEDMGgwGDIYD7nvncLzEB3Do1gT7dwqi2arw8+yhZh9z3QUKMib/dkkx4qJGsQ1X8993D2B1gDjVw7/VJJMaZsNkkL39wlINHqn2Kx5ftVFlewuczHyXn0B6EEEy59SlSOvT0KZ4T0loIxvQzYhCwYY/G8q2aW5kxfQ20TzZgs8M3K+3kFOjTB3Q00Lu9nhPYsEdj9Q73umcia8tvLPpMP0/1HHwFg8a6nqe2rP6OlQtnAmAKMjP2msdJaNXJq7pnIn3ms8SPG441L5/feo33WKbLS9OJHzMMR2UVm29+kJKN2wCIGz2ELv+djjAaOPTuF2S9ONPneGrWmRrAlFGhGAywfHM1P652P0anjAqhW5oJq03y/oIKDuU6ALhubCjd00yUVkieerfEbzF1TTUx5QI9pt83V/PjKvfv3dQLQmtimj2/vCYmb+o2Nq2ZpfRUQ6+Z0TQHP3/+JFfc/R7hlgTm/Gsyad1HEtuiXU2ZYLOFkVdMZ8/mX1zqRie05U8PfVuznLceGkq7Hhf6Jabv3n+Km//xDhHRCbz+6BQ69x5BQnJtTNFxLbl1+geEmCPZufk35r77GHc98VnN/OU/fkh8UluqKst8jucEIWDSsCDe+raSojLJ/VNC2LLPTm5h7Ze8cxsjcRYDz86poE2CgcnDgvjfl5U184f2MJFbqBEc6J//w1BzOPhk1nPc++hbREUn8NyD15DedxhJrdJqynTqPoAe/YYjhCB7/y5m/vfvPPHKN17VPaOYNAdfv/cMt/5zJpExCbz88FS69B5BYss6+y8+mTsemU1oWCTbNy3ji1mPc+9Tn9bMv2P6e5gjonyKo74+3cwkxQdy2yNZdEwN5o5rEnng+f1u5W64PJ5vfy5g2boS7rw6kQvPt/DDb0VMGRvL3uwqnn0rm5YJgdx+dSIPv3TwjOPxdTt988FzdOoxmD/d9z/sdiu2av/8AAoB4/ob+fAXOyUVcMvYAHZmaxwvri3TLkkQHS549Vs7ybGCi/sbeWehg7hI6N3ewMwf7Dg0uHakkd2HoaDUt5g0zcHCj5/k6vvfIyIqgXefnUz7HiOJS6rdVpbYllz7wBxCzJHsyVzKgg8f4caHvvCq7pnIfn8u+9+YQ893X/A4P27MUMztUljSeTSWAT3o9trjrDh/ChgMdH3lUVaPvZGq7FwGr/qS3HmLKdue5VM8oO+7qy4M5eXPyigs1fjnn8LJ2GPjaH5tY7tb2wDio408OqOE1CQjV48O5YUP9R20MtPKkg3V3HCx2edYXGIaHcr/Pi3VY7ohgozd1noxmYiPMvDI28WkJhm55iIzz39Q4lXdpkA2rXB81iS6boUQKUKIq+u87yuEeKUxY3LGscKHusOFEIP8GY83cvZnEBXXBktsK4wBgXTqczFZGa4NOnN4DC3apGMwnrydf3DnSixxrYiMSfY5pkNZGcQktCY6vhUBAYH0GDiO7esXu5Rp06EXIeZIAFq360FJYU7NvOKCHHZuWkq/YZN9jqWu1gkGjhdr5JdIHBps3G2nW1vXbdItNYC1O+wAHMjVCAkSRITqjbpIs6BLGyOrttr9FtP+PVuIT2xFXEJLAkwm+p1/ERlrl7iUCQ4JRQg9Bmt1Zc1rb+qeiYN7MolJaEVMgr7/ep43jq3rf3Upk9KhF6Fh+v5r0y6d4oJcn9d7OgN7hLN4ld5a2bmvCnOIgagI92M6vVMoyzfo2YxfVhUzsGc4AK1aBJGxvRyA7Fwr8TEmLOHGM47Hl+1UVVHG3h3r6T98EgABAYGEmCPOOJa6kmMEBaWSojLQNNi6X6NTS9dTf6dWgox9+q/b4eOS4EBBWAjERQqyj0vsDn3c0oE8SadWvv9sHNmXQXR8G6Li9PNUl34Xs6vehWfLtN4154Tktj0pKcrxuu6ZKPh9HbaC4pPOT7h0FIfnfANA0erNmCIjCEqMw9I/nYqsA1Tuy0babBz5bD4J40f5HA9ASgsjeUUax4s1HBqs3W4jvX2gS5n09oGs2qJn+fYdcejnKLN+TtiTbaei0r/ZqdQWAeQV1sa0bpuVHvVi6tHexKotVreYvKmr+J/fG3pC19DlpgA1DT0p5Top5T1+DewMSCl9aagNB/7whl5pUS7hUYk178MsCZQWNfxHd8e6+XTqc4lfYiopzCMyujamiOgEigtPHtPaJV/RIX1Izft5c55j7JUPIAz+PVwtZkFRae1JsLhMEml2zcxFhgmKymov74rKNCLD9DIThwTx/Qor/jyNFhbkERVbu60sMQkUFuS5ldu4ejGP3TOB1567m+vvfLxBdRuquDAXS0yL2uVGJ5yyIbdmyVw69ajdfwjBjOdv4aWHrmDVL/7rto2xBHC8oLarPb/ITkyUa0MvwmykrEJDc+7C/EIbMRa9zL7sKs7rrTf62qcEEx9tIibKdMbx+LKd8vMOERYexWdvT+e//5zE5zMepbqq4oxjqSs8FErqLKqkQhIeWq9MiKC4vE6Zckl4iCCvSNImXhASCAFGPfMXWa/umSgtyiW87jnBkkDpKc4Jm5d/SVq3oWdU11+CkxKozK69AK06nENwcoKH6bkEJyf4ZZ1R4QYKS+qcf0o1osJcz1GWMOFWxhJ+9nI4lnBBYamj5n2hh/VZwg0UlNaLO9zgVd2mQEp5Vv4ai1+2sDMjt10I8QawAXDUmTdZCDHb+Xq2EOIVIcQKIcReIcSJFM3zwBAhxCYhxP3ObNg8Z53HhRDvCyEWCSH2CyEuF0L8SwiRKYRYKIQwOcv1EUIsFUKsF0L8KIRowUkIIZYIIV4SQvzmjLufEGKuEGK3EOLpOuXKnP8Od9b5UgixQwjxkXCmUZwxxTpf93WWSwFuB+53fqYhQog4IcRXQoi1zr/znXWGOctsEkJsFEKE+7Y33A+mExkfbznsVrIyF9Ox9xjfQqkJyfuYsratZt1vXzFm6l8B2L7xV8wR0SSndvVPLA3kKUopoUuKkdJK6TJezy+83Fa9BozkiVe+4Y6/v8R3n77RoLoNj8l90smWu2fratYsmcvFV/2lZtqfH5/D/c9+ybR/vMXynz4ha/s632PSg3APtX6sHsI8UeTLhfmEhRp5+eFUxo+IZu+hKhy+PBHfh+2kaQ4O79/OeRdcyV+e+4rAoBB+/W7WmcdSNwZvYj1JoeMlsHyrg+suCODakUZyC6V//sP3Bhyr+3esYtPvXzLy8gcaXNefPK1DSunxODybt2267TqP6z9rq/fKyc6bSuPw5xi9jsCNUso7TzSQTqIFMBjoBHwHfAk8CDwgpbwE9IZVvTppwAigC7ASmCSl/LsQ4mvgYiHEfOBV4DIp5TEhxFTgGeBUI9GtUsqhQoh7gW+BPkABkCWEeElKmV+vfC+gK3AEWA6cD/zuacFSyv1CiLeAMinlv52f6WPgJSnl70KI1sCPQGfgAeAuKeVyIUQY4DYwRwhxK3ArwLX3vc3Qi08+8DjckkhpnW7PsqJcwiLjT7EZ3O3b+hvxrbpijohtUL2TiYhOoLigNqaSglwiLO4xHT24k7nvPMIND7yNOVwfz3Vg10a2b/iVnZt/w26zUl1Zxmdv/p2pd/zL57iKyiWW8NpTUmSYoLjc9WxUVCaxhBkAvUFnCTNQUi7p0S6AbqlGurQJJcAIwYGCay4M4qOffBvMHxWTQOHx2m1VlJ+LJSrupOXbd+nDsdxDlJUUNriutyKjEyjKP1q73IJcIqLc99+Rgzv5YuZjTPvHW5jDLbX1nWXDI2Po1vcCDmVlkta57xnFMm54FBcN1pe9e38lsdEmyNLHTMZYAigocu1GLylzEBZqwGDQuy1jokw1ZSqrNF5+v/ZzzXomjdzj7jfjeMuX7RQZnUBkdAJt2qUDkD5gNIv91NArqYCIOlm4iFBBaaVrmdIKSaQZDh1zljHXltmYJdmYpW+zkT0NLtnBMxUelUhp3XNCUS5hHs4Judk7mP/Bw1x570xCw6IaVNffKg/nENIykULn++DkRKqP5GEINBHSsjbDGJycQNUR3zPpoGe8oiJq8zGWcANFZdJzmcOOOmXO3iCzolJJVJ0hDlHhBopKXddXWKoRHW7gxCjFEzEFGMVp6zYFWtMLySf+zJkekFKu8qLcN1JKTUq5DfA2v/2DlNIGZAJGYKFzeiZ6t29HoBvwkxBiE/Aw0PI0y/yuzjK2SimPSimrgb1AKw/l10gps6WUGrDJud6GuAB4zRnfd0CEM3u3HPivEOIewCKldBvwJaWcIaXsK6Xse6pGHkBim+4U5u2n6PghHHYrO9bPJ637yAYFun39fDr1vbhBdU6lZdvuHM85QEFeNna7lc2rFtC59wiXMkXHjzDn5XuYctsLxLVIrZk+Zupf+OcrS/jHS79w1V3/oW2XAX5p5AEcytWIizQQHS4wGqBX+wC27nO4lNm6z06/Tvr1UJsEA5VWSUmFZP5KK0/MruCpDyr4YFE1uw87fG7kAbRp15W8owc5nnsYu83G2uU/kt5vmEuZvKMHa7oBDu7djt1uwxxu8arumWiV1o3jOQfJd+6/TSsX0LWP6/4rPH6E91+6l6vufI64Fik106urKqiqLK95vStzBYmtznzQ/IIlhdz79D7ufXofqzaVMXKgPoarY2owFZUahSXu4yUzdlZwfm99vNuogZGs3qxfh5pDDAQ4f3NGD7awdXcFlVVnfob3ZTtFWOKwxCSSd2QfALu3rCIh2bebaE44nC+JCRdYzGAwQNcUAzuzXT/nzmxJeqr+c5AcK6i2SsqcDb3QIGeModC5lYEt+33/FUxK6U5BnfPUtrXz6dDD9TxVnH+Er968m8tu/hcxCakNqns25H2/mORrJwBgGdADe0kp1TnHKF6bibldCiEpLREmE0lTLyZ33uJTL8xLB446iI8yEBNpwGiAfp1NZOyxupTJ2G1lYDd9J6UmGamqlpSUn7302f6jduKja2Pq2yWQzXtcL5A277ExsFtgTUyVzpi8qdsUNLeuW39m9OqM8HBJHAfXK1f319DbfHs1gJRSE0LYZO0W09A/g0BvrJ3XgHhPxKHVi+nEMk9WHvSu6RNl7NQ2mOt/1roMwHlSynrX0jzvzEiOA1YJIS6QUu7wIn7PKzEGMGrKo3z1+jQ0zUH38yYRm9SeTcs+AaDnkKsoLz7Gh/+ahLWqDCEMrP/1fW58eAFBIWHYrJUc2LGC0Vc9eaYhuDEaA7j0+od598VpSE2j79DLSWjZntW/6HcbDhh1Jb988wYVZUV8+/6Tzs9h5M9Pfum3GDzRJHz1WzW3XRaCwfl4lZwCjUFd9V27YqudbQccdG5jZPp1oVjtkk9/8b0xdypGYwBTpz3IK0/fgaZpDBp5GUmt2vHbj18AMPSiK9i46hdWLf0eY0AApsBgbrn/XwghTlrXHzFNvGE6M5+/Falp9Bs+kcSW7Vjxs35X9KALpvLT3LeoKC1m7ntPAdQ8RqWsOJ/ZL+nDbTWHg17nX+w6fs8H67aU0be7mRlPp+mPV6mTnXvsz6149cOjFBTbmT03j79PS+bay+LYe6iKRcuLAGjZIoi/3JCEJiUHj1bzygdHT7Im7/iynQAm/OkhPn79HzjsNqLjWzL1tqdPuq6GkBIWrHVw7agAhIBNWRrHiqGP85Ep63dr7D4saZ8kufuyAGx2+HZl7QXPlGFGQgMFDudyqqwnW5P3DMYALrrqUT75n36e6nH+JOKS2rN+qX6e6jPsKpbNf53K8iJ++OgJZx0jN0+fe9K6vur54X+IGdafwNgoRu5byu4nX0WY9HPBwRmfkvfDUuLGDmP4jp9wVFaSMe0hAKTDwZZ7n6T//FkIo5Hs2V9Rtm2Pz/GAfo767KcK7pkShkHAikwrR49rDOmpN6KWbbKyZa+dbmkOnro1Aqsd3l9Q+1N883gzHVoHEBYieO7OSL7/vZIVGb7tQE3Cp4squHdqOAYByzOqOXrcwdCeemPzt03VbMmy0b2tiadvi3Q+8qX8lHWVs0v4o5XpHJM2T0rZzfl+DzAe2Al8AZRKKW9wjtWbJ6X80lmuTEoZJoToA/xXSjnMOX04zq5cIcTjuHaBlkkpw5yvHwfKgFeAbcB1UsqVznF7HaSUW08S7xLn8tfVXZeHeSfiq1/mNWCdlHK2EOJn4D9Syh+EEC8BvaSUw4UQfwUipJSPOet8DGyUUr7ofN9TSrlJCJEmpcxyTvsGmC2l/OZk23rmz409+sJdTETTy3MvW+Ofgez+dOmwM7+j82wps575zQdn04wZuxs7BDe33up7Y8LfNmxvcqcDUls1vWMq5oKOjR2CR98/7U0n2B+rMTNPJ/P2g9FnfxBmHQ/Ptp6VjfD0DX56DlcDna3bXR4E5gGLAW8ukzMAuxBisxDi/tOWrkdKaQUmAy8IITajd63+UXe8PgG8LIRYRp2bUIDvgYknbsYA7gH6CiEyhBDb0G/WALhPCLHFGXcl8MMfFLeiKIqiKM2cX7pupZT70cfInXj/JfpNFvXL3VDvfZjzXxtQ/8FDS5zzHvdUp/48KeUmYKiX8Q6v83rJiXV5mBd2kjJ/rvN6GdDBwzp2Aen1Jk/1UO5ub2JWFEVRFOXsk365tbzpUP8zhqIoiqIoilMT7L32SbNu6AkhXkd/DEpdL0sp32uMeBRFURRFUf5IzbqhJ6W8q7FjUBRFURTl3KE1s67bpvd/jyiKoiiKoih+0awzeoqiKIqiKA3RFB8x4wuV0VMURVEURWmmVEZPURRFURTFSTa9/wPAJ6qhpyiKoiiK4qSprltFURRFURTlXKAyeoqiKIqiKE7qZgxFURRFURTlnKAyeoqiKIqiKE7N7YHJqqF3jtm0qaixQ3Bjtze9W5Sa4hf1swVNL4EuDNWNHYJHiW3iGzsEN98uLGrsENwEBTW9U3jO0caOwJ18elVjh+DR+IcHNnYIbha/vKGxQ2h0zaznVnXdKoqiKIqiNFdN73JQURRFURSlkcgm2CPkC5XRUxRFURRFaaZURk9RFEVRFMWpuT0wWTX0FEVRFEVRnFTXraIoiqIoinJOUBk9RVEURVEUJ5XRUxRFURRFUc4JKqOnKIqiKIri1MwSeiqjpyiKoiiK0hQIIcYIIXYKIfYIIR70MF8IIV5xzs8QQvQ+3TJVRk9RFEVRFMWpscboCSGMwOvAhUA2sFYI8Z2UcludYmOB9s6/AcCbzn9PSmX0FEVRFEVRnKSUZ+XPC/2BPVLKvVJKK/ApcFm9MpcBH0jdKsAihGhxqoWqhp6iKIqiKErjSwYO1Xmf7ZzW0DIuVNdtM9QlJYDJI0MwCFieaeWnNdVuZa4YGULX1ACsdvjwhwoO5TmwhAv+NDaUCLMBKeH3jGqWbLD6JaauqSamXBCKwQC/b67mx1VVbmWmXhBKtzQTVptk9vxyDuU6vK7riysvDKV7WiBWu+S978s46FxvXbGRBm6ZEIY5xMDBHDvvfFeGQ/O+fkN0SQ1gyij98y7fXM2Pq93335RRITXb6v0FFTXb6rqxoXRPM1FaIXnq3RKf4nCJKSWAKaNCEAKWZ1hZ5OGYmjIyhK5t9WPqgwX6MQVw3ZgQurd1xjS71G8xQdPbdwBXjTbry7RJ3p1XysEczzHdOjG8JqZZ35bi0CAxxsiNl4TROjGAr5dUsGh1pc/xQNM8JzTFY6opfvfSZz5L/LjhWPPy+a3XeM9xvzSd+DHDcFRWsfnmBynZqPf0xY0eQpf/TkcYDRx69wuyXpzpl5g6tjIyYXAgBgOs3mZn8UabW5kJgwPp3MaI1Q6f/lLN4eNazTwh4P7JwRSXS95Z4L6NG5t2lrpuhRC3ArfWmTRDSjmjbhEP1eoH400ZFyqj18wIAVMuCOH1r8p56r1S+nYKJDHGdTd3TQ0gLsrA4++U8vGiCq68MAQATYO5S6p46r1SXvyolKE9g9zqnmlMV40O5dXPS3l8ZjH9ugTSot5yu7U1ER9l4JG3i5mzsJxrLjJ7XdcX3dJMxEcbmf5WER8uKOeaMWaP5SaNDOXntVU8/FYRFVWSwT2DGlTfW0LAVReG8toXZTwxq+Qk2yqA+Ggjj84o4aMfK7h6dGjNvJWZVl79osynGDzFdOWFIbz2ZTlPvltKv86ej6n4KAOPzSrl4x8ruMp5TAGs3GLl1S/L/RoTNL19B9DducyH3izkgwVlXDsm7CQxmflpTSXT3yykvEpjSM9gAMorNT5ZVO63Bh403XNCUzummuJ3DyD7/bmsuWTaSefHjRmKuV0KSzqPJvOOR+j22uP6DIOBrq88yprx01iafjFJV15CWOc0n+MRAi4fGsjM+VX865NKerU3khDl2vbo1NpIbKTguY8q+WJJNZOGBbrMH5IeQG5hM7u11QtSyhlSyr51/mbUK5INtKrzviVw5AzKuDhnGnpCiBU+1i9z/jtcCDHPP1G5LP8GIURSnfezhBBd/L2e00lJNHKsUCO/WMOhwfodVtLTTC5l0tuZWL1Vvyrff9RBSJAgwiwoKZc1V8zVNsgt0LCE+X6IpLYIIK9Q47gzpnXbrPRo7/rF79HexKotekz7jtTG5E1dX/TsEMiqTP2Kcu8RO6HBBiLN7hdMHduYWL9dj29FZjW9OgQ2qL63UloYySuq/bxrt9tIr/d509sHsmqLvs662wpgT7adikr/nkBTWujHVM0+2GGlRzvXY6pHexOrnMfUvqMOQoPrxuSgvMr/J/Wmtu9OLHNlRlWdZQoiw9yX2SmlTkwZ1fR0xlRaIdl/1I7D98RijaZ4TmiKx1RT/O4BFPy+DltB8UnnJ1w6isNzvgGgaPVmTJERBCXGYemfTkXWASr3ZSNtNo58Np+E8aN8jqd1vIH8Yo2CEolDg417HHRNde0c7JZqZP1OOwAHczVCAgXhofp2ijQLurQJYPV29yxgU9GIY/TWAu2FEKlCiEDgSuC7emW+A6533n07ECiWUh491ULPmYaelHJQY8fgvCPmZG4Aahp6Uspp9e6U+UNYwg0UltamyIvKNCzhrrs5MsxAUd0ype4n7+gIAy3jjew/avdDTILC0tpfrsJS95gs4QYK6sUUFW7wqq4vosIMFJTUrtfT8sNCBJVVsubZSoUltWW8qd+geMINFJbU2w71GgqWMOFWxp/bpD5LmOsxVejhePGmjL81tX0HYAk3ui6zRMMS7nra8BRT1Nncf03xnNAEj6mm+N3zRnBSApXZOTXvqw7nEJyc4GF6LsHJCT6vL9IsKCqrbbQUl0m3CyS3MuW1ZS4bHMi8lVa8a/c0DqnJs/J32vVKaQf+DPwIbAc+l1JuFULcLoS43VlsAbAX2APMBO483XLPmTF6QogyKWWYEGI48ASQC/QE5gKZwL1ACDBBSpklhEgFPkb/jAvrLS5CCPE10BH4DbhTSqnhgTMT+F/gIuCvQoiRwHjnulYAtwGTgL7AR0KISuA84AfgASnlOucyXgYuASqBy6SUuUKINOAjwOgs/xcppee+Hh/U/0IJD0mLukWCTHDLpaF8+WslVf4ZjnNaHgcd/BEngtNsi5OWkaeY52NIp1ueON0O9LMGDwj5ozTBfedp17h/Af2/3oZq7HNCkz2m6mns7543PMUkpTzJTvVDsGc6igzo3MZIWaUk+5hGWtI5k2f6Q0kpF6A35upOe6vOawnc1ZBlnjMNvXp6AJ2BAvSW7SwpZX8hxL3A3cB96A2rN6WUHwgh6m+U/kAX4AB6I/By4MuTrMsMbJFSPgoghNgmpXzS+fpD4BIp5ZdCiD/jbNg559Vfxiop5XQhxL+AW4CnnTG+LKX8pE5r3U3dAZzDJr1E14E3nHTDnMiEnWAJM1BcprmV0a9C9UyZJby2jMEA0y41s3a7jc27/ZNaLyqVRNXJakSFu2YPQL9ajw43kHUi7nADRWUaAUZx2roNNbxPEEOdY6L2HbETHVG7vaLCDRTXW35ZhSQkWGAQ+hPToyJqt1dhqXba+g1RWKoRVWd5+naQnsscdtQp49s2OWVMZa7HVFS4h2OqpoyjpszZiKkp7rsRfYIZ0kuPaX/9mCLct4OnmHw9pk+lKZ4TmtIxVRNTE/zueaPycA4hLRMpdL4PTk6k+kgehkATIS0Ta8oFJydQdSTP5/UVl0ksdTKdkWGC4gp56jJmQXG5JD3NSNcUI51bhxAQAMEmwdUXBPHxz03rhgz1f902DWullEellNVAFrDIOT0TSHG+Ph/4xPn6w3r11zifU+Nwlhl8inU5gK/qvB8hhFgthMgERgJdvYjXCpwYF7i+ToznAV84X398ssp1B3CeqpEHcCDHQXyUgZhIA0YD9OkUSGaW68k5I8vGgK762JOUFkYqqyUl5fqBfe1FoeQUaCxe778v3v6jduKja2Pq2yWQzXtcY9q8x8bAbnpMqUm1MXlTt6GWrK/myXeKefKdYjbtsjKwuz44v21SAJXVkuJy9y/5zgM2+nTW4xvUPYhNu/S0xmYv63vrwFHX/devs4mMPa4plIzdVgZ209eZmmSkqs7+Oxvqx9S3UyAZ9fZBxh4bA53HVGq9Y8qfmuK++3V9FU/OKuLJWUVs3FXNeenBrsssO01M6UFs2n32UudN8ZzQlI6pk8XUFL573sj7fjHJ104AwDKgB/aSUqpzjlG8NhNzuxRCUloiTCaSpl5M7rzFPq/vUJ5GbKSB6HCB0QC92hnZus+1O3/rfgd9Oup5pNYJBqqsktIKyYJVNp76oJJn5lQyZ1E1ew47mlwjrzk6VzN6dY8Mrc57DdfPdLJvYP3pp/qmVjkbhAghgoE3gL5SykNCiMeBYC/itcnakZgOzuJ21yR8/ksld00yYzDod4IdzdcY3EM/Yf6+2crWvXa6ppp4fFo4VhvMWVgBQFqykQFdAzl8zME/rw8H4LtllW5f4jOJ6dNFFdw7NVx/vENGNUePOxjqvPvxt03VbMmy0b2tiadvi3Q+tqD8lHX9JTPLRvd2gTxzh0V/rMu82rvm7pkSzvsLyiguk3z1awW3TghnwtBQDuba+X1z9WnrnwlNwmc/VXDPlDAMAlZkWjl6XGNIT33/LdtkZcteO93SHDx1awRWOzXbCuDm8WY6tA4gLETw3J2RfP97JSsyfGtEaBI+/bmSuyfrx9QK5zE1xHlMLdvsjKmtiSdv0Y+pD36oqKl/0yWhdGilx/Ts7RHMW17FikzfGzZNbd8BZO6x0T0tkGfvjMJqk7xXZ5n3To1g9vwyiss0vlxczm0Tw5k4zKzHtEnfhxFmwcM3WQgJEkgJF/QP5tG3i6iynnljosmeE5rYMdUUv3sAPT/8DzHD+hMYG8XIfUvZ/eSrCJP+E3Jwxqfk/bCUuLHDGL7jJxyVlWRMewgA6XCw5d4n6T9/FsJoJHv2V5Rt2+NzPJqEucus3Do+GCFgzQ47uYWS87rqMa3camf7AQedWxv55zUh2Ozw6eJzqzGnNeUBhGdAeHknSKOrN0bvASnlJc7pS6gdC1czTwjxHfpAxjlCiDuAF+vU/4Hartsf0J9l8xUenFiv87UF2ImekTMCq4AvpZSPCyG+B/4rpfzVQ1x1lzEZvbv3BiHEfPQnXH/m7J797+nG6N3176Imt8Ps9sbtuvDkbD0HyRdGY9NLoAuDb3eZni12mx9vO/WTpniuDApqetfqTfCr12S74sY/PLCxQ3Cz+OUNjR2Cm//c6ePt8A30p0dzzsoB8/6TiY1ywm16vzz+cy9wlxBiLRBZb95K4HlgC7AP+NqbBUopi9DvcskEvkG/FfqE2cBbQohNQogQt8qe3Qf8RQixBmgBnPweekVRFEVRlAZqepeDJ3Ei0yWlXAIsqTN9eJ3XNfOklPvQx8Cd8Lyn+t6ut877h4GHPZT7CtexfHXjCqvz+ktqb/w4DAyUUkohxJXAOm/jUhRFURTF/5pi9t4X50xDr5nqA7wm9Ft0i4CbGjccRVEURVGaE9XQcxJCrAaC6k2+TkqZebbWKaVchv6oGEVRFEVRmoCmOMbbF6qh5ySlHNDYMSiKoiiKoviTaugpiqIoiqI4NdW7tM+UaugpiqIoiqI4NbebMZrz41UURVEURVH+X1MZPUVRFEVRFCepNb3/BMAXKqOnKIqiKIrSTKmMnqIoiqIoipN6vIqiKIqiKEozpW7GUBRFURRFUc4JKqN3jikrqWrsENw4HE1v4KolxtzYIbipKK1u7BDc2O2Oxg7Bo6CQwMYOwY3+PxU2LVWVtsYOwY0wNL3tZDQ2zZzG4pc3NHYIbkbe27uxQ3B3584/dHXN7Tl6TfPoVxRFURRFUXymMnqKoiiKoihOzS2jpxp6iqIoiqIoTppsesORfKG6bhVFURRFUZopldFTFEVRFEVxam5dtyqjpyiKoiiK0kypjJ6iKIqiKIqTyugpiqIoiqIo5wSV0VMURVEURXFqbv8FmmroKYqiKIqiOGmaeryKoiiKoiiKcg5QGT1FURRFURQndTOGoiiKoiiKck5QGb1m6ppx4fRoH4TVJpn5dTEHjtrdysRajNw5JRJziIEDR2y8PbcYhwPOSw/m4sFmAKqskve/L+FQrnv9hrru4gh6dgym2iaZ8VUR+4/Y3MrERRm5a2oUYSEG9h+x8eaXhTgc0LtzMJMvCEdKcGiSOfNL2HXA6nNMnVMCmDw8GIMBVmTa+GlttVuZySOC6ZoagNUGH/5YQXaehiVMcP3YUCJCBVLC8kwrSzb6Hs8JV48Jo3v7QKw2eOebEg7meNp/Bm6fFIk5RHDgqJ2ZX5fg0GBg9yDGnq/vv2qr5MP5pX7Zf9eOi6BHhyCqbZKZc4tOekzdNcWCOVQ/pt76qkjff52CuHyUvv80TfLRghJ2HXTf/w115YWhdE8LxGqXvPd9GQdzHe4xRRq4ZUIY5hADB3PsvPNdGQ7N+/rNISaAqy4y072dfk5497vSkx5Tt10egTlYcCDHzqxvSnFokBhj5KZLw2mdGMDXv5bz46pK/8Q02qx/Vpvk3XmlHMzxvK1unRhes61mfVsb042XhOkxLalg0WrfY+qaamLKBaEYDPD75mp+XFXlVmbqBaF0SzNhtUlmzy/nkHP/eFP3THRsZWTC4EAMBli9zc7ije7fmwmDA+ncxojVDp/+Us3h47VjzISA+ycHU1wueWeB+/ntTKTPfJb4ccOx5uXzW6/xHst0eWk68WOG4aisYvPND1KycRsAcaOH0OW/0xFGA4fe/YKsF2f6JSZ/kuq/QFOauvT2gSTGBPD3l4/z3ncl/Gl8hMdyU0eH8eOKCv7x8nHKqyTDeocAcKzQwbPvFvDwG/l8t7SMGy/zXL8henQIIjE2gL/+N493vinihksjPZa78qIIFi4v44GX8iiv0hjeJxSArVnVPPTqMaa/doyZXxUxbaLn+g0hBEwZGcwbX5fz9Owy+nQykRjt+pXokhpAnMXAE++W8cnPlVw5St9GmoS5Syt5+v0y/v1JGUN7BrrVPVPd2wWSEG3kn68W8P73JVx/cbjHcldcEMaiVRX887UCyqskQ+rsvxdmF/LYWwV8/1s5f7rEc/2GSG8fREKMkb/97xjvfVvMDeM9b/+pF4WzcGU5f//fMcorNYb1du6/vVYefv04j7xxnFlfF3PTBIvPMXVLMxEfbWT6W0V8uKCca8aYPZabNDKUn9dW8fBbRVRUSQb3DGpQ/XM9JjhxTAXw0OsFfDC/lOvGhXksN3mUmZ9WV/LQG4VUVEmG9AoGoLxS4+OFZfy4qsIv8QB0d37Wh94s5IMFZVw7xnNMk0aa+WlNJdPfLKS8SmNIz9qYPllU7pcGHujng6tGh/Lq56U8PrOYfl0CaRHj+p3u1tZEfJSBR94uZs7Ccq65yOx13TON6fKhgcycX8W/PqmkV3sjCVHCpUyn1kZiIwXPfVTJF0uqmTQs0GX+kPQAcgv92xWZ/f5c1lwy7aTz48YMxdwuhSWdR5N5xyN0e+1xfYbBQNdXHmXN+GksTb+YpCsvIaxzml9j8wepybPy11j88sskhFjhY/0y57/DhRDz/BFTYxNC3CCESGqMdffuFMzyTfrJLyvbRmiwgcgw913dOTWItdv0q87fN1XSu7N+At1zyEZFlax5HR1h9DmmPp2D+X2jM6ZDNszBBizh7jF1aRvImq16TMs2VNCnix5TtbX2SxIUqGfRfJWSaOR4kUZ+scShwYYdNtLTTC5l0tMCWLNNv4Lef9RBSJAgwiwoKZdk5+lXfdU2yMnXsHjYxmeiV6cgVmTo22DvYTuhwcLj/uuUGsi6bfoV+orNlfTuqJ/gs7LtNfsvK9tGVITvcfXuHOR6TIV4Pqa6pAaxdmvtMdWns+f95w89OwSyKlP//HuP2PXj3Oy+7I5tTKzfrmdbV2RW06tDYIPqn+sxnViuV8dUSt1jqopeHfUGaGmFZP9ROw7/JBdrYlp5IqYjJ2Jy/6ydUupsq4xqejq3lb9jSm0RQF6hxvFiDYcG67ZZ6dHetdHUo72JVVv0WPYdqT0feFP3TLSON5BfrFFQop+jNu5x0DXVtSOuW6qR9Tv17OzBXI2QQEF4qL4dI82CLm0CWL3d9+x5XQW/r8NWUHzS+QmXjuLwnG8AKFq9GVNkBEGJcVj6p1ORdYDKfdlIm40jn80nYfwov8amuPNL162UcpA/ltPM3ABsAY780SuOijCQX1x79isocRAVYaC4rDYdHRYqqKjSOHEXeWGxgygPDa9hfULI2O17uj8qwughJiNFpXVjMlBRJWtiOlHmhL5dgpkyOpwIs5F/f5Dvc0yRYYLC0toGSGGZRkoL10atJcxAYWntSbKoTGIJM1BSXvtZoiMELeON7PfQFXYmosINFBTXbpeCEo2o8Hr7L8S5/2RtGYuHBvmQXsFk7vG9Szk6wkhB3f1X7CA6wnjKY6qg2OHSyOzTOYgrLowgwmzgv3MKfI4pKsxAQUnt+gtLNSzhBorr7JuwEEFllazZToUlWs0Fhjf1m0NM4DymSmqXcWKd7sdUbVwFpZrHc4K/WMKNFJTU1mM7MgAAMf1JREFUnlv0mIwUl9V+jzxtq7MVkyVcUFhaZxuVaqQmBdQrY6CgzjmryLmNvKl7JiLNgqKy2nNUcZmkdYLh1GXKJZFmQWmF5LLBgcxbaSXI9fr1rAtOSqAyO6fmfdXhHIKTEzxMz8XSP/2PDc4L6mYMD+pl5JYKIT4X/9feeYfZUZft/3PvkpDeAEVEqghSEiB0YigCVhREQJoIKryAVPVVrIAFxBrxp9QXIop0EBSlEwidQBJKiPQiIAhJ2JCevX9/fOfsnj3ZbBZIznc25/lc117ZmXNO5t6ZOTPPPFX6l6TTJB0g6T5JD0tat3jf2pLulnS/pB/V/HeDJF0l6TFJZ0parEZJMyX9RNIkSfdIem+x/gJJn3+n+jrZzmBJz1a0SOon6QVJvSRtWmx7cqF7aLHtLYA/S5ooqa+kkcW2J0i6XtL7iv/rmOJvnSzp4nd8EDoI7mSd3/Zb2GDt3ozevB+X3NDy7iV1ssFar1ynfouq9zzw2Bz+9zev8es/v8Hnd3n34eQlbW9xVDfT7N0LvrJ7f664bTZzll6K3hJldbY/a9+0wVq9+MhmfbnsppnLSFPHDaqTPVr9jglT5vLt377GmIumsddH3304ubMDuMjh6+q8687n3y5l1ET3zpdlte3F0bmmJV8Uct6CuyN52W+wG+8BPrxmMzNnmxdfq3++mTo5uLa7dyMIljrLohhjBPBh4A3gaeBc21tJOhY4GjgOGAP8wfYfJR1V8/mtgA2B54B/Ap8DLl/MtvoD99j+rqTTga8CP14K+jpge4akScAOwK3A7sD1tudL+iNwtO1xkk4Bfmj7OElfA75h+wFJvYAzgM/afk3SvsBPgEOBbwNr254raUhngiUdBhwGsM2nTudDmx+0yHs+ulU/dhiZcrSe+fd8VhrczBMkT9SwQc1Ma+n4ZW+ZZfr1aaKpCVpbYejgjt61D7x3Bb782UH84sJpvDX7nX0Rd9m6HzttmXJYnn5xHisNbvc4DRvUzPSWjl6Kllmt9OujNk1J96KejKnPzuM9w5oZ0K+JmbPe+UVs+kwzdGD7hWfogCZmzHTNeyoehKRjyAAx4630nqYm+Oru/XhgyjwmPfnuvHk7b9mX0ZunMOczLy1g2OAmeCG9NmxQU4djA1XHTylfML2nfV+t/p5mvrT7IH795+nv+Ph9dKt+7LhFyrF75t/zGTa4GSrn1OBmpr1Zq6m1wzk1bHAz099c9PhMfa5y/MTMWW9P244jV2T0plX7qcpjOHRgEzNq9tPMWaZvH7Xtp2rP9rSW1iV+vqdqAthpiz6M3ixdE559qZKCkc7ToYOamD5zUV39qnQNG7joefdu2Wlkn7a8v2dr99ViNNXuq6WtqcL0FjN0YPs1amgnf/+0llaGDWziqWJ5yMCkeYVmLfGz74QZM82QqnD24AFiRs13ZpH39E/XqOHrNrPRWs18eI2+rLAC9Okl9t9lRS66aekUZHTF7H+/Qt/VV2Vasdzn/asy96VXaerdi76rr9r2vj7vfy9zXnp1met5u7RGMcYSud/2y7bnAk8BNxTrHwbWKn7fHvhL8fuFNZ+/z/bTthcW7xnVxbbmAZWcvglV//+71dcZlwD7Fr9/AbhE0mBgiO1xxfqxwOhOPrs+sDFwo6SJwPeA1YvXJpM8fwdSuQrXYPts21vY3qIzIw/g5vtm8YM/vM4P/vA6Dz4+l+03TRf4dVfvxew5rR1CNBWmPDOPLYscuFGb9uXBKSlfZtjgJo7+whDOumIG/3n9nYeMbrp3Ft/9XSqgmDBlDqOKm866H+jFrLmtnV4IH3t6HlttlDR9ZPN+bZreO6z9IrrWar1YYQW9KyMP4LlXFrLKkGZWGiSam2DzDXox+emOuSwPP7WArTZMcY+13tfM7HnmzcLQO2C3vrzyRiu3PPjuXXm33D+bk86axklnTeOhx+ey3fC0D9Z5/wrMmutOj9/jz8xjiw1TDtV2I/ry0NSkY9igJo7adzDnXDWD/7zxzo/fzffN4vu/TwUUE6bM6XBOzVrsOTWXLTeqOqceT8fvPVXHb833rUBz89s38gBumzCXU86bwSnnzWDiv+axzSbp719ntRWYPddtRng1U5+bz8gPp3yp7TZZkYn/SvtpUjc/3xM1Adz6wBxOPmcaJ58zjYemzut4Ts3p/Jya+uz8qnOqDxOnLl2j4NYJczjl3Omccu50HvrXXLataKr8rTOXsK+Gr8jEJ5aN6/zZlxfwnmFNrDS4ieYm2GLD3kx6suP1YNKT89lm46Rl7dWamT03XQ+689l3wguvtrLy4CaGDUzXqM0+2Myjz3S8TTz67EJGrp98Nmu8t4k580zLLHPdPfP50R9n85M/zeZPN8zlyX8vrIuRB/Dqtbfw/gP3AGDI1iNY8GYLc195jRn3P0z/D65F37VWR716sdq+n+I/f7ulLpreDstbMcay8OhVn0mtVcutNdtb3F9du76rvTPf7XG0hVX//wIKI1bJh1ydFdtdfbVcA5wqaRgwErgF6LxMbFEEPGp7205e+xTJOPwM8H1JG9l+V+6hSf+ay/D1evPz41Zm7nxz7lXtSbMnHDiU//vrDKa3tHLpjS0cufdg9vroAJ57eQG3P5iS7ffYcQAD+jXxxU+n8GhrK5x01rvLiZs4dS4jPtSHX57wHubNN2dfOb3ttW98cRjnXjWd6S2tXHz9m3ztC0PZe9dBPPvSfG57IFX5bblRX0Zt1peFrTBvvvndxdMWs6Xu02q49NbZHLVXfyS455H5vPJ6K6OGp9Nl/OR5PPrMAjZaewV+eOgA5i+AP12f9tE6qzWz9Ya9+fdrC/n2gek0uObOOTz2zLvP05v8xDyGr9eb045eKbWd+Oubba8dt/9gLrimhekzW7n8ppkc/vnB7Llzf55/eQF3FMUun9mhPwP6NnFQUa3b2gqnnPPu9tekf81lxIdW5OfHr8K8+ebcK9vPqa8fNJTzrk7n1CU3tHDkPkP4/EcH8tzL8xk3oXL8+rD9pn1ZuBDmzze/v+TdH7+Hn5rPJh/szU+OGJJaXfytPUR9zD4DGXvdTGbMNFfcOovD9hjIHqP78fx/FjB+0twlfn550gQw+cl5bPLB3px61DDmLUjtVSoc+4VBjP3bTKbPbOWym2dy+OcGsceO/XnhlQXcMTEZ6oP6i+9/ZSh9V0yFULts3Zfv/2Eac+a985vXw0/OZ5N1e/PTI4cyb745v+pvPXbfQVzw95nMmNnK5be8xeF7DmTPHfqnfTXxrTZN3zt0SLumrfrwg7Omv2NNrYaLb5jFsfsOpElw5+S5vPzfhYwuKqJvnziXR56azybr9OLHhw9m3nwz9rq3uvzsu6XVcOUd8zhs9z5IcN/jC/jPNLPtRulWdfejC5jy3EI+vEYzJx7Ql/kL4OJblr0xt+mFv2SlHbai98pD2fmZcTxxyhmoV9L0/NkX8+o/xrHKJ3Zgx8dvZOHs2Uz+yncA8MKFPHLsKWz193NRczMvXnAFMx97cpnrbXS0NIb3Spppe4CkHUnhyk8X62+jPXzZ9pqka4BLbf9J0hHAz6s+/w/aQ7f/AM62fUVX2y1+/zzwadtfkvQ9YKDtb0naA7jKtrqrr4u/8zJgDtBi+8hi3STga7bvkHQSMNj28ZKuBX5l+1ZJvYHHgINs312Ecj8ETAHWsP1sse5FYH3b0xen4eAfvFK6hIaFC8vn5h6y0tJpS7E0mdVSn6fpt8OCBUuxjHIpsmLfd1+x2Ai0lvC7p6alU1W9NGluLmcnsQGDVswtYRF2Pnbz3BIW4VPzp9b1pNr1gAnL5D57459HZvly5GqYfCxwUZEXV2vE3Q2cBmwC3A5c9Q7+/3OAv0q6D7gZeOtdaK3mEuAyYMeqdQcDZ0rqR8r5O6RYf0GxfjawLfB54LdFuHcF4DfAv4A/FesE/LorIy8IgiAIguDtsFQ8ekH9CI9e9wiPXvcIj17PJjx63SM8et0nPHqwy34PLJP77E1/2SLLl6OcZ38QBEEQBEHwrukRs24l3QvUPvocZPvhZbCt7wJ716y+zPZPlva2giAIgiAoF8vbrNseYejZ3rqO2/oJqcddEARBEAQNRmtMxgiCIAiCIAh6Aj3CoxcEQRAEQVAP3Lp8hW7DoxcEQRAEQbCcEh69IAiCIAiCgpzjypYFYegFQRAEQRAULG9VtxG6DYIgCIIgWE4Jj14QBEEQBEHB8ha6DY9eEARBEATBckp49IIgCIIgCAqWt/YqspcvF2XQfSQdZvvs3DqqCU3dIzR1nzLqCk3dIzR1nzLqKqOmRiRCt43NYbkFdEJo6h6hqfuUUVdo6h6hqfuUUVcZNTUcYegFQRAEQRAsp4ShFwRBEARBsJwShl5jU8bcidDUPUJT9ymjrtDUPUJT9ymjrjJqajiiGCMIgiAIgmA5JTx6QRAEQRAEyylh6AVBEARBECynhKEXBFVIapK0XW4dQRAEQbA0CEOvwZB0rKRBSpwn6UFJu2XWtK6kFYvfd5R0jKQhObTYbgV+mWPb3UHSz7qzLgeShkoannH7J3T1k0tXlb6Nc2uoRVJfSevn1lFB0oXdWZcDSf0lNRW/f0jSZyT1yq2rzBQPzoNy62h0wtBrPA61/SawG7AKcAhwWl5JXAEslPRB4DxgbeCijHpukLSXJGXUsDh27WTdJ+quokDSbcWDwzBgEnC+pF9lkjOw+NkCOAJ4f/HzP8CGmTRVc6ak+yQdmetBphpJuwMTgX8Wy5tKuiarKNioekFSMzAyk5Zabgf6SHo/cDPp2nlBTkGSWiS9WfPzgqSrJK2TSdNFxTWhP/AYMFXSN3NoCRJh6DUeFePlk8D5tidVrctFq+0FwJ7Ab2wfD7wvo54TgMuAucWFs0XSmxn1IOkISQ8D60uaXPXzDDA5o7TBxYPD50jn00hglxxCbJ9s+2RgZWBz21+3/XWSobB6Dk3V2B4FHAB8AHiguCF2ZrjXi5OArYDpALYnAmvlECLpREktwPAqg6UFeBX4aw5NnSDbs0jn+hm29yT/A8SvgG+SHmhWB74BnANcDPxfJk0bFteEPYDrgDWAgzJpCYAVcgsI6s4ESTeQvGYnShoI5J7gPF/SfsDBwO7FumwhEdsDc227Cy4C/gGcCny7an2L7TfySAJgBUnvA/YBvptRRzVrAPOqlueRyYCpxfYTkr4HPAD8Ftis8Bx/x/aVdZazwPaMMjiubZ8KnCrpVNsn5tazGCRpW5Kx/uViXe576Mdtb121fLake2yfIuk7mTT1KkLaewC/sz1fUvRxy0jukzSoP18GNgWetj2rCLkdklcSh5DCaz+x/YyktYE/5RQkaSiwHtCnss727bn02J4BzAD2kzQKWM/2+ZJWlrS27WcySTsFuB4Yb/v+Ilz0RCYtFS4E7pN0FWCSp/iPeSVBkb94CPAp4EZgd9sPSloNuBuot6H3iKT9gWZJ6wHHAHfVWUMHbJ9YhEbXpOr+lPO7V8VxwInAVbYfLc71W/NKolXSPsDlxfLnq17LZVydBTxLSuW4XdKaQNaISKMTDZMbDEnbAxNtvyXpQGBzYIzt5zJLA9oMrA/YzhaOlPQV4FhSKGQisA1wt+2dc2mqIOmHpBy09W1/qDASLrO9fWZppULS5sBHisXbbT+UUw+ApNtJYbXLbc+uee0g23UtOpDUj+SF3Y2UvnE98CPbc+qpo0bTacAXSLldC4vVtv2ZXJpqkdTf9lu5dQAUxuYYYFuSYXcPcDzwb2Ck7fEZ5bUhaYUiPSfIQBh6DYakycAIYDjJ83Ee8DnbO2TUdBvwGdIT/ETgNWCc7SyVkkUu3JbAPbY3lbQBcLLtfXPoqUbSRGAz4EHbmxXrJtvOUu0q6XTgx8BsUlL/COA423X3yEoaZPvNwku9CJlD3Eg6zvZvatYda3tMJkmlQ9JUYLjtubm11FKEbc8DBtheQ9II4HDbR2aWViokvRf4KbCa7U9I2hDY1vZ5maU1LFGM0XgscLLuP0vy5I0hVSrmpDQJ/QVzKl4NSSvafhwoSwuKecXxMyTvQmY9uxXH7tPAi8CHSMnhOahUak8g5cBVfirLufliJ+u+VG8RFSRdK+mamp8LlVow9Vny/7BMeJqM+blL4DfAx4DXAYpCttE5BUlaRdJ3JJ0t6f8qPzk1kSqRrwdWK5b/RQp7B5mIHL3Go0XSiaQqqI8U7QtyX1jLltD/YtH+4mrgRknTgJeyKmrnUklnAUMkfRU4lBQOzEXl3Pkk8Bfbb+RK7rf96eLftbt6n6SNbD9aH1VQFBrtD6xd075kIIXRkImnSS2W/lIs7wv8h2Ssn0OeSslZwERJNwNtXj3bx2TQsgi2X6g5vxcu7r114q/AHcBNJdBSYWXblxb3GWwvkFQWbQ1JGHqNx76km86htl+RtAbw88yaKgn9d5Yhob9omwBwkqRbgcEUvcZyY/sXRUuON0lexh/YvjGjpGslPU4K3R4paRUgW45XN7mQlJtaL+4CXia1faluxt1C3tY4m9mu9khdK+l226Ml1c0QruGa4qeMvKA0NceSepOKV6Zk1tTP9rcya6jlLUkr0R512IZUSBZkInL0GpAih2LLYvE+26/m1FNGaipbVyHl5eSqbC01RQHNm7YXFgn+g2y/klvX4pD0UCW/sZGRNAX4mO3ni+U1gH/a3jD20aJIWplU+LALqXjlBuCYnLmfkn4M3GX7ulwaaikKoc4ANgYeIXmN9y5C3UEGwtBrMIpS/J8Dt5EuVh8Bvmn78q4+t4w1rU66MGxPegocDxxr+8VMekpb2Vo0ka390s4g5aB93fbTddbTizSFouIZGgecaXt+PXW8HSQ9aLtuHj1J422P6uTYiVRRmmVElKRPAmcCTxVa1gaOJF0bvlpbOFInTc/QSVsQ21mmPFQjaXvbdy5pXZ01tQD9SWHu+WQ+pwpNK5LCyOsXeqYCTWUssGkUwtBrMCRNAnatePEKb9VNtkdk1HQjKZG+0l7iQOAA21mmBpStsrUaSSeT8gUvIl1EvwCsSrqYHmF7xzrrOZeUpze2WHUQsND2V+qp4+1Qb0OvzBQ35Q1I59LjOVurFHpWqlrsA+wNDLP9g0yS2ujsvIlzaVFiP5WPyNFrPJpqQrWvk7/6ehXb51ctXyDpuFxiKCpbVXRzL0FlazVl64S/Zc1Dwi3Fw0SZmbfktyxdJDUBk21vXO9tL4H1SJ6XPqTxY9jO1lzadm1xym8kjQeyGXpFW5XtgFUkVbd8GgQ0Z9K0ge3HizDpIth+MIOmVUmj2PpK2oz20ZqDgH711hO0E4Ze4/FPSdfTsdIud37Hf5WaN1c07UfeasSyVbZWU7ZO+AslrWv7KWhr4Jq9wk7S54BRFKkAtq+qvGZ7m3rrsd0qaZKkNSo5cbkpUhR2JM1rvQ74BCltIpuhV2O4NJFSKHK3f+oNDCDdL6u1vEnH7189OQE4jI7FPRUM5Gju/jFSu6DVSTN4K7QAucaxBUTotqFQ6guwOqkQYxTpiev26ptgJl1rAL+jvbv7XaQcvSzTOiQdDbxCGvgu4PrMla1tqGSd8CXtTOqb9TRpX60JHGI722goSb8HPkjHh5mnbB+VSxOApFtI3737gLbJCrmmPig1Bh8BPGR7RFGkda7t3Zfw0WWpqfq8WUAapfUL21PzKGpH0pq5rkmLQ1Kf2nB7Z+vqrGkv21fk2n6wKGHoNRiSJhQNiUtB0cdvrO0Dc2upUFSyfQF4EPg/kqEXX5QaimN3DPB72hOvH8+ddF20Btm4csyKsOnDtjfKrKvT6TO2x9VbC4Ck+2xvJWkCsBPJ8/JI7v1UVgojtLNCkWyjEcuYD1f0IP0BHQu0TnGa1x1kIEK3jcc9kra0fX9uIQBFS45VJPW2Xffcqc6w/T1J3yfNAD0E+J2kS4HzKiHKeiPpDLoIzeZoKFscu8/Y/jV5+8HVMhVYA6h4Xz5ACfTlMui64IHipnwOaXrITJK3MRuSBgM/pJxGwjeqfu8D7EXyOtadkufDnUdqq7JPsXwQcD5p8lGQgfDoNRiSHiN1vn+OFD6qlONnqygt8uE2JzVKrQ5p/WqxH6oDSrMsDwE+DtwKbAPcaPt/M2g5uPh1e1JO1SXF8t7ABNvH11tToesnpIbSl9Dx2OVIBr+WZAwPpj1EamBrUq+xnGP1Ko1jzwA+TMr7agbeytEKo5LGYfuFYnktUv/DrAaxpCtIRkJ1FfcI26U0EiSNc4Y54cX14EukHMbq8X4twAW2r6y3pgqSJtredEnrgvoRhl6DIWnNztbnzD0pksIXwfbJ9dYCIOkY4GDgv8C5wNW25xchwCdsr5tDV6HtVtJ82fnFci/gBts7ZdRTi3OEsxYXGq2Q26Mm6QFSSsBlpBv0F0lNubMkqpctjQPKbSRIGla12ASMBH5rO9sc7DLmw0m6m9SbdXyxvD0pz3LbvMoalwjdNh4t3VxXN3IZdF2wMvC5WuO3qJz8dCZNFVYjVf5VuvEPoH14eN3JZWB2Rm5DrjvYflJSs+2FwPmS7soop1RpHAWzJY2qMRJmZ9ZUYQLJQyxSyPYZ4Ms5Bdm+QtKngI1I4eTK+lPyqeIIYGwRhgeYRnpwDjIRhl7j8SApZ2ka6YI1BHhZ0qukbvgT6i2oKuRWTWXaw1n1riDrqjmr7dyzLU8DHqrypO0AnJRLTE1fsQozSOHkiXXW0tnUkDZyhEhrmKU0I3WipNNJ829z9mjcCfgfSc9SkjQOOjcSvpRPTju2186toRZJZ5Jy8nYiRR8+T+Y8S1Lh0whJgwBsv5lZT8MTodsGo7gwXGX7+mJ5N1IO2qXAmJpmvPXSNIY0D7G6HcYrQF9S3tBB9dZUZopE7MpxutcZ58pKuogUhry2WPUp4H7StIXLbJ+eQdMppPPnQpLxcgAwMIeWGl1rAq+SJokcT8ol/L3tJzPqWYQytBApq5EgaTtgLaqcJDkbTKuY2FP17wDgStu7ZdT0PPBPUt7uLdGxID9h6DUYkh6wvUVn63Llwki63fboztZJejTaPbQjaXRn623fXm8tAEXz7b1szyyWB5CaOe9J8uptmEHTvbUPLJ2tC0DSKFKe4PlK4xAH2H4mo56fAqfbnl4sDyXNcP5eLk0VJF0IrAtMpL0puHNUvFdpqrTIuYdU1fo6qUXOehk19QV2J+Wjbg78DbjYde7xGbQTodvG4w1J3wIuLpb3BaYVPdFaM2laRVUTA4oGyisXr5Wi5UqJ+GbV731ITZ0nkKcTPqQ2JtXHaD6wpu3ZknL101so6QDSOW7SpJVs0zqKxsRdhZSzhEqLIqgtSD0Qzyd5Gv9EquzOxSeqi1NsT5P0SSC7oUfaVxuWzEN1bdEi5+ektByTeYqP7dmkCNGlhaE+htQmJ8u4uCAMvUZkf1KfqquL5fHFumba+x7Vm68D4yU9RQq1rQ0cqTRjdmyXn2wwXDO1QNIHgJwhyYtISf1/LZZ3B/5SHLvHMmnan3RzGUO68d1ZrMtF7gKexbEnsBnJQMD2S5JyjxtrlrRipel24R1aMbOmCo8Aq5JyK7NTdAG4ufB+XiHpb0CfMvQcLCrg9yWN1buffPeWgAjdBjVIOsP20Rm2uyIpr6syXWFO1Wu7uiQjyMpG0Q9tsu1NMmoYSftIvfG2H6h6bajtabm0BYunKuz3oO3NC+P87sw9Nf8X+AzJw2jSnOlrcudXQlsroU1JxQ5t3mpnGmFXaLq7bG1LJD1DCm9fSjp2b3X9iWBZE4Ze0AFlHp/TGWXUlAt1nJDRRLrxPOsSjZCrJsexk7Q2cDSLJs1nuyHDIlXBvUmh0iwNkws93wDWA3YFTiUZVRfZPiOHnipdHwd2IT043FApHMvN4vo05mzrI+lk0tSXK8sSUpY0qKsiGkkn2j61npoanTD0gg6U0aiS9JDtzXLrKANqn5ABxdB323fm0rMkchw7SZNIY5gepirvtGx99iTtAWyVq2FyoWFX0qg/kWY6l9pzXkYPVk6Kh4f+pGvBHNpb5ORuJbRYyniPWd6JHL2gJxBPIwW2xxa92DYg7ZepmSUtiRzHbo7t32bY7tvC9tWSvp1r+5KOJ7XAKbVxV0OfJb9l6SJpvO1RnfRpzG5U2e4yp1LSRrYfrZeebqIlvyVYmoShF9QSX8ISU1QgngW0Fa5IOtz2P/IqKxVjiorSG+iYS1X3+bvVSKqe19pEquLM+RAzCLhe0hukCuXLbf8no57uUPf9ZXtU8W/uQpV3woWkFidlIh7c60wYekEtY3IL6IRncwsoEb8Cdqo02ZW0LvB3oKyGXo4Hh02Ag0gtZyqhW5OvBU2F6orpBaTz+rN5pLSNHjxZ0nBSheQ4SS/a3iWXprJTtAv5AB1zP7M+QCyBMj64l1HTck0Yeg2GpBuBvWsakl5s+2MAti/IpGuxHedtf24xH2tEXq2ZpPA0adpCNpbQdPejGSTtCaxju1Q9GG0fklvDYniVNEnkdeA9mbUsiWxGgqQfkcaxPU25HiC6oozes8tyC2g0wtBrPFauGHnQ1pA068V9cR3ngWyjhcpGVdjvUUnXkVoXGNib1Kcql64um+7afiODrEmkGc5ZDeBaJK1D8phvQzp2dwPH2346k54jSJ68VUjTTL5qO1fvwzaK0Wzr2b6p6KO3gu2W4uWc4xD3AdYt2wNE2VhS1bvtn+ZR1riEodd4tNZMoViT/E99Zew4Xzaqw37/ASqtHl4DhtZfThtlbLr7XuBxSfdTkn5nBRcB/4+0zyCNiPoL7XOL682awHG2J2ba/iJI+ipwGDCM9PC3OnAmhWfY9iP51PEIJXyAWAI5jNKrSVXv15Jv2lJQRRh6jcd3SVMoKq0mRpMurDkpVcf5MtLdsF+GHlXzbFuSi+33r+O2F0c/2o0pSOG+n2XSUo1sX1i1/CdJX8slxva3AQqPfp+q9c/n0gQcRRrrd2+h5YncEYcqTgUekvQIJXqAKLz9o0gP7ONtX1V5zfY2GST1iKr3RiIMvQbD9j8lbU4KH4kUOvpvZlkrA49JKk3H+R7M3qQbUr24VNJZwJDCG3MomWdtkkJ9HXrmFSHA3NxatFOpzODdF/i7pGFQ/zC3pN1JxT2rkbxUawJTgI3qqaOGubbnpYEvIGkF8kccKowlPTB06M+YE0m/Bz5I8gwDHC5pF9tHZZRVyqr3RiYaJjcIkjaw/Xhh5C1Czi9hGTvO91QyNSguRdPdIufsSGAdUvuZCgOBO3NPDylGQy0O216nbmJoayy9M3CT7c0k7QTsZzubh1/S6cB04IukPK8jgcdsfzeXpgqSxtnu9FqVC0mPAhtX0l6K+bcP285mrEs6lZRL+RRVRSu2y1y0slwThl6DIOls24cV8xpriS/hckIjd52XNJiUr3gqUN2IuCVTUUipkfSA7S0Kg28z262V+bcZNTUBX6bjg0NuDzEAkn5F8lBdQ0k8VZKuJEVlniuW1wROs71fRk2PA8OjaKU8ROi2Qah6Sv+E7TnVr0mqe7f5mu3XdpwHmAE8AHw9V1ViD6Uu7ScWc8zayDEtwPYM0nmT7SbXFZJ6AUeQ8mIBbgPOsj0/k6TpkgYAtwN/lvQqqb9fTo62PYaq8L+kY4t1ual4yqvz3rK0V5F0bbHtwcCUIu3FpMKeu+qtp4ZSVr03MuHRazA68/jk9gIVg7lfIlUlilSNuCppvNcRtnfMpa2nIek79WxfIOkUUg+2C0nH7gBgoO3T66WhpyDpXFL7mbHFqoOAhba/kklPf2A2aUrHASSj4c+2X8+hp9DU2fWpR8y6lnSw7bFLfudS2VaXIeScaS+SbgOGk9o+Rc51CQhDr0GQtCrwflKPs/1p9/wMAs60vUFGbffa3rpm3T22t5E0yfaIXNrKRtGQ+Kss2qPq0Ex6Ojt2i6wLUk5c7blc5vNb0t22t63TtvYjXZdGAXdUvTQIWNATpnXkfmAuC5FzXT4idNs4fIzU1X114Je0G3otwHcyaarQKmkfUtNWgM9XvRZPIh35K+lGeBPtzaVzslDSAbRXku5HOXSVkYWS1rX9FLQ1UC7zvqpnSsddpPZKK5OuTxVagMl11PFuqNvUjjKmTlRtOwy6khEevQZD0l62r8ito5qqiQHbki5e9wDHA/8GRtoen1FeqZA00famuXVUkLQW6dhtTzp2d5Ka8D6bUVYpkfRR0vSQSs7pWsAhtjsrkMpOLg+VpPcCWxaL99nuEbleOfZXGVMnaozQ3qR0hbdyGp+NThh6DYakY0k3mxZSwvPmwLdt35BVWNAtJP0YuMv2dbm1BG+Poujp67TP/70R+HVtcVRZyGS47A38glSoIuAjwDdtX97V58pAptZGpU+dkLQHsJXt3JGjhiUMvQajkhMk6WOkLvTfB87P9OT+v7ZPl3QGnYQhbB9Tb01lp3ha7k8abVSp1nS9n5bj2L19JF0KvAn8uVi1HzDU9t75VC2eTIbLJGDXihevyEm9qax5jNVI+p3tuk46kXQXaaxederEUba3q6eOJVHJuc6to1GJHL3Go5JH8kmSgTdJlTb09WdK8e8Dmbbf47Cde45shTh2b5/1awyWWwvDJhtF37X1bN9UTA9ZwXZL8fJBGSQ11YRqXydVBWenCCn/FFjN9ickbQhsa/s8gHobeQX7k1InxtCeOrF/Bh1tFCPZKjSRZpmHRykj4dFrMCSdT6q+XRsYATQDt9kemVUYqd2D7bdy6yg7kj5DVS8223/LqGWd6HPYPSRdQKpwv6dY3ho42PaRmfR8lTTnepjtdSWtV+j76BI+uiw1nU66LlVGeu0LTLb9rVyaKkj6Bynt5btFVGQF4CHbm2SWViqKe0yFBcCzwDk9JddyeSQMvQaj6Dy/KfC07emSVgLebztbZZukbYHzgAG215A0Ajg81w2wzEg6jZSoXh3+m+BiQH0GPbeTHhzuJzXevcP2wzm0lB1JU4D1geeLVWuQPKOtpPD78DrrmQhsBdxbCdFKejin4SLpBOA10jVKpPPpqlx6qpF0v+0tq0PauYujJK1NGhW3Fh3bLUXPuqCNCN02HgY2BD4NnELK98o6GQP4Dan9yzUARTh5dJefaFw+CWxquxVA0ljgITqO/KobtkdL6k0yPncE/i5pgO1hOfSUnI/nFlDDXNvzKpkbhYcq95P/QNIItDdIeWe5pzxU81bxYFyZK7sNaRJLTq4mPSRfS/tc2ayUrddnEIZeI/J70gVhZ5Kh1wJcQXs7gyzYfqEmVbDM/cVyM4R0I4Q0zSAbkkaRKiM/QtL1Nzo2vA0KXMwjLRHjJH0H6CtpV+BIksGQDdsnAydLGk4K246T9GJJGiafQHoYXVfSncAqdOz5mYM5tn+bWUMtZev12fCEodd4bG17c0kPAdieVnhkcvKCpO0AF1qOoT3ZP+jIqcBDkm4lhbZGAydm1DOOVJBxKnCdY5B5T+LbJO/Zw8DhpON3TtcfqRuvkvrDvQ68J7MWAGw/WEx9WJ/03ZvqfHOKK4yR9EPgBjqOG3swnyT6lSGnMmgncvQaDEn3AtsB9xcG3yrADTlnSUpamVQ1tgvpAnoDcKwzztwsM5LeR/LAipRf9UpGLUNIzZJHF5pagbttfz+XpqB7SDrW9pglrauzpiNInrxVSJNyLrH9WC491UhqBj7FoiHJX2XUdCqpOvop2kO3tr1zRk3R67NkhKHXYBTjqvYlNUoeSwo9fM/2ZZn0NANjbR+YY/s9BUkb2H5cUqf9DnM+wUv6MLADKXy7HfC87S6Hrgf56awhco7eeTXbPw242PbEXBoWh6TrgDkkD2hbPlwRbs6l6XFgeJk86VW9PueSen2KDL0+g3bC0GtAJG1A6s4v4GbbWcOkkq4Hdi/TxapsSDrb9mFFyLaWbE/wkp4CpgLjSXk598ZxLDeS9iP1WhtFx3zKQcCCkuTDlQ5Jk+tdGb0kJF0CHN2TWpdI2sj2o7l1NBJh6DUgkoYCH6Bj+CGnR+gskofxGqCtj17OkEhZkdTHNSOzOltXRz1NlQrgoGdQNElem5RXWV2t3ULqWbcgi7CSI+lnpAfj0oyLlHQbMJzU3qg6R6+07VVyjNZrdKIYo8GQ9CPgS6ScjoqVb1IVbi5eKn6aSO0VgsVzF8koXtK6ZUr16LPOBqvECLTyUlT/PgdsW0x7qFTcTwkjr0vuAa4qepGWJST5w4zbfqfkmsTUsISh13jsA6xbpvBaJcdF0sC06JmZJZUOSauSGhP3lbQZ7RfLQUC/DJIqo8+2J/VlvKRY3huYkEFP8DaRtDfwC+A20vl0hqRv2r48q7Dy8ktgW+BhlyQUZntcbg3vgFLsu0YiDL3G4xFSv7PS5HRI2hi4EBhWLP8X+GLkcXTgYyRP7OqkG07F0HsT+E69xdgeCyDpS8BOlTYTks4kVU0H5ed7wJaV/K6iAv8mUrVrsChPAI+UwciTNN72qKLwoVpPGbyMQckIQ6/xqPRhe4Ty5HScDZxg+1YASTsC55AqOAPaDKuxkvayfUVuPVWsRgq3Vxo4DyjWBeWnqSaJ/3VS+kTQOS8DtxUzb6uvnXXPJbY9qvi3J6a6lCaa1CiEodd4jAV+Rk2LgMz0rxh5ALZvk9Q/p6ASM1LSzbanQ1thzddtfy+TntNob+AMqc3KSZm0BG+PfxQV738plvcFovfZ4nmm+Old/ASLQdLnSFXdBsZXzyu2vU02YQ1KVN02GJLGla3HmaSrgAdJ4VuAA4EtbO+RTVRJ6azPWe4qtiJ/cOtiMWsD56D7SDoBeA3YlBTyu6P6hhwE7wRJvwc+SMcHiKdsH5VPVWMTHr3GY0LRTf0aMo/MkXSh7YNIvbzWAq4k3XDGAYfUW08PoVnSirbnAkjqC6xYbxGdNG5+ofh3NUmrZR7BFHSPgaQRaG8AF5Oqt4MaJP3G9nGSrqWTQoIytzLJxA7AxpVcRkljSRGkIBNh6DUeFW9Qtfs8V3uVkUVPr4OBnSgSiYvXogS/c/4E3CzpfNK+OpQUjq83v+zitdzteoJuUFS7nyxpOMnrMk7Si9EweREqkYZfZFXRc5gKrEFq4QOpZ+vkfHKCMPQaDNs75dZQxZnAP4F1aG/XAe0G3zo5RJUZ26dLepj2ySY/sn19Bh07Ff3EtrV9Z723HyxVXgVeIRVjvCezltJhu9IuaNPOZgOTIhANT5XHczAwRdJ9xfLWhLc4K5Gj12BIGkxqsjm6WDUOOMX2jIya/mD7iFzbD945ku62vW1uHcHbR9IRJE/eKqSWKpfYfiyvqvJSxtnAZUJSl7nfPbTn33JBGHoNhqQrSL30KuG+g4ARtj+XT1XQXWr6ZvUGegFv5eqbJelkUljmyjL0Fwu6j6TTgIttT8ytpcx0MRt4ILAwQt1B2QlDr8GQNNH2pktaF/QMJO0BbGW77k2Ti+23AP2BhcBsomFrsJwRs4G7RyfNmzsQ14R8RI5e4zFb0ijb4wEkbU+6QQc9ENtXS/r2kt+5zLbfExu2BkG3qZ4NnFtLmalcCySdQsr5vJD04HcAMcM8K+HRazAkjQD+SEqYBZgGHGw7qqJ6AEUj0gpNwBbADjnz5CR9hvacz9ts/y2XliBYVhTfvZ+RClZEeK87RdK9trde0rqgfoRHr0EomqNW+CMp3AbwFrALUf7eU9i96vcFwLPAZ/NIacvz2hL4c7Hq2MJjnM3LGATLiNOB3W1PyS2k5CyUdACpN6OB/UipHUEmwqPXIEj6YfHr+qQb819JT6S7A7fb/koubUHPRdJkUtuJ1mK5GXjI9vC8yoJg6SLpTtvb59ZRdiStBYwBticZencCx9l+NqOshiYMvQZD0g3AXrZbiuWBwGW2P55XWdAVks6g60TnY+oop43C0NvR9hvF8jBS+DYMvWC5QtIYYFXgajpOFboyl6Yg6A4Rum081gDmVS3PI40fC8pNpaH09sCGwCXF8t7AhE4/UR9+Cjwo6TaSh3g0cGJGPUGwrBgEzAJ2q1pn0ujGoEDS2sDRpPtKm40Ro+LyER69BkPSd4F9gKtIF6k9SY1ST80qLOgWkm4FdrM9v1juBdyQa+KJpAuBJ0hFPc8D99p+JYeWIAjyI2kScB5pvm1rZX00TM5HGHoNSDGQ/iPF4u22H8qpJ+g+kqaSxo5VQqVDgXtsr59Jz86kRrIfIY2sm0g6p8Z09bkg6GlUzZfugO1DM8gpLVFhWz7C0AuCHoSkQ4CTgFuLVTsAJ9keu9gPLXtNzaQCn52A/wFm294gl54gWBZI2qtqsQ8pGvJSrvzYsiJpf2A94AY65jI+mE1UgxOGXhD0MCStShoUbuC+nKFSSTeTWvXcTRoPNd72q7n0BEG9kNQE3GR759xayoSkU0mjNZ+iPXTr2E/5iGKMIOh5bEV76N3AtRm1TAZGAhsDM4Dpku62HdNWguWd9UjFbUFH9gTWsT1vie8M6kIYekHQg+ikQfExkraznaXS1fbxha4BwCHA+aQWFCvm0BMEywJJIjX9nVm1+hXgW3kUlZpJwBAgPPslIUK3QdCDKFuDYklfI3kXR5Lmgd4O3GH7lhx6gmBZIelB25vn1lF2ilZLw4H76ZijF+1VMhEevSDoeQwB3ih+H9zF++pBX+BXwATbCzJrCYJlyV2StrR9f24hJeeHS35LUE/CoxcEPQhJXyANVr+VqgbFti/OKiwIlnMkPUYaIfksaUa4SEUGMQUmKDXh0QuCHkJR5dcKbEPK0xPwrWhQHAR14RO5BZQZSeNtj5LUQsd+gxWDeFAmaQ1PePSCoAch6Xbbo3PrCIIgCHoGYegFQQ9C0veB2aRZt29V1lcmZQRBEARBNWHoBUEPQtIzdD6GaZ0McoIgCIKSE4ZeEPQgJPUFjiTNlzVpGsWZ0aA4CIIg6Iww9IKgByHpUuBN2hsm7wcMsb1PPlVBEARBWQlDLwh6EJIm2R6xpHVBEARBANCUW0AQBG+LhyRtU1mQtDVwZ0Y9QRAEQYkJj14Q9CAkTSE1bX2+WLUGMIXUXy+atwZBEAQdCEMvCHoQktbs6nXbz9VLSxAEQVB+wtALgiAIgiBYTokcvSAIgiAIguWUMPSCIAiCIAiWU8LQC4IgCIIgWE4JQy8IgiAIgmA5JQy9IAiCIAiC5ZT/D8Ly2VPcVQm/AAAAAElFTkSuQmCC",
      "text/plain": [
       "<Figure size 720x576 with 2 Axes>"
      ]
     },
     "metadata": {
      "needs_background": "light"
     },
     "output_type": "display_data"
    }
   ],
   "source": [
    "# Select only numeric columns for correlation\n",
    "numeric_df = df.select_dtypes(include='number')\n",
    "\n",
    "# Plot correlation heatmap\n",
    "plt.figure(figsize=(10, 8))\n",
    "sns.heatmap(numeric_df.corr(), annot=True, cmap='coolwarm', fmt=\".2f\")\n",
    "plt.title('Correlation Between Numeric Features')\n",
    "plt.show()"
   ]
  },
  {
   "cell_type": "markdown",
   "metadata": {},
   "source": [
    "### Correlation Heatmap Interpretation\n",
    "This heatmap visualizes the correlation between various numeric features in the movie dataset. Key findings include:\n",
    "\n",
    "#### Revenue Relationships\n",
    "Domestic Gross & Worldwide Gross: Very strong correlation (0.94), indicating domestic revenue heavily contributes to global earnings.\n",
    "\n",
    "Foreign Gross & Worldwide Gross: Also strongly correlated (0.90), meaning both domestic and foreign markets are crucial for total revenue.\n",
    "\n",
    "Production Budget is moderately correlated with both:\n",
    "\n",
    "Domestic Gross: 0.70\n",
    "\n",
    "Worldwide Gross: 0.75\n",
    "Suggesting higher budgets often lead to higher returns, but not always proportionally.\n",
    "\n",
    "#### Popularity and Voting Patterns\n",
    "Popularity correlates:\n",
    "\n",
    "Strongly with Vote Count (0.68)\n",
    "\n",
    "Moderately with Domestic/Foreign Gross and Worldwide Gross (~0.58-0.60)\n",
    "This implies that popular films tend to earn more and receive more audience engagement.\n",
    "\n",
    "Vote Count is also correlated with:\n",
    "\n",
    "Worldwide Gross (0.74)\n",
    "\n",
    "Production Budget (0.63)\n",
    "\n",
    "Domestic Gross (0.75)\n",
    "Suggesting that commercially successful movies receive more votes.\n",
    "\n",
    "#### IMDb Ratings\n",
    "Surprisingly, IMDb Rating has very weak correlations with:\n",
    "\n",
    "Gross Revenue (all < 0.10)\n",
    "\n",
    "Vote Count and Popularity\n",
    "This suggests audience ratings are relatively independent of commercial success.\n",
    "\n",
    "#### Other Observations\n",
    "Runtime has weak to moderate positive correlations with:\n",
    "\n",
    "Vote Count (0.20)\n",
    "\n",
    "Production Budget (0.30)\n",
    "But minimal correlation with revenues or ratings.\n",
    "\n",
    "TMDb ID and Year show no meaningful correlations and likely serve as identifiers or time markers rather than predictors."
   ]
  },
  {
   "cell_type": "markdown",
   "metadata": {},
   "source": [
    "# Summary\n",
    "\n",
    "At this point, we’ve:\n",
    "\n",
    "- Loaded and explored the dataset\n",
    "\n",
    "- Identified and visualized missing data\n",
    "\n",
    "- Cleaned financial fields\n",
    "\n",
    "- Removed duplicates\n",
    "\n",
    "- Explored correlations"
   ]
  },
  {
   "cell_type": "markdown",
   "metadata": {},
   "source": [
    "### Step 8: Visual Analysis by Genre\n",
    "\n",
    "We'll explore how genres are distributed and which genres are most common in the dataset."
   ]
  },
  {
   "cell_type": "code",
   "execution_count": 40,
   "metadata": {},
   "outputs": [
    {
     "data": {
      "image/png": "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",
      "text/plain": [
       "<Figure size 864x432 with 1 Axes>"
      ]
     },
     "metadata": {
      "needs_background": "light"
     },
     "output_type": "display_data"
    }
   ],
   "source": [
    "# Step 8: Visual Analysis by Genre\n",
    "# We'll explore how genres are distributed and which genres are most common in the dataset.\n",
    "\n",
    "# Count the top 15 genres\n",
    "top_genres = df['genres'].dropna().str.split(',').explode().value_counts().head(15)\n",
    "\n",
    "# Plot the genre distribution\n",
    "plt.figure(figsize=(12, 6))\n",
    "sns.barplot(x=top_genres.values, y=top_genres.index, palette='viridis')  # Removed 'legend=False'\n",
    "plt.title('Top 15 Most Common Genres')\n",
    "plt.xlabel('Number of Movies')\n",
    "plt.ylabel('Genre')\n",
    "plt.tight_layout()\n",
    "plt.show()\n"
   ]
  },
  {
   "cell_type": "markdown",
   "metadata": {},
   "source": [
    "### Top 15 Most Common Movie Genres\n",
    "This bar chart displays the 15 most frequently occurring movie genres in the dataset. The number of movies per genre is shown on the x-axis.\n",
    "\n",
    "#### Key Observations:\n",
    "- Documentary is the most common genre, with nearly 50,000 movies, indicating high production volume, possibly due to lower budget requirements and educational demand.\n",
    "\n",
    "- Drama follows closely, with over 40,000 entries, suggesting it’s a highly favored storytelling format in film production.\n",
    "\n",
    "- Comedy ranks third, with more than 20,000 movies, reflecting its broad audience appeal.\n",
    "\n",
    "- Thriller, Horror, Action, and Romance form a mid-tier group with between 8,000–12,000 movies each, showing consistent but slightly lower popularity.\n",
    "\n",
    "- Genres like Biography, Crime, Adventure, and History have moderate representation, ranging between 5,000–8,000 movies.\n",
    "\n",
    "- Family, Mystery, Music, and Fantasy are the least represented among the top 15 but still significant, each with several thousand entries.\n",
    "\n",
    "#### Implications:\n",
    "- Content creators and studios may prioritize genres like Drama, Comedy, and Documentary due to high audience interest or lower production barriers.\n",
    "\n",
    "- Niche genres such as Music and Fantasy, while less common, may offer unique storytelling opportunities and face less competition."
   ]
  },
  {
   "cell_type": "markdown",
   "metadata": {},
   "source": [
    "### Step 9: Studio Output"
   ]
  },
  {
   "cell_type": "code",=
   "execution_count": 41,
   "metadata": {},
   "outputs": [
    {
     "data": {
      "image/png": "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",
      "text/plain": [
       "<Figure size 864x432 with 1 Axes>"
      ]
     },
     "metadata": {
      "needs_background": "light"
     },
     "output_type": "display_data"
    }
   ],
   "source": [
    "# Step 9: Studio Output\n",
    "\n",
    "# Get the top 10 studios by number of movies\n",
    "top_studios = df['studio'].value_counts().head(10).reset_index()\n",
    "top_studios.columns = ['studio', 'count']\n",
    "\n",
    "# Plot with 'studio' as hue to avoid future warning\n",
    "plt.figure(figsize=(12, 6))\n",
    "sns.barplot(data=top_studios, x='count', y='studio', hue='studio', palette='Set2', dodge=False)\n",
    "plt.title('Top 10 Movie Studios by Number of Movies')\n",
    "plt.xlabel('Number of Movies')\n",
    "plt.ylabel('Studio')\n",
    "plt.legend([],[], frameon=False)  # Hide the legend\n",
    "plt.tight_layout()\n",
    "plt.show()"
   ]
  },
  {
   "cell_type": "markdown",
   "metadata": {},
   "source": [
    "### Top 10 Movie Studios by Number of Movies\n",
    "This bar chart showcases the 10 studios with the highest number of movies in the dataset. It provides insight into studio-level production volume.\n",
    "\n",
    "#### Key Observations:\n",
    "- Universal Pictures leads with 35+ movies, making it the most prolific studio in this dataset.\n",
    "\n",
    "- Paramount Pictures and 20th Century Fox follow closely, each producing over 25 movies, highlighting their longstanding industry presence.\n",
    "\n",
    "- Sony Pictures Classics, Warner Bros. Pictures, and Sony Pictures also show strong representation, each contributing 15–22 movies.\n",
    "\n",
    "- Columbia Pictures and New Line Cinema are in the 10–12 movie range, reflecting moderate but notable output.\n",
    "\n",
    "- IFC Films and Miramax Films, known for more independent or niche content, round out the top 10 with under 10 movies each.\n",
    "\n",
    "#### Implications:\n",
    "- Major studios like Universal, Paramount, and Fox dominate the dataset, aligning with their market influence and financial resources.\n",
    "\n",
    "- A diverse mix of traditional studios and indie-oriented labels (e.g., IFC, Miramax) signals varied content types and target audiences.\n",
    "\n",
    "- Analyzing production volume alongside revenue or ratings could help identify efficiency or quality leaders"
   ]
  },
  {
   "cell_type": "markdown",
   "metadata": {},
   "source": [
    "### Step 10: Trend by Release Year\n",
    "\n",
    "We'll analyze how many movies are released each year."
   ]
  },
  {
   "cell_type": "code",
   "execution_count": 42,
   "metadata": {},
   "outputs": [
    {
     "data": {
      "image/png": "iVBORw0KGgoAAAANSUhEUgAAA+gAAAGoCAYAAADVZM+hAAAAOXRFWHRTb2Z0d2FyZQBNYXRwbG90bGliIHZlcnNpb24zLjMuMSwgaHR0cHM6Ly9tYXRwbG90bGliLm9yZy/d3fzzAAAACXBIWXMAAAsTAAALEwEAmpwYAAA9IElEQVR4nO3deZhkd13v8fe3qnqZfZLMJGSbGZYAhi1gQERu2EQBgSCXaFAwQARREFBAgl4ExAheEQURJYoQrmxBQcImQiBEdkIISwJIICsTJslkJrP3UvW9f5xT3TU93T09k6rq01Pv1/PUU1WnzvKrOl0z9Tm/LTITSZIkSZK0uGqLXQBJkiRJkmRAlyRJkiSpEgzokiRJkiRVgAFdkiRJkqQKMKBLkiRJklQBBnRJkiRJkirAgC5JOuJExLsi4s8X6dgREe+MiG0R8bVFKsMnI+KcxTj2bBbzfMwmIp4VEV9Y7HJIkjSTAV2S1HMRcV1EbImIFR3LfjsiLl3EYvXKw4HHAidl5kNmvliGw4yIN81Y/pRy+bvubAEy8/GZeeGd3U+niLg0IvZFxK6IuC0iPhQRx3fzGEe6iDiu/OweOWP5OyPifYtTKklSlRjQJUn90gBevNiFOFQRUT/ETTYC12Xm7nnW+RHw6xHR6Fj2W8D/HGr5+uyFmbkSuAewEnjjIpen0macXzJzC/AHwD9FxLJynccAvwK8qIvHPdS/WUlSRRjQJUn98lfAyyJi7cwXImJTWXvc6Fh2aUT8dvn4WRHxxYj4m4jYHhE/joiHlctvjIhbZmnSvS4iPh0ROyPi8xGxsWPf9y5fuz0ifhARv9bx2rsi4h8i4hMRsRt41CzlPSEiLi63vyYinlsuPxf4Z+Dny5rm187xWfwU+A7wy+V2RwMPAy6ecZwnR8RV5Xu+NCJ+plx+XkT824x13xwRb5n52ZXPnxMR3yub3X+q/VmUzfH/pvz87oiIb0fEfeco85TM3A78B3DaQj7TWT6/J0bEleX7+lJE3L/jtfMi4kflebs6In6147V7lOfyjrIm+gMLOX5EHFOerx1RdDu4+zxla/8tPi8iNkfEzRHx0o7Xax1l3BoRF5Xnr3PbcyPiBuCzs3x2/w/4AfBnZUh/O0U43zrXfst9fzAiflq+98si4j4drx30b1aStDQY0CVJ/XI5cCnwssPc/ueAbwPHAO8F3g88mKI29xnAWyNiZcf6vwm8DlgHXAm8ByCKZvafLvdxLPB04G2dgQf4DeB8YBUwW1/l9wE3AScATwP+IiIek5nvAJ4PfDkzV2bmq+d5P++mqDUHOBv4CDDWfjEi7lke5yXAeuATwEcjYrhc/oSIWF2uWwd+rXxP+4mIpwB/DDy13M9/l9sD/BJwBnBPYC3w68DWecrc3ucx5f6uKZ8v5DNtb/sg4F+A36E4l28HLo6IkXKVHwH/C1gDvBb415huSv864L+Ao4CTgL9b4PH/HtgHHA88p7wdzKOAUyg+o/Mi4hfL5S8CngI8guL8byv33+kRwM9QXoCZxfPLMrwf+G5mvn8B+/1kWZ5jgSso/547HOxvVpK0BBjQJUn99KfA70fE+sPY9trMfGdmNoEPACcDf5aZY5n5X8A4RVhv+3hmXpaZY8CfUNRqnww8kaIJ+jszczIzrwD+nSJot30kM7+Yma3M3NdZiHIfDwdekZn7MvNKilrzZx7i+/kw8MiIWEMR1N894/VfL9/DpzNzgqI5+TLgYZl5PUVIe0q57qOBPZn5lVmO8zvA6zPze5k5CfwFcFpZiz5BEejuDUS5zs3zlPktEXEHcBvFhY/fL5cv5DNtey7w9sz8amY2y77yY8BDATLzg5m5ufzsPwD8EGj35Z+g6EJwQvnZt4PonMcvL178b+BPM3N3Zn4XWEj//NeW638HeCdF6G9/nn+SmTeVf1uvKY/T2Zz9NeW2e2fbcWbeRPFd+EXgdxey38z8l8zc2fHaA8q/nbY5/2YlSUuHAV2S1DdlOPoYcN5hbL6l4/Hecn8zl3XWoN/YcdxdwO0UNZMbgZ8rm1dvj4jtFLXtd5lt21mcANyemTs7ll0PnLjwtwJlePs48H+AdZn5xVmOc33H+q2yXO3jvJfp0PgbzFJ7XtoIvLnjvd4OBHBiZn4WeCtFTe2WiLigXSs/hxdl5hrg/kzXYrePcbDPtLM8L52x7snl+yUifquj+ft24L4UFwMA/qgs+9eiaPr/nI59znX89RTjH3Se0+s5uJnrn9BxrA93HOd7QBM4bo5t53IVsK3jgsic+42IekS8oWz+vgO4rtxmXcf+FnJMSVLFNQ6+iiRJXfVqitrfv+5Y1h5QbTmwo3w8W7g7FCe3H5RN348GNlMEmc9n5mPn2TbneW0zcHRErOoI6RuAnxxGGd9N0U95tr7qm4H7tZ9ERFC8p/ZxPgj8dUScBPwq8PNzHONG4PzMnNkkGoDMfAtFzfixwEXAy4FXzVfozPxOFNOm/X3ZZH0hn+nM8pw/84WyVv+fgMdQdBNoRsSVFKGczPwpRQ08EfFw4DMRcdl8xy9r0CcpPrvvl4s3LKCcM9ff3FH+58xyQYWI2FQ+nO/vZy7z7feZwJkUNe7XUTT/30b5udyJY0qSKsYadElSX2XmNRRN1F/UsexWiuD5jLK28DnMM5DXAj0hIh5e9tl+HfDVzLyRogb/nhHxzIgYKm8PjnIAtgWU/0bgS8DrI2I0igHOzuXAPsEL8XmKKdn+bpbXLgJ+JSIeExFDwEspmoJ/qSzHrRR9+t9J0fz/e3Mc4x+BV7b7Y0fEmog4q3z84Ij4uXL/uyn6aTcXWPYLKfpDP5lD+0z/CXh+edyIiBUR8SsRsQpYQRE0by3L92yKGnTK52eVFySgCKhZlnfO45ddIj4EvCYilkfEqcBC5oh/Vbn+fYBnU/zNQvF5nh/TA+2tj4gzF/iZzWe+/a6iOPdbKS5i/UUXjidJqiADuiRpMfwZRRjr9FyK2tutwH0og+id8F6K2vrbgZ+laPJMWev9SxQDs22mGFH9L4GR2Xczq6cDm8rtPwy8OjM/fagFzMIlmXn7LK/9gGLwu7+j6PP9JOBJmTnesdp7KWpV52reTmZ+mOL9vb9sHv1d4PHly6spAvM2imbcW1ng1GllOd4CvOpQPtPMvJziXL+1PO41wLPK166maFnxZYouDfcDOmuUHwx8NSJ2UYx4/+LMvHYBx38hRfeHnwLvoriocTCfL8t2CfDGcpwDgDeXx/6viNgJfIViAMM7a779vpvi/PwEuLp8TZJ0BIpMW0RJkiTBVDP1a4GhclA9SZL6xhp0SZIkSZIqwIAuSZIkSVIF2MRdkiRJkqQKsAZdkiRJkqQKWNLzoK9bty43bdq02MWQJEmSJGnBvvGNb9yWmetnLl/SAX3Tpk1cfvnli10MSZIkSZIWLCKun225TdwlSZIkSaoAA7okSZIkSRVgQJckSZIkqQIM6JIkSZIkVYABXZIkSZKkCjCgS5IkSZJUAQZ0SZIkSZIqwIAuSZIkSVIFGNAlSZIkSaoAA7okSZIkSRVgQJckSZIkqQIM6JIkSZIkVYABXZIkSZKkCjCgS5IkSZJUAQZ0SZIkSZIqwIAuSZIkSVIFGNAlSZL6ZMPGTUREX28bNm5a7LctSVqgxmIXQJIkaVDceMP1XLZ5V1+PecYJK/t6PEnS4bMGXZIkSZKkCjCgS5IkSZJUAQZ0SZIkSZIqwIAuSZIkSVIFGNAlSZIkSaoAA7okSZIkSRVgQJckSZIkqQIM6JIkSZIkVYABXZIkSTpEGzZuIiL6etuwcdNiv21JPdZY7AJIkiRJS82NN1zPZZt39fWYZ5ywsq/Hk9R/1qBLkiRJklQBBnRJkiRJkirAgC5JkiRJUgUY0CVJkiRJqgADuiRJkiRJFWBAlyRJkiSpAgzokiRJkiRVgAFdkiRJkqQKMKBLkiRJklQBBnRJkiRJkirAgC5JkiRJUgUY0CVJkiRJqgADuiRJkiRJFWBAlyRJkiSpAgzokiRJkiRVgAFdkiRJkqQKMKBLkiRJklQBBnRJkiRJkirAgC5JkiRJUgUY0CVJkiRJqgADuiRJkiRJFWBAlyRJkiSpAgzokiRJkiRVQM8DekTUI+KbEfGx8vnREfHpiPhheX9Ux7qvjIhrIuIHEfHLvS6bJEmSJElV0Y8a9BcD3+t4fh5wSWaeAlxSPiciTgXOBu4DPA54W0TU+1A+SZIkSZIWXU8DekScBPwK8M8di88ELiwfXwg8pWP5+zNzLDOvBa4BHtLL8kmSJEmSVBW9rkH/W+CPgFbHsuMy82aA8v7YcvmJwI0d691ULttPRDwvIi6PiMtvvfXWnhRaUv9t2LiJiOjrbcPGTYv9tiVJkqQpjV7tOCKeCNySmd+IiEcuZJNZluUBCzIvAC4AOP300w94XYNlw8ZN3HjD9X095skbNnLD9df19ZiD4MYbrueyzbv6eswzTljZ1+NJkiRJ8+lZQAd+AXhyRDwBGAVWR8S/Alsi4vjMvDkijgduKde/CTi5Y/uTgM09LJ+OAIY6SZIkSUeKnjVxz8xXZuZJmbmJYvC3z2bmM4CLgXPK1c4BPlI+vhg4OyJGIuKuwCnA13pVPkmSJEmSqmQx5kF/A/DYiPgh8NjyOZl5FXARcDXwn8ALMrO5COWTJGngOS6EJEn918sm7lMy81Lg0vLxVuAxc6x3PnB+P8okSZLmZhciSZL6bzFq0CVJkiRJ0gwGdEmSJEmSKsCALkmSJElSBRjQJUmSJEmqAAO6JEmSJEkVYECXJEmSJKkCDOiSJEmSJFWAAV2SJEmSpAowoEuSJEmSVAEGdEmSJEmSKsCALkmSJElSBRjQJUmSJEmqAAO6JEmSJEkVYECXJEmSJKkCDOiSJEmSJFWAAV2SJEmSpAowoEuSJEmSVAEGdEmSJEmSKsCALkmSJElSBRjQJUmSJEmqAAO6JEmSJEkVYECXJEmSJKkCDOiSJEmSJFWAAV2SJEmSpAowoEuSJEmSVAEGdEmSJEmSKsCALkmSJElSBRjQJUmSJEmqAAO6JEmSJEkVYECXJEmSJKkCDOiSJEmSJFWAAV2SJEmSpAowoEuSJEmSVAEGdElSV23YuImI6Nttw8ZNi/2WJUmSuqKx2AWQJB1Zbrzhei7bvKtvxzvjhJV9O5YkSVIvWYMuSZIkSVIFGNAlSZIkSaoAA7okSZIkSRVgQJckSZIkqQIM6JIkSZIkVYABXZIkSZKkCjCgS5IkSZJUAQZ0SZIkSZIqwIAuSZIkSVIFGNAlSZIkSaoAA7okSZIkSRVgQJckSZIkqQIM6JIkSZIkVYABXZIkSZKkCjCgS5IkSZJUAQb0PtmwcRMR0dfbho2bFvttS5IkSZIWqLHYBRgUN95wPZdt3tXXY55xwsq+Hk+SJEmSdPisQZckSZIkqQIM6JIkSZIkVYABXZIkSZKkCjCgS5IkSZJUAQZ0SZIkSQPL2ZZUJY7iLkmSJGlgOduSqsQadEmSJEmSKsCALkmSJElSBRjQJUmSJEmqAAO6JEmSJEkVYECXJEmSJKkCDOiSJEmSJFWAAV2SJEmSpAowoEuSJEmSumrDxk1ERF9vGzZuWuy3fac1FrsAkiRJkqQjy403XM9lm3f19ZhnnLCyr8frBWvQJUmSJEmqgJ4F9IgYjYivRcS3IuKqiHhtufzoiPh0RPywvD+qY5tXRsQ1EfGDiPjlXpVNkiRJkqSq6WUN+hjw6Mx8AHAa8LiIeChwHnBJZp4CXFI+JyJOBc4G7gM8DnhbRNR7WD5JkiRJkiqjZwE9C+1OB0PlLYEzgQvL5RcCTykfnwm8PzPHMvNa4BrgIb0qnyRJkiRJVdLTPugRUY+IK4FbgE9n5leB4zLzZoDy/thy9ROBGzs2v6lcNnOfz4uIyyPi8ltvvbWXxZckSZIkqW96GtAzs5mZpwEnAQ+JiPvOs3rMtotZ9nlBZp6emaevX7++SyWVJEmSJGlx9WUU98zcDlxK0bd8S0QcD1De31KudhNwcsdmJwGb+1E+SZIkSZIWWy9HcV8fEWvLx8uAXwS+D1wMnFOudg7wkfLxxcDZETESEXcFTgG+1qvySZIkSZJUJY0e7vt44MJyJPYacFFmfiwivgxcFBHnAjcAZwFk5lURcRFwNTAJvCAzmz0snyRJkiRJlXFIAT0iasDKzNxxsHUz89vAA2dZvhV4zBzbnA+cfyhlkiRJkiTpSHDQJu4R8d6IWB0RKyhqt38QES/vfdEkSZIkSRocC+mDfmpZY/4U4BPABuCZvSyUJEmSJEmDZiEBfSgihigC+kcyc4JZpj+TJEmSJEmHbyEB/e3AdcAK4LKI2AgctA+6JEmSJElauIMOEpeZbwHe0rHo+oh4VO+KJEmSJEnS4FnIIHHHRcQ7IuKT5fNTmZ7HXJIkSZIkdcFCmri/C/gUcEL5/H+Al/SoPJIkSZIkDaSFBPR1mXkR0ALIzEmg2dNSSZIkSZI0YBYS0HdHxDGUI7dHxEOBO3paKkmSJEmSBsxBB4kD/hC4GLh7RHwRWA88raelkiRJkiRpwCxkFPcrIuIRwL2AAH5QzoUuSZIkSZK6ZM6AHhGPzszPRsRTZ7x0z4ggMz/U47JJkiRJkjQw5qtBfwTwWeBJs7yWgAFdkiRJkqQumTOgZ+ary4e/nZmO2i5JkiRJUg8tZBT3ayPigoh4TEREz0skSZIkSdIAWkhAvxfwGeAFFGH9rRHx8N4WS5IkSZKkwXLQgJ6ZezPzosx8KvBAYDXw+Z6XTJIkSZKkAbKQGnQi4hER8TbgCmAU+LWelkqSJEmSpAFz0HnQI+Ja4ErgIuDlmbm714WSJEmSJGnQHDSgAw/IzB09L4kkSZIkSQNsIU3cV0fEhyPilojYEhH/HhEn9bxkkiRJkiQNkIUE9HcCFwMnACcCHy2XSZIkSZKkLllIQF+fme/MzMny9i5gfY/LJUmSJEnSQFlIQL8tIp4REfXy9gxga68LJkmSJEnSIFlIQH8OxbRqPwVuBp5WLpMkSZIkSV1y0FHcM/MG4Ml9KIskSZIkSQNrzoAeEW+Zb8PMfFH3iyNJkiRJ0mCarwb9+cB3gYuAzUD0pUSSJEmSJA2g+QL68cBZwK8Dk8AHgH/PzG39KJgkSZIkSYNkzkHiMnNrZv5jZj4KeBawFrgqIp7Zp7JJkiRJkjQwDjpIXEQ8CHg68Fjgk8A3el0oSZIkSZIGzXyDxL0WeCLwPeD9wCszc7JfBZMkSZIkaZDMV4P+KuDHwAPK219EBBSDxWVm3r/3xZMkSZIkaTDMF9Dv2rdSSJIkSZI04OYM6Jl5fT8LIkmSJEnSIJtzFHdJkiRJktQ/BnRJkiRJkipgzoAeEZeU93/Zv+JIkiRJkjSY5hsk7viIeATw5Ih4P8Xo7VMy84qelkySJEmSpAEyX0D/U+A84CTgTTNeS+DRvSqUJEmSJEmDZr5R3P8N+LeIeFVmvq6PZZIkSZIkaeDMV4MOQGa+LiKeDJxRLro0Mz/W22JJkiRJkjRYDjqKe0S8HngxcHV5e3G5TJIkSZIkdclBa9CBXwFOy8wWQERcCHwTeGUvCyZJkiRJ0iBZ6Dzoazser+lBOSRJkiRJGmgLqUF/PfDNiPgcxVRrZ2DtuSRJkiRJXbWQQeLeFxGXAg+mCOivyMyf9rpgkiRJkiQNkoXUoJOZNwMX97gskiRJkiQNrIX2QZckSZIkST1kQJckSZIkqQLmDegRUYuI7/arMJIkSZIkDap5A3o59/m3ImJDn8ojSZIkSdJAWsggcccDV0XE14Dd7YWZ+eSelUqSJEmSpAGzkID+2p6XQpIkSZKkAbeQedA/HxEbgVMy8zMRsRyo975okiRJkiQNjoOO4h4RzwX+DXh7uehE4D96WCZJkiRJkgbOQqZZewHwC8AOgMz8IXBsLwslSZIkSdKgWUhAH8vM8faTiGgA2bsiSZIkSZI0eBYS0D8fEX8MLIuIxwIfBD7a22JJkiRJkjRYFhLQzwNuBb4D/A7wCeD/9LJQkiRJkiQNmoWM4t6KiAuBr1I0bf9BZtrEXZIkSZKkLjpoQI+IXwH+EfgREMBdI+J3MvOTvS6cJEmSJEmD4qABHfhr4FGZeQ1ARNwd+DhgQJckSZIkqUsW0gf9lnY4L/0YuKVH5ZEkSZIkaSDNWYMeEU8tH14VEZ8ALqLog34W8PU+lE2SJEmSpIExXxP3J3U83gI8onx8K3BUz0okSZIkSdIAmjOgZ+az+1kQSZIkSZIG2UJGcb8r8PvAps71M/PJvSuWJEmSJEmDZSGjuP8H8A7go0BroTuOiJOBdwN3Kbe7IDPfHBFHAx+gCPzXAb+WmdvKbV4JnAs0gRdl5qcWejxJkiRJkpayhQT0fZn5lsPY9yTw0sy8IiJWAd+IiE8DzwIuycw3RMR5wHnAKyLiVOBs4D7ACcBnIuKemdk8jGNLkiRJkrSkLGSatTdHxKsj4ucj4kHt28E2ysybM/OK8vFO4HvAicCZwIXlahcCTykfnwm8PzPHMvNa4BrgIYf2diRJkiRJWpoWUoN+P+CZwKOZbuKe5fMFiYhNwAOBrwLHZebNUIT4iDi2XO1E4Csdm91ULpu5r+cBzwPYsGHDQosgSZIkSVKlLSSg/ypwt8wcP5wDRMRK4N+Bl2TmjoiYc9VZluUBCzIvAC4AOP300w94XZIkSZKkpWghTdy/Baw9nJ1HxBBFOH9PZn6oXLwlIo4vXz8euKVcfhNwcsfmJwGbD+e4kiRJkiQtNQsJ6McB34+IT0XExe3bwTaKoqr8HcD3MvNNHS9dDJxTPj4H+EjH8rMjYqSc2u0U4GsLfSOSJEmSJC1lC2ni/urD3PcvUPRd/05EXFku+2PgDcBFEXEucANwFkBmXhURFwFXU4wA/wJHcJckSZIkDYqDBvTM/Pzh7Dgzv8Ds/coBHjPHNucD5x/O8SRJkiRJWsoOGtAjYifTg7UNA0PA7sxc3cuCSZIkSZI0SBZSg76q83lEPAXnJ5ckSZIkqasWMkjcfjLzPziEOdAlSZIkSdLBLaSJ+1M7ntaA05llfnJJkiRJknT4FjKK+5M6Hk8C1wFn9qQ0kiRJkiQNqIX0QX92PwoiSZIkSdIgmzOgR8SfzrNdZubrelAeSZIkSZIG0nw16LtnWbYCOBc4BjCgS5IkSZLUJXMG9Mz86/bjiFgFvBh4NvB+4K/n2k6SJEmSJB26efugR8TRwB8CvwlcCDwoM7f1o2CSJEmSJA2S+fqg/xXwVOAC4H6ZuatvpZIkSZIkacDU5nntpcAJwP8BNkfEjvK2MyJ29Kd4kiRJkiQNhvn6oM8X3iVJkiRJUhcZwiVJkiRJqgADuiRJkiRJFWBAlyRJkiSpAgzokiRJkiRVgAFdkiRJkqQKMKBLkiRJklQBBnRJkiRJkirAgC5JkiRJUgUY0CVJkiRJqgADuiRJkiRJFWBAlyRJkiSpAgzokiRJkiRVgAFdkiRJkqQKMKBLkiRJklQBBnRJkiRJkirAgC5JkiRJUgUY0CVJkiRJqgADuiRJkiRJFWBAlyRJkiSpAgzokiRJkiRVgAFdkiRJkqQKMKBLkiRJklQBBnRJkiRJkirAgC5JkiRJUgUY0CVJkiRJqgADuiRJkiRJFWBAlyRJkiSpAgzokiRJkiRVgAFdkiRJkqQKMKBLkiRJklQBBnRJkiRJkirAgC5JkiRJUgUY0CVJkiRJqgADuiRJkiRJFWBAlyRJkiSpAgzokiRJkiRVgAFdkiRJkqQKMKBLkiRJklQBBnRJkiRJkirAgC5JkiRJUgUY0CVJkiRJqoDGYhdAkiRJ82u2kvFWMtmCyUyaCZOtpJlJK6GVkEAr84BtH/+SV3PZzbtpRNCoBUM1GK3XGK0Ho41gWfl4pB5ERP/fnCRpigFdkiRpEWUm4y0Ya7bY18ziNpmMNYtQPt4qQvjBBFCbJV8/9Kzn8KWf7l3Q9iP1YFkjWN6osXKouK0amn7cfj5cM8xLUi8Y0CVJkvpgopWc+DMPYMueSfZMttjbEcRbM9YdrgWj9WDlUI3hGgzVguF6lLXg0IigXgvqUYTygDkD8xknrKfVahW17plMtIrjFhcDWuxtP54sLhDsnWyxZzK5bW+T63ZMMDbL1YGhGh2BvT4d4Bs1VgzF1HODvCQdGgO6JElSF7Uy2T7W4pZ9k9y6d5Jb9za5dd8k28ZavPA9n+GaHRPUoKypDo4aqTPaKAJ5u6l5rcuhNiJoBDQIRuuwamjh2443k10TLXZONNk10drvtnOixebdE+yaaDE5Sy1/O8ivKGvklzVqLKsHo42iWf2yRjBan142Ui/K2e1Q38qie0Azs+giUHYVmFrW6uw2MPM+mZxl2VmvfSs/vGO8vDjSbsFQXDSpR1ALaNSK9zNUC4ZqxcWVbp9bSUcWA7okSdJhyEx2T2YRwvc1p8L4bfsm9wurR43UWD/a4NSj6vzuM87mTe96L6NLqL/3cD04ul7n6NH6nOtkFi0Bdk202DVZhPfdnWF+ssWWvZNTNfcHa7Ffi3YrgfK+DLv1MrxnFvvIsu/91D1Fd4D9wnWLgx5vIQJo1Irw3agFd/3Zn2f7WIskp47fHgtgPkO1oivBSNkqYrReY1kjWOY4AJIwoEuSJB3UvskWt+1rctu+ojb81r1FIN/bnI5jKxrB+mUNHrhulPXLGqxfVmfdaIOhjo7hV332YyxrHHmT6EQUA86NNmqsO8i6mclYZzP7dnP/Zoux5v612pNZDJA32RG4EwiKIBtM971vN/MPmAr27VA/dT/bsv3uy5YGtc6LA7PXfMf9juGyzbsOeH+tbF8kKAf1ayUTWXRxmGgW7328meyZTLaNt2hlc3qfMDUGwIpGsKJsfTBcN7RLg8KALkmSVNo32eL2sSa37mty297JMpAXTbvbhmqwbrTBKWuHWT9aBPFjRxssHzrygncvRLSb8y92SXqj1m7eTjBykPeYmUy0YG+zxb7JZG8z2TPZYsd4i9v2TV/8Ga4Fq4aCM855IdfvHOeEFUP7XfiRdOQwoEuSpIGRmeycaLF9rMW28Sbbx4rbtvEW28ea7OuoEW8EHDNaZ+PKoana8HWjddYM12yGrK6ICIbrMFyvs2Z4/9cmW8nuyRa7J4q/2V0TLR7/4lfzvmt2UAs4YXmDDSuH2LBqiBMN7NIRw4AuSZKWrHYN5HjZbHhvc7r/czvcFPdFP+jdE8Vo5m0BrBmusXakzs8cNcLa4RpHjdRZv6zBmuGaA3pp0TRqwZrh/YP7407dwLeuu5kbd01ww64JvrxlL1/astfALh1BDOiSJGnBMouRrJvlSNjtx50DZOUBz9lvIK3pAb06XgOe8sd/xSdu2EkrKW9FX95Wuc/JdhAvw/h4OU/4fINyLW8EKxo1VgzVOHlkiJVDNdaUIXztSJ3VwzXqhnAtEXu238491gxzjzK1jzVb3LRrkhtmBPZ6wMkrh7jb6mHutnqIY0bqtvqQlggDunQQ7R+abY3hESZnmRN2apAa/wOc08y+du0BgZoJD3rir/PTPZPlj/Hih3z7RzrlkEAwPZVNlHP/1ij7+gXUazE16u9QrTdT9UhHksxk72RZwzzZrnVOdk+0eNpr/o6rbh9jorV/IJ85X/ed0Tk9VQCnPvIJXLtjovh+M92Xt7gVA3mN1oPVw8X82sMdI2G3ny+rF2F85VCN5Y3uT1cmVclIvcbd1wxz9xmB/bqd41y7c4LP/mQ3n/0JrB6ucffVw9x11RCbVg076JxUYQZ0DZR2QGyPoDrRcd8eIbbzx2h7qpZOr/vKTbzxW1tn3X9QDOTSqE3PeTpcL0LjUPlDcqQ+41arHbis/LFZ1XDZyvbIu0XI3tu+n2VZe7295eNZrm0AcNafvZUf7Zg4YPl+LfRy+m4hU+a0z8dwnalzMVyb/iF/zMl3o5lp7ZmOaPsmW2wfb7F9vMkdY022j7em78ebB/wbB8X37u4PfjiTrWS4Xoxi3Z7buV5OM1XvuDDWvli23wU0pkfUnn7evtQ2+8WzMx54HzK7MSGWNJhmBvY7xpv8eMc4P94xwVW3j/HN2/ZRCzh5xRB3W13UsK8btXZdqhIDuo44mcl4C/ZOttgzmeydLENis5ijdbaffo0oa1zL4Nb+8Vkrf5DWOn5Uvv0vXs3rX//6A49LOYXK1G3/53vGWoy3ijLMVY5OQTH37Ei9GO12vjDfKMtYn+O+FuzfZJTpCxDtZZMdFy7GO+7Hmq2p5+2wPTZXyi6N1Mrpdsr5XdcvqzFaH2JZe1mjVr4WjNRrNGpwz3vcg4u+8t3yh/7BWyNkR9PXVlmzN5nTU/J09kkdbxUj4+4Yb+03N/HLPvJV3njlVlaXzV3bt7Udzxv24dMSkJncMd5i675iDu7b9jXZuq/J1rEmYzMS+Gg9WDNcY/2yOqesGWbVUG1qKqcVQ0Vz8JF6UHvg+lmnkJK0dKwZrvPAdct44LplNFvJTbsn+PGOCX68Y5zPbd7D5zbvYfVQjbuWYX3jqiFG685GIC0mA7qWrMxkzXEnsG2syZ6OML5nMverEWoEjNSDFY3g6JE6o/WyJnWqNvXQmkF//l1v4eff+eY7XfaiJr81Fdj3vxXL2xcVxsqgvGOiydi+hYf8w9WI6YsD7drmlUM11o3WypBdY7QRLKt3Pq5NhfLDaVK67SfXM3IITe6iXaNXPGs/OKhWTof2V73gufztP/1LMZrzWJOrt40dEGbWDtc4ZrTOMaON4n6kzjGj9SNyHmNVXyuT7WMtbts3WYbxIpDfPtakYxYwVjSCY0YbnFoOerZ2pM6a4eLi06h/u9JAqteCjauG2bhqmEeduIId402u3VmE9e9vG+dbW8cI4MQVjbLv+jDHLbN2Xeq3ngX0iPgX4InALZl533LZ0cAHgE3AdcCvZea28rVXAucCTeBFmfmpXpVNS9OuiRY/3TPJzXsmyvtJzvvkt7h62zhQzEu7vFHU1i5v1FheD5Y1agwdYgDvh85pVVYNHd4+OkN+s0XZHL+4ONGacZ/Jfv04px4z/bhRm+7LeST32axFWbsPfPPjF3HG8R/Y7/W9k8VUS7e3b2UIum7n3v0u/CxvRBnYy+Be3lYPOf2S7rxmK9k21g7gTbaWteK3j+3fJH31UHEB6eSVQ1NTgHkBSdJCrB6u84Bj6jzgmFGamfxk9yTX7hjn2h0TXHbzHi67eQ/LG8FdVw1z19VD3HXVMCuG/LdF6rVe1qC/C3gr8O6OZecBl2TmGyLivPL5KyLiVOBs4D7ACcBnIuKemdnsYflUYXsmizDeDuI/3TPJzrJ6KCjmpb376mHOf8Uf8Md/+SaWN2oDN51IZ8hX9yxr1FjWqHH8iv2vnLSyaCLfDktby/D+/e1j+82bPFSDo0cOrHG3ubxmM9nKoin6jKbp28aa+w3G1m7J0e4v2r4gNGJTVEldUI8opmhbOcQjToDdEy2u3VmE9Wt3jnPVtjEAjl1Wn1pvw8ohW+RIPdCzgJ6Zl0XEphmLzwQeWT6+ELgUeEW5/P2ZOQZcGxHXAA8Bvtyr8qk69jWnw3g7kN8xPv3T9OiRonbo+OUN7rK8wXHLGlOjjz7xA+9gzd/cuebm0kLUIlhbTst0j45JadujYN82Vgb3MmDdtHuCq8sfNFBcWFo7UuOY0QZrh2usHq6zZrjGmuFimqdl9eoOCqg7Z7KV3DHeZPtYMVDb9rEm28ZbbN03yfax1lRXlQCOKi/o3HNtO4gXF3oG7QKkpMW1YqjGfY8e5b5Hj5KZbNlbDDZ3/c4JrrxtH5ffug+YDuwbVw1x8goDu9QN/e6Dflxm3gyQmTdHxLHl8hOBr3Ssd1O57AAR8TzgeQAbNmzoYVHVC+PNZMve6Vrxn+4p+k62rRmucfzyBg9c1+D45Q2OW95wsBJVWkSwfCjYMFRjw8r9a93Hm8ntY9M17lv3FbXu1+8c36+/MBQ176uH66wZKsL78kbRRWP6vuj/P4itRaqqGJAy2T0xPU3Znoni/o7xoqvEHeOtqdY/bY2AtSN1jl3W4NSj6qwrQ/jRtrKQVEERwV3KSpKH3aW46HjznnLu9VkC+4krikqV45cX/7Ydyd3mpF6oyiBxs31zZx3/KjMvAC4AOP30052LpcL2NVvcsqfJlr1FEN+yt6hdbJ+0VUM17rK8wX2PHuEu5T/k9pvUkWS4Pv2jplOW09TdUU5ztaO8v2O8xY7xJj/dO8neybkHAWwPfNieeWConNqvEdPLGrVijIFOnb+RgnK6unLe+VY5VkEri+O2R8jPjtH+i+Udr3c87tzPKz7+Tb5+y96p/U9Ni9fxuHP+6/YsCTFjmq7p12L/5xFTU3bVgCe+7M/53E92F4MG1tozMEQxBVjHtGDt48wsD1PlzKnZGIrpF6dnYhhvTU/LONbMqTnDJ+c4SauGaqwdqbFp1VAxONtIjbXDRQuMFQ1bS0hauhq14OSVQ5y8cohfmCWwt6dzg2Kq0+OW1zl++XRoXzPsWC3SfPod0LdExPFl7fnxwC3l8puAkzvWOwnY3Oey6TBlJrsnky1lCN+yd5IteybZ3tFMfUWjCCr3WjvM8cuHuMvyBisdaEQDKiJYVtaMzwzvbe0Qv2eymFO+837PZDH13WQZICdbyUS5/q6JVrkMOiN+Z47sfFxMaRcd4bccSJB2AI6O5R2DDJbvo3Pb9uNLvv7f3Otuzyjf64Hhu12GqVA8dTGgvTynQnT7tVZ73daMCwMkD3rS2Xzj1r1zhuU7oxEwVF4MGS4vhozUg6NGhsqpyYpWDdPTlBWtHqwxkjQoZgb2zKL12M17Jtm8u6ik+cat0wOtjtaDdaPTrYfa42qscpBVCeh/QL8YOAd4Q3n/kY7l742IN1EMEncK8LU+l00H0Q7inQMZ3VrWiu/tGCRr7XCN45Y3uP8xRX/x4wzj0iHrDPFLzZNf8yJe/Lzn9O14Z5y2nszi36D2zAXNVnmfHfetA2vv4cCLCEO1YKhW3Bu0JenQREQ5fkaD+x5dLGu2klv3Nadm4tk6yyCrw7WYCuxHjUyP07JmpMbKhuFdg6OX06y9j2JAuHURcRPwaopgflFEnAvcAJwFkJlXRcRFwNXAJPACR3BfPGPNFtvGiv6T28eL0YTb8+12/kM6Ug/Wj9a519oRjhmtc9yyBscur9tnXNKiadfw209fkqqjXjuwy1dmsqes+Nk6NaVkMRjd7hlNouoBq9uBvbxfOVSbvpXjtBjidSTo5SjuT5/jpcfMsf75wPm9Ko+mtWvCt421RxMuRxcuH++d8Y/i8kZw9Eide68dKZsk1Vm3rGE/SkmSJB2WiGDFULBiaJiNq/Z/bbyZ7CjHZrljxv0P7xhnzyx9mmoUo8+vLLscrRyqsWIo9gvx7e5IdS/iqsKqMkicuiwzOfqkTfx4x3gRvMeabB+frhXvHFQ4KK5Krh2uc681I8VgRiN1jioHNnKeXUmSJPXLcD1Yt6zBumWzvz7RSnZPtNjVvpUDd7af3zHeZPOeiVmDPMCyRuwX2B/34j/lJ7snpsYaGa4X447Uy4FJpX4yoC9hrSxGE97bTPZNJvuaxSBS+8pRhl9+8de56Ec7gOlpfdaO1Nm0aqgI4CN11pZNhbySKEmSpKVgqBZTv2vn08wiyO+eCvHFYKq7J4sgv3uixe1jEzzs7Ody3c7JA7avUVwsGCkD+0h9+tZ+7vSY6jYD+hIwNdfuZJZz7E6P6Nx5XbAexciYK4ZqrBsN/vblv8eH3nMhRzm4hiRJkgZMPYLVw3VWD88f5COO4bM37WR8aprNLB/DeKuo+LpjvJhB5cBjlCF+RoAfrQcj9RrDNWvhdWgM6BWTWdSI7xwvrvTtmSjm2+0Ym42RWrB8KDhqpM7yRvEPwLJGjcaMZjjfuPh9bFj53kV4F5IkSdLS0agVteFzzH4KTFeajZWtVTsfjzWL3+yd3Uih6Eq6f2gv7jfc/8HsnGhaiaYDGNAXWSuz7CvTYsd40dym3V2mHrC8UWP9aJ3lHfPt2pRGkiRJ6q+Idg353Ou0u6C2u5xO37e4fWw6wP/uuz7B3393G/Vgv9Hp1wzXWNMxzZyDMg8eA3qftWvIt421R6Rs0W4ts7xRzP+4aqjGquEay+p+ISVJkqSlohbBskawbI6U1SwD/IvO/lXe9x8f3W+E+i13jB0wsF2jM8CP7B/kVzoq/RHJgN4HzUzu9uCHc+2OcW4fa03NJb6sHhy7rD71JXPeXkmSJOnIVY9geSP4ny9dwoPWHzhMfXuKue0zp5gba3HznjH2Ng/sB985Kv3MKeVGO7rDtpvY16wArDQDeh98/Za9PPftH+bmPU3WDNc4YUWDo0ZqjDp9mSRJkqTSwaaYG2vu3zV25qj0N+ybOGD8qpna/eDbA9kN1YqR8YdrwVA9ph+Xt0at6KM/FNOPG7H/a8VzB8TrBgN6H9x77Qjnnv00/v5fL7IJiiRJkqTDMlKvceyyGsfOEeCh6FK7r1nM+rSvmeU0zC32TSZ7m8Wy9uPxZrJrIploMTV6/UQrmWXA+gWpRzuww8sv/jpX3LaPOlBvh/2YHpBvqAaNMvS355+vG/AN6P2wdqTO1Zd+0nAuSZIkqadiqh/84bfWbbamp5ubbMFkJpPlss7nky2Y6Hg82cqp51/41tc45e53o5UwmRSDYbeSyXnCfyOKGv7herCso2n+ssbgTFlnQJckSZIkTanXgnotGL0T+3jCq17AC88954DlmUkz22GeqeA/1izmoR9rzz0/1qJFc7pMASsaNVYMxdQAecuPwFHuDeiSJEmSpL6ImG7qPt8FgPa883sni1mw9pT97bfsbXHzniK41wNWlzNgrR6u0Ri5M5cUqsGALkmSJEmqlM5559d2LG9PW71rohgsb8dEi227JgG43y8+eVHK2k0GdEmSJEnSkhDlVHXLG9OD5U20kp3jLX745c8tbuG6wHm+JEmSJElL1lAtOHq0zq7bb13sotxpBnRJkiRJkirAgC5JkiRJUgUY0CVJkiRJqgADuiRJkiRJFWBAlyRJkiSpAgzokiRJkiRVgAFdkiRJkqQKMKBLkiRJklQBBnRJkiRJkirAgC5JkiRJUgUY0CVJkiRJqgADuiRJkiRJFWBAlyRJkiSpAgzokiRJkiRVgAFdkiRJkqQKMKBLkiRJklQBBnRJkiRJkirAgC5JkiRJUgUY0CVJkiRJqgADuiRJkiRJFWBAlyRJkiSpAgzokiRJkiRVgAFdkiRJkqQKMKBLkiRJklQBBnRJkiRJkirAgC5JkiRJUgUY0CVJkiRJqgADuiRJkiRJFWBAlyRJkiSpAgzokiRJkiRVgAFdkiRJkqQKMKBLkiRJklQBBnRJkiRJkirAgC5JkiRJUgUY0CVJkiRJqgADuiRJkiRJFWBAlyRJkiSpAgzokiRJkiRVgAFdkiRJkqQKMKBLkiRJklQBBnRJkiRJkirAgC5JkiRJUgUY0CVJkiRJqgADuiRJkiRJFWBAlyRJkiSpAgzokiRJkiRVgAFdkiRJkqQKMKBLkiRJklQBBnRJkiRJkirAgC5JkiRJUgUY0CVJkiRJqgADuiRJkiRJFWBAlyRJkiSpAioX0CPicRHxg4i4JiLOW+zySJIkSZLUD5UK6BFRB/4eeDxwKvD0iDh1cUslSZIkSVLvVSqgAw8BrsnMH2fmOPB+4MxFLpMkSZIkST0XmbnYZZgSEU8DHpeZv10+fybwc5n5wo51ngc8r3x6L+AHfS/o4VkH3LbYhdCCeb6WDs/V0uL5Wjo8V0uL52tp8XwtHZ6rpWUpna+Nmbl+5sLGYpRkHjHLsv2uIGTmBcAF/SlO90TE5Zl5+mKXQwvj+Vo6PFdLi+dr6fBcLS2er6XF87V0eK6WliPhfFWtiftNwMkdz08CNi9SWSRJkiRJ6puqBfSvA6dExF0jYhg4G7h4kcskSZIkSVLPVaqJe2ZORsQLgU8BdeBfMvOqRS5Wtyy5ZvkDzvO1dHiulhbP19LhuVpaPF9Li+dr6fBcLS1L/nxVapA4SZIkSZIGVdWauEuSJEmSNJAM6JIkSZIkVYAB/TBFxMkR8bmI+F5EXBURLy6XHx0Rn46IH5b3R5XLjynX3xURb52xr5+NiO9ExDUR8ZaImG26Od0JXT5f50fEjRGxazHey5GuW+cqIpZHxMcj4vvlft6wWO/pSNbl79Z/RsS3yv38Y0TUF+M9Ham6ea469nlxRHy3n+9jUHT5u3VpRPwgIq4sb8cuxns6knX5fA1HxAUR8T/l/2H/ezHe05Gqi78zVnV8p66MiNsi4m8X6W0dsbr83Xp6FJnr2+VvjnWL8Z4OxoB++CaBl2bmzwAPBV4QEacC5wGXZOYpwCXlc4B9wKuAl82yr38AngecUt4e1+OyD6Junq+PAg/pfZEHVjfP1Rsz897AA4FfiIjH97z0g6eb5+vXMvMBwH2B9cBZvS78gOnmuSIingp4obJ3unq+gN/MzNPK2y09Lvsg6ub5+hPglsy8J3Aq8PleF37AdOVcZebOju/UacD1wIf69B4GSVfOV0Q0gDcDj8rM+wPfBl7Yn7dwaAzohykzb87MK8rHO4HvAScCZwIXlqtdCDylXGd3Zn6B4o9mSkQcD6zOzC9nMWLfu9vbqHu6db7K176SmTf3o9yDqFvnKjP3ZObnysfjwBXASf14D4Oky9+tHeXDBjAMOIppF3XzXEXESuAPgT/vfckHUzfPl3qvy+frOcDry/VamXlbb0s/WHrx3YqIU4Bjgf/uXckHUxfPV5S3FRERwGpgc8/fwGEwoHdBRGyiqKH7KnBcO7yV9wdrRnYicFPH85vKZeqRO3m+1EfdOlcRsRZ4EsUVVvVIN85XRHwKuAXYCfxbb0qqLpyr1wF/DezpVRk1rUv/Fr6zbIb7qvLHqXrkzpyv8v8rgNdFxBUR8cGIOK6HxR1oXfxN+HTgA+n0WD11Z85XZk4Avwt8hyKYnwq8o5flPVwG9DuprEX4d+AlHbU/h7SLWZb55e6RLpwv9Um3zlXZpOl9wFsy88fdKp/2163zlZm/DBwPjACP7lLx1OHOnquIOA24R2Z+uNtl04G69N36zcy8H/C/ytszu1U+7a8L56tB0drri5n5IODLwBu7WESVuvyb8GyK3xrqkS783zVEEdAfCJxA0cT9lV0tZJcY0O+E8kT/O/CezGz3OdlSNltvN18/WD+vm9i/2e1JVLS5xVLXpfOlPujyuboA+GFm/m3XCyqg+9+tzNwHXEzRfE1d1KVz9fPAz0bEdcAXgHtGxKW9KfFg69Z3KzN/Ut7vBN6L46j0RJfO11aKlintC2AfBB7Ug+IOtG7+vxURDwAamfmNnhRW3TpfpwFk5o/Klg4XAQ/rTYnvHAP6YSqbh70D+F5mvqnjpYuBc8rH5wAfmW8/ZZOMnRHx0HKfv3WwbXTounW+1HvdPFcR8efAGuAlXS6mSt06XxGxsuM/2gbwBOD73S/x4Ori/1v/kJknZOYm4OHA/2TmI7tf4sHWxe9Woz1Scfkj94mAI+93WRe/X0kxGO0jy0WPAa7uamEHXA9+Ez4da897povn6yfAqRGxvnz+WIr+7JUTdpU4PBHxcIqBIL4DtMrFf0zRJ+IiYANwA3BWZt5ebnMdxYAEw8B24Jcy8+qIOB14F7AM+CTw+/Zh6a4un6//C/wGRfOYzcA/Z+Zr+vVejnTdOlfADuBGipA3Vu7nrZn5z/14H4Oii+drK/AxiqbtdeCzwB9k5mSf3soRr5v/DnbscxPwscy8b1/exADp4nfreuAyYIjiu/UZ4A8zs9mntzIQuvw7YyPw/4C1wK3AszPzhn69lyNdt/8tjIgfA0/ITC8q90CXv1vPB14MTFD82/iszNzatzezQAZ0SZIkSZIqwCbukiRJkiRVgAFdkiRJkqQKMKBLkiRJklQBBnRJkiRJkirAgC5JkiRJUgUY0CVJqrCIaEbElRHx3Yj4aESsPcj6r4mIl/WpeO1jvjcifrfj+c9FxLfLOe0lSdICGdAlSaq2vZl5WjnX+O3ACxa7QLP4A+DlEbE+ImrAW4HfO9x57KPgbxRJ0sDxPz9JkpaOLwMnAkTE3SPiPyPiGxHx3xFx75krz7VORDwpIr4aEd+MiM9ExHHl8keUtfVXlq+tKpe/PCK+XtaKv3bmcTJzC/BG4P8Czwe+DXw5Iv6qY7vfKfe1MiIuiYgrIuI7EXFmuXxTRHwvIt4GXAGc3P2PT5KkarPpmSRJS0BE1IHHAO8oF10APD8zfxgRPwe8DXj0jM3mWucLwEMzMyPit4E/Al4KvAx4QWZ+MSJWAvsi4peAU4CHAAFcHBFnZOZlM471j8A5wCOB04FzgTsy88ERMQJ8MSL+C7gR+NXM3BER64CvRMTF5T7uBTw7M3/vzn5ekiQtRQZ0SZKqbVlEXAlsAr4BfLoMzw8DPhgR7fVGOjc6yDonAR+IiOOBYeDacvkXgTdFxHuAD2XmTWVA/yXgm+U6KykC+34BPTNbEfF24PTM3Fpud/+IeFq5yppyu5uAv4iIM4AWRYuA48p1rs/Mrxzi5yNJ0hHDgC5JUrXtzczTImIN8DGKPujvArZn5mnzbFebZ52/A96UmRdHxCOB1wBk5hsi4uPAEyhqtn+Rotb89Zn59gWUtVXeKLf7/cz8VOcKEfEsYD3ws5k5ERHXAaPly7sXcAxJko5Y9kGXJGkJyMw7gBdRNEPfC1wbEWfB1KBqD5ix/o551lkD/KR8fE57m4i4e2Z+JzP/ErgcuDfwKeA5ZY08EXFiRBy7gCJ/CvjdiBgqt7tnRKwoj31LGc4fBWw85A9DkqQjlAFdkqQlIjO/CXwLOBv4TeDciPgWcBVw5iybzLXOayiavv83cFvH+i8pp3P7FsVFgE9m5n8B76UY9O07wL8BqxZQ3H8GrgauiIjvAm+naLn3HuD0iLi8LN/3F/r+JUk60kVmLnYZJEmSJEkaeNagS5IkSZJUAQZ0SZIkSZIqwIAuSZIkSVIFGNAlSZIkSaoAA7okSZIkSRVgQJckSZIkqQIM6JIkSZIkVcD/B5m2ZOyF1RFzAAAAAElFTkSuQmCC",
      "text/plain": [
       "<Figure size 1008x432 with 1 Axes>"
      ]
     },
     "metadata": {
      "needs_background": "light"
     },
     "output_type": "display_data"
    }
   ],
   "source": [
    "# Drop NA in 'year' and convert to int\n",
    "df_year = df['year'].dropna().astype(int)\n",
    "\n",
    "plt.figure(figsize=(14, 6))\n",
    "sns.histplot(df_year, bins=30, kde=True, color='skyblue')\n",
    "plt.title('Number of Movies Released per Year')\n",
    "plt.xlabel('Release Year')\n",
    "plt.ylabel('Number of Movies')\n",
    "plt.tight_layout()\n",
    "plt.show()"
   ]
  },
  {
   "cell_type": "markdown",
   "metadata": {},
   "source": [
    "### Interpretation of Movies Released per Year (2010–2018)\n",
    "The bar chart above visualizes the number of movies released each year from 2010 to 2018. The bars represent yearly movie counts, while a smooth line trend overlays the chart, providing insight into the general movement over time.\n",
    "\n",
    "#### Key Observations:\n",
    "Growth Period (2010–2015):\n",
    "\n",
    "- The number of movies increased steadily from around 330 in 2010 to a peak of over 450 in 2015.\n",
    "\n",
    "- This suggests a consistent rise in movie production over these years.\n",
    "\n",
    "Peak Years:\n",
    "\n",
    "- 2015 had the highest number of movie releases, followed closely by 2016.\n",
    "\n",
    "- Both years exceeded 430 movies, indicating a production boom.\n",
    "\n",
    "Decline Period (2016–2018):\n",
    "\n",
    "- There is a noticeable decline after 2016, with the number dropping to just over 300 by 2018.\n",
    "\n",
    "- This could imply industry saturation, shifting production strategies, or external influences.\n",
    "\n",
    "Trend Line Insight:\n",
    "\n",
    "- The light blue line confirms the initial upward trend and the subsequent decline, reinforcing the observations seen in the bars.\n",
    "\n",
    "#### Summary:\n",
    "\n",
    "From 2010 to 2015, the film industry experienced a significant increase in output. However, starting in 2016, there was a downward trend in movie releases, with 2018 having one of the lowest counts in the timeframe. This chart effectively captures both the peak and the slowdown of annual movie production over the 9-year period."
   ]
  },
  {
   "cell_type": "markdown",
   "metadata": {},
   "source": [
    "### Step 11: Popularity vs Ratings\n",
    "\n",
    "How does TMDb popularity relate to audience scores? "
   ]
  },
  {
   "cell_type": "code",
   "execution_count": 43,
   "metadata": {},
   "outputs": [
    {
     "data": {
      "image/png": "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",
      "text/plain": [
       "<Figure size 720x432 with 1 Axes>"
      ]
     },
     "metadata": {
      "needs_background": "light"
     },
     "output_type": "display_data"
    }
   ],
   "source": [
    "# Popularity vs Ratings\n",
    "\n",
    "plt.figure(figsize=(10, 6))\n",
    "sns.scatterplot(\n",
    "    x='popularity',\n",
    "    y='vote_average',\n",
    "    data=df,\n",
    "    alpha=0.5,\n",
    "    hue='vote_count',\n",
    "    palette='coolwarm',\n",
    "    edgecolor=None\n",
    ")\n",
    "plt.title('TMDb Popularity vs Average Rating')\n",
    "plt.xlabel('Popularity')\n",
    "plt.ylabel('Average Rating')\n",
    "plt.legend(title='Vote Count', bbox_to_anchor=(1.05, 1), loc='upper left')\n",
    "plt.tight_layout()\n",
    "plt.show()"
   ]
  },
  {
   "cell_type": "markdown",
   "metadata": {},
   "source": [
    "## TMDb Popularity vs Average Rating\n",
    "This scatter plot illustrates the relationship between movie popularity (based on TMDb metrics) and their average viewer ratings, with the color and size of each point representing the vote count.\n",
    "\n",
    "#### Key Insights:\n",
    "Concentration of Data:\n",
    "\n",
    "- The majority of movies are clustered in the low popularity range (0–20) and have an average rating between 5 and 8.\n",
    "\n",
    "- These movies also tend to have lower vote counts, shown by the denser dark blue markers.\n",
    "\n",
    "Popularity vs Rating:\n",
    "\n",
    "- There's no strong linear correlation between popularity and average rating.\n",
    "\n",
    "- Some less popular movies have very high ratings, and vice versa.\n",
    "\n",
    "High Vote Count Movies:\n",
    "\n",
    "- A few movies with high popularity (40+) and high vote counts (lighter to red hues) generally maintain good ratings (around 7–- 8).\n",
    "\n",
    "These are likely mainstream or blockbuster films.\n",
    "\n",
    "Outliers:\n",
    "\n",
    "- Several outliers appear with very low ratings (below 2) or very high ratings (above 9) but are not necessarily popular or widely voted on.\n",
    "\n",
    "These may represent niche or critically polarizing titles.\n",
    "\n",
    "### Summary:\n",
    "While the scatter plot shows a dense concentration of average-rated, low-popularity movies, there are notable exceptions that combine high popularity, strong ratings, and high vote counts. Overall, popularity does not guarantee high ratings, but popular movies tend to be rated more frequently."
   ]
  },
  {
   "cell_type": "markdown",
   "metadata": {},
   "source": [
    "## Step 12: Hypothesis Testing\n",
    "\n",
    "**Objective**\n",
    "Test whether average IMDb ratings are significantly different across selected genres.\n",
    "\n",
    "- **Null Hypothesis (H₀):** Mean IMDb ratings are the same across all genres.\n",
    "\n",
    "- **Alternative Hypothesis (H₁):** At least one genre has a different mean IMDb rating."
   ]
  },
  {
   "cell_type": "code",
   "execution_count": 44,
   "metadata": {},
   "outputs": [
    {
     "name": "stdout",
     "output_type": "stream",
     "text": [
      "Genres tested: ['Action', 'Comedy', 'Drama', 'Horror', 'Romance']\n",
      "F-statistic: 0.86\n",
      "P-value: 0.4881\n"
     ]
    }
   ],
   "source": [
    "# Select relevant genres\n",
    "genres_to_test = ['Action', 'Comedy', 'Drama', 'Horror', 'Romance']\n",
    "\n",
    "# Prepare groups: list of imdb_rating Series per genre\n",
    "rating_groups = []\n",
    "\n",
    "for genre in genres_to_test:\n",
    "    group = df[df['genres'].str.contains(genre, na=False)]['imdb_rating'].dropna()\n",
    "    rating_groups.append(group)\n",
    "\n",
    "# Run ANOVA\n",
    "f_stat, p_val = f_oneway(*rating_groups)\n",
    "\n",
    "print(\"Genres tested:\", genres_to_test)\n",
    "print(f\"F-statistic: {f_stat:.2f}\")\n",
    "print(f\"P-value: {p_val:.4f}\")"
   ]
  },
  {
   "cell_type": "markdown",
   "metadata": {},
   "source": [
    "#### Interpretation\n",
    "Since the p-value (0.4881) > 0.05, **we fail to reject the null hypothesis.**\n",
    "\n",
    "This means there's no statistically significant difference in average IMDb ratings between the genres tested.\n",
    "\n",
    "In simpler terms:\n",
    "\n",
    "**Based on the data we analyzed, Action, Comedy, Drama, Horror, and Romance movies have similar average IMDb ratings, statistically speaking.**"
   ]
  },
  {
   "cell_type": "code",
   "execution_count": 45,
   "metadata": {},
   "outputs": [
    {
     "data": {
      "image/png": "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",
      "text/plain": [
       "<Figure size 720x432 with 1 Axes>"
      ]
     },
     "metadata": {
      "needs_background": "light"
     },
     "output_type": "display_data"
    }
   ],
   "source": [
    "#Visual Support\n",
    "#Add a boxplot to visualize rating distributions by genre:\n",
    "# Filter and explode genres for plotting\n",
    "df_genres = df[df['genres'].notna()].copy()\n",
    "df_genres['primary_genre'] = df_genres['genres'].str.extract(f\"({'|'.join(genres_to_test)})\")\n",
    "\n",
    "# Plot\n",
    "plt.figure(figsize=(10, 6))\n",
    "sns.boxplot(data=df_genres[df_genres['primary_genre'].notna()],\n",
    "            x='primary_genre', y='imdb_rating')\n",
    "plt.title('IMDb Rating Distribution by Genre')\n",
    "plt.xlabel('Genre')\n",
    "plt.ylabel('IMDb Rating')\n",
    "plt.show()"
   ]
  },
  {
   "cell_type": "markdown",
   "metadata": {},
   "source": [
    "## IMDb Rating Distribution by Genre\n",
    "The boxplot above visualizes the distribution of IMDb ratings across five different movie genres: Comedy, Action, Drama, Horror, and Romance.\n",
    "\n",
    "### Key Observations:\n",
    "**Overall Rating Range:**\n",
    "\n",
    "- Ratings across all genres range from about 1 to 10.\n",
    "\n",
    "- A number of outliers (shown as dots) exist at the lower end of the rating scale in every genre.\n",
    "\n",
    "**Median Ratings:**\n",
    "\n",
    "- The median rating (middle line in each box) is quite similar across genres, mostly falling between 6 and 7.\n",
    "\n",
    "- This suggests a relatively consistent central rating tendency across different movie genres.\n",
    "\n",
    "**Interquartile Range (IQR):**\n",
    "\n",
    "- The height of each box shows the IQR (middle 50% of ratings), which is also similar across genres, roughly from 5.5 to 7.5.\n",
    "\n",
    "- Drama and Romance genres exhibit a slightly wider spread than Comedy and Horror.\n",
    "\n",
    "**Outliers:**\n",
    "\n",
    "- All genres display a significant number of low-rating outliers (below 4), indicating that some movies received notably poor audience reception.\n",
    "\n",
    "- Romance and Horror appear to have the highest number of low-rating outliers.\n",
    "\n",
    "**Symmetry and Skewness:**\n",
    "\n",
    "The distributions are fairly symmetric, but some genres like Horror show slight negative skew, implying a few higher-rated films might be pulling the average up.\n",
    "\n",
    "### Summary:\n",
    "The IMDb rating distribution is largely consistent across genres, with most movies scoring between 5.5 and 7.5. However, genres like Horror and Romance tend to have more low-rated outliers, which may suggest higher variance in audience reception."
   ]
  },
  {
   "cell_type": "markdown",
   "metadata": {},
   "source": [
    "## Step 13: Perform Independent Samples t-test\n",
    "\n",
    "We'll compare the IMDb ratings for movies in the \"Action\" and \"Drama\" genres."
   ]
  },
  {
   "cell_type": "code",
   "execution_count": 46,
   "metadata": {},
   "outputs": [
    {
     "name": "stdout",
     "output_type": "stream",
     "text": [
      "T-statistic: -0.37\n",
      "P-value: 0.7089\n"
     ]
    }
   ],
   "source": [
    "# Filter dataset by genres\n",
    "action_ratings = df[df['genres'].str.contains('Action', na=False)]['imdb_rating'].dropna()\n",
    "drama_ratings = df[df['genres'].str.contains('Drama', na=False)]['imdb_rating'].dropna()\n",
    "\n",
    "# Perform t-test\n",
    "t_stat, p_value = ttest_ind(action_ratings, drama_ratings, equal_var=False)\n",
    "\n",
    "print(f\"T-statistic: {t_stat:.2f}\")\n",
    "print(f\"P-value: {p_value:.4f}\")"
   ]
  },
  {
   "cell_type": "markdown",
   "metadata": {},
   "source": [
    "### Interpretation\n",
    "**P-value > 0.05**\n",
    "→ This means the difference in average IMDb ratings between Action and Drama movies is not statistically significant.\n",
    "\n",
    "**T-statistic ≈ 0**\n",
    "→ Suggests the difference between the group means is very small.\n",
    "\n",
    "### Conclusion:\n",
    "There is no strong evidence to suggest that Action and Drama movies differ in their average IMDb ratings based on your dataset. Any difference you see is likely due to random variation rather than a real underlying difference."
   ]
  },
  {
   "cell_type": "markdown",
   "metadata": {},
   "source": [
    "## "
   ]
  },
  {
   "cell_type": "markdown",
   "metadata": {},
   "source": [
    "### 5. Visualization.\n",

    "\n",
    "- Which genres are most common and profitable?\n",
    "\n",
    "- How do budget and revenue relate?\n",
    "\n",
    "- Do higher-rated movies earn more?\n",
    "\n",
    "- Are studios consistent in their performance"
   ]
  },
  {
   "cell_type": "markdown",
   "metadata": {},
   "source": [
    "### 5. Visualization.",
    "### 1. Movie Counts by Genre"
   ]
  },
  {
   "cell_type": "code",
   "execution_count": 47,
   "metadata": {},
   "outputs": [
    {
     "data": {
      "image/png": "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\n",
      "text/plain": [
       "<Figure size 720x432 with 1 Axes>"
      ]
     },
     "metadata": {
      "needs_background": "light"
     },
     "output_type": "display_data"
    }
   ],
   "source": [
    "# 1. Movie Counts by Genre (Corrected version to avoid FutureWarning)\n",
    "\n",
    "genre_counts = master_df['genre'].value_counts().head(10).reset_index()\n",
    "genre_counts.columns = ['genre', 'count']\n",
    "\n",
    "plt.figure(figsize=(10, 6))\n",
    "sns.barplot(data=genre_counts, x='count', y='genre', hue='genre', palette=\"mako\", dodge=False)\n",
    "plt.title(\"Top 10 Movie Genres by Count\")\n",
    "plt.xlabel(\"Number of Movies\")\n",
    "plt.ylabel(\"Genre\")\n",
    "plt.legend([], [], frameon=False)  # Hide legend\n",
    "plt.tight_layout()\n",
    "plt.show()\n"
   ]
  },
  {
   "cell_type": "markdown",
   "metadata": {},
   "source": [
    "## Interpretation\n",
    "This bar chart titled \"Top 10 Movie Genres by Count\" shows the number of movies for each of the top 10 genres (or combinations of genres). Here are some insights from the chart:\n",
    "\n",
    "### 1. Drama is the Most Common Genre\n",
    "\n",
    "Drama appears as the most frequent genre, with about 150 movies, significantly higher than any other genre.\n",
    "\n",
    "This suggests that dramatic themes are highly prevalent or favored in the dataset.\n",
    "\n",
    "### 2. Comedy is Also Very Popular\n",
    "\n",
    "Comedy stands out as the second most frequent genre, with just over 110 movies.\n",
    "\n",
    "Comedy, either standalone or combined with other genres, also appears multiple times in the list.\n",
    "\n",
    "### 3. Genre Combinations are Common\n",
    "\n",
    "Several bars represent multi-genre combinations, such as:\n",
    "Comedy|Drama\n",
    "\n",
    "Drama|Mystery and Suspense\n",
    "\n",
    "Action and Adventure|Drama|Mystery and Suspense\n",
    "\n",
    "This indicates that many movies in the dataset do not belong to a single genre but instead span multiple themes.\n",
    "\n",
    "### 4. Drama Appears in Most Genre Combinations\n",
    "\n",
    "Out of the top 10 genre combinations, Drama is a component in 7 of them.\n",
    "\n",
    "This further reinforces Drama’s dominant role in storytelling across different categories.\n",
    "\n",
    "### 5. Art House and International Shows Up in Niche Combinations\n",
    "\n",
    "While not topping the list individually, Art House and International appears in genre mixes such as:\n",
    "\n",
    "Art House and International|Drama\n",
    "\n",
    "Art House and International|Comedy|Drama\n",
    "\n",
    "These might represent more specialized or indie films that combine international elements with mainstream genres.\n",
    "\n",
    "### 6. Romance is Less Dominant Alone\n",
    "\n",
    "Romance appears only in combinations (Drama|Romance, Comedy|Romance) and not as a standalone top genre.\n",
    "\n",
    "This suggests that romance is typically used as a sub-theme rather than a primary genre in the dataset."
   ]
  },
  {
   "cell_type": "markdown",
   "metadata": {},
   "source": [
    "## 2. Budget vs. Worldwide Gross"
   ]
  },
  {
   "cell_type": "code",
   "execution_count": 48,
   "metadata": {},
   "outputs": [
    {
     "data": {
      "image/png": "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\n",
      "text/plain": [
       "<Figure size 720x432 with 1 Axes>"
      ]
     },
     "metadata": {
      "needs_background": "light"
     },
     "output_type": "display_data"
    }
   ],
   "source": [
    "# Remove '$' and commas, convert to numeric\n",
    "df = master_df.copy()\n",
    "df['production_budget'] = df['production_budget'].replace(r'[\\$,]', '', regex=True).astype(float)\n",
    "df['worldwide_gross'] = df['worldwide_gross'].replace(r'[\\$,]', '', regex=True).astype(float)\n",
    "\n",
    "# Scatter plot\n",
    "plt.figure(figsize=(10, 6))\n",
    "sns.scatterplot(data=df, x='production_budget', y='worldwide_gross', alpha=0.6)\n",
    "plt.title(\"Budget vs Worldwide Gross\")\n",
    "plt.xlabel(\"Production Budget ($)\")\n",
    "plt.ylabel(\"Worldwide Gross ($)\")\n",
    "plt.grid(True)\n",
    "plt.tight_layout()\n",
    "plt.show()\n"
   ]
  },
  {
   "cell_type": "markdown",
   "metadata": {},
   "source": [
    "## Interpretation\n",
    "The scatter plot titled \"Budget vs Worldwide Gross\" shows the relationship between the production budget of movies and their worldwide gross earnings.\n",
    "\n",
    "Key Observations:\n",
    "\n",
    "### 1. Positive Correlation:\n",
    "- There is a general positive trend: as the production budget increases, the worldwide gross also tends to increase.\n",
    "\n",
    "- However, the correlation is not very strong—many movies with moderate budgets also perform very well, and some with high budgets do not earn as much.\n",
    "\n",
    "### 2. High Variability:\n",
    "- For any given budget, the worldwide gross varies greatly. For example, movies with a 100𝑀𝑏𝑢𝑑𝑔𝑒𝑡𝑐𝑎𝑛𝑔𝑟𝑜𝑠𝑠𝑎𝑛𝑦𝑤ℎ𝑒𝑟𝑒𝑓𝑟𝑜𝑚𝑢𝑛𝑑𝑒𝑟\n",
    "100M to over $1B.\n",
    "\n",
    "### 3.Outliers:\n",
    "- A few movies with very high grosses (above $2B) and high budgets stand out significantly from the rest.\n",
    "\n",
    "- These are likely blockbuster hits (e.g., major franchise films).\n",
    "\n",
    "### Conclusion:\n",
    "\n",
    "- While a bigger budget generally increases the chance of a higher gross, it doesn't guarantee success. There are diminishing returns at higher budget levels, and many low- to mid-budget films still perform well.\n",
    "\n",
    "### 4. Clustered Data:\n",
    "Most data points are clustered in the lower budget range (under 100𝑀)𝑎𝑛𝑑𝑙𝑜𝑤𝑒𝑟𝑔𝑟𝑜𝑠𝑠𝑟𝑎𝑛𝑔𝑒(𝑢𝑛𝑑𝑒𝑟\n",
    "500M).\n",
    "\n",
    "This suggests that most movies operate on smaller budgets and earn modestly at the box office.\n",
    "\n",
    "### Conclusion:\n",
    "\n",
    "While a bigger budget generally increases the chance of a higher gross, it doesn't guarantee success. There are diminishing returns at higher budget levels, and many low- to mid-budget films still perform well.\n"
   ]
  },
  {
   "cell_type": "markdown",
   "metadata": {},
   "source": [
    "## 3. Studio Output (Top 10)"
   ]
  },
  {
   "cell_type": "code",
   "execution_count": 54,
   "metadata": {},
   "outputs": [
    {
     "data": {
      "image/png": "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\n",
      "text/plain": [
       "<Figure size 720x432 with 1 Axes>"
      ]
     },
     "metadata": {
      "needs_background": "light"
     },
     "output_type": "display_data"
    }
   ],
   "source": [
    "# Make sure you're using a clean copy\n",
    "top_studios = master_df['studio'].value_counts().head(10)\n",
    "\n",
    "# Safely create DataFrame from Series\n",
    "studio_df = pd.DataFrame({\n",
    "    'studio': top_studios.index,\n",
    "    'movie_count': top_studios.values\n",
    "})\n",
    "\n",
    "# Plot\n",
    "plt.figure(figsize=(10, 6))\n",
    "sns.barplot(data=studio_df, x='movie_count', y='studio', palette='cubehelix')\n",
    "plt.title(\"Top 10 Studios by Number of Movies\")\n",
    "plt.xlabel(\"Number of Movies\")\n",
    "plt.ylabel(\"Studio\")\n",
    "plt.tight_layout()\n",
    "plt.show()\n"
   ]
  },
  {
   "cell_type": "markdown",
   "metadata": {},
   "source": [
    "## Interpretation\n",
    "**This is a horizontal bar chart titled \"Top 10 Studios by Number of Movies\". It shows the number of movies produced or distributed by the top 10 film studios. Here's the interpretation:**\n",
    "\n",
    "### Observations:\n",
    "- Universal Pictures is the leading studio, having released the most movies—around 35 movies.\n",
    "\n",
    "- Paramount Pictures and 20th Century Fox follow closely, each producing just over 25 movies.\n",
    "\n",
    "- Sony Pictures Classics and Warner Bros. Pictures are mid-tier in this ranking, with around 21–22 movies each.\n",
    "\n",
    "- Sony Pictures produced about 16 movies.\n",
    "\n",
    "- The remaining studios — New Line Cinema, Columbia Pictures, IFC Films, and Warner Bros. — each produced around 9–10 movies.\n",
    "\n",
    "### Key Takeaways:\n",
    "\n",
    "- Major studios like Universal, Paramount, and Fox dominate in terms of movie output.\n",
    "\n",
    "- There are multiple entities with similar branding (e.g., Warner Bros. Pictures and Warner Bros., or Sony Pictures and Sony Pictures Classics), suggesting they may be subdivisions or labels under a parent company.\n",
    "\n",
    "- The number of movies drops off significantly after the top five studios."
   ]
  },
  {
   "cell_type": "markdown",
   "metadata": {},
   "source": [
    "## 4. Revenue Trend Over Time"
   ]
  },
  {
   "cell_type": "code",
   "execution_count": 55,
   "metadata": {},
   "outputs": [
    {
     "data": {
      "image/png": "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\n",
      "text/plain": [
       "<Figure size 864x432 with 1 Axes>"
      ]
     },
     "metadata": {
      "needs_background": "light"
     },
     "output_type": "display_data"
    }
   ],
   "source": [
    "df['release_year'] = pd.to_datetime(df['release_date'], errors='coerce').dt.year\n",
    "yearly = df.groupby('release_year')['worldwide_gross'].mean().dropna()\n",
    "plt.figure(figsize=(12, 6))\n",
    "sns.lineplot(x=yearly.index, y=yearly.values)\n",
    "plt.title(\"Average Worldwide Gross Over Time\")\n",
    "plt.xlabel(\"Release Year\")\n",
    "plt.ylabel(\"Average Gross ($)\")\n",
    "plt.show()"
   ]
  },
  {
   "cell_type": "markdown",
   "metadata": {},
   "source": [
    "## Interpretation\n",
    "This line graph shows the Average Worldwide Gross Over Time for movies, with the x-axis representing the release year and the y-axis representing the average gross in dollars (on the scale of hundreds of millions).\n",
    "\n",
    "**Key Insights:**\n",
    "\n",
    "### 1. Early Years (1910s–1930s):\n",
    "- The average gross remained relatively low and stable.\n",
    "\n",
    "- This is expected due to the limited reach of cinema and lower ticket prices in the early 20th century.\n",
    "\n",
    "### 2. Spikes in the 1930s–1940s:\n",
    "- There are significant spikes around the late 1930s and early 1940s.\n",
    "\n",
    "- These spikes are likely due to a few blockbuster hits skewing the average, as fewer films were released during this period, especially around World War II.\n",
    "\n",
    "### 3. Post-War Era (1950s–1970s):\n",
    "- The average gross starts to increase gradually, reflecting the global expansion of cinema and improvements in film marketing and distribution.\n",
    "\n",
    "### 4. 1980s–2000s:\n",
    "\n",
    "- A noticeable and consistent upward trend occurs.\n",
    "\n",
    "- This reflects the rise of big-budget films, global distribution networks, and franchise films (e.g., Star Wars, Jurassic Park, Harry Potter).\n",
    "\n",
    "### 5. 2010s Peak:\n",
    "\n",
    "- The average gross peaks again, nearing $200 million in some years, likely due to mega-blockbusters like Avengers and Star Wars sequels, driven by global box office revenue.\n",
    "\n",
    "### 6. 2020 Drop:\n",
    "\n",
    "- A dramatic drop is observed around 2020.\n",
    "\n",
    "- This likely corresponds to the COVID-19 pandemic, which caused global theater closures and major delays in film releases.\n",
    "\n",
    "## Overall Interpretation:\n",
    "\n",
    "The trend shows that average worldwide movie gross has generally increased over time, especially since the 1980s, reflecting the globalization of the film industry and the increasing role of blockbuster films. However, anomalies like sharp spikes and the 2020 crash highlight external influences such as major film releases or global events (like the pandemic).\n"
   ]
  },
  {
   "cell_type": "markdown",
   "metadata": {},
   "source": [
    "## 5. Top genre \"pop out\""
   ]
  },
  {
   "cell_type": "code",
   "execution_count": 57,
   "metadata": {},
   "outputs": [
    {
     "data": {
      "text/plain": [
       "(-1.2153023470754456,\n",
       " 1.122172909364881,\n",
       " -1.1320118671330253,\n",
       " 1.1073979190463747)"
      ]
     },
     "execution_count": 50,
     "metadata": {},
     "output_type": "execute_result"
    },
    {
     "data": {
      "image/png": "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\n",
      "text/plain": [
       "<Figure size 576x576 with 1 Axes>"
      ]
     },
     "metadata": {},
     "output_type": "display_data"
    }
   ],
   "source": [
    "# Get the top 5 genres\n",
    "top_genres = master_df['genre'].value_counts().head(5)\n",
    "# Define explode to pop out the top segment\n",
    "explode = [0.1 if i == 0 else 0 for i in range(len(top_genres))]\n",
    "# Plot pie chart\n",
    "plt.figure(figsize=(8, 8))\n",
    "plt.pie(top_genres.values, labels=top_genres.index, autopct='%1.1f%%', startangle=140,\n",
    "        colors=sns.color_palette(\"pastel\"), explode=explode, shadow=True)\n",
    "plt.title(\"Top 5 Movie Genres Distribution\")\n",
    "plt.axis('equal');  # The semicolon suppresses output in Jupyter"
   ]
  },
  {
   "cell_type": "markdown",
   "metadata": {},
   "source": [
    "## Interpretation\n",
    "\n",
    "### 1. Dominance of Drama\n",
    "- Drama (likely a typo for Drama) appears twice—once as a standalone genre and once combined with **Art House/International.\n",
    "- This suggests Drama is highly popular, possibly spanning both mainstream and niche audiences.\n",
    "- Art House/International/Drama may represent critically acclaimed or festival-favorite films, indicating a strong audience for thought-provoking cinema.\n",
    "\n",
    "### 2. Comedy’s Broad Appeal\n",
    "- Comedy is a staple in the top genres, reflecting its universal appeal across demographics.\n",
    "- Often dominates streaming platforms and box office due to rewatchability and mass-market demand.\n",
    "\n",
    "### 3. Missing Genres (Likely Action & Sci-Fi/Horror)\n",
    "- Since only 3 out of 5 genres are visible, the remaining two are likely Action and either Sci-Fi or Horror, given their commercial dominance.\n",
    "- Action: High box office draw (e.g., superhero films, franchises).\n",
    "- Sci-Fi/Horror: Niche but profitable, with strong fan bases.\n",
    "\n",
    "**Final Insight:**\n",
    "\n",
    "Drama (in all forms) and Comedy are consistent crowd-pullers, while Action/Sci-Fi likely round out the top 5 for commercial success. Art House films hold cultural relevance but may have a smaller market share."
   ]
  },
  {
   "cell_type": "markdown",
   "metadata": {},
   "source": [
    "### Step 6: Insights and Recommendations"
   ]
  },
  {
   "cell_type": "markdown",
   "metadata": {},
   "source": [
    "### 6.1: Insights\n",
    "\n",
    "#### Insights from Movie Data Analysis\n",
    "\n",
    "Based on extensive exploratory data analysis and visualizations, the following key insights were uncovered:\n",
    "\n",
    "1. **Dominance of Certain Genres**\n",
    "   - Genres such as **Action**, **Comedy**, and **Drama** consistently lead in the number of releases.\n",
    "   - However, **Action** and **Adventure** genres tend to generate higher revenues compared to others, suggesting their stronger commercial viability.\n",
    "   \n",
    "2. **Budget is a Strong Predictor of Revenue**\n",
    "   - A clear **positive correlation** was observed between production budget and worldwide gross.\n",
    "   - While high-budget films are riskier, they often deliver significantly higher returns when successful.\n",
    "   \n",
    "3. **Popularity Doesn’t Always Equal High Ratings**\n",
    "   - Scatter plots show that some films with high popularity scores don't always have the highest ratings.\n",
    "   - This implies that marketing and fanbase play a major role in drawing audiences, irrespective of critical reviews.\n",
    "   \n",
    "4. **Underutilized but High-Performing Genres**\n",
    "   - Some genres with fewer releases (e.g., **Sci-Fi**, **Thriller**) show a relatively high average return per movie.\n",
    "   - This indicates a potential **opportunity for strategic expansion** into these less crowded but lucrative genres.\n",
    "   \n",
    "5. **Studio Performance is Uneven**\n",
    "   - A few studios dominate production volume, but not all of them consistently produce top-grossing movies.\n",
    "   - This suggests that **volume does not equate to profitability**, and highlights a need for better content selection.\n",
    "   \n",
    "6. **Revenue Trends Show Variability Over Years**\n",
    "   - There is no consistent upward trend in average gross revenue over time.\n",
    "   - Market conditions, release timing, and competition play a role in year-to-year performance, highlighting the importance of release strategy.\n",
    "   \n",
    "7. **Hypothesis Testing Results**\n",
    "   - **ANOVA Test** across genres showed no statistically significant difference in mean revenue (p = 0.4881).\n",
    "   - **T-Test** between Action and Comedy movies also showed no significant difference in average revenue (p = 0.7089), implying revenue drivers might be external to genre choice alone, such as casting, release timing, and marketing."
   ]
  },
  {
   "cell_type": "markdown",
   "metadata": {},
   "source": [
    "### 6.2 Recommendations\n",
    "\n",
    "#### Strategic Recommendations for Film Industry Stakeholders\n",
    "Drawing from the above insights, the following recommendations are proposed to optimize profitability, audience engagement, and resource allocation:\n",
    "\n",
    "1. **Invest Strategically in High-Yield Genres**\n",
    "   - Prioritize funding toward **Action, Adventure, and Sci-Fi** films which show stronger global revenue trends.\n",
    "   - However, avoid overcrowding the genre space—balance with originality and market timing.\n",
    "   \n",
    "2. **Maintain a Tiered Budget Strategy**\n",
    "   - Allocate **larger budgets** to projects with franchise potential, strong casting, or global appeal.\n",
    "   - Simultaneously, support **mid-budget films** in profitable niches (e.g., Thriller, Horror) that have lower risk and reasonable returns.\n",
    "   \n",
    "3. **Enhance Marketing for Underrated Genres**\n",
    "   - Consider **targeted marketing campaigns** to boost the visibility of underrepresented but high-performing genres.\n",
    "   - Nurture niche audiences who value originality over blockbusters.\n",
    "   \n",
    "4. **Optimize Release Timing**\n",
    "   - Leverage analytics to choose ideal release windows, avoiding peak congestion (e.g., summer blockbusters vs indie festivals).\n",
    "   - Explore **off-season windows** for mid-tier films to maximize attention and minimize competition.\n",
    "   \n",
    "5. **Studio Quality Over Quantity**\n",
    "   - Encourage studios to focus on **quality storytelling, casting, and audience research** rather than sheer volume.\n",
    "   - Use performance benchmarks to identify studios that consistently deliver commercial and critical success.\n",
    "   \n",
    "6. **Refine Genre-Based Revenue Forecasting**\n",
    "   - Although genre alone isn’t a statistically significant revenue driver, **combining it with other features** like budget, cast, and release date could improve predictive models.\n",
    "   - Integrate machine learning or regression analysis for future revenue prediction.\n",
    "   \n",
    "7. **Further Analysis**\n",
    "   - Consider segmenting the audience by **demographics or region** for even more targeted recommendations.\n",
    "   - Analyze **streaming vs theatrical revenue patterns**, especially post-pandemic, to inform distribution strategies.\n",
    "\n",
    "By applying these insights, film production and distribution companies can make **data-driven decisions** that enhance ROI, satisfy audience demand, and remain competitive in a rapidly evolving entertainment landscape."
   ]
  },
  {
   "cell_type": "markdown",
   "metadata": {},
   "source": [
    "## 7.Conclusion and Business Value Summary\n",
    "\n",
    "###  Final Thoughts\n",
    "\n",
    "This project provided a comprehensive analysis of movie industry data from multiple sources, including IMDb, TMDb, Rotten Tomatoes, The Numbers, and Box Office Mojo. By merging, cleaning, and analyzing these datasets, we were able to gain valuable insights into the financial and popular success of various films across genres, studios, and time periods.\n",
    "\n",
    "**Key takeaways include:**\n",
    "\n",
    "- The importance of *genre selection*, especially in high-return categories like Action and Adventure.\n",
    "- *Production budget* plays a critical role in influencing worldwide gross, though success is not guaranteed.\n",
    "- Not all highly *popular films receive critical acclaim*, highlighting the importance of understanding audience behavior beyond ratings.\n",
    "- Some *niche genres and studios* outperform expectations, offering opportunities for differentiation and innovation.\n",
    "- *Hypothesis testing* showed that genre alone does not statistically guarantee box office success, reinforcing the need for a more holistic view in project planning.\n",
    "\n",
    "---\n",
    "\n",
    "###  Business Value and Strategic Impact\n",
    "\n",
    "The findings in this report can be directly applied to *real-world business decisions* in the film and entertainment industry. The potential benefits include:\n",
    "\n",
    "-  *Data-Driven Investment Decisions*  \n",
    "  Helps producers allocate budgets more effectively by identifying high-yield opportunities and avoiding underperforming patterns.\n",
    "\n",
    "-  *Smarter Genre Targeting*  \n",
    "  Supports content creators in choosing genres that align with both financial goals and market demand.\n",
    "\n",
    "-  *Optimized Release Planning*  \n",
    "  Informs strategic release timing, ensuring films are launched when competition is low and audience engagement is high.\n",
    "\n",
    "-  *Studio Performance Benchmarking*  \n",
    "  Enables studio executives to evaluate productivity not just by quantity, but by financial return and audience impact.\n",
    "\n",
    "-  *Opportunity Identification*  \n",
    "  Highlights underserved yet profitable niches in the market, encouraging innovation and diversity in storytelling.\n",
    "\n",
    "-  *Foundation for Predictive Modeling*  \n",
    "  The cleaned and unified dataset can serve as a foundation for future machine learning models to forecast revenue or audience ratings based on pre-release features.\n",
    "\n",
    "This analysis empowers studios, investors, and decision-makers with actionable intelligence to *minimize risk, maximize profitability, and foster creative innovation* in a highly competitive industry."
   ]
  }
 ],
 "metadata": {
  "kernelspec": {
   "display_name": "learn-env",
   "language": "python",
   "name": "learn-env"
  },
  "language_info": {
   "codemirror_mode": {
    "name": "ipython",
    "version": 3
   },
   "file_extension": ".py",
   "mimetype": "text/x-python",
   "name": "python",
   "nbconvert_exporter": "python",
   "pygments_lexer": "ipython3",
   "version": "3.8.5"
  }
 },
 "nbformat": 4,
 "nbformat_minor": 4
}
