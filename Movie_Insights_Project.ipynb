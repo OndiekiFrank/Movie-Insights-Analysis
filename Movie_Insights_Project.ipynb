{
 "cells": [
  {
   "cell_type": "markdown",
   "metadata": {},
   "source": [
    "#  Movie Insights Analysis\n",
    "  \n",
    "**Group Members:** Mathews Wandera, Tinah, Diana, Pacificah, Night, Frank  \n",
    "**Branch Owners:**  \n",
    "- `Mathews-Tableau`  \n",
    "- `Tinah-Presentation`  \n",
    "- `Diana-Data_Preparation`  \n",
    "- `Pacificah-EDA`  \n",
    "- `Night-Visualization`  \n",
    "- `Frank-README`  \n",
    "\n",
    "---\n",
    "\n",
    "### Objective\n",
    "To analyze multiple movie-related datasets from various platforms (IMDb, Rotten Tomatoes, The Numbers, TMDb, and Box Office Mojo) and provide strategic insights to support decision-making in the film industry."
   ]
  },
  {
   "cell_type": "markdown",
   "metadata": {},
   "source": [
    "## 1. Business Understanding\n",
    "\n",
    "### Problem Statement\n",
    "The movie industry produces a vast number of films every year, but only a few turn out to be box office hits or critical successes. Stakeholders—such as producers, distributors, and marketing teams—require data-driven insights to inform their decisions. By analyzing trends in budgets, genres, ratings, and revenues, we aim to uncover factors that contribute to a movie's commercial and critical success.\n",
    "\n",
    "### Project Goal\n",
    "This project seeks to:\n",
    "- Identify the key characteristics of successful movies.\n",
    "- Understand how different platforms rate movies (IMDb, Rotten Tomatoes, etc.).\n",
    "- Analyze financial patterns like budget vs. revenue.\n",
    "- Provide data-driven recommendations for improving the profitability and impact of future productions.\n",
    "\n",
    "### Key Questions\n",
    "- What genres perform best in terms of revenue and ratings?\n",
    "- How do production budgets relate to revenue or critical scores?\n",
    "- Are there specific patterns in release dates that impact success?\n",
    "- What are the most profitable platforms or combinations of features?\n",
    "\n",
    "### Target Audience\n",
    "- Film producers and investors\n",
    "- Distribution and marketing teams\n",
    "- Data-driven creative teams in media\n",
    "- Streaming platform analysts"
   ]
  },
  {
   "cell_type": "markdown",
   "metadata": {},
   "source": [
    "## 2. Data Understanding\n",
    "We'll now systematically explore each dataset to understand:\n",
    "\n",
    "Structure (columns and data types)\n",
    "\n",
    "- Sample data (via .head())\n",
    "\n",
    "- Missing values\n",
    "\n",
    "- Duplicates\n",
    "\n",
    "- Basic statistics (via .describe())\n",
    "\n",
    "We'll do this for:\n",
    "\n",
    "**bom.movie_gross.csv.gz**\n",
    "\n",
    "**rt.movie_info.tsv.gz**\n",
    "\n",
    "**rt.reviews.tsv.gz**\n",
    "\n",
    "**tmdb.movies.csv.gz**\n",
    "\n",
    "**tn.movie_budgets.csv.gz**\n",
    "\n",
    "Key tables from `im.db`: movie_basics, movie_ratings, principals, etc.\n",
    "\n"
   ]
  },
  {
   "cell_type": "code",
   "execution_count": 2,
   "metadata": {},
   "outputs": [],
   "source": [
    "import pandas as pd\n",
    "import numpy as np\n",
    "import matplotlib.pyplot as plt\n",
    "import seaborn as sns\n",
    "import sqlite3\n",
    "import zipfile\n",
    "import os"
   ]
  },
  {
   "cell_type": "markdown",
   "metadata": {},
   "source": [
    "## Confirm available files"
   ]
  },
  {
   "cell_type": "code",
   "execution_count": 3,
   "metadata": {},
   "outputs": [
    {
     "name": "stdout",
     "output_type": "stream",
     "text": [
      " Contents of 'datasets':\n",
      "['tmdb.movies.csv.gz', 'im.db.zip', 'rt.movie_info.tsv.gz', '.gitkeep', 'bom.movie_gross.csv.gz', 'rt.reviews.tsv.gz', 'im.db', '.gitignore', 'tn.movie_budgets.csv.gz']\n"
     ]
    }
   ],
   "source": [
    "\n",
    "# Confirm available files\n",
    "print(\" Contents of 'datasets':\")\n",
    "print(os.listdir('datasets'))"
   ]
  },
  {
   "cell_type": "markdown",
   "metadata": {},
   "source": [
    "## Load external CSV/TSV dataset"
   ]
  },
  {
   "cell_type": "code",
   "execution_count": 4,
   "metadata": {},
   "outputs": [],
   "source": [
    "# Load external CSV/TSV datasets\n",
    "bom = pd.read_csv(\"datasets/bom.movie_gross.csv.gz\")\n",
    "rt_info = pd.read_csv(\"datasets/rt.movie_info.tsv.gz\", sep=\"\\t\")\n",
    "rt_reviews = pd.read_csv(\"datasets/rt.reviews.tsv.gz\", sep=\"\\t\", encoding=\"latin1\")  # fixed encoding issue\n",
    "tmdb = pd.read_csv(\"datasets/tmdb.movies.csv.gz\")\n",
    "tn_budgets = pd.read_csv(\"datasets/tn.movie_budgets.csv.gz\")\n"
   ]
  },
  {
   "cell_type": "markdown",
   "metadata": {},
   "source": [
    "## Unzip the im.db.zip"
   ]
  },
  {
   "cell_type": "code",
   "execution_count": 5,
   "metadata": {},
   "outputs": [],
   "source": [
    "if not os.path.exists(\"datasets/im.db\"):\n",
    "    with zipfile.ZipFile(\"datasets/im.db.zip\", 'r') as zip_ref:\n",
    "        zip_ref.extractall(\"datasets\")"
   ]
  },
  {
   "cell_type": "code",
   "execution_count": 6,
   "metadata": {},
   "outputs": [
    {
     "name": "stdout",
     "output_type": "stream",
     "text": [
      "\n",
      " Tables in im.db:\n",
      "            name\n",
      "0   movie_basics\n",
      "1      directors\n",
      "2      known_for\n",
      "3     movie_akas\n",
      "4  movie_ratings\n",
      "5        persons\n",
      "6     principals\n",
      "7        writers\n"
     ]
    }
   ],
   "source": [
    "#Connect to the SQLite database\n",
    "conn = sqlite3.connect(\"datasets/im.db\")\n",
    "\n",
    "# Preview available tables\n",
    "tables = pd.read_sql(\"SELECT name FROM sqlite_master WHERE type='table';\", conn)\n",
    "print(\"\\n Tables in im.db:\")\n",
    "print(tables)"
   ]
  },
  {
   "cell_type": "markdown",
   "metadata": {},
   "source": [
    "## 3. Data Preparation\n",
    "\n",
    "Now that we have successfully loaded all datasets and explored their structure, we'll proceed with data preparation. This involves:\n",
    "\n",
    "- Merging key datasets into a master data table.\n",
    "- Cleaning and standardizing fields.\n",
    "- Saving the final cleaned dataset for EDA and Tableau use.\n"
   ]
  },
  {
   "cell_type": "markdown",
   "metadata": {},
   "source": [
    "## Step 1 — Prepare Individual DataFrames\n",
    "\n",
    "### 🔹 Step 1: Select and Rename Relevant Columns\n",
    "\n",
    "We’ll simplify each dataset and rename columns for consistency before merging. This ensures our final dataset is clean and easy to work with.\n"
   ]
  },
  {
   "cell_type": "code",
   "execution_count": 8,
   "metadata": {},
   "outputs": [
    {
     "name": "stdout",
     "output_type": "stream",
     "text": [
      "['id', 'synopsis', 'rating', 'genre', 'director', 'writer', 'theater_date', 'dvd_date', 'currency', 'box_office', 'runtime', 'studio']\n"
     ]
    }
   ],
   "source": [
    "# Check column names in Rotten Tomatoes info dataset\n",
    "print(rt_info.columns.tolist())\n"
   ]
  },
  {
   "cell_type": "markdown",
   "metadata": {},
   "source": [
    "### 1: BOM (Box Office Mojo)"
   ]
  },
  {
   "cell_type": "code",
   "execution_count": 9,
   "metadata": {},
   "outputs": [],
   "source": [
    "# BOM dataset (Box Office Mojo)\n",
    "bom_clean = bom[['title', 'domestic_gross', 'foreign_gross', 'year']].copy()\n",
    "bom_clean.rename(columns={'title': 'movie_title'}, inplace=True)\n"
   ]
  },
  {
   "cell_type": "markdown",
   "metadata": {},
   "source": [
    "###  2.TN (The Numbers) Budgets"
   ]
  },
  {
   "cell_type": "code",
   "execution_count": 10,
   "metadata": {},
   "outputs": [],
   "source": [
    "# TN Budgets dataset\n",
    "tn_budgets_clean = tn_budgets[['movie', 'production_budget', 'worldwide_gross', 'release_date']].copy()\n",
    "tn_budgets_clean.rename(columns={'movie': 'movie_title'}, inplace=True)\n"
   ]
  },
  {
   "cell_type": "markdown",
   "metadata": {},
   "source": [
    "### 3: TMDb"
   ]
  },
  {
   "cell_type": "code",
   "execution_count": 11,
   "metadata": {},
   "outputs": [],
   "source": [
    "# TMDb dataset\n",
    "tmdb_clean = tmdb[['title', 'id', 'popularity', 'vote_average', 'vote_count']].copy()\n",
    "tmdb_clean.rename(columns={'title': 'movie_title', 'id': 'tmdb_id'}, inplace=True)\n"
   ]
  },
  {
   "cell_type": "markdown",
   "metadata": {},
   "source": [
    "### 4: Rotten Tomatoes (info)"
   ]
  },
  {
   "cell_type": "code",
   "execution_count": 12,
   "metadata": {},
   "outputs": [],
   "source": [
    "# Rotten Tomatoes info dataset\n",
    "rt_info_clean = rt_info[['genre', 'rating', 'studio', 'theater_date', 'runtime']].copy()\n",
    "\n",
    "# No title column, so we cannot rename to movie_title here — will join later if possible\n"
   ]
  },
  {
   "cell_type": "markdown",
   "metadata": {},
   "source": [
    "## Step 2 – Load Tables from the SQLite Database\n",
    "We'll extract and preview the following key tables:\n",
    "\n",
    "- movie_basics – core movie metadata\n",
    "\n",
    "- movie_ratings – IMDb average rating + votes\n",
    "\n",
    "- principals – cast/crew info\n",
    "\n",
    "- optionally) names, crew, etc., if needed later\n",
    "\n"
   ]
  },
  {
   "cell_type": "markdown",
   "metadata": {},
   "source": [
    "### 5: Connect to the SQLite DB and List Tables"
   ]
  },
  {
   "cell_type": "code",
   "execution_count": 13,
   "metadata": {},
   "outputs": [
    {
     "data": {
      "text/html": [
       "<div>\n",
       "<style scoped>\n",
       "    .dataframe tbody tr th:only-of-type {\n",
       "        vertical-align: middle;\n",
       "    }\n",
       "\n",
       "    .dataframe tbody tr th {\n",
       "        vertical-align: top;\n",
       "    }\n",
       "\n",
       "    .dataframe thead th {\n",
       "        text-align: right;\n",
       "    }\n",
       "</style>\n",
       "<table border=\"1\" class=\"dataframe\">\n",
       "  <thead>\n",
       "    <tr style=\"text-align: right;\">\n",
       "      <th></th>\n",
       "      <th>name</th>\n",
       "    </tr>\n",
       "  </thead>\n",
       "  <tbody>\n",
       "    <tr>\n",
       "      <th>0</th>\n",
       "      <td>movie_basics</td>\n",
       "    </tr>\n",
       "    <tr>\n",
       "      <th>1</th>\n",
       "      <td>directors</td>\n",
       "    </tr>\n",
       "    <tr>\n",
       "      <th>2</th>\n",
       "      <td>known_for</td>\n",
       "    </tr>\n",
       "    <tr>\n",
       "      <th>3</th>\n",
       "      <td>movie_akas</td>\n",
       "    </tr>\n",
       "    <tr>\n",
       "      <th>4</th>\n",
       "      <td>movie_ratings</td>\n",
       "    </tr>\n",
       "    <tr>\n",
       "      <th>5</th>\n",
       "      <td>persons</td>\n",
       "    </tr>\n",
       "    <tr>\n",
       "      <th>6</th>\n",
       "      <td>principals</td>\n",
       "    </tr>\n",
       "    <tr>\n",
       "      <th>7</th>\n",
       "      <td>writers</td>\n",
       "    </tr>\n",
       "  </tbody>\n",
       "</table>\n",
       "</div>"
      ],
      "text/plain": [
       "            name\n",
       "0   movie_basics\n",
       "1      directors\n",
       "2      known_for\n",
       "3     movie_akas\n",
       "4  movie_ratings\n",
       "5        persons\n",
       "6     principals\n",
       "7        writers"
      ]
     },
     "execution_count": 13,
     "metadata": {},
     "output_type": "execute_result"
    }
   ],
   "source": [
    "# Connect to the SQLite database\n",
    "conn = sqlite3.connect('datasets/im.db')\n",
    "\n",
    "# Check available tables\n",
    "tables_query = \"SELECT name FROM sqlite_master WHERE type='table';\"\n",
    "pd.read_sql(tables_query, conn)\n"
   ]
  },
  {
   "cell_type": "markdown",
   "metadata": {},
   "source": [
    "### 6: Load Key Tables into DataFrames"
   ]
  },
  {
   "cell_type": "code",
   "execution_count": 14,
   "metadata": {},
   "outputs": [],
   "source": [
    "# Load movie_basics\n",
    "movie_basics = pd.read_sql(\"SELECT * FROM movie_basics\", conn)\n",
    "\n",
    "# Load movie_ratings\n",
    "movie_ratings = pd.read_sql(\"SELECT * FROM movie_ratings\", conn)\n",
    "\n",
    "# Load principals (optional for later joins with crew/names)\n",
    "principals = pd.read_sql(\"SELECT * FROM principals\", conn)\n"
   ]
  },
  {
   "cell_type": "markdown",
   "metadata": {},
   "source": [
    "### 7: Merge IMDb tables\n",
    "\n",
    "**We merge movie_basics and movie_ratings on movie_id.**"
   ]
  },
  {
   "cell_type": "code",
   "execution_count": 16,
   "metadata": {},
   "outputs": [
    {
     "data": {
      "text/html": [
       "<div>\n",
       "<style scoped>\n",
       "    .dataframe tbody tr th:only-of-type {\n",
       "        vertical-align: middle;\n",
       "    }\n",
       "\n",
       "    .dataframe tbody tr th {\n",
       "        vertical-align: top;\n",
       "    }\n",
       "\n",
       "    .dataframe thead th {\n",
       "        text-align: right;\n",
       "    }\n",
       "</style>\n",
       "<table border=\"1\" class=\"dataframe\">\n",
       "  <thead>\n",
       "    <tr style=\"text-align: right;\">\n",
       "      <th></th>\n",
       "      <th>movie_id</th>\n",
       "      <th>primary_title</th>\n",
       "      <th>original_title</th>\n",
       "      <th>start_year</th>\n",
       "      <th>runtime_minutes</th>\n",
       "      <th>genres</th>\n",
       "      <th>averagerating</th>\n",
       "      <th>numvotes</th>\n",
       "    </tr>\n",
       "  </thead>\n",
       "  <tbody>\n",
       "    <tr>\n",
       "      <th>0</th>\n",
       "      <td>tt0063540</td>\n",
       "      <td>Sunghursh</td>\n",
       "      <td>Sunghursh</td>\n",
       "      <td>2013</td>\n",
       "      <td>175.0</td>\n",
       "      <td>Action,Crime,Drama</td>\n",
       "      <td>7.0</td>\n",
       "      <td>77.0</td>\n",
       "    </tr>\n",
       "    <tr>\n",
       "      <th>1</th>\n",
       "      <td>tt0066787</td>\n",
       "      <td>One Day Before the Rainy Season</td>\n",
       "      <td>Ashad Ka Ek Din</td>\n",
       "      <td>2019</td>\n",
       "      <td>114.0</td>\n",
       "      <td>Biography,Drama</td>\n",
       "      <td>7.2</td>\n",
       "      <td>43.0</td>\n",
       "    </tr>\n",
       "    <tr>\n",
       "      <th>2</th>\n",
       "      <td>tt0069049</td>\n",
       "      <td>The Other Side of the Wind</td>\n",
       "      <td>The Other Side of the Wind</td>\n",
       "      <td>2018</td>\n",
       "      <td>122.0</td>\n",
       "      <td>Drama</td>\n",
       "      <td>6.9</td>\n",
       "      <td>4517.0</td>\n",
       "    </tr>\n",
       "    <tr>\n",
       "      <th>3</th>\n",
       "      <td>tt0069204</td>\n",
       "      <td>Sabse Bada Sukh</td>\n",
       "      <td>Sabse Bada Sukh</td>\n",
       "      <td>2018</td>\n",
       "      <td>NaN</td>\n",
       "      <td>Comedy,Drama</td>\n",
       "      <td>6.1</td>\n",
       "      <td>13.0</td>\n",
       "    </tr>\n",
       "    <tr>\n",
       "      <th>4</th>\n",
       "      <td>tt0100275</td>\n",
       "      <td>The Wandering Soap Opera</td>\n",
       "      <td>La Telenovela Errante</td>\n",
       "      <td>2017</td>\n",
       "      <td>80.0</td>\n",
       "      <td>Comedy,Drama,Fantasy</td>\n",
       "      <td>6.5</td>\n",
       "      <td>119.0</td>\n",
       "    </tr>\n",
       "  </tbody>\n",
       "</table>\n",
       "</div>"
      ],
      "text/plain": [
       "    movie_id                    primary_title              original_title  \\\n",
       "0  tt0063540                        Sunghursh                   Sunghursh   \n",
       "1  tt0066787  One Day Before the Rainy Season             Ashad Ka Ek Din   \n",
       "2  tt0069049       The Other Side of the Wind  The Other Side of the Wind   \n",
       "3  tt0069204                  Sabse Bada Sukh             Sabse Bada Sukh   \n",
       "4  tt0100275         The Wandering Soap Opera       La Telenovela Errante   \n",
       "\n",
       "   start_year  runtime_minutes                genres  averagerating  numvotes  \n",
       "0        2013            175.0    Action,Crime,Drama            7.0      77.0  \n",
       "1        2019            114.0       Biography,Drama            7.2      43.0  \n",
       "2        2018            122.0                 Drama            6.9    4517.0  \n",
       "3        2018              NaN          Comedy,Drama            6.1      13.0  \n",
       "4        2017             80.0  Comedy,Drama,Fantasy            6.5     119.0  "
      ]
     },
     "execution_count": 16,
     "metadata": {},
     "output_type": "execute_result"
    }
   ],
   "source": [
    "# Merge basics and ratings\n",
    "imdb_movies = pd.merge(movie_basics, movie_ratings, how='left', on='movie_id')\n",
    "\n",
    "# Preview merged IMDb data\n",
    "imdb_movies.head()\n"
   ]
  },
  {
   "cell_type": "code",
   "execution_count": null,
   "metadata": {},
   "outputs": [],
   "source": []
  }
 ],
 "metadata": {
  "kernelspec": {
   "display_name": "Python (learn-env)",
   "language": "python",
   "name": "learn-env"
  },
  "language_info": {
   "codemirror_mode": {
    "name": "ipython",
    "version": 3
   },
   "file_extension": ".py",
   "mimetype": "text/x-python",
   "name": "python",
   "nbconvert_exporter": "python",
   "pygments_lexer": "ipython3",
   "version": "3.8.5"
  }
 },
 "nbformat": 4,
 "nbformat_minor": 4
}
